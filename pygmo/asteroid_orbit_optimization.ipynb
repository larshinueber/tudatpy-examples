{
 "cells": [
  {
   "cell_type": "markdown",
   "id": "cb9c524b",
   "metadata": {},
   "source": [
    "# Asteroid orbit optimization with PyGMO\n",
    "Copyright (c) 2010-2022, Delft University of Technology. All rights reserved. This file is part of the Tudat. Redistribution  and use in source and binary forms, with or without modification, are permitted exclusively under the terms of the Modified BSD license. You should have received a copy of the license with this file. If not, please or visit: http://tudat.tudelft.nl/LICENSE.\n",
    "\n",
    "## Context\n",
    "This aim of this tutorial is to illustrate the use of PyGMO to optimize an astrodynamics problem simulated with tudatpy. The problem describes the orbit design around a small body, the [Itokawa asteroid](https://en.wikipedia.org/wiki/25143_Itokawa).\n",
    "\n",
    "The 4 design variables are:\n",
    " - initial values of the semi-major axis.\n",
    " - initial eccentricity.\n",
    " - initial inclination.\n",
    " - initial longitude of the ascending node.\n",
    " \n",
    "The 2 objectives are:\n",
    " - good coverage (maximizing the mean value of the absolute longitude w.r.t. Itokawa over the full propagation).\n",
    " - being close to the asteroid (the mean value of the distance should be minimized).\n",
    " \n",
    "The constraints are set on the altitude: all the sets of design variables leading to an orbit.\n",
    "\n",
    "It is assumed that the reader of this tutorial is already familiar with the content of [this basic PyGMO tutorial](https://tudat-space.readthedocs.io/en/latest/_src_resources/pygmo_basics.html).\n",
    "\n",
    "The full PyGMO documentation is available [on this website](https://esa.github.io/pygmo2/index.html). Be careful to read the\n",
    "correct the documentation webpage (there is also a similar one for previous yet now outdated versions [here](https://esa.github.io/pygmo/index.html); as you can see, they can easily be confused).\n",
    "\n",
    "PyGMO is the Python counterpart of [PAGMO](https://esa.github.io/pagmo2/index.html)."
   ]
  },
  {
   "cell_type": "markdown",
   "id": "d1b1083c",
   "metadata": {},
   "source": [
    "## Import statements\n",
    "The required import statements are made here, at the very beginning.\n",
    "\n",
    "Some standard modules are first loaded. These are `os`, `numpy` and `matplotlib.pyplot`.\n",
    "\n",
    "Then, the different modules of `tudatpy` that will be used are imported.\n",
    "\n",
    "Finally, in this example, we also need to import the `pygmo` library."
   ]
  },
  {
   "cell_type": "code",
   "execution_count": null,
   "id": "373225eb",
   "metadata": {
    "pycharm": {
     "is_executing": true
    }
   },
   "outputs": [],
   "source": [
    "# Load standard modules\n",
    "import os\n",
    "import numpy as np\n",
    "from matplotlib import pyplot as plt\n",
    "\n",
    "# Load tudatpy modules\n",
    "from tudatpy.io import save2txt\n",
    "from tudatpy.kernel import constants\n",
    "from tudatpy.kernel.interface import spice\n",
    "from tudatpy.kernel.astro import element_conversion\n",
    "from tudatpy.kernel.astro import frame_conversion\n",
    "from tudatpy.kernel import numerical_simulation\n",
    "from tudatpy.kernel.numerical_simulation import environment_setup\n",
    "from tudatpy.kernel.numerical_simulation import propagation_setup\n",
    "from tudatpy.util import pareto_optimums\n",
    "\n",
    "# Load pygmo library\n",
    "import pygmo as pg"
   ]
  },
  {
   "cell_type": "markdown",
   "id": "1aaf93c8",
   "metadata": {},
   "source": [
    "## Helpers\n",
    "First of all, let's define a series of helper functions, which will later be used troughout this example.\n",
    "\n",
    "### Itokawa rotation settings\n",
    "The first helper function that is setup is `get_itokawa_rotation_settings()`. This function can be called to get Itokawa rotation settings, of type [environment_setup.rotation_model.RotationModelSettings](https://tudatpy.readthedocs.io/en/latest/rotation_model.html#tudatpy.numerical_simulation.environment_setup.rotation_model.RotationModelSettings), using a constant angular velocity.\n",
    "\n",
    "This function only take the name of the body frame of Itokawa as an input.\n",
    "In addition, some fixed parameters are defined in this function:\n",
    " - The orientation of Itokawa pole, as:\n",
    "     - The pole declination of -66.3 deg.\n",
    "     - The pole right ascension 90.53 deg.\n",
    "     - The meridian fixed at 0 deg.\n",
    " - The rotation rate of Itokawa of 712.143 deg/Earth day."
   ]
  },
  {
   "cell_type": "code",
   "execution_count": null,
   "id": "4b70c490",
   "metadata": {
    "pycharm": {
     "is_executing": true
    }
   },
   "outputs": [],
   "source": [
    "def get_itokawa_rotation_settings(itokawa_body_frame_name):\n",
    "    # Definition of initial Itokawa orientation conditions through the pole orientation\n",
    "    pole_declination = np.deg2rad(-66.30)     # Declination\n",
    "    pole_right_ascension = np.deg2rad(90.53)  # Right ascension\n",
    "    meridian_at_epoch = 0.0                   # Meridian\n",
    "\n",
    "    # Define initial Itokawa orientation in inertial frame (equatorial plane)\n",
    "    initial_orientation_j2000 = frame_conversion.inertial_to_body_fixed_rotation_matrix(\n",
    "        pole_declination, pole_right_ascension, meridian_at_epoch)\n",
    "    \n",
    "    # Get initial Itokawa orientation in inertial frame but in the Ecliptic plane\n",
    "    initial_orientation_eclipj2000 = np.matmul(spice.compute_rotation_matrix_between_frames(\n",
    "        \"ECLIPJ2000\", \"J2000\", 0.0), initial_orientation_j2000)\n",
    "\n",
    "    # Manually check the results, if desired\n",
    "    check_results = False\n",
    "    if check_results:\n",
    "        np.set_printoptions(precision=100)\n",
    "        print(initial_orientation_j2000)\n",
    "        print(initial_orientation_eclipj2000)\n",
    "\n",
    "    # Compute rotation rate\n",
    "    rotation_rate = np.deg2rad(712.143) / constants.JULIAN_DAY\n",
    "\n",
    "    # Set up rotational model for Itokawa with constant angular velocity\n",
    "    return environment_setup.rotation_model.simple(\n",
    "        \"ECLIPJ2000\", itokawa_body_frame_name, initial_orientation_eclipj2000, 0.0, rotation_rate)"
   ]
  },
  {
   "cell_type": "markdown",
   "id": "1cf03297",
   "metadata": {},
   "source": [
    "### Itokawa ephemeris settings\n",
    "The next helper function defined, `get_itokawa_ephemeris_settings()`, that can be used to set the ephemeris of Itokawa.\n",
    "\n",
    "The ephemeris for Itokawa are set using a Keplerian orbit around the Sun. To do this, the initial position at a certain epoch is needed. This position is defined inside the function by the following kepler elements:\n",
    "- Semi-major axis of $\\approx$ 1.324 Astronomical Units ($\\approx$ 1.98E+8 km).\n",
    "- Eccentricity of $\\approx$ 0.28.\n",
    "- Inclination of $\\approx$ 1.62 deg.\n",
    "- Inclination of $\\approx$ 1.62 deg.\n",
    "- Argument of periapsis of $\\approx$ 162.8 deg.\n",
    "- Longitude of ascending node of $\\approx$ 69.1 deg.\n",
    "- Mean anomaly of $\\approx$ 187.6 deg.\n",
    "\n",
    "The only input that this function takes is the gravitational parameter of the Sun, which can be obtained using `spice.get_body_gravitational_parameter(\"Sun\")`."
   ]
  },
  {
   "cell_type": "code",
   "execution_count": null,
   "id": "049ce0fb",
   "metadata": {
    "pycharm": {
     "is_executing": true
    }
   },
   "outputs": [],
   "source": [
    "def get_itokawa_ephemeris_settings(sun_gravitational_parameter):\n",
    "    # Define Itokawa initial Kepler elements\n",
    "    itokawa_kepler_elements = np.array([\n",
    "        1.324118017407799 * constants.ASTRONOMICAL_UNIT,\n",
    "        0.2801166461882852,\n",
    "        np.deg2rad(1.621303507642802),\n",
    "        np.deg2rad(162.8147699851312),\n",
    "        np.deg2rad(69.0803904880264),\n",
    "        np.deg2rad(187.6327516838828)])\n",
    "    \n",
    "    # Convert mean anomaly to true anomaly\n",
    "    itokawa_kepler_elements[5] = element_conversion.mean_to_true_anomaly(\n",
    "        eccentricity=itokawa_kepler_elements[1],\n",
    "        mean_anomaly=itokawa_kepler_elements[5])\n",
    "    \n",
    "    # Get epoch of initial Kepler elements (in Julian Days)\n",
    "    kepler_elements_reference_julian_day = 2459000.5\n",
    "    \n",
    "    # Sets new reference epoch for Itokawa ephemerides (different from J2000)\n",
    "    kepler_elements_reference_epoch = (kepler_elements_reference_julian_day - constants.JULIAN_DAY_ON_J2000) \\\n",
    "                                      * constants.JULIAN_DAY\n",
    "    \n",
    "    # Sets the ephemeris model\n",
    "    return environment_setup.ephemeris.keplerian(\n",
    "        itokawa_kepler_elements,\n",
    "        kepler_elements_reference_epoch,\n",
    "        sun_gravitational_parameter,\n",
    "        \"Sun\",\n",
    "        \"ECLIPJ2000\")"
   ]
  },
  {
   "cell_type": "markdown",
   "id": "63d45d36",
   "metadata": {},
   "source": [
    "### Itokawa gravity field settings\n",
    "The `get_itokawa_gravity_field_settings()` helper function can be used to get the gravity field settings of Itokawa.\n",
    "\n",
    "It creates a Spherical Harmonics gravity field model expanded up to order 4 and degree 4. Normalized coefficients are hardcoded (see `normalized_cosine_coefficients` and `normalized_sine_coefficients`), as well as the gravitational parameter (2.36). The reference radius and the Itokawa body fixed frame are to be given as inputs to this function."
   ]
  },
  {
   "cell_type": "code",
   "execution_count": null,
   "id": "c2318ff5",
   "metadata": {
    "pycharm": {
     "is_executing": true
    }
   },
   "outputs": [],
   "source": [
    "def get_itokawa_gravity_field_settings(itokawa_body_fixed_frame, itokawa_radius):\n",
    "    itokawa_gravitational_parameter = 2.36\n",
    "    normalized_cosine_coefficients = np.array([\n",
    "        [1.0, 0.0, 0.0, 0.0, 0.0],\n",
    "        [-0.145216, 0.0, 0.219420, 0.0, 0.0],\n",
    "        [0.036115, -0.028139, -0.046894, 0.069022, 0.0],\n",
    "        [0.087852, 0.034069, -0.123263, -0.030673, 0.150282]])\n",
    "    normalized_sine_coefficients = np.array([\n",
    "        [0.0, 0.0, 0.0, 0.0, 0.0],\n",
    "        [0.0, 0.0, 0.0, 0.0, 0.0],\n",
    "        [0.0, -0.006137, -0.046894, 0.033976, 0.0],\n",
    "        [0.0, 0.004870, 0.000098, -0.015026, 0.011627]])\n",
    "    return environment_setup.gravity_field.spherical_harmonic(\n",
    "        gravitational_parameter=itokawa_gravitational_parameter,\n",
    "        reference_radius=itokawa_radius,\n",
    "        normalized_cosine_coefficients=normalized_cosine_coefficients,\n",
    "        normalized_sine_coefficients=normalized_sine_coefficients,\n",
    "        associated_reference_frame=itokawa_body_fixed_frame)"
   ]
  },
  {
   "cell_type": "markdown",
   "id": "9dc25a5f",
   "metadata": {},
   "source": [
    "### Itokawa shape settings\n",
    "The next helper function defined, `get_itokawa_shape_settings()` return the shape settings object for Itokawa. It uses a simple spherical model, and take the radius of Itokawa as input."
   ]
  },
  {
   "cell_type": "code",
   "execution_count": null,
   "id": "31715efa",
   "metadata": {
    "pycharm": {
     "is_executing": true
    }
   },
   "outputs": [],
   "source": [
    "def get_itokawa_shape_settings(itokawa_radius):\n",
    "    # Creates spherical shape settings\n",
    "    return environment_setup.shape.spherical(itokawa_radius)"
   ]
  },
  {
   "cell_type": "markdown",
   "id": "e79b6829",
   "metadata": {},
   "source": [
    "### Simulation bodies\n",
    "Next, the `create_simulation_bodies()` function is setup, that returns an [environment.SystemOfBodies](https://tudatpy.readthedocs.io/en/latest/environment.html#tudatpy.numerical_simulation.environment.SystemOfBodies) object. This object contains all the body settings and body objects required by the simulation. Only one input is required to this function: the radius of Itokawa.\n",
    "\n",
    "Moreover, in the system of bodies that is returned, a `Spacecraft` body is included, with a mass of 400kg, and a radiation pressure interface. This body is the one for which an orbit is to be optimised around Itokawa."
   ]
  },
  {
   "cell_type": "code",
   "execution_count": null,
   "id": "1605ff19",
   "metadata": {
    "pycharm": {
     "is_executing": true
    }
   },
   "outputs": [],
   "source": [
    "def create_simulation_bodies(itokawa_radius):\n",
    "    ### CELESTIAL BODIES ###\n",
    "    # Define Itokawa body frame name\n",
    "    itokawa_body_frame_name = \"Itokawa_Frame\"\n",
    "\n",
    "    # Create default body settings for selected celestial bodies\n",
    "    bodies_to_create = [\"Sun\", \"Earth\", \"Jupiter\", \"Saturn\", \"Mars\"]\n",
    "\n",
    "    # Create default body settings for bodies_to_create, with \"Earth\"/\"J2000\" as\n",
    "    # global frame origin and orientation. This environment will only be valid\n",
    "    # in the indicated time range [simulation_start_epoch --- simulation_end_epoch]\n",
    "    body_settings = environment_setup.get_default_body_settings(\n",
    "        bodies_to_create,\n",
    "        \"SSB\",\n",
    "        \"ECLIPJ2000\")\n",
    "\n",
    "    # Add Itokawa body\n",
    "    body_settings.add_empty_settings(\"Itokawa\")\n",
    "\n",
    "    # Adds Itokawa settings\n",
    "    # Gravity field\n",
    "    body_settings.get(\"Itokawa\").gravity_field_settings = get_itokawa_gravity_field_settings(itokawa_body_frame_name,\n",
    "                                                                        itokawa_radius)\n",
    "    # Rotational model\n",
    "    body_settings.get(\"Itokawa\").rotation_model_settings = get_itokawa_rotation_settings(itokawa_body_frame_name)\n",
    "    # Ephemeris\n",
    "    body_settings.get(\"Itokawa\").ephemeris_settings = get_itokawa_ephemeris_settings(\n",
    "        spice.get_body_gravitational_parameter( 'Sun') )\n",
    "    # Shape (spherical)\n",
    "    body_settings.get(\"Itokawa\").shape_settings = get_itokawa_shape_settings(itokawa_radius)\n",
    "    # Create system of selected bodies\n",
    "    bodies = environment_setup.create_system_of_bodies(body_settings)\n",
    "\n",
    "    ### VEHICLE BODY ###\n",
    "    # Create vehicle object\n",
    "    bodies.create_empty_body(\"Spacecraft\")\n",
    "    bodies.get(\"Spacecraft\").set_constant_mass(400.0)\n",
    "\n",
    "    # Create radiation pressure settings, and add to vehicle\n",
    "    reference_area_radiation = 4.0\n",
    "    radiation_pressure_coefficient = 1.2\n",
    "    radiation_pressure_settings = environment_setup.radiation_pressure.cannonball(\n",
    "        \"Sun\",\n",
    "        reference_area_radiation,\n",
    "        radiation_pressure_coefficient)\n",
    "    environment_setup.add_radiation_pressure_interface(\n",
    "        bodies,\n",
    "        \"Spacecraft\",\n",
    "        radiation_pressure_settings)\n",
    "\n",
    "    return bodies"
   ]
  },
  {
   "cell_type": "markdown",
   "id": "6db1dd25",
   "metadata": {},
   "source": [
    "### Acceleration models\n",
    "The `get_acceleration_models()` helper function returns the acceleration models to be used during the astrodynamic simulation. The following accelerations are included:\n",
    " - Gravitational acceleration modelled as a Point Mass from the Sun, Jupiter, Saturn, Mars, and the Earth.\n",
    " - Gravitational acceleration modelled as Spherical Harmonics up to degree and order 4 from Itokawa.\n",
    " - Radiatio pressure from the Sun using a simplified canonnball model.\n",
    "\n",
    "This function takes as input the list of bodies that will be propagated, the list of central bodies related to the propagated bodies, and the system of bodies used."
   ]
  },
  {
   "cell_type": "code",
   "execution_count": null,
   "id": "6b7d63ff",
   "metadata": {
    "pycharm": {
     "is_executing": true
    }
   },
   "outputs": [],
   "source": [
    "def get_acceleration_models(bodies_to_propagate, central_bodies, bodies):\n",
    "    # Define accelerations acting on Spacecraft\n",
    "    accelerations_settings_spacecraft = dict(\n",
    "        Sun =     [ propagation_setup.acceleration.cannonball_radiation_pressure(),\n",
    "                    propagation_setup.acceleration.point_mass_gravity() ],\n",
    "        Itokawa = [ propagation_setup.acceleration.spherical_harmonic_gravity(4, 4) ],\n",
    "        Jupiter = [ propagation_setup.acceleration.point_mass_gravity() ],\n",
    "        Saturn =  [ propagation_setup.acceleration.point_mass_gravity() ],\n",
    "        Mars =    [ propagation_setup.acceleration.point_mass_gravity() ],\n",
    "        Earth =   [ propagation_setup.acceleration.point_mass_gravity() ]\n",
    "    )\n",
    "\n",
    "    # Create global accelerations settings dictionary\n",
    "    acceleration_settings = {\"Spacecraft\": accelerations_settings_spacecraft}\n",
    "\n",
    "    # Create acceleration models\n",
    "    return propagation_setup.create_acceleration_models(\n",
    "        bodies,\n",
    "        acceleration_settings,\n",
    "        bodies_to_propagate,\n",
    "        central_bodies)"
   ]
  },
  {
   "cell_type": "markdown",
   "id": "7e9a2272",
   "metadata": {},
   "source": [
    "### Termination settings\n",
    "The termination settings for the simulation are defined by the `get_termination_settings()` helper.\n",
    "\n",
    "Nominally, the simulation terminates when a final epoch is reached. However, this can happen in advance if the\n",
    "spacecraft breaks out of the predefined altitude range.\n",
    "This is defined by the four inputs that this helper function takes, related to the mission timing and the mission altitude range."
   ]
  },
  {
   "cell_type": "code",
   "execution_count": null,
   "id": "f6ad3a48",
   "metadata": {
    "pycharm": {
     "is_executing": true
    }
   },
   "outputs": [],
   "source": [
    "def get_termination_settings(mission_initial_time, \n",
    "                             mission_duration,\n",
    "                             minimum_distance_from_com,\n",
    "                             maximum_distance_from_com):\n",
    "    # Mission duration\n",
    "    time_termination_settings = propagation_setup.propagator.time_termination(\n",
    "        mission_initial_time + mission_duration,\n",
    "        terminate_exactly_on_final_condition=False\n",
    "    )\n",
    "    # Upper altitude\n",
    "    upper_altitude_termination_settings = propagation_setup.propagator.dependent_variable_termination(\n",
    "        dependent_variable_settings=propagation_setup.dependent_variable.relative_distance('Spacecraft', 'Itokawa'),\n",
    "        limit_value=maximum_distance_from_com,\n",
    "        use_as_lower_limit=False,\n",
    "        terminate_exactly_on_final_condition=False\n",
    "    )\n",
    "    # Lower altitude\n",
    "    lower_altitude_termination_settings = propagation_setup.propagator.dependent_variable_termination(\n",
    "        dependent_variable_settings=propagation_setup.dependent_variable.altitude('Spacecraft', 'Itokawa'),\n",
    "        limit_value=minimum_distance_from_com,\n",
    "        use_as_lower_limit=True,\n",
    "        terminate_exactly_on_final_condition=False\n",
    "    )\n",
    "\n",
    "    # Define list of termination settings\n",
    "    termination_settings_list = [time_termination_settings,\n",
    "                                 upper_altitude_termination_settings,\n",
    "                                 lower_altitude_termination_settings]\n",
    "\n",
    "    return propagation_setup.propagator.hybrid_termination(termination_settings_list,\n",
    "                                                           fulfill_single_condition=True)"
   ]
  },
  {
   "cell_type": "markdown",
   "id": "c7494c09",
   "metadata": {},
   "source": [
    "### Dependent variables to save\n",
    "Finally, the `get_dependent_variables_to_save()` helper function returns a pre-defined list of dependent variables to save during the propagation, alongside the propagated state. This function can be expanded, but contains by default only the position of the spacecraft with respect to the Itokawa asteroid expressed in spherical coordinates."
   ]
  },
  {
   "cell_type": "code",
   "execution_count": null,
   "id": "536455f9",
   "metadata": {
    "pycharm": {
     "is_executing": true
    }
   },
   "outputs": [],
   "source": [
    "def get_dependent_variables_to_save():\n",
    "    dependent_variables_to_save = [\n",
    "        propagation_setup.dependent_variable.central_body_fixed_spherical_position(\n",
    "            \"Spacecraft\", \"Itokawa\"\n",
    "        )\n",
    "    ]\n",
    "    return dependent_variables_to_save"
   ]
  },
  {
   "cell_type": "markdown",
   "id": "09bca39b",
   "metadata": {},
   "source": [
    "## Optimisation problem\n",
    "The optimisation problem can now be defined. This has to be done in a class that is compatible to what the PyGMO library can expect from this User Defined Problem (UDP). See [this page](https://esa.github.io/pygmo2/problem.html#pygmo.problem) from the PyGMO documentation as a reference. In this example, this class is called `AsteroidOrbitProblem`.\n",
    "\n",
    "The `AsteroidOrbitProblem.__init__()` method is used to setup the problem. Most importantly, many problem-related objects are saved trough it: the system of bodie, the integrator settings, the propagator settings, the parameters that will later be used for the termination settings, and the design variables boundaries.\n",
    "\n",
    "Then, the `AsteroidOrbitProblem.get_bounds()` function is used by PyGMO to define the search space. This function returns the boundaries of each design variable, as defined in the [pygmo.problem.get_bounds](https://esa.github.io/pygmo2/problem.html#pygmo.problem.get_bounds) documentation.\n",
    "\n",
    "The `AsteroidOrbitProblem.get_nobj()` function is also used by PyGMO. It returns the number of objectives in the problem, in this case 2.\n",
    "\n",
    "The last function used by PyGMO is `AsteroidOrbitProblem.fitness()`. As mentioned in the [pygmo.problem.fitness](https://esa.github.io/pygmo2/problem.html#pygmo.problem.fitness) documentation, PyGMO will input a given set of design variable to this function, that is expected to return a score associated with them. This is thus the cost function of the problem. In this case, this `AsteroidOrbitProblem.fitness()` runs a simulation using TudatPy based on the orbital elements that PyGMO inputs as design variables. Then, the score relative to the two optimisation objectives is computed and returned. Note that, in PyGMO, this fitness function will always be **minimised**. To **maximise** objectives instead, the fitness that is returned will have to be for instance inversed. This is why, because we want to maximise the coverage, the fitness for this objective is computed as the inverse of the mean latitudes. If the mean of the latitudes is high, the coverage is high, which is closer to the optimum. Because this better value is higher than worse values, we return the fitness as the inverse of the mean latitudes.\n",
    "\n",
    "One more function is included, `AsteroidOrbitProblem.get_last_run_dynamics_simulator()`. This allows to get the dynamic simulator of the last simulation that was run in the problem."
   ]
  },
  {
   "cell_type": "code",
   "execution_count": null,
   "id": "ee771d1f",
   "metadata": {
    "pycharm": {
     "is_executing": true
    }
   },
   "outputs": [],
   "source": [
    "class AsteroidOrbitProblem:\n",
    "    \n",
    "    def __init__(self,\n",
    "                 bodies,\n",
    "                 integrator_settings,\n",
    "                 propagator_settings,\n",
    "                 mission_initial_time,\n",
    "                 mission_duration,\n",
    "                 design_variable_lower_boundaries,\n",
    "                 design_variable_upper_boundaries):\n",
    "        \n",
    "        # Sets input arguments as lambda function attributes\n",
    "        # NOTE: this is done so that the class is \"pickable\", i.e., can be serialized by pygmo\n",
    "        self.bodies_function = lambda: bodies\n",
    "        self.integrator_settings_function = lambda: integrator_settings\n",
    "        self.propagator_settings_function = lambda: propagator_settings\n",
    "        \n",
    "        # Initialize empty dynamics simulator\n",
    "        self.dynamics_simulator_function = lambda: None\n",
    "        \n",
    "        # Set other input arguments as regular attributes\n",
    "        self.mission_initial_time = mission_initial_time\n",
    "        self.mission_duration = mission_duration\n",
    "        self.mission_final_time = mission_initial_time + mission_duration\n",
    "        self.design_variable_lower_boundaries = design_variable_lower_boundaries\n",
    "        self.design_variable_upper_boundaries = design_variable_upper_boundaries\n",
    "\n",
    "    def get_bounds(self):\n",
    "        return (list(self.design_variable_lower_boundaries), list(self.design_variable_upper_boundaries))\n",
    "\n",
    "    def get_nobj(self):\n",
    "        return 2\n",
    "\n",
    "    def fitness(self,\n",
    "                orbit_parameters):\n",
    "        # Retrieves system of bodies\n",
    "        current_bodies = self.bodies_function()\n",
    "        \n",
    "        # Retrieves Itokawa gravitational parameter\n",
    "        itokawa_gravitational_parameter = current_bodies.get(\"Itokawa\").gravitational_parameter\n",
    "        \n",
    "        # Reset the initial state from the decision variable vector\n",
    "        new_initial_state = element_conversion.keplerian_to_cartesian_elementwise(\n",
    "            gravitational_parameter=itokawa_gravitational_parameter,\n",
    "            semi_major_axis=orbit_parameters[0],\n",
    "            eccentricity=orbit_parameters[1],\n",
    "            inclination=np.deg2rad(orbit_parameters[2]),\n",
    "            argument_of_periapsis=np.deg2rad(235.7),\n",
    "            longitude_of_ascending_node=np.deg2rad(orbit_parameters[3]),\n",
    "            true_anomaly=np.deg2rad(139.87))\n",
    "        \n",
    "        # Retrieves propagator settings object\n",
    "        propagator_settings = self.propagator_settings_function()\n",
    "        \n",
    "        # Retrieves integrator settings object\n",
    "        integrator_settings = self.integrator_settings_function()\n",
    "        \n",
    "        # Reset the initial state\n",
    "        propagator_settings.initial_states = new_initial_state\n",
    "\n",
    "        # Propagate orbit\n",
    "        dynamics_simulator = numerical_simulation.SingleArcSimulator(   current_bodies,\n",
    "                                                                        integrator_settings,\n",
    "                                                                        propagator_settings,\n",
    "                                                                        print_dependent_variable_data=False,\n",
    "                                                                        print_state_data=False)\n",
    "        # Update dynamics simulator function\n",
    "        self.dynamics_simulator_function = lambda: dynamics_simulator\n",
    "\n",
    "        # Retrieve dependent variable history\n",
    "        dependent_variables = dynamics_simulator.dependent_variable_history\n",
    "        dependent_variables_list = np.vstack(list(dependent_variables.values()))\n",
    "        \n",
    "        # Retrieve distance\n",
    "        distance = dependent_variables_list[:, 0]\n",
    "        # Retrieve latitude\n",
    "        latitudes = dependent_variables_list[:, 1]\n",
    "        \n",
    "        # Compute mean latitude\n",
    "        mean_latitude = np.mean(np.absolute(latitudes))\n",
    "        # Computes fitness as mean latitude\n",
    "        current_fitness = 1.0 / mean_latitude\n",
    "\n",
    "        # Exaggerate fitness value if the spacecraft has broken out of the selected distance range\n",
    "        current_penalty = 0.0\n",
    "        if (max(dynamics_simulator.dependent_variable_history.keys()) < self.mission_final_time):\n",
    "            current_penalty = 1.0E2\n",
    "\n",
    "        return [current_fitness + current_penalty, np.mean(distance) + current_penalty * 1.0E3]\n",
    "\n",
    "    def get_last_run_dynamics_simulator(self):\n",
    "        return self.dynamics_simulator_function()"
   ]
  },
  {
   "cell_type": "markdown",
   "id": "13fddd9e",
   "metadata": {},
   "source": [
    "## Setup orbital simulation\n",
    "Before running the optimisation, some aspect of the orbital simulation around Itokawa still need to be setup.\n",
    "Most importantly, the simulation bodies, acceleration models, integrator settings, and propagator settings, all have to be defined. To do so, the helpers that were defined above are used.\n",
    "\n",
    "### Simulation settings\n",
    "The simulation settings are first defined.\n",
    "\n",
    "The SPICE kernels are loaded, so that we can acess the gravitational parameter of the Sun in the `create_simulation_bodies()` function.\n",
    "\n",
    "The definition of the termination parameters follows, with a maximum mission duration of 5 Earth days. The altitude range above Itokawa is also defined between 150 meters and 5 km.\n",
    "\n",
    "Follows the definition of the design variable range, that PyGMO will use during the optimisation. This range is as follows:\n",
    " - Initial semi-major axis between 300 and 2000 meters.\n",
    " - Initial eccentricity between 0 and 0.3.\n",
    " - Initial inclination between 0 and 180 deg.\n",
    " - Initial longitude of the ascending node between 0 and 360 deg.\n",
    " \n",
    "The system of bodies is then setup using the `create_simulation_bodies()` helper, and a radius for Itokawa of 161.915 meters.\n",
    "\n",
    "Finally, the acceleration models are setup using the `get_acceleration_models()` helper."
   ]
  },
  {
   "cell_type": "code",
   "execution_count": null,
   "id": "069142d6",
   "metadata": {
    "pycharm": {
     "is_executing": true
    }
   },
   "outputs": [],
   "source": [
    "# Load spice kernels\n",
    "spice.load_standard_kernels()\n",
    "\n",
    "# Set simulation start and end epochs\n",
    "mission_initial_time = 0.0\n",
    "mission_duration = 5.0 * constants.JULIAN_DAY\n",
    "\n",
    "# Define Itokawa radius\n",
    "itokawa_radius = 161.915\n",
    "\n",
    "# Set altitude termination conditions\n",
    "minimum_distance_from_com = 150.0 + itokawa_radius\n",
    "maximum_distance_from_com = 5.0E3 + itokawa_radius\n",
    "\n",
    "# Set boundaries on the design variables\n",
    "design_variable_lb = (300, 0.0, 0.0, 0.0)\n",
    "design_variable_ub = (2000, 0.3, 180, 360)\n",
    "\n",
    "# Create simulation bodies\n",
    "bodies = create_simulation_bodies(itokawa_radius)\n",
    "\n",
    "# Define bodies to propagate and central bodies\n",
    "bodies_to_propagate = [\"Spacecraft\"]\n",
    "central_bodies = [\"Itokawa\"]\n",
    "\n",
    "# Create acceleration models\n",
    "acceleration_models = get_acceleration_models(bodies_to_propagate, central_bodies, bodies)"
   ]
  },
  {
   "cell_type": "markdown",
   "id": "688fee99",
   "metadata": {},
   "source": [
    "### Integrator settings\n",
    "Let's now define the integrator settings. In this case, a variable step integration scheme is used, with the followings:\n",
    " - RKF7(8) coefficient set.\n",
    " - Initial time step of 1 sec.\n",
    " - Minimum and maximum time steps of 1E-6 sec and 1 Earth day.\n",
    " - Relative and absolute error tolerances of 1E-8."
   ]
  },
  {
   "cell_type": "code",
   "execution_count": null,
   "id": "fde62b1c",
   "metadata": {
    "pycharm": {
     "is_executing": true
    }
   },
   "outputs": [],
   "source": [
    "# Create numerical integrator settings\n",
    "integrator_settings = propagation_setup.integrator.runge_kutta_variable_step_size(\n",
    "    initial_time=mission_initial_time,\n",
    "    initial_time_step=1.0,\n",
    "    coefficient_set=propagation_setup.integrator.RKCoefficientSets.rkf_78,\n",
    "    minimum_step_size=1.0E-6,\n",
    "    maximum_step_size=constants.JULIAN_DAY,\n",
    "    relative_error_tolerance=1.0E-8,\n",
    "    absolute_error_tolerance=1.0E-8)"
   ]
  },
  {
   "cell_type": "markdown",
   "id": "6b899181",
   "metadata": {},
   "source": [
    "### Propagator settings\n",
    "To define the propagator settings, we first call the `get_dependent_variables_to_save()` and `get_termination_settings()` helpers to define the the dependent variables and termination settings.\n",
    "\n",
    "Then, we define pure translational propagation settings with a Cowel propagator. The initial state is set to 0 for both the position and the velocity. This is because the initial state will later be changed in the `AsteroidOrbitProblem.fitness()` function during the optimisation."
   ]
  },
  {
   "cell_type": "code",
   "execution_count": null,
   "id": "badd6d4c",
   "metadata": {
    "pycharm": {
     "is_executing": true
    }
   },
   "outputs": [],
   "source": [
    "# Define list of dependent variables to save\n",
    "dependent_variables_to_save = get_dependent_variables_to_save()\n",
    "\n",
    "# Create propagation settings\n",
    "termination_settings = get_termination_settings(\n",
    "    mission_initial_time, mission_duration, minimum_distance_from_com, maximum_distance_from_com)\n",
    "\n",
    "# Define (Cowell) propagator settings with mock initial state\n",
    "propagator_settings = propagation_setup.propagator.translational(\n",
    "    central_bodies,\n",
    "    acceleration_models,\n",
    "    bodies_to_propagate,\n",
    "    np.zeros(6),\n",
    "    termination_settings,\n",
    "    output_variables=dependent_variables_to_save    \n",
    ")"
   ]
  },
  {
   "cell_type": "markdown",
   "id": "41f0ff39",
   "metadata": {},
   "source": [
    "## Optimisation run\n",
    "With the optimistation problem and the simulation setup, let's now run our optimisation using PyGMO.\n",
    "\n",
    "### Algorithm and problem definition\n",
    "First, we define a fixed seed that PyGMO will use to generate random numbers. This ensures that the results can be reproduced. \n",
    "\n",
    "Then, the optimisation problem is defined using the `AsteroidOrbitProblem` class initiated with the values that have already been defined. This User Defined Problem (UDP) is then given to PyGMO trough the `pg.problem()` method.\n",
    "\n",
    "Finally, the optimiser is selected to be the Multi-objective EA vith Decomposition (MOAD) algorithm that is implemented in PyGMO. See [here](https://esa.github.io/pygmo2/algorithms.html#pygmo.moead) for its documentation."
   ]
  },
  {
   "cell_type": "code",
   "execution_count": null,
   "id": "f7f82274",
   "metadata": {
    "pycharm": {
     "is_executing": true
    }
   },
   "outputs": [],
   "source": [
    "# Fix seed for reproducibility\n",
    "fixed_seed = 112987\n",
    "\n",
    "# Instantiate orbit problem\n",
    "orbitProblem = AsteroidOrbitProblem(bodies,\n",
    "                                    integrator_settings,\n",
    "                                    propagator_settings,\n",
    "                                    mission_initial_time,\n",
    "                                    mission_duration,\n",
    "                                    design_variable_lb,\n",
    "                                    design_variable_ub)\n",
    "\n",
    "# Create pygmo problem using the UDP instantiated above\n",
    "prob = pg.problem(orbitProblem)\n",
    "\n",
    "# Select Moead algorithm from pygmo, with one generation\n",
    "algo = pg.algorithm(pg.nsga2(gen=1, seed=fixed_seed))"
   ]
  },
  {
   "cell_type": "markdown",
   "id": "e334ba1e",
   "metadata": {},
   "source": [
    "### Initial population\n",
    "An initial population is now going to be generated by PyGMO, of a size of 48 individuals. This means that 48 orbital simulations will be run, and the fitness corresponding to the 48 individuals will be computed using the UDP."
   ]
  },
  {
   "cell_type": "code",
   "execution_count": null,
   "id": "be4751e2",
   "metadata": {
    "pycharm": {
     "is_executing": true
    }
   },
   "outputs": [],
   "source": [
    "# Initialize pygmo population with 48 individuals\n",
    "population_size = 48\n",
    "pop = pg.population(prob, size=population_size, seed=fixed_seed)"
   ]
  },
  {
   "cell_type": "markdown",
   "id": "e84149eb",
   "metadata": {},
   "source": [
    "### Evolve population\n",
    "We now want to make this population evolve, as to (hopefully) get closer to optimum solutions.\n",
    "\n",
    "In a loop, we thus call `algo.evolve(pop)` 25 times to make the population evolve 25 times. During each generation, we also save the list of fitness and of design variables."
   ]
  },
  {
   "cell_type": "code",
   "execution_count": null,
   "id": "39b3c533",
   "metadata": {
    "pycharm": {
     "is_executing": true
    }
   },
   "outputs": [],
   "source": [
    "# Set the number of evolutions\n",
    "number_of_evolutions = 25\n",
    "\n",
    "# Initialize containers\n",
    "fitness_list = []\n",
    "population_list = []\n",
    "\n",
    "# Evolve the population recursively\n",
    "for gen in range(number_of_evolutions):\n",
    "    print(\"Evolving population; at generation %i/%i\" % (gen, number_of_evolutions-1), end=\"\\r\")\n",
    "    \n",
    "    # Evolve the population\n",
    "    pop = algo.evolve(pop)\n",
    "    \n",
    "    # Store the fitness values and design variables for all individuals\n",
    "    fitness_list.append(pop.get_f())\n",
    "    population_list.append(pop.get_x())\n",
    "    \n",
    "print(\"Evolving population is finished.        \")"
   ]
  },
  {
   "cell_type": "markdown",
   "id": "d6db5b00",
   "metadata": {},
   "source": [
    "## Results analysis\n",
    "With the population evolved, the optimisation is finished. We can now analyse the results to see how our optimisation was carried, and what our optimum solutions are.\n",
    "\n",
    "### Extract results\n",
    "First of, we want to save the state and dependent variable history of the orbital simulations that were carried in the first and last generations. To do so, we extract the design variables of all the member of a given population, and we run the orbital simulation again, calling the `orbitProblem.fitness()` function. Then, we can extract the state and dependent variable history by calling the `orbitProblem.get_last_run_dynamics_simulator()` function."
   ]
  },
  {
   "cell_type": "code",
   "execution_count": null,
   "id": "0340139b",
   "metadata": {
    "pycharm": {
     "is_executing": true
    }
   },
   "outputs": [],
   "source": [
    "# Retrieve first and last generations for further analysis\n",
    "pops_to_analyze = {0: 'initial',\n",
    "                   number_of_evolutions - 1 : 'final'}\n",
    "\n",
    "# Initialize containers\n",
    "simulation_output = dict()\n",
    "\n",
    "# Loop over first and last generations\n",
    "for population_index, population_name in pops_to_analyze.items():\n",
    "    \n",
    "    # Get population individuals from the given generation\n",
    "    current_population = population_list[population_index]\n",
    "    \n",
    "    # Current generation's dictionary\n",
    "    generation_output = dict()\n",
    "    \n",
    "    # Loop over all individuals of the populations\n",
    "    for individual in range(population_size):\n",
    "\n",
    "        # Retrieve orbital parameters\n",
    "        current_orbit_parameters = current_population[individual]\n",
    "        \n",
    "        # Propagate orbit and compute fitness\n",
    "        orbitProblem.fitness(current_orbit_parameters)\n",
    "        \n",
    "        # Retrieve state and dependent variable history\n",
    "        current_states = orbitProblem.get_last_run_dynamics_simulator().state_history\n",
    "        current_dependent_variables = orbitProblem.get_last_run_dynamics_simulator().dependent_variable_history\n",
    "        \n",
    "        # Save results to dict\n",
    "        generation_output[individual] = [current_states, current_dependent_variables]\n",
    "        \n",
    "    # Append to global dictionary\n",
    "    simulation_output[population_index] = [generation_output,\n",
    "                                           fitness_list[population_index],\n",
    "                                           population_list[population_index]]"
   ]
  },
  {
   "cell_type": "markdown",
   "id": "e906e4da",
   "metadata": {},
   "source": [
    "### Pareto fronts\n",
    "As a first analysis of the optimisation results, let's plot the Pareto fronts, to represent the optimums.\n",
    "\n",
    "This is done for the first and last generation, plotting the score of the two objectives for all of the population members. A colormap is also used to represent the value of the design variables selected by the optimiser. Finally, the Pareto front is plotted in green, showing the limit of the attainable optimum solutions. \n",
    "\n",
    "\n",
    "These Pareto fronts show that both of the objectives were sucessfully improved after 25 generations, attaining lower values for both of them.\n",
    "\n",
    "We can also notice that the population is packed closer to the Pareto front after 25 generations. At the opposite, the population was covering a higher area of the design space for the first generation."
   ]
  },
  {
   "cell_type": "code",
   "execution_count": null,
   "id": "76c9ffe1",
   "metadata": {
    "pycharm": {
     "is_executing": true
    },
    "scrolled": false
   },
   "outputs": [],
   "source": [
    "# Create dictionaries defining the design variables\n",
    "design_variable_names = {0: 'Semi-major axis [m]',\n",
    "                           1: 'Eccentricity',\n",
    "                           2: 'Inclination [deg]',\n",
    "                           3: 'Longitude of the node [deg]'}\n",
    "design_variable_range = {0: [800.0, 1300.0],\n",
    "                           1: [0.10, 0.17],\n",
    "                           2: [90.0, 95.0],\n",
    "                           3: [250.0, 270.0]}\n",
    "design_variable_symbols = {0: r'$a$',\n",
    "                             1: r'$e$',\n",
    "                             2: r'$i$',\n",
    "                             3: r'$\\Omega$'}\n",
    "design_variable_units = {0: r' m',\n",
    "                           1: r' ',\n",
    "                           2: r' deg',\n",
    "                           3: r' deg'}\n",
    "\n",
    "# Loop over populations\n",
    "for population_index in simulation_output.keys():\n",
    "    \n",
    "    # Retrieve current population\n",
    "    current_generation = simulation_output[population_index]\n",
    "    \n",
    "    # Plot Pareto fronts for all design variables\n",
    "    fig, axs = plt.subplots(2, 2, figsize=(15, 9))\n",
    "    fig.suptitle('Generation ' + str(population_index), fontweight='bold', y=0.95)\n",
    "    current_fitness = current_generation[1]\n",
    "    current_population = current_generation[2]\n",
    "    for ax_index, ax in enumerate(axs.flatten()):\n",
    "        # Plot all the population at given generation\n",
    "        cs = ax.scatter(np.deg2rad(current_fitness[:, 0]),\n",
    "                        current_fitness[:, 1],\n",
    "                        s=100,\n",
    "                        c=current_population[:, ax_index],\n",
    "                        marker='.',\n",
    "                        cmap=\"plasma\",\n",
    "                        alpha=0.65)\n",
    "        \n",
    "        # Plot the design variable using a colormap\n",
    "        cbar = fig.colorbar(cs, ax=ax)\n",
    "        cbar.ax.set_ylabel(design_variable_names[ax_index])\n",
    "        \n",
    "        # Add a label only on the left-most and bottom-most axes\n",
    "        ax.grid('major')\n",
    "        if ax_index > 1:\n",
    "            ax.set_xlabel(r'Objective 1: coverage [$deg^{-1}$]')\n",
    "        if ax_index == 0 or ax_index == 2:\n",
    "            ax.set_ylabel(r'Objective 2: proximity [$m$]')\n",
    "            \n",
    "        # Add the Pareto fron itself in green\n",
    "        optimum_mask = pareto_optimums(np.array([np.deg2rad(current_fitness[:, 0]), current_fitness[:, 1]]).T)\n",
    "        ax.step(\n",
    "            sorted(np.deg2rad(current_fitness[:, 0])[optimum_mask], reverse=True),\n",
    "            sorted(current_fitness[:, 1][optimum_mask], reverse=False),\n",
    "            color=\"#418F3E\",\n",
    "            linewidth=2,\n",
    "            alpha=0.75)\n",
    "        \n",
    "# Show the figure\n",
    "plt.show()"
   ]
  },
  {
   "cell_type": "markdown",
   "id": "11d53a50",
   "metadata": {},
   "source": [
    "### Design variables histogram\n",
    "Plotting the histogram of the design variables for the final generation gives insights into what set of orbital parameters lead to optimum solutions. Possible optimum design variables values can then be detected by looking at the number of population members that use them. A high number of occurences in the final generation **could** indicate a better design variable. At least, this offers some leads into what to investigate further."
   ]
  },
  {
   "cell_type": "code",
   "execution_count": null,
   "id": "d20a659b",
   "metadata": {
    "pycharm": {
     "is_executing": true
    }
   },
   "outputs": [],
   "source": [
    "# Plot histogram for last generation, semi-major axis\n",
    "fig, axs = plt.subplots(2, 2, figsize=(15, 8))\n",
    "fig.suptitle('Final orbits by design variable', fontweight='bold', y=0.95)\n",
    "last_pop = simulation_output[number_of_evolutions - 1][2]\n",
    "\n",
    "for ax_index, ax in enumerate(axs.flatten()):\n",
    "    ax.hist(last_pop[:, ax_index], bins=30)\n",
    "    \n",
    "    # Prettify\n",
    "    ax.set_xlabel(design_variable_names[ax_index])\n",
    "    if ax_index % 2 == 0:\n",
    "        ax.set_ylabel('Occurrences in the population')\n",
    "        \n",
    "# Show the figure\n",
    "plt.show()"
   ]
  },
  {
   "cell_type": "markdown",
   "id": "7ee6ff50",
   "metadata": {},
   "source": [
    "### Initial and final orbits visualisation\n",
    "One may now want to see how much better the optimised orbits are compared to the ones of the random initial population. This can be done by plotting the orbit bundles from the initial and final generations.\n",
    "\n",
    "The resulting 3D plot show the chaotic nature of the initial random population, where the last generation appears to use a handfull of variations of the similar design variables."
   ]
  },
  {
   "cell_type": "code",
   "execution_count": null,
   "id": "54e727e5",
   "metadata": {
    "pycharm": {
     "is_executing": true
    },
    "scrolled": false,
    "tags": [
     "nbsphinx-thumbnail"
    ]
   },
   "outputs": [],
   "source": [
    "# Plot orbits of initial and final generation\n",
    "fig = plt.figure(figsize=(15, 6))\n",
    "fig.suptitle('Initial and final orbit bundle', fontweight='bold', y=0.95)\n",
    "title = {0: 'Initial orbit bundle',\n",
    "         1: 'Final orbit bundle'}\n",
    "\n",
    "# Loop over populations\n",
    "for ax_index, population_index in enumerate(simulation_output.keys()):\n",
    "    current_ax = fig.add_subplot(1, 2, 1 + ax_index, projection='3d')\n",
    "    \n",
    "    # Retrieve current population\n",
    "    current_generation = simulation_output[population_index]\n",
    "    current_population = current_generation[2]\n",
    "    \n",
    "    # Loop over individuals\n",
    "    for ind_index, individual in enumerate(current_population):\n",
    "        \n",
    "        # Plot orbit\n",
    "        state_history = list(current_generation[0][ind_index][0].values())\n",
    "        state_history = np.vstack(state_history)\n",
    "        current_ax.plot(state_history[:, 0],\n",
    "                        state_history[:, 1],\n",
    "                        state_history[:, 2],\n",
    "                        linewidth=0.5)\n",
    "        \n",
    "    # Prettify\n",
    "    current_ax.set_xlabel('X [m]')\n",
    "    current_ax.set_ylabel('Y [m]')\n",
    "    current_ax.set_zlabel('Z [m]')\n",
    "    current_ax.set_title(title[ax_index], y=1.0, pad=15)\n",
    "\n",
    "# Show the figure\n",
    "plt.show()"
   ]
  },
  {
   "cell_type": "markdown",
   "id": "576ea1b4",
   "metadata": {},
   "source": [
    "### Orbits visualisation by design variable\n",
    "Finally, we can visualise what range of design variables lead to which type of orbits. This is done by plotting the bundle of orbits for the last generation.\n",
    "\n",
    "This plot one again shows that the orbits from the final population can be sub-categorised into disctinct orbital configurations."
   ]
  },
  {
   "cell_type": "code",
   "execution_count": null,
   "id": "07ed49f9",
   "metadata": {
    "pycharm": {
     "is_executing": true
    }
   },
   "outputs": [],
   "source": [
    "# Plot orbits of final generation divided by parameters\n",
    "fig = plt.figure(figsize=(15, 10))\n",
    "fig.suptitle('Final orbit bundle by decision variable', fontweight='bold', y=0.95)\n",
    "\n",
    "# Retrieve current population\n",
    "current_generation = simulation_output[number_of_evolutions - 1]\n",
    "\n",
    "# Plot Pareto fronts for all design variables\n",
    "current_population = current_generation[2]\n",
    "\n",
    "# Loop over decision variables\n",
    "for var in range(4):\n",
    "    \n",
    "    # Create axis\n",
    "    current_ax = fig.add_subplot(2, 2, 1 + var, projection='3d')\n",
    "    \n",
    "    # Loop over individuals\n",
    "    for ind_index, individual in enumerate(current_population):\n",
    "        \n",
    "        # Set plot color according to boundaries\n",
    "        if individual[var] < design_variable_range[var][0]:\n",
    "            plt_color = 'r'\n",
    "            label = design_variable_symbols[var] + ' < ' + str(design_variable_range[var][0]) + \\\n",
    "                    design_variable_units[var]\n",
    "        elif design_variable_range[var][0] < individual[var] < design_variable_range[var][1]:\n",
    "            plt_color = 'b'\n",
    "            label = str(design_variable_range[var][0]) + ' < ' + \\\n",
    "                    design_variable_symbols[var] + \\\n",
    "                    ' < ' + str(design_variable_range[var][1]) + design_variable_units[var]\n",
    "        else:\n",
    "            plt_color = 'g'\n",
    "            label = design_variable_symbols[var] + ' > ' + str(design_variable_range[var][1]) + \\\n",
    "                    design_variable_units[var]\n",
    "\n",
    "        # Plot orbit\n",
    "        state_history = list(current_generation[0][ind_index][0].values())\n",
    "        state_history = np.vstack(state_history)\n",
    "        current_ax.plot(state_history[:, 0],\n",
    "                        state_history[:, 1],\n",
    "                        state_history[:, 2],\n",
    "                        color=plt_color,\n",
    "                        linewidth=0.5,\n",
    "                        label=label)\n",
    "        \n",
    "    # Prettify\n",
    "    current_ax.set_xlabel('X [m]')\n",
    "    current_ax.set_ylabel('Y [m]')\n",
    "    current_ax.set_zlabel('Z [m]')\n",
    "    current_ax.set_title(design_variable_names[var], y=1.0, pad=10)\n",
    "    handles, design_variable_legend = current_ax.get_legend_handles_labels()\n",
    "    design_variable_legend, ids = np.unique(design_variable_legend, return_index=True)\n",
    "    handles = [handles[i] for i in ids]\n",
    "    current_ax.legend(handles, design_variable_legend, loc='lower right', bbox_to_anchor=(0.3, 0.6))\n",
    "    \n",
    "# Show the figure\n",
    "plt.show()"
   ]
  },
  {
   "cell_type": "code",
   "execution_count": null,
   "id": "c8b8bb7b",
   "metadata": {
    "pycharm": {
     "is_executing": true
    }
   },
   "outputs": [],
   "source": []
  }
 ],
 "metadata": {
  "celltoolbar": "Tags",
  "kernelspec": {
   "display_name": "Python 3 (ipykernel)",
   "language": "python",
   "name": "python3"
  },
  "language_info": {
   "codemirror_mode": {
    "name": "ipython",
    "version": 3
   },
   "file_extension": ".py",
   "mimetype": "text/x-python",
   "name": "python",
   "nbconvert_exporter": "python",
   "pygments_lexer": "ipython3",
   "version": "3.8.12"
  }
 },
 "nbformat": 4,
 "nbformat_minor": 5
}