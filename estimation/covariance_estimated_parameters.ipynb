{
 "cells": [
  {
   "cell_type": "markdown",
   "id": "e67134f8",
   "metadata": {},
   "source": [
    "# Covariance analysis of estimated parameters\n",
    "Copyright (c) 2010-2022, Delft University of Technology. All rights reserved. This file is part of the Tudat. Redistribution and use in source and binary forms, with or without modification, are permitted exclusively under the terms of the Modified BSD license. You should have received a copy of the license with this file. If not, please or visit: http://tudat.tudelft.nl/LICENSE.\n",
    "\n",
    "## Context\n",
    "This example implements the following aspects of orbit estimation:\n",
    "- Simulation of a spacecraft orbit.\n",
    "- Modelling of a tracking station on Earth.\n",
    "- Simulation of Doppler data at 1 mm/s every 60 seconds, during periods where the spacecraft is at an elevation angle above 15deg, as viewed from the station.\n",
    "- Use of the simulated data to estimate the spacecraft initial state, drag coefficient and radiation pressure coefficient."
   ]
  },
  {
   "cell_type": "markdown",
   "id": "e99cbeda",
   "metadata": {},
   "source": [
    "## Import statements\n",
    "The required import statements are made here, at the very beginning.\n",
    "\n",
    "Some standard modules are first loaded: `numpy` and `matplotlib.pyplot`.\n",
    "\n",
    "Then, the different modules of `tudatpy` that will be used are imported.\n",
    "Most notably, the `estimation`, `estimation_setup`, and `observations` modules are new to this example."
   ]
  },
  {
   "cell_type": "code",
   "execution_count": 1,
   "id": "b71677c3",
   "metadata": {},
   "outputs": [],
   "source": [
    "# Load standard modules\n",
    "import numpy as np\n",
    "from matplotlib import pyplot as plt\n",
    "\n",
    "# Load tudatpy modules\n",
    "from tudatpy.kernel import constants\n",
    "from tudatpy.kernel.interface import spice\n",
    "from tudatpy.kernel import numerical_simulation\n",
    "from tudatpy.kernel.numerical_simulation import environment_setup\n",
    "from tudatpy.kernel.numerical_simulation import propagation_setup\n",
    "from tudatpy.kernel.numerical_simulation import estimation, estimation_setup\n",
    "from tudatpy.kernel.numerical_simulation.estimation_setup import observation\n",
    "from tudatpy.kernel.astro import element_conversion"
   ]
  },
  {
   "cell_type": "markdown",
   "id": "707bd319",
   "metadata": {},
   "source": [
    "## Configuration\n",
    "NAIF's `SPICE` kernels are first loaded, so that the position of various bodies such as the Earth, the Sun, or the Moon, can be make known to `tudatpy`.\n",
    "\n",
    "Then, the start and end simulation epochs are setups. In this case, the start epoch is set to `0`, corresponding to the 1st of January 2000.\n",
    "The end epoch is set 3 days after.\n",
    "The times should be specified in seconds since J2000.\n",
    "Please refer to the API documentation of the `time_conversion module` [here](https://tudatpy.readthedocs.io/en/latest/time_conversion.html) for more information on this."
   ]
  },
  {
   "cell_type": "code",
   "execution_count": 2,
   "id": "e336516b",
   "metadata": {},
   "outputs": [],
   "source": [
    "# Load spice kernels\n",
    "spice.load_standard_kernels()\n",
    "\n",
    "# Set simulation start and end epochs\n",
    "simulation_start_epoch = 0.0\n",
    "simulation_end_epoch = 3 * constants.JULIAN_DAY"
   ]
  },
  {
   "cell_type": "markdown",
   "id": "dd2cea53",
   "metadata": {},
   "source": [
    "## Environment setup\n",
    "Let’s create the environment for our simulation. This setup covers the creation of (celestial) bodies, vehicle(s), and environment interfaces.\n",
    "\n",
    "### Create the main bodies\n",
    "Bodies can be created by making a list of strings with the bodies that is to be included in the simulation.\n",
    "\n",
    "The default body settings (such as atmosphere, body shape, rotation model) are taken from `SPICE`.\n",
    "\n",
    "These settings can be adjusted. Please refere to the [Available Environment Models](https://tudat-space.readthedocs.io/en/latest/_src_user_guide/state_propagation/environment_setup/create_models/available.html#available-environment-models) in the user guide for more details.\n",
    "\n",
    "Finally, the system of bodies is created using the settings. This system of bodies is stored into the variable `bodies`."
   ]
  },
  {
   "cell_type": "code",
   "execution_count": 3,
   "id": "4563c7d1",
   "metadata": {},
   "outputs": [],
   "source": [
    "# Create default body settings for \"Sun\", \"Earth\", \"Moon\", \"Mars\", and \"Venus\"\n",
    "bodies_to_create = [\"Sun\", \"Earth\", \"Moon\", \"Mars\", \"Venus\"]\n",
    "\n",
    "# Create default body settings for bodies_to_create, with \"Earth\"/\"J2000\" as the global frame origin and orientation\n",
    "global_frame_origin = \"Earth\"\n",
    "global_frame_orientation = \"J2000\"\n",
    "body_settings = environment_setup.get_default_body_settings(\n",
    "    bodies_to_create, global_frame_origin, global_frame_orientation)\n",
    "\n",
    "# Create system of bodies\n",
    "bodies = environment_setup.create_system_of_bodies(body_settings)"
   ]
  },
  {
   "cell_type": "markdown",
   "id": "f1b002c1",
   "metadata": {},
   "source": [
    "### Create the vehicle and its environment interface\n",
    "Let's now create the satellite for which an orbit will be simulated.\n",
    "\n",
    "This satellite is setup to have mass of 400kg, a reference area (used both for aerodynamic and radiation pressure) of 4m$^2$, a radiation pressure coefficient of 1.2, and a drag coefficient also of 1.2.\n",
    "\n",
    "When setting up the radiation pressure interface, the Earth is set as a body that can occult the radiation emitted by the Sun."
   ]
  },
  {
   "cell_type": "code",
   "execution_count": 4,
   "id": "1585b93e",
   "metadata": {},
   "outputs": [],
   "source": [
    "# Create vehicle objects.\n",
    "bodies.create_empty_body(\"Delfi-C3\")\n",
    "bodies.get(\"Delfi-C3\").mass = 400.0\n",
    "\n",
    "# Create aerodynamic coefficient interface settings\n",
    "reference_area = 4.0\n",
    "drag_coefficient = 1.2\n",
    "aero_coefficient_settings = environment_setup.aerodynamic_coefficients.constant(\n",
    "    reference_area, [drag_coefficient, 0.0, 0.0]\n",
    ")\n",
    "# Add the aerodynamic interface to the environment\n",
    "environment_setup.add_aerodynamic_coefficient_interface(bodies, \"Delfi-C3\", aero_coefficient_settings)\n",
    "\n",
    "# Create radiation pressure settings\n",
    "reference_area_radiation = 4.0\n",
    "radiation_pressure_coefficient = 1.2\n",
    "occulting_bodies = [\"Earth\"]\n",
    "radiation_pressure_settings = environment_setup.radiation_pressure.cannonball(\n",
    "    \"Sun\", reference_area_radiation, radiation_pressure_coefficient, occulting_bodies\n",
    ")\n",
    "# Add the radiation pressure interface to the environment\n",
    "environment_setup.add_radiation_pressure_interface(bodies, \"Delfi-C3\", radiation_pressure_settings)"
   ]
  },
  {
   "cell_type": "markdown",
   "id": "8bc428bc",
   "metadata": {},
   "source": [
    "## Propagation setup\n",
    "Now that the environment is created, the propagation itself can be setup.\n",
    "\n",
    "First, the bodies to be propagated and the central bodies will be defined.\n",
    "Central bodies are the bodies with respect to which the state of the respective propagated bodies is defined."
   ]
  },
  {
   "cell_type": "code",
   "execution_count": 5,
   "id": "f4c79591",
   "metadata": {},
   "outputs": [],
   "source": [
    "# Define bodies that are propagated\n",
    "bodies_to_propagate = [\"Delfi-C3\"]\n",
    "\n",
    "# Define central bodies of propagation\n",
    "central_bodies = [\"Earth\"]"
   ]
  },
  {
   "cell_type": "markdown",
   "id": "a615dbcd",
   "metadata": {},
   "source": [
    "### Create the acceleration model\n",
    "The acceleration settings that act on `Delfi-C3` are now to be defined.\n",
    "In this case, these consist in the followings:\n",
    "* Gravitational acceleration using a Point Mass model from:\n",
    "    - The Sun\n",
    "    - The Moon\n",
    "    - Mars\n",
    "* Gravitational acceleration using a Spherical Harmonic approximation up to degree and order 8 from Earth.\n",
    "* Aerodynamic acceleration from Earth.\n",
    "* Acceleration caused by the radiation pressure of the Sun on the vehicle approximated as a cannonball.\n",
    "\n",
    "The acceleration settings defined are then applied to `Delfi-C3` in a dictionary.\n",
    "\n",
    "This dictionary is finally input to the propagation setup to create the acceleration models."
   ]
  },
  {
   "cell_type": "code",
   "execution_count": 6,
   "id": "ae320f6d",
   "metadata": {},
   "outputs": [],
   "source": [
    "# Define the accelerations acting on Delfi-C3\n",
    "accelerations_settings_delfi_c3 = dict(\n",
    "    Sun=[\n",
    "        propagation_setup.acceleration.cannonball_radiation_pressure(),\n",
    "        propagation_setup.acceleration.point_mass_gravity()\n",
    "    ],\n",
    "    Mars=[\n",
    "        propagation_setup.acceleration.point_mass_gravity()\n",
    "    ],\n",
    "    Moon=[\n",
    "        propagation_setup.acceleration.point_mass_gravity()\n",
    "    ],\n",
    "    Earth=[\n",
    "        propagation_setup.acceleration.spherical_harmonic_gravity(8, 8),\n",
    "        propagation_setup.acceleration.aerodynamic()\n",
    "    ])\n",
    "\n",
    "# Create global accelerations dictionary\n",
    "acceleration_settings = {\"Delfi-C3\": accelerations_settings_delfi_c3}\n",
    "\n",
    "# Create acceleration models\n",
    "acceleration_models = propagation_setup.create_acceleration_models(\n",
    "    bodies,\n",
    "    acceleration_settings,\n",
    "    bodies_to_propagate,\n",
    "    central_bodies)"
   ]
  },
  {
   "cell_type": "markdown",
   "id": "f4a73dba",
   "metadata": {},
   "source": [
    "### Define the initial state\n",
    "The initial state of the vehicle that will be propagated is now defined. \n",
    "\n",
    "This initial state always has to be provided as a cartesian state, in the form of a list with the first three elements reprensenting the initial position, and the three remaining elements representing the initial velocity.\n",
    "\n",
    "In this case, let's make use of the `keplerian_to_cartesian_elementwise()` function that is included in the `element_conversion` module, so that the initial state can be input as Keplerian elements, and then converted to Cartesian elements."
   ]
  },
  {
   "cell_type": "code",
   "execution_count": 7,
   "id": "12458abf",
   "metadata": {},
   "outputs": [],
   "source": [
    "# Set the initial state of the vehicle\n",
    "earth_gravitational_parameter = bodies.get(\"Earth\").gravitational_parameter\n",
    "initial_state = element_conversion.keplerian_to_cartesian_elementwise(\n",
    "    gravitational_parameter=earth_gravitational_parameter,\n",
    "    semi_major_axis=7500.0E3,\n",
    "    eccentricity=0.1,\n",
    "    inclination=np.deg2rad(85.3),\n",
    "    argument_of_periapsis=np.deg2rad(235.7),\n",
    "    longitude_of_ascending_node=np.deg2rad(23.4),\n",
    "    true_anomaly=np.deg2rad(139.87)\n",
    ")"
   ]
  },
  {
   "cell_type": "markdown",
   "id": "188db727",
   "metadata": {},
   "source": [
    "### Create the propagator settings\n",
    "The propagator is finally setup.\n",
    "\n",
    "First, a termination condition is defined so that the propagation will stop when the end epochs that was defined is reached.\n",
    "\n",
    "Then, the translational propagation settings are defined. These are used to simulate the orbit of `Delfi-C3` around Earth."
   ]
  },
  {
   "cell_type": "code",
   "execution_count": 8,
   "id": "d666f1a3",
   "metadata": {},
   "outputs": [],
   "source": [
    "# Create termination settings\n",
    "termination_condition = propagation_setup.propagator.time_termination(simulation_end_epoch)\n",
    "\n",
    "# Create propagation settings\n",
    "propagator_settings = propagation_setup.propagator.translational(\n",
    "    central_bodies,\n",
    "    acceleration_models,\n",
    "    bodies_to_propagate,\n",
    "    initial_state,\n",
    "    termination_condition\n",
    ")"
   ]
  },
  {
   "cell_type": "markdown",
   "id": "cd8e2587",
   "metadata": {},
   "source": [
    "### Create the integrator settings\n",
    "The last step before starting the simulation is to setup the integrator that will be used.\n",
    "\n",
    "In this case, a RKF78 integrator is used with a step fixed at 60 seconds (this is done by setting both the minimum and maximum step size to 60 seconds, and the tolerance to 1)."
   ]
  },
  {
   "cell_type": "code",
   "execution_count": 9,
   "id": "44edeb70",
   "metadata": {},
   "outputs": [],
   "source": [
    "# Create numerical integrator settings\n",
    "integrator_settings = propagation_setup.integrator.runge_kutta_variable_step_size(\n",
    "    simulation_start_epoch, 60.0, propagation_setup.integrator.rkf_78, 60.0, 60.0, 1.0, 1.0\n",
    ")"
   ]
  },
  {
   "cell_type": "markdown",
   "id": "956c9ebe",
   "metadata": {
    "pycharm": {
     "name": "#%% md\n"
    }
   },
   "source": [
    "## Observation Setup\n",
    "Now that the dynamical model of the simulated orbit is set, the observational model needs to be defined.\n",
    "\n",
    "### Add a ground station\n",
    "In order to simulate observations, which are required for an estimation of the system parameters, the simulation environment has to be extended by a ground station model.\n",
    "In this case, the ground station is modelled to be located on Earth, in Delft, at an altitude of 0m, 52.00667°N, 4.35556°E.\n",
    "\n",
    "More information on how to use the `add_ground_station()` function can be found on [tudatpy API website](https://tudatpy.readthedocs.io/en/latest/environment_setup.html#tudatpy.numerical_simulation.environment_setup.add_ground_station)."
   ]
  },
  {
   "cell_type": "code",
   "execution_count": 10,
   "id": "4eebd846",
   "metadata": {
    "pycharm": {
     "name": "#%%\n"
    }
   },
   "outputs": [],
   "source": [
    "# Define the position of the ground station on Earth\n",
    "station_altitude = 0.0\n",
    "delft_latitude = np.deg2rad(52.00667)\n",
    "delft_longitude = np.deg2rad(4.35556)\n",
    "\n",
    "# Add the ground station to the environment\n",
    "environment_setup.add_ground_station(\n",
    "    bodies.get_body(\"Earth\"),\n",
    "    \"TrackingStation\",\n",
    "    [station_altitude, delft_latitude, delft_longitude],\n",
    "    element_conversion.geodetic_position_type)"
   ]
  },
  {
   "cell_type": "markdown",
   "id": "451a76c7",
   "metadata": {},
   "source": [
    "### Define Observation Links and Types\n",
    "Using the observation module, links can be established between environment members such as the Earth ground station and the Delfi s/c.\n",
    "Note that during the link definition, each member is assigned a certain function within the link, e.g. \"transmitter\", \"receiver\", \"reflector, etc.\n",
    "Once two (or more) members are connected to a link, they can be used to simulate observations along this link, where the kind of observation that is made along this link (e.g. range, Doppler, angular position, etc..) is determined by the chosen observable type.\n",
    "\n",
    "In order to fully define an observation model for a given link, observation model settings have to be created for the desired observable type.\n",
    "Each observable type has its own function for creating observation model settings - in this example it is the `one_way_open_loop_doppler()` function for the one-way open-loop Doppler observable type.\n",
    "In more advanced use-cases this observation model settings object can also include corrective models or define observation biases."
   ]
  },
  {
   "cell_type": "code",
   "execution_count": 11,
   "id": "8a19c012",
   "metadata": {
    "pycharm": {
     "name": "#%%\n"
    }
   },
   "outputs": [],
   "source": [
    "# Define the uplink link ends for one-way observable\n",
    "link_ends = dict()\n",
    "link_ends[observation.transmitter] = (\"Earth\", \"TrackingStation\")\n",
    "link_ends[observation.receiver] = (\"Delfi-C3\", \"\")\n",
    "\n",
    "# Create observation settings for each link/observable\n",
    "observation_settings_list = [observation.one_way_open_loop_doppler(link_ends)]\n"
   ]
  },
  {
   "cell_type": "markdown",
   "id": "f9b8518a",
   "metadata": {},
   "source": [
    "### Define Observation Simulation Settings\n",
    "\n",
    "In the following cell the settings for the simulation of the observations from the previously defined observation models are defined.\n",
    "For each observation model, the observation simulation settings set the times at which observations are simulated and defines the viability criteria and noise of the observation.\n"
   ]
  },
  {
   "cell_type": "code",
   "execution_count": 12,
   "id": "48d30336",
   "metadata": {
    "pycharm": {
     "name": "#%%\n"
    }
   },
   "outputs": [],
   "source": [
    "# Define observation simulation times for each link (separated by steps of 1 minute)\n",
    "observation_times = np.arange(simulation_start_epoch, simulation_end_epoch, 60.0)\n",
    "observation_simulation_settings = observation.tabulated_simulation_settings(\n",
    "    observation.one_way_doppler_type,\n",
    "    link_ends,\n",
    "    observation_times\n",
    ")\n",
    "\n",
    "# Add noise levels of roughly 3.3E-12 [s/m] and add this as Gaussian noise to the observation\n",
    "noise_level = 1.0E-3 / constants.SPEED_OF_LIGHT\n",
    "observation.add_gaussian_noise_to_settings(\n",
    "    [observation_simulation_settings],\n",
    "    noise_level,\n",
    "    observation.one_way_doppler_type\n",
    ")\n",
    "\n",
    "# Create viability settings\n",
    "viability_setting = observation.elevation_angle_viability([\"Earth\", \"TrackingStation\"], np.deg2rad(15))\n",
    "observation.add_viability_check_to_settings(\n",
    "    [observation_simulation_settings],\n",
    "    [viability_setting]\n",
    ")\n"
   ]
  },
  {
   "cell_type": "markdown",
   "id": "0886d4a0",
   "metadata": {
    "pycharm": {
     "name": "#%% md\n"
    }
   },
   "source": [
    "The actual simulation of the observations requires Observation Simulators, which are created automatically by the Estimator object.\n",
    "Therefore, the observations cannot be simulated before the creation of an Estimator object."
   ]
  },
  {
   "cell_type": "markdown",
   "id": "ee6a84e0",
   "metadata": {},
   "source": [
    "## Estimation Setup\n",
    "After the setup of the observations, let's now setup the estimation.\n",
    "\n",
    "### Defining the estimatable parameters\n",
    "\n",
    "The estimation of system parameters requires the equations of the dynamical and observational models to be differentiated w.r.t. the estimatable system parameters, resulting in the so-called Variational Equations.\n",
    "More on variational equations can be found in the [tudatpy user guide](https://tudat-space.readthedocs.io/en/latest/_src_user_guide/state_propagation/running_variational_simulation.html).\n",
    "\n",
    "In the following cell, the set of estimatable parameters is defined. For this examplary estimation, the initial state of the Delfi s/c, its drag coefficient and the gravitational parameter of the Earth are included as estimatable parameters.\n",
    "A list of the available estimatable parameters is given in [tudatpy user guide](https://tudat-space.readthedocs.io/en/latest/_src_user_guide/state_propagation/sensitivity_analysis/available_parameters.html).\n",
    "\n",
    "During the creation of the Estimator object, the parameter set will be used to automatically set up the Variational Equations of the simulated orbit and the observations thereof.\n",
    "The propagation of the Variational Equations does not have to be triggered manually, but is also handled automatically by the Estimator object."
   ]
  },
  {
   "cell_type": "code",
   "execution_count": 13,
   "id": "44bf1b2a",
   "metadata": {},
   "outputs": [
    {
     "ename": "AttributeError",
     "evalue": "module 'tudatpy.kernel.numerical_simulation.estimation_setup' has no attribute 'create_parameters_to_estimate'",
     "output_type": "error",
     "traceback": [
      "\u001B[0;31m---------------------------------------------------------------------------\u001B[0m",
      "\u001B[0;31mAttributeError\u001B[0m                            Traceback (most recent call last)",
      "Input \u001B[0;32mIn [13]\u001B[0m, in \u001B[0;36m<cell line: 9>\u001B[0;34m()\u001B[0m\n\u001B[1;32m      6\u001B[0m parameter_settings\u001B[38;5;241m.\u001B[39mappend(estimation_setup\u001B[38;5;241m.\u001B[39mparameter\u001B[38;5;241m.\u001B[39mconstant_drag_coefficient(\u001B[38;5;124m\"\u001B[39m\u001B[38;5;124mDelfi-C3\u001B[39m\u001B[38;5;124m\"\u001B[39m))\n\u001B[1;32m      8\u001B[0m \u001B[38;5;66;03m# Create the parameters that will be estimated\u001B[39;00m\n\u001B[0;32m----> 9\u001B[0m parameters_to_estimate \u001B[38;5;241m=\u001B[39m \u001B[43mestimation_setup\u001B[49m\u001B[38;5;241;43m.\u001B[39;49m\u001B[43mcreate_parameters_to_estimate\u001B[49m(parameter_settings, bodies)\n",
      "\u001B[0;31mAttributeError\u001B[0m: module 'tudatpy.kernel.numerical_simulation.estimation_setup' has no attribute 'create_parameters_to_estimate'"
     ]
    }
   ],
   "source": [
    "# Setup parameters settings to propagate the state transition matrix\n",
    "parameter_settings = estimation_setup.parameter.initial_states(propagator_settings, bodies)\n",
    "\n",
    "# Add estimated parameters to the sensitivity matrix that will be propagated\n",
    "parameter_settings.append(estimation_setup.parameter.gravitational_parameter(\"Earth\"))\n",
    "parameter_settings.append(estimation_setup.parameter.constant_drag_coefficient(\"Delfi-C3\"))\n",
    "\n",
    "# Create the parameters that will be estimated\n",
    "parameters_to_estimate = estimation_setup.create_parameters_to_estimate(parameter_settings, bodies)\n"
   ]
  },
  {
   "cell_type": "markdown",
   "id": "5c248e5c",
   "metadata": {
    "pycharm": {
     "name": "#%% md\n"
    }
   },
   "source": [
    "### Creating the Estimator object\n",
    "\n",
    "The Estimator object consolidates all the information that is required for the estimation of system parameters:\n",
    "    * the environment (bodies)\n",
    "    * the parameter set (parameters_to_estimate)\n",
    "    * observation models (observation_settings_list)\n",
    "    * integrator setup (integrator_settings)\n",
    "    * dynamical and numerical setup (propagator_settings)\n",
    "\n",
    "The Estimator object automatically creates the relevant Variational Equations and Observation Simulators, which are required for the parameter estimation and observation simulation, respectively.\n"
   ]
  },
  {
   "cell_type": "code",
   "execution_count": null,
   "id": "bd694993",
   "metadata": {
    "pycharm": {
     "name": "#%%\n"
    }
   },
   "outputs": [],
   "source": [
    "# Create the estimation object\n",
    "estimator = numerical_simulation.Estimator(\n",
    "    bodies,\n",
    "    parameters_to_estimate,\n",
    "    observation_settings_list,\n",
    "    integrator_settings,\n",
    "    propagator_settings)\n"
   ]
  },
  {
   "cell_type": "markdown",
   "id": "1f7cad02",
   "metadata": {},
   "source": [
    "### Perform the observations simulation\n",
    "Now that the Estimator object exists, we can make use of its observation simulator members.\n",
    "The observation simulations are performed by calling the `simulation_observations()` function from the `observation` module.\n",
    "Note that this function also makes use of the previously defined observation simulation settings!"
   ]
  },
  {
   "cell_type": "code",
   "execution_count": null,
   "id": "e66fd2ac",
   "metadata": {},
   "outputs": [],
   "source": [
    "# Simulate required observation\n",
    "simulated_observations = observation.simulate_observations(\n",
    "    [observation_simulation_settings],\n",
    "    estimator.observation_simulators,\n",
    "    bodies)"
   ]
  },
  {
   "cell_type": "markdown",
   "id": "56cd3526",
   "metadata": {},
   "source": [
    "## Estimate the parameters\n",
    "With the simulated observations and the Estimator object, containing the Variational Equations for the estimatable parameters, we now have everything we need in order to conduct the estimation of the parameters.\n",
    "\n",
    "### Setup the inversion\n",
    "Here we collect all inputs required for the inversion in a Pod (Precise orbit determination) input object and define some basic settings of the inversion."
   ]
  },
  {
   "cell_type": "code",
   "execution_count": null,
   "id": "a1478bbc",
   "metadata": {},
   "outputs": [],
   "source": [
    "# Save the true parameters to later analyse the error\n",
    "truth_parameters = parameters_to_estimate.parameter_vector\n",
    "\n",
    "# Create input object for estimation, adding observations and parameter set information\n",
    "pod_input = estimation.PodInput(\n",
    "    simulated_observations, parameters_to_estimate.parameter_set_size)\n",
    "\n",
    "# set methodological options\n",
    "pod_input.define_estimation_settings(\n",
    "    reintegrate_variational_equations=False)\n",
    "\n",
    "# define weighting of the observations in the inversion\n",
    "weights_per_observable = \\\n",
    "    {estimation_setup.observation.one_way_doppler_type: noise_level ** -2}\n",
    "pod_input.set_constant_weight_per_observable(weights_per_observable)"
   ]
  },
  {
   "cell_type": "markdown",
   "id": "39f16498",
   "metadata": {},
   "source": [
    "### Perform the estimation\n",
    "Finally, let's run the estimation itself, using the inputs that have been defined earlier."
   ]
  },
  {
   "cell_type": "code",
   "execution_count": null,
   "id": "fcb86d74",
   "metadata": {},
   "outputs": [],
   "source": [
    "# Perform estimation (this also prints the residuals and partials)\n",
    "pod_output = estimator.perform_estimation(pod_input)"
   ]
  },
  {
   "cell_type": "code",
   "execution_count": null,
   "id": "e4e2be65",
   "metadata": {},
   "outputs": [],
   "source": [
    "# Print the estimation error\n",
    "print(pod_output.formal_errors)\n",
    "print(truth_parameters - parameters_to_estimate.parameter_vector)"
   ]
  },
  {
   "cell_type": "markdown",
   "id": "41061acd",
   "metadata": {},
   "source": [
    "## Results post-processing\n",
    "Let's now process the results of the estimation and observations.\n",
    "\n",
    "### Correlation\n",
    "First, let's plot the correlation between the outputs of the estimation."
   ]
  },
  {
   "cell_type": "code",
   "execution_count": null,
   "id": "3a8b2784",
   "metadata": {},
   "outputs": [],
   "source": [
    "plt.imshow(np.abs(pod_output.correlations), aspect='auto', interpolation='none')\n",
    "plt.colorbar()\n",
    "plt.show()"
   ]
  },
  {
   "cell_type": "markdown",
   "id": "2554637b",
   "metadata": {},
   "source": [
    "### Range rate over time\n",
    "Let's now make a plot of the observations range rate over time."
   ]
  },
  {
   "cell_type": "code",
   "execution_count": null,
   "id": "ec5f6503",
   "metadata": {},
   "outputs": [],
   "source": [
    "observation_times = np.array(simulated_observations.concatenated_times)\n",
    "observations_list = np.array(simulated_observations.concatenated_observations)\n",
    "\n",
    "plt.figure(figsize=(17, 5))\n",
    "plt.title(\"Observations as a function of time.\")\n",
    "plt.scatter(observation_times / 3600.0, observations_list * constants.SPEED_OF_LIGHT)\n",
    "plt.xlabel(\"Time [hr]\")\n",
    "plt.ylabel(\"Range rate [m/s]\")\n",
    "plt.grid()\n",
    "plt.show()"
   ]
  },
  {
   "cell_type": "markdown",
   "id": "ac4355d2",
   "metadata": {},
   "source": [
    "### Residuals history\n",
    "The history of residuals from the estimation can also been analysed by plotting their history."
   ]
  },
  {
   "cell_type": "code",
   "execution_count": null,
   "id": "86f8577d",
   "metadata": {},
   "outputs": [],
   "source": [
    "residual_history = pod_output.residual_history\n",
    "fig, ((ax1, ax2), (ax3, ax4), (ax5, ax6)) = plt.subplots(3, 2, figsize=(20, 17))\n",
    "subplots_list = [ax1, ax2, ax3, ax4, ax5]\n",
    "\n",
    "\n",
    "for i in range(5):\n",
    "    subplots_list[i].scatter(observation_times, residual_history[:, i])\n",
    "plt.show()"
   ]
  },
  {
   "cell_type": "markdown",
   "id": "e7e02e10",
   "metadata": {},
   "source": [
    "### Final residuals\n",
    "Finally, we can analyse the final residuals, print them, and plot them."
   ]
  },
  {
   "cell_type": "code",
   "execution_count": null,
   "id": "e00d8f48",
   "metadata": {},
   "outputs": [],
   "source": [
    "print(pod_output.formal_errors / (truth_parameters - parameters_to_estimate.parameter_vector))\n",
    "final_residuals = pod_output.final_residuals\n",
    "\n",
    "plt.figure(figsize=(17, 5))\n",
    "plt.hist(final_residuals, 25)\n",
    "plt.show()"
   ]
  },
  {
   "cell_type": "code",
   "execution_count": null,
   "id": "22f6bf59",
   "metadata": {},
   "outputs": [],
   "source": []
  }
 ],
 "metadata": {
  "celltoolbar": "Tags",
  "interpreter": {
   "hash": "4a4d53b53330cd83e1499268313a4bcd5eafe4bf50523883929af79f2dd687b2"
  },
  "kernelspec": {
   "display_name": "Python 3 (ipykernel)",
   "language": "python",
   "name": "python3"
  },
  "language_info": {
   "codemirror_mode": {
    "name": "ipython",
    "version": 3
   },
   "file_extension": ".py",
   "mimetype": "text/x-python",
   "name": "python",
   "nbconvert_exporter": "python",
   "pygments_lexer": "ipython3",
   "version": "3.8.12"
  }
 },
 "nbformat": 4,
 "nbformat_minor": 5
}