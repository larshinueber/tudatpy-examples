{
 "cells": [
  {
   "cell_type": "markdown",
   "id": "e67134f8",
   "metadata": {},
   "source": [
    "# Covariance Analysis with DELFI-C3\n",
    "Copyright (c) 2010-2022, Delft University of Technology. All rights reserved. This file is part of the Tudat. Redistribution and use in source and binary forms, with or without modification, are permitted exclusively under the terms of the Modified BSD license. You should have received a copy of the license with this file. If not, please or visit: http://tudat.tudelft.nl/LICENSE.\n",
    "\n",
    "## Objectives\n",
    "This example will guide you through the set-up of an orbit estimation routine. In particular, we will focus on how to set up the estimation of a covariance matrix. Then, we will showcase how to get and plot the correlation coefficients. For the full estimation of the initial state, drag coefficient, and radiation pressure coefficient of the spacecraft see [DELFI-C3 - Parameter Estimation Example](https://docs.tudat.space/en/latest/_src_getting_started/_src_examples/notebooks/estimation/full_estimation_example.html).\n",
    "\n",
    "To simulate the orbit of a spacecraft, we will fall back and reiterate on all aspects of orbit propagation that are important within the scope of orbit estimation. Further, we will highlight all relevant features of modelling a tracking station on Earth. Using this station, we will simulate a tracking routine of the spacecraft using a series of open-loop Doppler range-rate measurements at 1 mm/s every 60 seconds. To assure an uninterrupted line-of-sight between the station and the spacecraft, a minimum elevation angle of more than 15 degrees above the horizon - as seen from the station - will be imposed as constraint on the simulation of observations.\n",
    "\n",
    "The first part of this example deals with the setup of all relevant (environment, propagation, and estimation) modules, so feel free to skip these steps if you're already familiar with them!"
   ]
  },
  {
   "cell_type": "markdown",
   "id": "e99cbeda",
   "metadata": {},
   "source": [
    "## Import statements\n",
    "Typically - in the most pythonic way - all required modules are imported at the very beginning.\n",
    "\n",
    "Some standard modules are first loaded: `numpy` and `matplotlib.pyplot`.\n",
    "\n",
    "Then, the different modules of `tudatpy` that will be used are imported. Most notably, the `estimation`, `estimation_setup`, and `observations` modules will be used and demonstrated within this example."
   ]
  },
  {
   "cell_type": "code",
   "execution_count": 38,
   "id": "b71677c3",
   "metadata": {},
   "outputs": [],
   "source": [
    "# Load required standard modules\n",
    "import numpy as np\n",
    "from matplotlib import pyplot as plt\n",
    "\n",
    "# Load required tudatpy modules\n",
    "from tudatpy import constants\n",
    "from tudatpy.interface import spice\n",
    "from tudatpy import numerical_simulation\n",
    "from tudatpy.numerical_simulation import environment\n",
    "from tudatpy.numerical_simulation import environment_setup\n",
    "from tudatpy.numerical_simulation import propagation_setup\n",
    "from tudatpy.numerical_simulation import estimation, estimation_setup\n",
    "from tudatpy.numerical_simulation.estimation_setup import observation\n",
    "from tudatpy.astro.time_conversion import DateTime\n",
    "from tudatpy.astro import element_conversion"
   ]
  },
  {
   "cell_type": "markdown",
   "id": "707bd319",
   "metadata": {},
   "source": [
    "## Configuration\n",
    "First, NAIF's `SPICE` kernels are loaded, to make the positions of various bodies such as the Earth, the Sun, or the Moon known to `tudatpy`.\n",
    "\n",
    "Subsequently, the start and end epoch of the simulation and observations are defined. Note that using `tudatpy`, the times are generally specified in seconds since J2000. Hence, setting the start epoch to `0` corresponds to the 1st of January 2000. The end epoch specifies a total duration of the simulation of four days.\n",
    "\n",
    "For more information on J2000 and the conversion between different temporal reference frames, please refer to the API documentation of the [`time_conversion module`](https://tudatpy.readthedocs.io/en/latest/time_conversion.html)."
   ]
  },
  {
   "cell_type": "code",
   "execution_count": 39,
   "id": "e336516b",
   "metadata": {},
   "outputs": [],
   "source": [
    "# Load spice kernels\n",
    "spice.load_standard_kernels()\n",
    "\n",
    "# Set simulation start and end epochs\n",
    "simulation_start_epoch = DateTime(2000, 1, 1).epoch()\n",
    "simulation_end_epoch   = DateTime(2000, 1, 5).epoch()\n",
    "\n",
    "observation_start_epoch = DateTime(2000, 1, 2).epoch()\n",
    "observation_end_epoch   = simulation_end_epoch"
   ]
  },
  {
   "cell_type": "markdown",
   "id": "dd2cea53",
   "metadata": {},
   "source": [
    "## Set up the environment\n",
    "We will now create and define the settings for the environment of our simulation. In particular, this covers the creation of (celestial) bodies, vehicle(s), and environment interfaces.\n",
    "\n",
    "### Create the main bodies\n",
    "To create the systems of bodies for the simulation, one first has to define a list of strings of all bodies that are to be included. Note that the default body settings (such as atmosphere, body shape, rotation model) are taken from the `SPICE` kernel.\n",
    "\n",
    "These settings, however, can be adjusted. Please refer to the [Available Environment Models](https://tudat-space.readthedocs.io/en/latest/_src_user_guide/state_propagation/environment_setup/create_models/available.html#available-environment-models) in the user guide for more details.\n",
    "\n",
    "Finally, the system of bodies is created using the settings. This system of bodies is stored into the variable `bodies`."
   ]
  },
  {
   "cell_type": "code",
   "execution_count": 40,
   "id": "4563c7d1",
   "metadata": {},
   "outputs": [],
   "source": [
    "# Create default body settings for \"Sun\", \"Earth\", \"Moon\", \"Mars\", and \"Venus\"\n",
    "bodies_to_create = [\"Sun\", \"Earth\", \"Moon\", \"Mars\", \"Venus\"]\n",
    "\n",
    "# Create default body settings for bodies_to_create, with \"Earth\"/\"J2000\" as the global frame origin and orientation\n",
    "global_frame_origin = \"Earth\"\n",
    "global_frame_orientation = \"J2000\"\n",
    "body_settings = environment_setup.get_default_body_settings(\n",
    "    bodies_to_create, global_frame_origin, global_frame_orientation)\n",
    "\n",
    "# Create system of bodies\n",
    "bodies = environment_setup.create_system_of_bodies(body_settings)"
   ]
  },
  {
   "cell_type": "markdown",
   "id": "f1b002c1",
   "metadata": {},
   "source": [
    "### Create the vehicle and its environment interface\n",
    "We will now create the satellite - called Delfi-C3 - for which an orbit will be simulated. Using an `empty_body` as a blank canvas for the satellite, we define mass of 400kg, a reference area (used both for aerodynamic and radiation pressure) of 4m$^2$, and a aerodynamic drag coefficient of 1.2. Idem for the radiation pressure coefficient. Finally, when setting up the radiation pressure interface, the Earth is set as a body that can occult the radiation emitted by the Sun."
   ]
  },
  {
   "cell_type": "code",
   "execution_count": 41,
   "id": "1585b93e",
   "metadata": {},
   "outputs": [],
   "source": [
    "# Create vehicle objects.\n",
    "bodies.create_empty_body(\"Delfi-C3\")\n",
    "bodies.get(\"Delfi-C3\").mass = 400 \n",
    "\n",
    "# Create aerodynamic coefficient interface settings\n",
    "reference_area = (4*0.3*0.1+2*0.1*0.1)/4  # Average projection area of a 3U CubeSat\n",
    "drag_coefficient = 1.2\n",
    "aero_coefficient_settings = environment_setup.aerodynamic_coefficients.constant(\n",
    "    reference_area, [drag_coefficient, 0.0, 0.0]\n",
    ")\n",
    "# Add the aerodynamic interface to the environment\n",
    "environment_setup.add_aerodynamic_coefficient_interface(bodies, \"Delfi-C3\", aero_coefficient_settings)\n",
    "\n",
    "# Create radiation pressure settings\n",
    "reference_area_radiation = (4*0.3*0.1+2*0.1*0.1)/4  # Average projection area of a 3U CubeSat\n",
    "radiation_pressure_coefficient = 1.2\n",
    "occulting_bodies = [\"Earth\"]\n",
    "radiation_pressure_settings = environment_setup.radiation_pressure.cannonball(\n",
    "    \"Sun\", reference_area_radiation, radiation_pressure_coefficient, occulting_bodies\n",
    ")\n",
    "# Add the radiation pressure interface to the environment\n",
    "environment_setup.add_radiation_pressure_interface(bodies, \"Delfi-C3\", radiation_pressure_settings)"
   ]
  },
  {
   "cell_type": "markdown",
   "id": "8bc428bc",
   "metadata": {},
   "source": [
    "## Set up the propagation\n",
    "Having the environment created, we will define the settings for the propagation of the spacecraft. First, we have to define the body to be propagated - here, the spacecraft - and the central body - here, Earth - with respect to which the state of the propagated body is defined."
   ]
  },
  {
   "cell_type": "code",
   "execution_count": 42,
   "id": "f4c79591",
   "metadata": {},
   "outputs": [],
   "source": [
    "# Define bodies that are propagated\n",
    "bodies_to_propagate = [\"Delfi-C3\"]\n",
    "\n",
    "# Define central bodies of propagation\n",
    "central_bodies = [\"Earth\"]"
   ]
  },
  {
   "cell_type": "markdown",
   "id": "a615dbcd",
   "metadata": {},
   "source": [
    "### Create the acceleration model\n",
    "Subsequently, all accelerations (and there settings) that act on `Delfi-C3` have to be defined. In particular, we will consider:\n",
    "* Gravitational acceleration using a spherical harmonic approximation up to 8th degree and order for Earth.\n",
    "* Aerodynamic acceleration for Earth.\n",
    "* Gravitational acceleration using a simple point mass model for:\n",
    "    - The Sun\n",
    "    - The Moon\n",
    "    - Mars\n",
    "* Radiation pressure experienced by the spacecraft - shape-wise approximated as a spherical cannonball - due to the Sun.\n",
    "\n",
    "The defined acceleration settings are then applied to `Delfi-C3` by means of a dictionary, which is finally used as input to the propagation setup to create the acceleration models."
   ]
  },
  {
   "cell_type": "code",
   "execution_count": 43,
   "id": "ae320f6d",
   "metadata": {},
   "outputs": [
    {
     "name": "stderr",
     "output_type": "stream",
     "text": [
      "Warning, you are using the deprecated (as of tudatpy v0.8) version of the cannonball radiation pressure model, the interface you are using will be dropped from v0.9 onwards. To learn how to convert your code to the new interfaces, and be able to use the powerful new radiation pressure framework, see https://docs.tudat.space/en/latest/_src_user_guide/state_propagation/propagation_setup/translational/radiation_pressure_acceleration.html#backwards-compatibility\n"
     ]
    }
   ],
   "source": [
    "# Define the accelerations acting on Delfi-C3\n",
    "accelerations_settings_delfi_c3 = dict(\n",
    "    Sun=[\n",
    "        propagation_setup.acceleration.cannonball_radiation_pressure(),\n",
    "        propagation_setup.acceleration.point_mass_gravity()\n",
    "    ],\n",
    "    Mars=[\n",
    "        propagation_setup.acceleration.point_mass_gravity()\n",
    "    ],\n",
    "    Moon=[\n",
    "        propagation_setup.acceleration.point_mass_gravity()\n",
    "    ],\n",
    "    Earth=[\n",
    "        propagation_setup.acceleration.spherical_harmonic_gravity(8, 8),\n",
    "        propagation_setup.acceleration.aerodynamic()\n",
    "    ])\n",
    "\n",
    "# Create global accelerations dictionary\n",
    "acceleration_settings = {\"Delfi-C3\": accelerations_settings_delfi_c3}\n",
    "\n",
    "# Create acceleration models\n",
    "acceleration_models = propagation_setup.create_acceleration_models(\n",
    "    bodies,\n",
    "    acceleration_settings,\n",
    "    bodies_to_propagate,\n",
    "    central_bodies)"
   ]
  },
  {
   "cell_type": "markdown",
   "id": "f4a73dba",
   "metadata": {},
   "source": [
    "### Define the initial state\n",
    "In Tudat, the initial state of the spacecraft always has to be provided as a **cartesian state** - i.e. in the form of a list with the first three elements representing the initial position, and the three remaining elements representing the initial velocity.\n",
    "\n",
    "Within this example, we will retrieve the initial state of Delfi-C3 using its Two-Line-Elements (TLE) the date of its launch (April the 28th, 2008). The TLE strings are obtained from [space-track.org](https://www.space-track.org) and are converted in to cartesian state via the `cartesian_state`function of the `environment` class. "
   ]
  },
  {
   "cell_type": "code",
   "execution_count": 44,
   "id": "12458abf",
   "metadata": {},
   "outputs": [],
   "source": [
    "# Retrieve the initial state of Delfi-C3 using Two-Line-Elements (TLEs)\n",
    "delfi_tle = environment.Tle(\n",
    "    \"1 32789U 07021G   08119.60740078 -.00000054  00000-0  00000+0 0  9999\",\n",
    "    \"2 32789 098.0082 179.6267 0015321 307.2977 051.0656 14.81417433    68\"\n",
    ")\n",
    "delfi_ephemeris = environment.TleEphemeris( \"Earth\", \"J2000\", delfi_tle, False )\n",
    "initial_state = delfi_ephemeris.cartesian_state( simulation_start_epoch )"
   ]
  },
  {
   "cell_type": "markdown",
   "id": "cd8e2587",
   "metadata": {},
   "source": [
    "### Create the integrator settings\n",
    "For the problem at hand, we will use an RKF78 integrator with a **fixed step-size of 60 seconds**. This can be achieved by tweaking the implemented RKF78 integrator with variable step-size such that both the minimum and maximum step-size is equal to 60 seconds and a tolerance of 1.0"
   ]
  },
  {
   "cell_type": "code",
   "execution_count": 45,
   "id": "44edeb70",
   "metadata": {},
   "outputs": [],
   "source": [
    "# Create numerical integrator settings\n",
    "integrator_settings = propagation_setup.integrator.\\\n",
    "    runge_kutta_fixed_step_size(initial_time_step=60.0,\n",
    "                                coefficient_set=propagation_setup.integrator.CoefficientSets.rkdp_87)"
   ]
  },
  {
   "cell_type": "markdown",
   "id": "890fda75",
   "metadata": {},
   "source": [
    "### Create the propagator settings\n",
    "By combining all of the above-defined settings we can define the settings for the propagator to simulate the orbit of `Delfi-C3` around Earth. A **termination condition** needs to be defined so that the propagation stops as soon as the specified end epoch is reached. Finally, the translational propagator's settings are created."
   ]
  },
  {
   "cell_type": "code",
   "execution_count": 46,
   "id": "facb90c1",
   "metadata": {},
   "outputs": [],
   "source": [
    "# Create termination settings\n",
    "termination_condition = propagation_setup.propagator.time_termination(simulation_end_epoch)\n",
    "\n",
    "# Create propagation settings\n",
    "propagator_settings = propagation_setup.propagator.translational(\n",
    "    central_bodies,\n",
    "    acceleration_models,\n",
    "    bodies_to_propagate,\n",
    "    initial_state,\n",
    "    simulation_start_epoch,\n",
    "    integrator_settings,\n",
    "    termination_condition\n",
    ")"
   ]
  },
  {
   "cell_type": "markdown",
   "id": "956c9ebe",
   "metadata": {},
   "source": [
    "## Set up the observations\n",
    "Having set the underlying dynamical model of the simulated orbit, we can define the **observational model**. Generally, this entails the addition of all required ground stations, the definition of the observation links and types, as well as the precise simulation settings.\n",
    "\n",
    "### Add a ground station\n",
    "Trivially, the simulation of observations requires the extension of the current environment by at least one observer - a ground station. For this example, we will model a single ground station located in Delft, Netherlands, at an altitude of 0m, 52.00667°N, 4.35556°E.\n",
    "\n",
    "More information on how to use the `add_ground_station()` function can be found in the respective [API documentation](https://tudatpy.readthedocs.io/en/latest/environment_setup.html#tudatpy.numerical_simulation.environment_setup.add_ground_station)."
   ]
  },
  {
   "cell_type": "code",
   "execution_count": 47,
   "id": "4eebd846",
   "metadata": {},
   "outputs": [],
   "source": [
    "# Define the position of the ground station on Earth\n",
    "station_altitude = 0.0\n",
    "delft_latitude = np.deg2rad(52.00667)\n",
    "delft_longitude = np.deg2rad(4.35556)\n",
    "\n",
    "# Add the ground station to the environment\n",
    "environment_setup.add_ground_station(\n",
    "    bodies.get_body(\"Earth\"),\n",
    "    \"TrackingStation\",\n",
    "    [station_altitude, delft_latitude, delft_longitude],\n",
    "    element_conversion.geodetic_position_type)"
   ]
  },
  {
   "cell_type": "markdown",
   "id": "451a76c7",
   "metadata": {},
   "source": [
    "### Define Observation Links and Types\n",
    "To establish the links between our ground station and `Delfi-C3`, we will make use of the [observation module](https://py.api.tudat.space/en/latest/observation.html#observation) of tudat. During th link definition, each member is assigned a certain function within the link, for instance as \"transmitter\", \"receiver\", or \"reflector\". Once two (or more) members are connected to a link, they can be used to simulate observations along this particular link. The precise type of observation made along this link - e.g., range, range-rate, angular position, etc. - is then determined by the chosen observable type.\n",
    "\n",
    "To fully define an observation model for a given link, we have to create a list of the observation model settings of all desired observable types and their associated links. This list will later be used as input to the actual estimator object. \n",
    "\n",
    "Each observable type has its own function for creating observation model settings - in this example we will use the `one_way_doppler_instantaneous()` function to model a series of one-way open-loop (i.e. instantaneous) Doppler observations. Realise that the individual observation model settings can also include corrective models or define biases for more advanced use-cases.\n",
    "\n",
    "Note that the `one_way_doppler_instantaneous()` measurements use the **satellite** as **transmitter** and the **ground station** as **receiver**. "
   ]
  },
  {
   "cell_type": "code",
   "execution_count": 48,
   "id": "8a19c012",
   "metadata": {},
   "outputs": [],
   "source": [
    "# Define the uplink link ends for one-way observable\n",
    "link_ends = dict()\n",
    "link_ends[observation.receiver] = observation.body_reference_point_link_end_id(\"Earth\", \"TrackingStation\")\n",
    "link_ends[observation.transmitter] = observation.body_origin_link_end_id(\"Delfi-C3\")\n",
    "\n",
    "# Create observation settings for each link/observable\n",
    "link_definition = observation.LinkDefinition(link_ends)\n",
    "observation_settings_list = [observation.one_way_doppler_instantaneous(link_definition)]"
   ]
  },
  {
   "cell_type": "markdown",
   "id": "f9b8518a",
   "metadata": {},
   "source": [
    "### Define Observation Simulation Settings\n",
    "We now have to define the **times at which observations are to be simulated**. To this end, we will define the settings for the simulation of the individual observations from the previously defined observation models. Bear in mind that these observation simulation settings are not to be confused with the ones to be used when setting up the estimator object, as done just above.\n",
    "\n",
    "Finally, for each observation model, the observation simulation settings set the times at which observations are simulated and defines the viability criteria and noise of the observation. Realise that the latter is technically not needed within the scope of a covariance analysis but for the sake of completeness (and with eye for the estimation example re-using this code) we have opted to nonetheless include it already.\n",
    "\n",
    "Note that the actual simulation of the observations requires `Observation Simulators`, which are created automatically by the `Estimator` object. Hence, one cannot simulate observations before the creation of an estimator."
   ]
  },
  {
   "cell_type": "code",
   "execution_count": 49,
   "id": "48d30336",
   "metadata": {},
   "outputs": [],
   "source": [
    "# Define observation simulation times for each link (separated by steps of 1 minute)\n",
    "observation_times = np.arange(observation_start_epoch, observation_end_epoch, 60.0)\n",
    "observation_simulation_settings = observation.tabulated_simulation_settings(\n",
    "    observation.one_way_instantaneous_doppler_type,\n",
    "    link_definition,\n",
    "    observation_times\n",
    ")\n",
    "\n",
    "# Add noise levels of roughly 1.0E-3 [m/s] and add this as Gaussian noise to the observation\n",
    "noise_level = 1.0E-3\n",
    "observation.add_gaussian_noise_to_observable(\n",
    "    [observation_simulation_settings],\n",
    "    noise_level,\n",
    "    observation.one_way_instantaneous_doppler_type\n",
    ")\n",
    "\n",
    "# Create viability settings\n",
    "viability_setting = observation.elevation_angle_viability([\"Earth\", \"TrackingStation\"], np.deg2rad(15))\n",
    "observation.add_viability_check_to_all(\n",
    "    [observation_simulation_settings],\n",
    "    [viability_setting]\n",
    ")"
   ]
  },
  {
   "cell_type": "markdown",
   "id": "ee6a84e0",
   "metadata": {},
   "source": [
    "## Set up the estimation\n",
    "Using the defined models for the environment, the propagator, and the observations, we can finally set the actual presentation up. In particular, this consists of defining all parameter that should be estimated, the creation of the estimator, and the simulation of the observations.\n",
    "\n",
    "### Defining the parameters to estimate\n",
    "For this example estimation, we decided to estimate the initial state of `Delfi-C3`, its drag coefficient, and the gravitational parameter of Earth. A comprehensive list of parameters available for estimation is provided at [this link](https://py.api.tudat.space/en/latest/parameter.html)."
   ]
  },
  {
   "cell_type": "code",
   "execution_count": 50,
   "id": "44bf1b2a",
   "metadata": {},
   "outputs": [],
   "source": [
    "# Setup parameters settings to propagate the state transition matrix\n",
    "parameter_settings = estimation_setup.parameter.initial_states(propagator_settings, bodies)\n",
    "\n",
    "# Add estimated parameters to the sensitivity matrix that will be propagated\n",
    "parameter_settings.append(estimation_setup.parameter.gravitational_parameter(\"Earth\"))\n",
    "parameter_settings.append(estimation_setup.parameter.constant_drag_coefficient(\"Delfi-C3\"))\n",
    "\n",
    "# Create the parameters that will be estimated\n",
    "parameters_to_estimate = estimation_setup.create_parameter_set(parameter_settings, bodies)"
   ]
  },
  {
   "cell_type": "markdown",
   "id": "5c248e5c",
   "metadata": {},
   "source": [
    "### Creating the Estimator object\n",
    "Ultimately, the `Estimator` object consolidates all relevant information required for the estimation of any system parameter:\n",
    "    \n",
    "    1) the environment (bodies)\n",
    "    2) the parameter set (parameters_to_estimate)\n",
    "    3) observation models (observation_settings_list)\n",
    "    4) dynamical, numerical, and integrator setup (propagator_settings)\n",
    "\n",
    "Underneath its hood, upon creation, the estimator automatically takes care of setting up the relevant Observation Simulator and Variational Equations which will subsequently be required for the simulation of observations and the estimation of parameters, respectively."
   ]
  },
  {
   "cell_type": "code",
   "execution_count": 51,
   "id": "bd694993",
   "metadata": {},
   "outputs": [],
   "source": [
    "# Create the estimator\n",
    "estimator = numerical_simulation.Estimator(\n",
    "    bodies,\n",
    "    parameters_to_estimate,\n",
    "    observation_settings_list,\n",
    "    propagator_settings)"
   ]
  },
  {
   "cell_type": "markdown",
   "id": "1f7cad02",
   "metadata": {},
   "source": [
    "### Perform the observations simulation\n",
    "Using the created `Estimator` object, we can perform the simulation of observations by calling its [`simulation_observations()`](https://py.api.tudat.space/en/latest/estimation.html#tudatpy.numerical_simulation.estimation.simulate_observations) function. Note that to know about the time settings for the individual types of observations, this function makes use of the earlier defined observation simulation settings."
   ]
  },
  {
   "cell_type": "code",
   "execution_count": 52,
   "id": "e66fd2ac",
   "metadata": {},
   "outputs": [],
   "source": [
    "# Simulate required observations\n",
    "simulated_observations = estimation.simulate_observations(\n",
    "    [observation_simulation_settings],\n",
    "    estimator.observation_simulators,\n",
    "    bodies)"
   ]
  },
  {
   "cell_type": "markdown",
   "id": "41e33162",
   "metadata": {},
   "source": [
    "<a id='covariance_section'></a>"
   ]
  },
  {
   "cell_type": "markdown",
   "id": "56cd3526",
   "metadata": {},
   "source": [
    "## Perform the covariance analysis\n",
    "Having simulated the observations and created the `Estimator` object - containing the variational equations for the parameters to estimate - we have defined everything to conduct the actual estimation. Realise that up to this point, we have not yet specified whether we want to perform a covariance analysis or the full estimation of all parameters. It should be stressed that the general setup for either path to be followed is entirely identical.\n",
    "\n",
    "### Set up the inversion\n",
    "To set up the inversion of the problem, we collect all relevant inputs in the form of a covariance input object and define some basic settings of the inversion. Most crucially, this is the step where we can account for different weights - if any - of the different observations, to give the estimator knowledge about the quality of the individual types of observations."
   ]
  },
  {
   "cell_type": "code",
   "execution_count": 53,
   "id": "a1478bbc",
   "metadata": {},
   "outputs": [],
   "source": [
    "# Create input object for covariance analysis\n",
    "covariance_input = estimation.CovarianceAnalysisInput(\n",
    "    simulated_observations)\n",
    "\n",
    "# Set methodological options\n",
    "covariance_input.define_covariance_settings(\n",
    "    reintegrate_variational_equations=False)\n",
    "\n",
    "# Define weighting of the observations in the inversion\n",
    "weights_per_observable = {estimation_setup.observation.one_way_instantaneous_doppler_type: noise_level ** -2}\n",
    "covariance_input.set_constant_weight_per_observable(weights_per_observable)"
   ]
  },
  {
   "cell_type": "markdown",
   "id": "39f16498",
   "metadata": {},
   "source": [
    "### Computing the Covariance\n",
    "Using the just defined inputs, we can ultimately run the computation of our covariance matrix. Printing the resulting formal errors will give us the diagonal entries of the matrix - while the first six entries represent the uncertainties in the (cartesian) initial state, the seventh and eighth are the errors associated with the gravitational parameter of Earth and the aerodynamic drag coefficient, respectively.\n",
    "\n",
    "When dealing with the results of covariance analyses - as a measure of how the estimated variable differs from the 'thought' true value - it is important to stress that the correlation between the parameters is another important aspect to take into consideration."
   ]
  },
  {
   "cell_type": "code",
   "execution_count": 54,
   "id": "fcb86d74",
   "metadata": {},
   "outputs": [
    {
     "name": "stdout",
     "output_type": "stream",
     "text": [
      "Calculating residuals and partials 65\n"
     ]
    }
   ],
   "source": [
    "# Perform the covariance analysis\n",
    "covariance_output = estimator.compute_covariance(covariance_input)"
   ]
  },
  {
   "cell_type": "code",
   "execution_count": 55,
   "id": "e4e2be65",
   "metadata": {},
   "outputs": [
    {
     "name": "stdout",
     "output_type": "stream",
     "text": [
      "[2.85634351e-01 1.49057212e-01 1.35660645e-01 1.38442737e-04\n",
      " 1.58774013e-04 2.75185263e-04 1.47487956e+07 1.94247928e-02]\n"
     ]
    }
   ],
   "source": [
    "# Print the covariance matrix\n",
    "print(covariance_output.formal_errors)"
   ]
  },
  {
   "cell_type": "markdown",
   "id": "41061acd",
   "metadata": {},
   "source": [
    "### Visualizing Correlations \n",
    "In particular, correlation describes how two parameters are related with each other. Typically, a value of 1.0 indicates entirely correlated elements (thus always present on the diagonal, indicating the correlation of an element with itself), a value of 0.0 indicates perfectly uncorrelated elements."
   ]
  },
  {
   "cell_type": "code",
   "execution_count": 56,
   "id": "3a8b2784",
   "metadata": {
    "tags": [
     "nbsphinx-thumbnail"
    ]
   },
   "outputs": [
    {
     "data": {
      "image/png": "[encoded data removed]",
      "text/plain": [
       "<Figure size 900x600 with 2 Axes>"
      ]
     },
     "metadata": {},
     "output_type": "display_data"
    }
   ],
   "source": [
    "plt.figure(figsize=(9, 6))\n",
    "\n",
    "plt.imshow(np.abs(covariance_output.correlations), aspect='auto', interpolation='none')\n",
    "plt.colorbar()\n",
    "\n",
    "plt.title(\"Correlation Matrix\")\n",
    "plt.xlabel(\"Index - Estimated Parameter\")\n",
    "plt.ylabel(\"Index - Estimated Parameter\")\n",
    "\n",
    "plt.tight_layout()\n",
    "plt.show()"
   ]
  }
 ],
 "metadata": {
  "interpreter": {
   "hash": "4a4d53b53330cd83e1499268313a4bcd5eafe4bf50523883929af79f2dd687b2"
  },
  "kernelspec": {
   "display_name": "tudat-bundle",
   "language": "python",
   "name": "tudat-bundle"
  },
  "language_info": {
   "codemirror_mode": {
    "name": "ipython",
    "version": 3
   },
   "file_extension": ".py",
   "mimetype": "text/x-python",
   "name": "python",
   "nbconvert_exporter": "python",
   "pygments_lexer": "ipython3",
   "version": "3.11.9"
  }
 },
 "nbformat": 4,
 "nbformat_minor": 5
}
