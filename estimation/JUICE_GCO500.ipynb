{
 "cells": [
  {
   "cell_type": "markdown",
   "id": "723d894b-1a83-45b8-ba21-0f7abf37c51f",
   "metadata": {},
   "source": [
    "# JUICE's Circular Orbit Phase at Ganymede (GCO500) - Parameters Estimation\n",
    "With this example, you will learn how to simulate and solve a relevant estimation problem, using the `JUICE`'s spacecraft during one of its two Ganymede Circular Orbit Phases. `JUICE` will make detailed observations of JUPITER and its large ocean-bearing moons – Ganymede, Callisto and Europa – with a suite of remote sensing, geophysical and in situ instruments. Range and Doppler measurements of `JUICE` taken from Earth will improve our knowledge of the Jovian system properties and dynamics. \n",
    "\n",
    "This example highlights the basic steps of setting up an orbit estimation routine. In particular, we will focus on how to set up and perform the full estimation of the spacecraft's state and Ganymede's gravitational parameter and spherical harmonics coefficients.\n",
    "\n",
    "As you will see, we will use a *multi-arc strategy* to simulate and propagate `JUICE`'s orbit. Further, we will highlight all relevant features of modelling a tracking station on Earth. Using this station, we will simulate a tracking routine of the spacecraft using a series of one- and -way doppler measurement every 180 seconds. To assure an uninterrupted line-of-sight between the station and the spacecraft over each *pass*, a minimum elevation angle of more than $15 \\textdegree$ above the horizon - as seen from the station - will be imposed as constraint on the simulation of observations.\n",
    "\n",
    "Let's start with importing the required modules. Most - if not all - of them (spice, numerical_simulation, environment, propagation) are used quite extensively in pretty much all tudatpy examples.They will soon become your friends (if they haven't already!). \n"
   ]
  },
  {
   "cell_type": "code",
   "execution_count": null,
   "id": "feebbb18-4d6c-44a8-914c-121bb4ff38de",
   "metadata": {},
   "outputs": [],
   "source": [
    "# Load required standard modules\n",
    "import os\n",
    "\n",
    "import numpy as np\n",
    "from matplotlib import pyplot as plt\n",
    "\n",
    "# Load required tudatpy modules\n",
    "from tudatpy import constants\n",
    "from tudatpy.interface import spice\n",
    "from tudatpy import numerical_simulation\n",
    "from tudatpy.numerical_simulation import environment\n",
    "from tudatpy.numerical_simulation import environment_setup\n",
    "from tudatpy.numerical_simulation import propagation, propagation_setup\n",
    "from tudatpy.numerical_simulation import estimation, estimation_setup\n",
    "from tudatpy.numerical_simulation.estimation_setup import observation\n",
    "from tudatpy.astro.time_conversion import DateTime\n",
    "from tudatpy.astro import element_conversion\n",
    "from tudatpy.util import result2array\n",
    "from tudatpy.kernel.astro import gravitation\n"
   ]
  },
  {
   "cell_type": "markdown",
   "id": "4d179481-2a90-4651-b29d-9b32bcbfd24c",
   "metadata": {},
   "source": [
    "The function `get_gravity_ganymede()` models the spherical harmonic potential of Ganymede. \n",
    "It normalizes the coefficients: $J_2$ = -$C_{2,0}$, and $C_{2,2}$ by means of the legendre normalization factor\n",
    "(see: Vallado, p. 546, Eq. (8.22) and TudatPy API reference: https://py.api.tudat.space/en/latest/gravitation.html)\n",
    "NOTE: Values for the $C_{l,m}$ coefficients are taken from Anderson et al. (1996): https://www.nature.com/articles/384541a0}."
   ]
  },
  {
   "cell_type": "code",
   "execution_count": null,
   "id": "09d24116-3d6e-4ed3-bdab-fde7e2af10e3",
   "metadata": {},
   "outputs": [],
   "source": [
    "def get_gravity_ganymede():\n",
    "\n",
    "    mu_ganymede = spice.get_body_properties(\"Ganymede\", \"GM\", 1)[0]*10**9 #same as Sam's: 9877.5555788329\n",
    "    print(mu_ganymede)\n",
    "    radius_ganymede = spice.get_body_properties(\"Ganymede\", \"RADII\", 3)[0]*10**3 #is: 2631.2 km (spice) was: 2634 km (SAM)\n",
    "    cosine_coef = np.zeros((31, 31))\n",
    "    sine_coef = np.zeros((31, 31))\n",
    "\n",
    "    cosine_coef[0, 0] = 1.0\n",
    "    cosine_coef[2, 0] = -127.8e-6 / gravitation.legendre_normalization_factor(2, 0)\n",
    "    cosine_coef[2, 2] = 38.3e-6 / gravitation.legendre_normalization_factor(2, 2)\n",
    "\n",
    "    return environment_setup.gravity_field.spherical_harmonic(mu_ganymede, radius_ganymede, cosine_coef, sine_coef, \"IAU_Ganymede\")"
   ]
  },
  {
   "cell_type": "markdown",
   "id": "1986b894-a82d-45db-a850-39c7f36ce65d",
   "metadata": {},
   "source": [
    "The spherical harmonics coefficients ($C_{l,m}$, $S_{l,m}$) describe the gravity field. \n",
    "However, as the degree l increases, the number of orders m increases very rapidly. \n",
    "This might lead to overfitting and numerical problems, which might lead some terms to \"explode\".\n",
    "However, since we know that, as l grows, the coefficients C and S get smaller and smaller, \n",
    "Kaula proposed a constraint (often referred to as the Kaula power law or Kaula's rule) that provides an UPPER bound\n",
    "on the expected magnitude of these coefficients. \n",
    "Kaula's constraints can be used as apriori information on the uncertainties in the Ganymede's C, S coefficients. \n",
    "Kaula's values can therefore be used as a starting point in the inverse apriori covariance matrix. \n",
    "However - as we will see later in this example - if better constraints (perhaps given in the literature) \n",
    "are available for some degree and order ($l$,$m$)  we can decide to pick these in place of the \"rough\" Kaula constraint. "
   ]
  },
  {
   "cell_type": "code",
   "execution_count": null,
   "id": "34dd9c2c-fbde-4db4-923b-c4d30d9c5e58",
   "metadata": {},
   "outputs": [],
   "source": [
    "def getKaulaConstraint(kaula_constraint_multiplier, degree):\n",
    "    return kaula_constraint_multiplier / degree ** 2\n",
    "\n",
    "def apply_kaula_constraint_a_priori(kaula_constraint_multiplier, max_deg_gravity, indices_cosine_coef, indices_sine_coef, inv_apriori):\n",
    "\n",
    "    index_cosine_coef = indices_cosine_coef[0]\n",
    "    index_sine_coef = indices_sine_coef[0]\n",
    "\n",
    "    for deg in range(2, max_deg_gravity + 1):\n",
    "        kaula_constraint =getKaulaConstraint(kaula_constraint_multiplier, deg)\n",
    "        for order in range(deg + 1):\n",
    "            inv_apriori[index_cosine_coef, index_cosine_coef] = kaula_constraint ** -2\n",
    "            index_cosine_coef += 1\n",
    "        for order in range(1, deg + 1):\n",
    "            inv_apriori[index_sine_coef, index_sine_coef] = kaula_constraint ** -2\n",
    "            index_sine_coef += 1\n",
    "\n",
    "\n",
    "# Load spice kernels\n",
    "path = os.path.dirname(__file__)\n",
    "kernels = [path+'/../kernels/kernel_juice.bsp', path+'/../kernels/kernel_noe.bsp']\n",
    "spice.load_standard_kernels(kernels)"
   ]
  },
  {
   "cell_type": "markdown",
   "id": "a7ccd649-72bc-4985-912f-c0bb453ee4a9",
   "metadata": {},
   "source": [
    "`JUICE` will undergo two circular orbit phases around Ganymede at two different altitudes: **GCO5000** at around $5000 km$ (start date: 2035-01-17) \n",
    "and **GCO500** at around $500 km$ (start date: 2035-05-21). We are interested in GCO500, which will end after around 4 months (120 days). \n",
    "Let's initialize the start and end epoch in the variable `start_gco` and `end_gco`, shall we?. \n",
    "These have to be given in *seconds* after the 1st of January 2000. \n",
    "The 21st of May corresponds to the 140th day of the year, or around 0.3844. \n",
    "Therefore, the GCO500 phase will start at `start_gco` $= 35.3844$ years after the 1st Jan 2000. \n",
    "As for this example, we will set the end epoch after 100 days. \n",
    "`JUICE` will be orbiting Ganymede, so we choose Ganymede and J2000 as origin and orientation of the global reference frame."
   ]
  },
  {
   "cell_type": "code",
   "execution_count": null,
   "id": "47e11fab-bf18-4025-bb84-e9912e11dabc",
   "metadata": {},
   "outputs": [],
   "source": [
    "# Set simulation start and end epochs\n",
    "start_gco = 35.3844 * constants.JULIAN_YEAR  # beginning circular orbital phase\n",
    "end_gco = start_gco + 100.0 * constants.JULIAN_DAY # 35.73 * constants.JULIAN_YEAR  # end circular orbital phase\n",
    "# Define global propagation settings\n",
    "global_frame_origin = \"Ganymede\"\n",
    "global_frame_orientation = \"J2000\""
   ]
  },
  {
   "cell_type": "markdown",
   "id": "7959fa3d-9487-412b-a443-12512abd3582",
   "metadata": {},
   "source": [
    "Picture it: while on the GCO500 phase, the gravitational forces acting on `JUICE` will be the ones exerted by Ganymede, Jupiter and the Sun.\n",
    "For this reason, as you will see in a bit, Ganymede, Sun and Jupiter will be the only celestial objects we will consider in our environment\n",
    "when it comes to modelling the spacecraft acceleration. Nevertheless, we will also need to create the **Earth's object**.  \n",
    "Why is that? Even though the Earth's gravitational pull on`JUICE`is negligible during the whole the GCO500 phase, \n",
    "we will need our planet to be present in the environment because, later on, we will have to set up our *observation model*,\n",
    "meaning that we will have to set up a link between`JUICE`and, guess who? The **Earth**. "
   ]
  },
  {
   "cell_type": "code",
   "execution_count": null,
   "id": "fd056414-2dd5-4923-8c47-bf5e62584e0f",
   "metadata": {},
   "outputs": [],
   "source": [
    "# Create default body settings\n",
    "bodies_to_create = [\"Ganymede\", \"Jupiter\", \"Sun\", \"Earth\"]\n",
    "body_settings = environment_setup.get_default_body_settings(bodies_to_create, global_frame_origin, global_frame_orientation)"
   ]
  },
  {
   "cell_type": "markdown",
   "id": "773235b9-c325-4379-8f95-d537c66626d8",
   "metadata": {},
   "source": [
    "We want to analyze `JUICE`'s trajectory with respect to a **Ganymede-centered** body frame. \n",
    "Since Tudat propagates the trajectories with respect to a frame with inertial origin and orientation (e.g. $J2000$), \n",
    "it is necessary to get the **rotation matrix** between these two frames In order to do that\n",
    "* we compute the (constant) angular velocity (rotation rate) of Ganymede with respect to Jupiter, using Kepler's third law.\n",
    "   Note that, in order to do this, we first need to get the semi-major axis of Ganymede. \n",
    "   Since spice provides us with Ganymede's cartesian state, we need to convert these into keplerian elements, thus taking the semi-major axis. \n",
    "* we use spice again, this time to get the rotation matrix at the start epoch: `start_gco`."
   ]
  },
  {
   "cell_type": "code",
   "execution_count": null,
   "id": "fd41970c-8df6-449c-938f-6c30b9c91f1d",
   "metadata": {},
   "outputs": [],
   "source": [
    "# Compute rotation rate for Ganymede\n",
    "mu_jupiter = spice.get_body_properties(\"Jupiter\", \"GM\", 1)[0] * 1.0e9\n",
    "initial_state_ganymede = spice.get_body_cartesian_state_at_epoch(\"Ganymede\", \"Jupiter\", \"J2000\", \"None\", start_gco)\n",
    "keplerian_state_ganymede = element_conversion.cartesian_to_keplerian(initial_state_ganymede, mu_jupiter)\n",
    "rotation_rate_ganymede = np.sqrt(mu_jupiter/keplerian_state_ganymede[0]**3)\n",
    "# Set rotation model settings\n",
    "initial_orientation_ganymede = spice.compute_rotation_matrix_between_frames(\"J2000\", \"IAU_Ganymede\", start_gco)"
   ]
  },
  {
   "cell_type": "markdown",
   "id": "f62f21c0-360c-4f8a-ad2e-2e4afabfb89a",
   "metadata": {},
   "source": [
    "Finally, we are ready to get Ganymede's rotation and gravity field model, adding it the body_settings"
   ]
  },
  {
   "cell_type": "code",
   "execution_count": null,
   "id": "07cbf6ad-3d11-4cdc-a533-1bca37ae98e1",
   "metadata": {},
   "outputs": [],
   "source": [
    "# Get Rotation settings\n",
    "body_settings.get(\"Ganymede\").rotation_model_settings = environment_setup.rotation_model.simple(\n",
    "    \"J2000\", \"IAU_Ganymede\", initial_orientation_ganymede, start_gco, rotation_rate_ganymede)\n",
    "# Get Gravity field settings\n",
    "body_settings.get(\"Ganymede\").gravity_field_settings = get_gravity_ganymede()"
   ]
  },
  {
   "cell_type": "markdown",
   "id": "6bdb5f9c-b457-489b-9f14-9b8918f8098e",
   "metadata": {},
   "source": [
    "We will implement what's known as a \"*multi-arc strategy*\" for `JUICE`'s orbit estimation. Here, we offer a very short explanation of why we decide to do so.\n",
    "Sometimes, the available dynamical models might not be representative enough of reality. For instance, radiation pressure values\n",
    "on our spacecraft might be poorly known. This could result in **dynamical modelling errors** that could exceed the measurement accuracy by orders of magnitude.\n",
    "Not only that: our observations might be not evenly distributed in time. Indeed, in the general operative case, sensors will measure various \"*passes*\" \n",
    "(\"pass\" = the time span over which the spacecraft is visible). For instance: for an interplanetary probe, the rotation of the Earth controls each pass duration. \n",
    "If only a few stations can be used, the observational data will be concentrated in the time spans of the passes, with perhaps significant **gaps** in between.\n",
    "Let's call $dt$ the timespan of a pass, and $\\Delta T$ the timespan between two consecutive passes, and let's assume $\\Delta T \\gg dt$.\n",
    "It can be shown that even though the propagation error is negligible with respect to the measurement error over one pass ($dt$), \n",
    "it will become significant over the time span between two consecutive passes ($\\Delta T$) (refer for example, to: *Theory of Orbit Determination, Milani & Gronchi*).\n",
    "For these reasons (modelling errors and/or huge gaps between consecutive passes) it is convenient to **split** the observation timespan into shorter intervals.\n",
    "The set of observations belonging to each interval is called an \"**arc**\". The parameters vector can then be estimated for each arc, \n",
    "with errors over each pass (timespan of order $dt$) that are intrinsically lower than those that would otherwise accumulate on the overall timespan (of the order $\\Delta T$).\n",
    "\n",
    "Following this considerations, we will now create the satellite - `JUICE`, and the multi-arc ephemeris settings.  \n",
    "Using an `empty_body` as a blank canvas for the satellite, we will define a mass of $5000 kg$."
   ]
  },
  {
   "cell_type": "code",
   "execution_count": null,
   "id": "b6e2175c-e59f-4cd7-80f8-6c76fefefa2b",
   "metadata": {},
   "outputs": [],
   "source": [
    "# Create empty settings for JUICE\n",
    "body_settings.add_empty_settings(\"JUICE\")\n",
    "# Create system of bodies\n",
    "# Add JUICE spacecraft (mas 5000kg) to system of bodies\n",
    "\n",
    "# Create empty multi-arc ephemeris for JUICE\n",
    "empty_ephemeris_dict = dict()\n",
    "juice_ephemeris = environment_setup.ephemeris.tabulated(\n",
    "    empty_ephemeris_dict,\n",
    "    global_frame_origin,\n",
    "    global_frame_orientation)\n",
    "juice_ephemeris.make_multi_arc_ephemeris = True\n",
    "body_settings.get(\"JUICE\").ephemeris_settings = juice_ephemeris\n",
    "bodies = environment_setup.create_system_of_bodies(body_settings)\n",
    "bodies.get(\"JUICE\").mass = 5.0e3"
   ]
  },
  {
   "cell_type": "markdown",
   "id": "acccd1fe-9b24-4160-894a-cd3fa2addb07",
   "metadata": {},
   "source": [
    "Next, a reference area of $100 m^2$ is set. (JUICE has big solar panels!)\n",
    "A Solar Radiation Pressure (**SRP**) coefficient of $1.2$ is also set for JUICE. The SRP will act all over this reference area.\n",
    "Also, while setting up the radiation pressure interface, Ganymede is set as a body that can **occult** the radiation emitted by the Sun."
   ]
  },
  {
   "cell_type": "code",
   "execution_count": null,
   "id": "dfad60e8-c271-444e-859f-b3b005727623",
   "metadata": {},
   "outputs": [],
   "source": [
    "# Create radiation pressure settings\n",
    "ref_area = 100.0\n",
    "srp_coef = 1.2\n",
    "occulting_bodies = {\"Sun\": [\"Ganymede\"]}\n",
    "juice_srp_settings = environment_setup.radiation_pressure.cannonball_radiation_target(\n",
    "    ref_area, srp_coef, occulting_bodies)\n",
    "environment_setup.add_radiation_pressure_target_model(bodies, \"JUICE\", juice_srp_settings)\n"
   ]
  },
  {
   "cell_type": "markdown",
   "id": "46a1986f-2805-46ed-b89a-9da51c7c15fb",
   "metadata": {},
   "source": [
    "Having the environment created, we can define the settings for the propagation of the spacecraft. \n",
    "First, we have to define the body to be propagated (JUICE) - and the central body (Ganymede)\n",
    "with respect to which the state of the propagated body is defined. \n",
    "Subsequently, all accelerations (and their settings) that act on JUCE have to be defined. \n",
    "In particular, we will consider:\n",
    "* **Gravitational acceleration** using a spherical harmonic approximation up to 30th degree and order for Ganymede.\n",
    "* **Empirical Acceleration** For Ganymede, accounting for un-modelled accelerations acting on the Moon (e.g. contributions by other Galilean moons)\n",
    "* **gravitational acceleration** using a **pherical harmonic** approximation up to 2th degree and order 0 for Jupiter.\n",
    "* **gravitational acceleration of the Sun**, considered as a point mass.\n",
    "* **non-gravitational acceleration** given by the **SRP**.\n",
    "\n",
    "* **Radiation pressure** experienced by the spacecraft - shape-wise approximated as a spherical cannonball - due to the Sun.\n",
    "\n",
    "The defined acceleration settings are then applied to `JUICE` by means of a dictionary, which is finally used as input to the propagation setup to create the acceleration models."
   ]
  },
  {
   "cell_type": "code",
   "execution_count": null,
   "id": "eb7733e5-77d3-4b55-a181-beb50aa9fd79",
   "metadata": {},
   "outputs": [],
   "source": [
    "body_to_propagate = [\"JUICE\"]\n",
    "central_body = [\"Ganymede\"]\n",
    "\n",
    "# Define accelerations acting on JUICE\n",
    "accelerations_settings_juice = dict(\n",
    "    Ganymede=[\n",
    "        propagation_setup.acceleration.spherical_harmonic_gravity(30, 30),\n",
    "        propagation_setup.acceleration.empirical()\n",
    "    ],\n",
    "    Jupiter=[\n",
    "        propagation_setup.acceleration.spherical_harmonic_gravity(2, 0)\n",
    "    ],\n",
    "    Sun=[\n",
    "        propagation_setup.acceleration.point_mass_gravity(),\n",
    "        propagation_setup.acceleration.radiation_pressure()\n",
    "    ])\n",
    "acceleration_settings = {\"JUICE\": accelerations_settings_juice}\n",
    "\n",
    "acceleration_models = propagation_setup.create_acceleration_models(\n",
    "    bodies, acceleration_settings, body_to_propagate, central_body)"
   ]
  },
  {
   "cell_type": "markdown",
   "id": "82a1e227-d05c-4c54-bb31-c622f8e844b7",
   "metadata": {},
   "source": [
    "Let's define the start and end epoch (in Julian Days) for each arc, and print their number."
   ]
  },
  {
   "cell_type": "code",
   "execution_count": null,
   "id": "9a8a3128-b629-406b-820b-f80debcbb235",
   "metadata": {},
   "outputs": [],
   "source": [
    "# Define propagation arcs during GCO (one day long)\n",
    "arc_duration = 1.0 * constants.JULIAN_DAY\n",
    "\n",
    "arc_start_times = []\n",
    "arc_end_times = []\n",
    "arc_start = start_gco\n",
    "while arc_start+arc_duration <= end_gco:\n",
    "    arc_start_times.append(arc_start)\n",
    "    arc_end_times.append(arc_start+arc_duration)\n",
    "    arc_start += arc_duration\n",
    "\n",
    "# Extract total number of (propagation) arcs during GCO\n",
    "nb_arcs = len(arc_start_times)\n",
    "print(f'Total number of arcs for GCO500: {nb_arcs}')"
   ]
  },
  {
   "cell_type": "markdown",
   "id": "42b82a66-fdff-4950-87ed-7644b6379d1b",
   "metadata": {},
   "source": [
    "For the problem at hand, we will use an `RKF78` integrator with a fixed step-size of $180$ seconds. "
   ]
  },
  {
   "cell_type": "code",
   "execution_count": null,
   "id": "e739f47b-3e99-4865-9da0-197fb640c609",
   "metadata": {},
   "outputs": [],
   "source": [
    "# Define integrator settings\n",
    "time_step = 180.0\n",
    "integrator_moons = propagation_setup.integrator.runge_kutta_fixed_step_size(\n",
    "    time_step, coefficient_set=propagation_setup.integrator.CoefficientSets.rkf_78)"
   ]
  },
  {
   "cell_type": "markdown",
   "id": "f0cd88a0-1381-40d5-a22e-4ac7d03bc86f",
   "metadata": {},
   "source": [
    "Each arc will be characterized by one set of initial conditions. \n",
    "These are extracted from `JUICE`s SPICE ephemeris at the start time for each propagation arc, \n",
    "based on its corresponding `arc_start` value."
   ]
  },
  {
   "cell_type": "code",
   "execution_count": null,
   "id": "e6505cc4-fae2-4509-b5be-25efac2a0149",
   "metadata": {},
   "outputs": [],
   "source": [
    "# Define arc-wise initial states for JUICE wrt Ganymede.\n",
    "# The initial states are extracted from JUICE's SPICE ephemeris (JUICE's SPICE ID is -28) at the start of each propagation arc.\n",
    "initial_states = []\n",
    "for i in range(nb_arcs):\n",
    "    initial_states.append(spice.get_body_cartesian_state_at_epoch(\"-28\", \"Ganymede\", \"J2000\", \"None\", arc_start_times[i]))"
   ]
  },
  {
   "cell_type": "markdown",
   "id": "36bf0ceb-e146-4777-9170-336801e383a8",
   "metadata": {},
   "source": [
    "We would like to save the **latitude** and **longitude** of `JUICE` with respect to Gaymede during the propagation, \n",
    "in order to later plot the position of `JUICE` in the plane of the sky."
   ]
  },
  {
   "cell_type": "code",
   "execution_count": null,
   "id": "5ef2f552-947e-4c79-9a10-b54de8521b23",
   "metadata": {},
   "outputs": [],
   "source": [
    "# Define dependent variables to be saved during propagation\n",
    "dependent_variables_names = [\n",
    "    propagation_setup.dependent_variable.latitude(\"JUICE\", \"Ganymede\"),\n",
    "    propagation_setup.dependent_variable.longitude(\"JUICE\", \"Ganymede\")\n",
    "]"
   ]
  },
  {
   "cell_type": "markdown",
   "id": "afb17fa7-3579-4122-b32f-fa0462907ee7",
   "metadata": {},
   "source": [
    "Now it's time to define the arc-wise propagator setting. For each arc $i$, $i = 1,2,...,n_{arcs}$, \n",
    "we propagate from the initial time corresponding to arc $i$, and terminate the propagation at the corresponding end time.\n",
    "We will use a *Cowell propagator*. \n",
    "Also, don't forget to add the dependent variables (latitude and longitude) in the propagator setting list!"
   ]
  },
  {
   "cell_type": "code",
   "execution_count": null,
   "id": "b42b7034-ba36-415d-acf1-71002aeac773",
   "metadata": {},
   "outputs": [],
   "source": [
    "# Define arc-wise propagator settings\n",
    "propagator_settings_list = []\n",
    "for i in range(nb_arcs):\n",
    "    propagator_settings_list.append(propagation_setup.propagator.translational(\n",
    "        central_body, acceleration_models, body_to_propagate, initial_states[i], arc_start_times[i], integrator_moons, propagation_setup.propagator.time_termination(arc_end_times[i]),\n",
    "        propagation_setup.propagator.cowell, dependent_variables_names))\n",
    "# Concatenate all arc-wise propagator settings into multi-arc propagator settings\n",
    "propagator_settings = propagation_setup.propagator.multi_arc(propagator_settings_list)"
   ]
  },
  {
   "cell_type": "markdown",
   "id": "c15032ac-0e4b-4d23-8c61-010bfb05405f",
   "metadata": {},
   "source": [
    "We are now ready to propagate the dynamics and store the results for every arc."
   ]
  },
  {
   "cell_type": "code",
   "execution_count": null,
   "id": "bf0ec4c3-b26e-428e-ba52-3ad14a82adf5",
   "metadata": {},
   "outputs": [],
   "source": [
    "# Propagate dynamics and retrieve simulation results\n",
    "simulator = numerical_simulation.create_dynamics_simulator(bodies, propagator_settings)\n",
    "simulation_results = simulator.propagation_results.single_arc_results"
   ]
  },
  {
   "cell_type": "markdown",
   "id": "bbca1b8c-9620-43f5-9bc6-73da2c333df4",
   "metadata": {},
   "source": [
    "Having propagted the arcs, it is now time to simulate the observations. Let's start by **setting up our environment**.\n",
    "Multiple stations can be considered, but we will only simulate observations from the *Malargüe* station for now.\n",
    "This is ESA's newest tracking station and is located 30 km south of the city of Malargüe, about 1200 km west of Buenos Aires, Argentina. "
   ]
  },
  {
   "cell_type": "code",
   "execution_count": null,
   "id": "3e6f87bc-07e1-4c52-8dd3-8a8c5ad47b17",
   "metadata": {},
   "outputs": [],
   "source": [
    "# Manually define ESTRACK ground stations (for now limited to Malargue only)\n",
    "station_names = [\"Malargue\"]\n",
    "station_coordinates = {station_names[0]: [1550.0, np.deg2rad(-35.0), np.deg2rad(-69.0)]}\n",
    "\n",
    "for station in station_names:\n",
    "    environment_setup.add_ground_station(\n",
    "        bodies.get_body(\"Earth\"), station, station_coordinates[station], element_conversion.geodetic_position_type)"
   ]
  },
  {
   "cell_type": "markdown",
   "id": "19b8980f-3927-4a33-ab6b-5254a742da8d",
   "metadata": {},
   "source": [
    "To establish the links between Malargüe and `JUICE`, we will make use of the observation module\n",
    "(https://py.api.tudat.space/en/latest/observation.html#observation) of tudat. \n",
    "During the link definition, each member is assigned a certain function within the link, for instance as \"`transmitter`, `receiver` or `reflector`.\n",
    "Once two (or more) members are connected to a link, they can be used to simulate observations along this particular link. "
   ]
  },
  {
   "cell_type": "code",
   "execution_count": null,
   "id": "d7b34514-e09e-484b-aaba-1feefe455d3f",
   "metadata": {},
   "outputs": [],
   "source": [
    "# Define link ends for two-way Doppler and range observables, for each ESTRACK station\n",
    "link_ends = []\n",
    "for station in station_names:\n",
    "    link_ends_per_station = dict()\n",
    "    link_ends_per_station[observation.transmitter] = observation.body_reference_point_link_end_id(\"Earth\", station)\n",
    "    link_ends_per_station[observation.receiver] = observation.body_reference_point_link_end_id(\"Earth\", station)\n",
    "    link_ends_per_station[observation.reflector1] = observation.body_origin_link_end_id(\"JUICE\")\n",
    "    link_ends.append(link_ends_per_station)"
   ]
  },
  {
   "cell_type": "markdown",
   "id": "405381e8-08db-4a46-8569-70e420c28395",
   "metadata": {},
   "source": [
    "We also need to model the passes, meaning that **we have to assign an observation duration for each arc**.\n",
    "During **GCO500**, this will amount to **8 hours** per day. \n",
    "To make things more realistic, we can also set how long after the start of each propagation arc our observation will take place.\n",
    "Here, we (*arbitrarily*) decide to start each observation **2 hours** after the start of each propagation arc."
   ]
  },
  {
   "cell_type": "code",
   "execution_count": null,
   "id": "ea5d0118-df6a-415f-8d03-5683b18ba125",
   "metadata": {},
   "outputs": [],
   "source": [
    "# Define tracking arcs (arc duration is set to 8h/day during GCO)\n",
    "# The tracking arcs are (arbitrarily) set to start 2h after the start of each propagation arc.\n",
    "tracking_arc_duration = 8.0 * 3600.0\n",
    "tracking_arcs_start = []\n",
    "tracking_arcs_end = []\n",
    "for arc_start in arc_start_times:\n",
    "    tracking_arc_start = arc_start + 2.0 * 3600.0\n",
    "    tracking_arcs_start.append(tracking_arc_start)\n",
    "    tracking_arcs_end.append(tracking_arc_start + tracking_arc_duration)"
   ]
  },
  {
   "cell_type": "markdown",
   "id": "bcbee7dc-7386-43ed-935c-4e98f105b857",
   "metadata": {},
   "source": [
    "The precise type of observation made along the link - e.g., range, range-rate, angular position, etc. - is  determined by the chosen **observable type**.\n",
    "To fully define an observation model for a given link, we have to create a list of the observation model settings\n",
    "of all desired observable types and their associated links. This list will later be used as input to the actual estimator object.\n",
    "Each observable type has its own function for creating observation model settings.\n",
    "In this example we will use the `n_way_doppler_averaged` and the `two_way_range()` functions to model a series of two-way Doppler and range observations.\n",
    "We can also take into account for effects such as **light time correction** or **biases** that will help making the observation model even more realistic (note that, for now, the **biases** for each arc are set to **zero**)."
   ]
  },
  {
   "cell_type": "code",
   "execution_count": null,
   "id": "a7a57d97-84e6-4aa9-b058-4bff56213d57",
   "metadata": {},
   "outputs": [],
   "source": [
    "# Create observation settings for each link ends and observable\n",
    "# Define light-time calculations settings\n",
    "light_time_correction_settings = observation.first_order_relativistic_light_time_correction([\"Sun\"])\n",
    "# Define range biases settings\n",
    "biases = []\n",
    "for i in range(nb_arcs):\n",
    "    biases.append(np.array([0.0]))\n",
    "range_bias_settings = observation.arcwise_absolute_bias(tracking_arcs_start, biases, observation.receiver)\n",
    "\n",
    "# Define observation settings list\n",
    "observation_settings_list = []\n",
    "for link_end in link_ends:\n",
    "    link_definition = observation.LinkDefinition(link_end)\n",
    "    observation_settings_list.append(observation.n_way_doppler_averaged(link_definition, [light_time_correction_settings]))\n",
    "    observation_settings_list.append(observation.two_way_range(link_definition, [light_time_correction_settings], range_bias_settings))"
   ]
  },
  {
   "cell_type": "markdown",
   "id": "ac4927c0-5971-4b44-adf0-b424d573e926",
   "metadata": {},
   "source": [
    "We now have to define the times at which observations are to be simulated. \n",
    "To this end, we will define the settings for the simulation of the individual observations from the previously defined observation models.\n",
    "Both **range and doppler measurements** will likely be taken with a **different cadence**, \n",
    "so we can create a dictionary with the corresponding times (different keys and values for each observing mode). \n",
    "These observation times will also define the viability criteria and noise of the observation.\n",
    "For the viability settings, we have to make sure that\n",
    "* Stations have an elevation greater or equal than 15 degrees (below that threshold, *tropospheric* noise effects will strongly condition the observations)\n",
    "* Ganymede is not occulting the signal\n",
    "* Jupiter is not occulting the signal\n",
    "  "
   ]
  },
  {
   "cell_type": "code",
   "execution_count": null,
   "id": "c9d3b91f-4923-42ff-af8f-078f461e31f9",
   "metadata": {},
   "outputs": [],
   "source": [
    "# Define observation simulation times for both Doppler and range observables\n",
    "doppler_cadence = 60.0\n",
    "range_cadence = 300.0\n",
    "\n",
    "observation_times_doppler = []\n",
    "observation_times_range = []\n",
    "for i in range(nb_arcs):\n",
    "    # Doppler observables\n",
    "    time = tracking_arcs_start[i]\n",
    "    while time <= tracking_arcs_end[i]:\n",
    "        observation_times_doppler.append(time)\n",
    "        time += doppler_cadence\n",
    "    # Range observables\n",
    "    time = tracking_arcs_start[i]\n",
    "    while time <= tracking_arcs_end[i]:\n",
    "        observation_times_range.append(time)\n",
    "        time += range_cadence\n",
    "\n",
    "observation_times_per_type = dict()\n",
    "observation_times_per_type[observation.n_way_averaged_doppler_type] = observation_times_doppler\n",
    "observation_times_per_type[observation.n_way_range_type] = observation_times_range\n",
    "\n",
    "# Define observation settings for both observables, and all link ends (i.e., all ESTRACK stations)\n",
    "observation_simulation_settings = []\n",
    "for link_end in link_ends:\n",
    "    # Doppler\n",
    "    observation_simulation_settings.append(observation.tabulated_simulation_settings(\n",
    "        observation.n_way_averaged_doppler_type, observation.LinkDefinition(link_end), observation_times_per_type[observation.n_way_averaged_doppler_type]))\n",
    "    # Range\n",
    "    observation_simulation_settings.append(observation.tabulated_simulation_settings(\n",
    "        observation.n_way_range_type, observation.LinkDefinition(link_end), observation_times_per_type[observation.n_way_range_type]))\n",
    "\n",
    "\n",
    "# Create viability settings which define when an observation is feasible\n",
    "viability_settings = []\n",
    "\n",
    "# For all tracking stations (for now only Malargue), check if elevation is sufficient\n",
    "for station in station_names:\n",
    "    viability_settings.append(observation.elevation_angle_viability([\"Earth\", station], np.deg2rad(15.0)))\n",
    "# Check whether Ganymede or Jupiter are occulting the signal\n",
    "viability_settings.append(observation.body_occultation_viability([\"JUICE\", \"\"], \"Ganymede\"))\n",
    "viability_settings.append(observation.body_occultation_viability([\"JUICE\", \"\"], \"Jupiter\"))\n",
    "# Check whether SEP angle is sufficiently large\n",
    "viability_settings.append(observation.body_avoidance_viability([\"JUICE\", \"\"], \"Sun\", np.deg2rad(5.0)))\n",
    "\n",
    "# Apply viability checks to all simulated observations\n",
    "observation.add_viability_check_to_all(observation_simulation_settings, viability_settings)"
   ]
  },
  {
   "cell_type": "markdown",
   "id": "078e7d09-8f8a-4d0e-9eff-4c290d481b90",
   "metadata": {},
   "source": [
    "Using the defined models for the environment, the propagator, and the observations, we can finally set the actual presentation up. \n",
    "In particular, this consists of **defining parameters** that should be estimated, the creation of the **estimator**, and the **simulation of the observations**.\n",
    "For this example estimation, we decided to estimate:\n",
    "1) `JUICE` initial state\n",
    "2) Ganymede's gravitational parameter\n",
    "3) Ganymede's spherical harmonics coefficients, from degree $2$ to $15$."
   ]
  },
  {
   "cell_type": "code",
   "execution_count": null,
   "id": "53a84224-0885-4da8-81c3-d95483c16466",
   "metadata": {},
   "outputs": [],
   "source": [
    "# Define parameters to estimate\n",
    "# Add arc-wise initial states of the JUICE spacecraft wrt Ganymede\n",
    "parameter_settings = estimation_setup.parameter.initial_states(propagator_settings, bodies, arc_start_times)\n",
    "\n",
    "# Add Ganymede's gravitational parameter\n",
    "parameter_settings.append(estimation_setup.parameter.gravitational_parameter(\"Ganymede\"))\n",
    "\n",
    "# Add Ganymede's gravity field spherical harmonics coefficients\n",
    "max_deg_ganymede_gravity = 15\n",
    "parameter_settings.append(estimation_setup.parameter.spherical_harmonics_c_coefficients(\"Ganymede\", 2, 0, max_deg_ganymede_gravity, max_deg_ganymede_gravity))\n",
    "parameter_settings.append(estimation_setup.parameter.spherical_harmonics_s_coefficients(\"Ganymede\", 2, 1, max_deg_ganymede_gravity, max_deg_ganymede_gravity))\n",
    "\n",
    "# Add Ganymede's rotational parameters\n",
    "# parameter_settings.append(estimation_setup.parameter.constant_rotation_rate(\"Ganymede\"))\n",
    "# parameter_settings.append(estimation_setup.parameter.rotation_pole_position(\"Ganymede\"))"
   ]
  },
  {
   "cell_type": "markdown",
   "id": "1b4e7281-7cb0-4206-895e-8f73bf346d0a",
   "metadata": {},
   "source": [
    "When propagating the dynamics of the spacecraft during each arc,  we might want to take into account for possible errors in the accelerometer calibration of the spacecraft. These are modelled by introducing an **empirical acceleration** components along each spatial dimension. "
   ]
  },
  {
   "cell_type": "code",
   "execution_count": null,
   "id": "cb8912c2-9aa5-4413-8e1a-03e6b1ce0250",
   "metadata": {},
   "outputs": [],
   "source": [
    "# Add arc-wise empirical accelerations acting on the JUICE spacecraft\n",
    "acc_components = {estimation_setup.parameter.radial_empirical_acceleration_component: [estimation_setup.parameter.constant_empirical],\n",
    "                  estimation_setup.parameter.along_track_empirical_acceleration_component: [estimation_setup.parameter.constant_empirical],\n",
    "                  estimation_setup.parameter.across_track_empirical_acceleration_component: [estimation_setup.parameter.constant_empirical]}\n",
    "parameter_settings.append(estimation_setup.parameter.arcwise_empirical_accelerations(\"JUICE\", \"Ganymede\", acc_components, arc_start_times))\n",
    "\n",
    "# Add ground stations' positions\n",
    "for station in station_names:\n",
    "    parameter_settings.append(estimation_setup.parameter.ground_station_position(\"Earth\", station))\n",
    "\n",
    "# # Add arc-wise range biases as consider parameters\n",
    "# for link_end in link_ends:\n",
    "#     parameter_settings.append(estimation_setup.parameter.arcwise_absolute_observation_bias(\n",
    "#         observation.LinkDefinition(link_end), observation.n_way_range_type, tracking_arcs_start, observation.receiver))\n",
    "\n",
    "\n",
    "# # Define consider parameters (COMMENTED FOR NOW BECAUSE OF OBS BIAS PARTIAL ISSUE)\n",
    "# # Add arc-wise range biases as consider parameters\n",
    "# consider_parameters_settings = []\n",
    "# for link_end in link_ends:\n",
    "#     consider_parameters_settings.append(estimation_setup.parameter.arcwise_absolute_observation_bias(\n",
    "#         observation.LinkDefinition(link_end), observation.n_way_range_type, tracking_arcs_start, observation.receiver))\n",
    "\n",
    "# Create parameters to estimate object\n",
    "parameters_to_estimate = estimation_setup.create_parameter_set(parameter_settings, bodies, propagator_settings) #, consider_parameters_settings)\n",
    "estimation_setup.print_parameter_names(parameters_to_estimate)\n",
    "nb_parameters = len(parameters_to_estimate.parameter_vector)\n",
    "print(f'Total number of parameters to estimate: {nb_parameters}')"
   ]
  },
  {
   "cell_type": "markdown",
   "id": "0f5f9633-8d5e-40f3-9dec-e07e7fbdb70a",
   "metadata": {},
   "source": [
    "The Estimator object consolidates all relevant information required for the estimation of any system parameter: \n",
    "* the environment (bodies) \n",
    "* the parameter set (parameters_to_estimate) \n",
    "* observation models (observation_settings_list) \n",
    "* dynamical, numerical, and integrator setup (propagator_settings)\n",
    "\n",
    "Underneath its hood, upon creation, the estimator automatically takes care of setting up the relevant \n",
    "Observation Simulator and Variational Equations, which will subsequently be required \n",
    "for the simulation of observations and the estimation of parameters, respectively."
   ]
  },
  {
   "cell_type": "code",
   "execution_count": null,
   "id": "a63ce984-5bbd-4e3f-836c-fefc7e5cde8b",
   "metadata": {},
   "outputs": [],
   "source": [
    "# Create the estimator\n",
    "estimator = numerical_simulation.Estimator(bodies, parameters_to_estimate, observation_settings_list, propagator_settings)\n",
    "\n",
    "# Simulate all observations\n",
    "simulated_observations = estimation.simulate_observations(observation_simulation_settings, estimator.observation_simulators, bodies)"
   ]
  },
  {
   "cell_type": "markdown",
   "id": "e31a84bc-49ef-457e-b7a2-fd7ed8e96c52",
   "metadata": {},
   "source": [
    "As we have already mentioned above, we can make use of **a priori knowledge** given by previous studies and results in the literature, \n",
    "in order to **constrain our estimation**. This is done by incorporating the knowledge of an a priori covariance matrix. \n",
    "Here, we consider a priori constraints for `JUICE` position and velocity, \n",
    "as well as a priori constraints on Ganymede's gravitational parameter and spherical harmonics coefficients. \n",
    "Talking about the Spherical Harmonics coefficients, the Kaula constraints might be a conservative a priori choice.\n",
    "Nevertheless, literature results have provided better constraints for the degree $2$ $C$-coefficients, so we will overwrite\n",
    "Kaula's rule with the updated values for the coefficients $C_{2,0}$ and $C_{2,2}$. \n",
    "We will also set tight constraints on the remaining degree $2$ $C$ and $S$ coefficients. \n",
    "Finally, a priori knowledge for the value of the empirical acceleration acting on `JUICE` is set."
   ]
  },
  {
   "cell_type": "code",
   "execution_count": null,
   "id": "f8eac7be-66b2-4a9d-85fe-e35fc2681f3b",
   "metadata": {},
   "outputs": [],
   "source": [
    "# Define a priori covariance matrix\n",
    "inv_apriori = np.zeros((nb_parameters, nb_parameters))\n",
    "\n",
    "# Set a priori constraints for JUICE state(s)\n",
    "a_priori_position = 5.0e3 # initial a priori uncertainty on JUICE's position (m)\n",
    "a_priori_velocity = 0.5 # initial a priori uncertainty on JUICE's velocity (m/s)\n",
    "indices_states = parameters_to_estimate.indices_for_parameter_type((estimation_setup.parameter.arc_wise_initial_body_state_type, (\"JUICE\", \"\")))[0]\n",
    "for i in range(indices_states[1]//6): # for loop to create the inverse apriori covariance matrix (with 1/a_priori_position^2 and 1/a_priori_velocity^2) on the diagonal\n",
    "    for j in range(3):\n",
    "        inv_apriori[indices_states[0]+i*6+j, indices_states[0]+i*6+j] = a_priori_position**-2  # a priori position\n",
    "        inv_apriori[indices_states[0]+i*6+j+3, indices_states[0]+i*6+j+3] = a_priori_velocity**-2  # a priori velocity\n",
    "\n",
    "# Set a priori constraint for Ganymede's gravitational parameter\n",
    "a_priori_mu = 0.03e9\n",
    "indices_mu = parameters_to_estimate.indices_for_parameter_type((estimation_setup.parameter.gravitational_parameter_type, (\"Ganymede\", \"\")))[0]\n",
    "for i in range(indices_mu[1]):\n",
    "    inv_apriori[indices_mu[0]+i, indices_mu[0]+i] = a_priori_mu**-2\n",
    "\n",
    "# Set a priori constraint for Ganymede's gravity field coefficients\n",
    "# ERROR IN EXPOSE FUNCTION (RETURN SINE COEFFICIENTS INDICES), TEMPORARY FIX FOR NOW\n",
    "nb_cosine_coef = (max_deg_ganymede_gravity+1) * (max_deg_ganymede_gravity+2) // 2 - 3  # the minus 3 accounts for degrees 0 and 1 coefficients which are not estimated\n",
    "indices_cosine_coef = (nb_arcs*6+1, nb_cosine_coef)\n",
    "# indices_cosine_coef = parameters_to_estimate.indices_for_parameter_type((estimation_setup.parameter.spherical_harmonics_cosine_coefficient_block_type, (\"Ganymede\", \"\")))[0]\n",
    "indices_sine_coef = parameters_to_estimate.indices_for_parameter_type((estimation_setup.parameter.spherical_harmonics_sine_coefficient_block_type, (\"Ganymede\", \"\")))[0]\n",
    "\n",
    "# Apply Kaula's constraint to Ganymede's gravity field a priori\n",
    "kaula_constraint_multiplier = 1.0e-5\n",
    "apply_kaula_constraint_a_priori(kaula_constraint_multiplier, max_deg_ganymede_gravity, indices_cosine_coef, indices_sine_coef, inv_apriori)\n",
    "\n",
    "# Overwrite Kaula's rule with existing uncertainties for C20 and C22\n",
    "apriori_C20 = 2.9e-6\n",
    "apriori_C22 = 0.87e-6\n",
    "inv_apriori[indices_cosine_coef[0], indices_cosine_coef[0]] = apriori_C20**-2\n",
    "inv_apriori[indices_cosine_coef[0]+2, indices_cosine_coef[0]+2] = apriori_C22**-2\n",
    "\n",
    "# Set tight constraint for C21, S21, and S22\n",
    "inv_apriori[indices_cosine_coef[0]+1, indices_cosine_coef[0]+1] = 1.0e-12**-2\n",
    "inv_apriori[indices_sine_coef[0], indices_sine_coef[0]] = 1.0e-12**-2\n",
    "inv_apriori[indices_sine_coef[0]+1, indices_sine_coef[0]+1] = 1.0e-12**-2\n",
    "\n",
    "# Set a priori constraints for Ganymede's rotational rate\n",
    "# a_priori_rotation_rate =\n",
    "# indices_rotation_rate = parameters_to_estimate.indices_for_parameter_type((estimation_setup.parameter.constant_rotation_rate_type, (\"Ganymede\", \"\")))[0]\n",
    "# for i in range(indices_rotation_rate[0][1]):\n",
    "#     inv_apriori[indices_rotation_rate[0][0]+i, indices_rotation_rate[0][0]+i] = 1.0/a_priori_rotation_rate**2\n",
    "\n",
    "# # A priori rotation pole of Ganymede\n",
    "# a_priori_pole_ra = 4.0e-5\n",
    "# a_priori_pole_dec = 5.0e-5\n",
    "# indices_rotation_pole = parameters_to_estimate.indices_for_parameter_type((estimation_setup.parameter.rotation_pole_position_type, (\"Ganymede\", \"\")))[0]\n",
    "# for i in range(indices_rotation_pole[1]//2):\n",
    "#     inv_apriori[indices_rotation_pole[0]+i*2, indices_rotation_pole[0]+i*2] = a_priori_pole_ra**-2  # a priori RA\n",
    "#     inv_apriori[indices_rotation_pole[0]+i*2+1, indices_rotation_pole[0]+i*2+1] = a_priori_pole_dec **-2  # a priori DEC\n",
    "\n",
    "\n",
    "# Set a priori constraints for empirical accelerations acting on JUICE\n",
    "a_priori_emp_acc = 1.0e-7\n",
    "indices_emp_acc = parameters_to_estimate.indices_for_parameter_type((estimation_setup.parameter.arc_wise_empirical_acceleration_coefficients_type, (\"JUICE\", \"Ganymede\")))[0]\n",
    "for i in range(indices_emp_acc[1]):\n",
    "    inv_apriori[indices_emp_acc[0] + i, indices_emp_acc[0] + i] = a_priori_emp_acc ** -2\n",
    "\n",
    "# Set a priori constraints for ground station positions\n",
    "a_priori_station = 0.03\n",
    "for station in station_names:\n",
    "    indices_station_pos = parameters_to_estimate.indices_for_parameter_type((estimation_setup.parameter.ground_station_position_type, (\"Earth\", station)))[0]\n",
    "    for i in range(indices_station_pos[1]):\n",
    "        inv_apriori[indices_station_pos[0] + i, indices_station_pos[0] + i] = a_priori_station ** -2\n",
    "\n",
    "# Retrieve full vector of a priori constraints\n",
    "apriori_constraints = np.reciprocal(np.sqrt(np.diagonal(inv_apriori)))\n",
    "# print('A priori constraints')\n",
    "# print(apriori_constraints)\n",
    "\n",
    "# COMMENTED FOR NOW BECAUSE OF OBS BIAS PARTIAL ISSUE\n",
    "# # Define consider parameters covariance\n",
    "# nb_consider_parameters = nb_arcs*len(station_names)\n",
    "# consider_parameters_covariance = np.zeros((nb_consider_parameters, nb_consider_parameters))\n",
    "#\n",
    "# # Set consider covariance for range biases for all three ESTRACT stations\n",
    "# a_priori_biases = 2.0\n",
    "# for station in station_names:\n",
    "#     indices_biases = (0, nb_arcs*len(station_names))\n",
    "#     for i in range(indices_biases[1]):\n",
    "#         consider_parameters_covariance[indices_biases[0] + i, indices_biases[0] + i] = a_priori_biases ** 2"
   ]
  },
  {
   "cell_type": "markdown",
   "id": "c627806e-3060-4066-84ec-4029ab8788cf",
   "metadata": {},
   "source": [
    "Having defined the a priori constraints, the **input covariance** is created.\n",
    "We also want to define constant weights for both the doppler and range observables, \n",
    "given by their (simulated, expected) **standard deviations**. \n",
    "The **weights** are given by the **inverse of the variances**. \n",
    "\n",
    "We are all set to compute the covariance output, and perform a covariance analysis, which involves\n",
    "* checking for correlations between parameters\n",
    "* plotting the formal errors\n",
    "* checking the weighted design matrix "
   ]
  },
  {
   "cell_type": "code",
   "execution_count": null,
   "id": "4ab44982-9a77-432d-8bf2-4a67bca6769b",
   "metadata": {},
   "outputs": [],
   "source": [
    "# Define covariance input settings\n",
    "covariance_input = estimation.CovarianceAnalysisInput(simulated_observations, inv_apriori) #, consider_parameters_covariance)\n",
    "covariance_input.define_covariance_settings(reintegrate_variational_equations=False, save_design_matrix=True)\n",
    "\n",
    "# Apply weights to simulated observations\n",
    "doppler_noise = 12.0e-6\n",
    "range_noise = 0.2\n",
    "weights_per_observable = {observation.n_way_averaged_doppler_type: doppler_noise ** -2,\n",
    "                          observation.n_way_range_type: range_noise ** -2}\n",
    "covariance_input.set_constant_weight_per_observable(weights_per_observable)\n",
    "\n",
    "# Perform the covariance analysis\n",
    "covariance_output = estimator.compute_covariance(covariance_input)\n",
    "\n",
    "# Retrieve covariance results\n",
    "correlations = covariance_output.correlations\n",
    "covariance = covariance_output.covariance\n",
    "formal_errors = covariance_output.formal_errors\n",
    "partials = covariance_output.weighted_design_matrix\n",
    "\n",
    "# Print the formal errors\n",
    "print('Formal errors')\n",
    "print(covariance_output.formal_errors)\n",
    "\n",
    "# # COMMENTED FOR NOW NO CONSIDER PARAMETERS BECAUSE OF OBS BIAS PARTIAL ISSUE\n",
    "# # Retrieve results with consider parameters\n",
    "# consider_covariance_contribution = covariance_output.consider_covariance_contribution\n",
    "# covariance_with_consider_parameters = covariance_output.unnormalized_covariance_with_consider_parameters\n",
    "# formal_errors_with_consider_parameters = np.sqrt(np.diagonal(covariance_with_consider_parameters))\n",
    "# # Compute correlations with consider parameters\n",
    "# correlations_with_consider_parameters = covariance_with_consider_parameters\n",
    "# for i in range(nb_parameters):\n",
    "#     for j in range(nb_parameters):\n",
    "#         correlations_with_consider_parameters[i, j] /= (formal_errors_with_consider_parameters[i] * formal_errors_with_consider_parameters[j])\n",
    "\n",
    "# # Propagate formal errors (TO BE FIXED, NOT YET POSSIBLE FOR MULTI-ARC)\n",
    "# output_times = np.arange(start_gco, end_gco, 3600.0)\n",
    "# propagated_formal_errors = estimation.propagate_formal_errors_rsw_split_output(covariance_output, estimator, output_times)"
   ]
  },
  {
   "cell_type": "markdown",
   "id": "36e36632-424a-4883-a29e-5787dd6cc003",
   "metadata": {},
   "source": [
    "We are now ready to get the simulated results and draw some **cool plots**. \n",
    "Let's analyse results for the first propagation arc, and plot it. \n",
    "What we are seeing here is the trajectory of `JUICE` over this first arc."
   ]
  },
  {
   "cell_type": "code",
   "execution_count": null,
   "id": "9b49d954-12c0-453b-aeab-4cadf4b8c7b2",
   "metadata": {},
   "outputs": [],
   "source": [
    "# Get simulation results over first propagation arc\n",
    "simulation_results_first_arc = simulation_results[0]\n",
    "propagated_state_first_arc = result2array(simulation_results_first_arc.state_history)\n",
    "dependent_variables_first_arc = result2array(simulation_results_first_arc.dependent_variable_history)\n",
    "\n",
    "fig = plt.figure()\n",
    "# Plot trajectory of JUICE during first propagation arc\n",
    "ax1 = fig.add_subplot(121, projection='3d')\n",
    "ax1.plot(propagated_state_first_arc[:, 1]/1e3, propagated_state_first_arc[:, 2]/1e3, propagated_state_first_arc[:, 3]/1e3, color='blue')\n",
    "ax1.set_xlabel('x [km]')\n",
    "ax1.set_ylabel('y [km]')\n",
    "ax1.set_zlabel('z [km]')\n",
    "ax1.set_title('JUICE orbit wrt Ganymede over one day')\n",
    "ax1.grid()"
   ]
  },
  {
   "cell_type": "markdown",
   "id": "d0616574-b08a-482a-a4a3-8902125cb544",
   "metadata": {},
   "source": [
    "If you recall, we had also chosen to save the latitude and longitude of JUICE on Ganymede along the propagation, as dependent variables.\n",
    "We can now use that information to see the ground track of `JUICE` on Ganymede. In order to do this, we will use the `ganymede_map.jpg` file."
   ]
  },
  {
   "cell_type": "code",
   "execution_count": null,
   "id": "531e85b9-ca36-419b-90c2-7150ff60478c",
   "metadata": {},
   "outputs": [],
   "source": [
    "# Plot JUICE ground track during first propagation arc\n",
    "ax2 = fig.add_subplot(122)\n",
    "ganymede_map = '../propagation/ganymede_map.jpg'\n",
    "ax2.imshow(plt.imread(ganymede_map), extent = [0, 360, -90, 90])\n",
    "\n",
    "# Resolve 2pi ambiguity longitude\n",
    "for k in range(len(dependent_variables_first_arc)):\n",
    "    if dependent_variables_first_arc[k, 2] < 0:\n",
    "        dependent_variables_first_arc[k, 2] = dependent_variables_first_arc[k, 2] + 2.0 * np.pi\n",
    "ax2.plot(dependent_variables_first_arc[:, 2]*180/np.pi, dependent_variables_first_arc[:, 1]*180.0/np.pi, '.', markersize=2, color='blue')\n",
    "\n",
    "ax2.set_xlabel('Longitude [deg]')\n",
    "ax2.set_ylabel('Latitude [deg]')\n",
    "ax2.set_xticks(np.arange(0, 361, 40))\n",
    "ax2.set_yticks(np.arange(-90, 91, 30))\n",
    "ax2.set_title('JUICE ground track over one day')"
   ]
  },
  {
   "cell_type": "markdown",
   "id": "1b202bec-d141-494b-a837-789d20f0492c",
   "metadata": {},
   "source": [
    "We can also visualize the **weighted partials** values as a function of estimated parameter and observation."
   ]
  },
  {
   "cell_type": "code",
   "execution_count": null,
   "id": "87194a36-2ee8-491d-bb83-322047417158",
   "metadata": {},
   "outputs": [],
   "source": [
    "# Plot weighted partials\n",
    "plt.figure(figsize=(9, 6))\n",
    "plt.imshow(np.log10(np.abs(partials)), aspect='auto', interpolation='none')\n",
    "cb = plt.colorbar()\n",
    "cb.set_label('log10(weighted partials)')\n",
    "plt.title(\"Weighted partials\")\n",
    "plt.ylabel(\"Index - Observation\")\n",
    "plt.xlabel(\"Index - Estimated Parameter\")\n",
    "plt.tight_layout()\n",
    "\n",
    "# # Plot contribution of consider parameters to formal errors\n",
    "# plt.figure()\n",
    "# plt.plot(apriori_constraints, label='apriori constraints')\n",
    "# plt.plot(formal_errors, label='nominal errors')\n",
    "# plt.plot(formal_errors_with_consider_parameters, label='errors w/ consider parameters')\n",
    "# plt.grid()\n",
    "# plt.yscale(\"log\")\n",
    "# plt.ylabel('Formal errors')\n",
    "# plt.xlabel('Index parameter [-]')\n",
    "# plt.legend()\n",
    "# plt.title('Effect consider parameters')"
   ]
  },
  {
   "cell_type": "markdown",
   "id": "656e8c0b-3668-40a2-9902-893d84271356",
   "metadata": {},
   "source": [
    "Let's plot the **correlation values** between the estimated parameters, too."
   ]
  },
  {
   "cell_type": "code",
   "execution_count": null,
   "id": "1081cc49-d2fe-4f85-b67f-862d57fed839",
   "metadata": {},
   "outputs": [],
   "source": [
    "# Plot correlations (default)\n",
    "plt.figure(figsize=(9, 6))\n",
    "plt.imshow(np.abs(correlations), aspect='auto', interpolation='none')\n",
    "plt.colorbar()\n",
    "plt.title(\"Correlations\")\n",
    "plt.xlabel(\"Index - Estimated Parameter\")\n",
    "plt.ylabel(\"Index - Estimated Parameter\")\n",
    "plt.tight_layout()\n",
    "\n",
    "# # Plot correlations (incl. contribution of consider parameters)\n",
    "# plt.figure(figsize=(9, 6))\n",
    "# plt.imshow(np.abs(correlations_with_consider_parameters), aspect='auto', interpolation='none')\n",
    "# plt.colorbar()\n",
    "# plt.title(\"Correlations w/ consider parameters\")\n",
    "# plt.xlabel(\"Index - Estimated Parameter\")\n",
    "# plt.ylabel(\"Index - Estimated Parameter\")\n",
    "# plt.tight_layout()"
   ]
  },
  {
   "cell_type": "markdown",
   "id": "a2511eb5-08c6-4286-8f77-31650b6a7780",
   "metadata": {},
   "source": [
    "We can also plot the **doppler observations times** from the *Malargue* station, for the first arc."
   ]
  },
  {
   "cell_type": "code",
   "execution_count": null,
   "id": "c6d294c1-9a33-4307-afc9-049e5503cafc",
   "metadata": {},
   "outputs": [],
   "source": [
    "# Retrieve Doppler observation times for the first arc. For now only Malargue, but should eventually include all three ESTRACK stations\n",
    "sorted_observations = simulated_observations.sorted_observation_sets\n",
    "# doppler_obs_times_new_norcia_first_arc = [(t-start_gco)/3600.0 for t in sorted_observations[observation.n_way_averaged_doppler_type][0][0].observation_times if t <= start_gco+arc_duration]\n",
    "# doppler_obs_times_cebreros_first_arc = [(t-start_gco)/3600.0 for t in sorted_observations[observation.n_way_averaged_doppler_type][1][0].observation_times if t <= start_gco+arc_duration]\n",
    "doppler_obs_times_malargue_first_arc = [(t-start_gco)/3600.0 for t in sorted_observations[observation.n_way_averaged_doppler_type][0][0].observation_times if t <= start_gco+arc_duration]\n",
    "\n",
    "\n",
    "# Plot observation times (for now only for Malargue, but designed to eventually include all three ESTRACK stations)\n",
    "plt.figure()\n",
    "# plt.plot(doppler_obs_times_new_norcia_first_arc, np.ones((len(doppler_obs_times_new_norcia_first_arc),1 )))\n",
    "# plt.plot(doppler_obs_times_cebreros_first_arc, 2.0 * np.ones((len(doppler_obs_times_cebreros_first_arc),1 )))\n",
    "plt.plot(doppler_obs_times_malargue_first_arc, 3.0 * np.ones((len(doppler_obs_times_malargue_first_arc),1 )))\n",
    "plt.xlabel('Observation times [h]')\n",
    "plt.ylabel('')\n",
    "plt.yticks([1, 2, 3], ['New Norcia', 'Cebreros', 'Malargue'])\n",
    "plt.ylim([0.5, 3.5])\n",
    "plt.title('Viable observations over first arc')\n",
    "plt.grid()"
   ]
  },
  {
   "cell_type": "markdown",
   "id": "a84ced71-d01a-4397-8a4e-1ab45ebbcab3",
   "metadata": {},
   "source": [
    "Finally, we can plot the estimated **gravity field spectrum** and compare it to the (more conservative) Kaula's rule."
   ]
  },
  {
   "cell_type": "code",
   "execution_count": null,
   "id": "32b2f3b7-c1ed-4499-8e2d-de8ca3b60bf6",
   "metadata": {},
   "outputs": [],
   "source": [
    "# Plot gravity field spectrum (a priori + formal errors)\n",
    "# Extract a priori cosine and sine coefs\n",
    "apriori_cosine_coefs = np.reciprocal(np.sqrt(inv_apriori.diagonal()))[indices_cosine_coef[0]:indices_cosine_coef[0]+indices_cosine_coef[1]]\n",
    "apriori_sine_coefs = np.reciprocal(np.sqrt(inv_apriori.diagonal()))[indices_sine_coef[0]:indices_sine_coef[0]+indices_sine_coef[1]]\n",
    "\n",
    "# Extract formal errors for Ganymede's cosine and sine coefficients\n",
    "formal_errors_cosine_coefs = covariance_output.formal_errors[indices_cosine_coef[0]:indices_cosine_coef[0]+indices_cosine_coef[1]]\n",
    "formal_errors_sine_coefs = covariance_output.formal_errors[indices_sine_coef[0]:indices_sine_coef[0]+indices_sine_coef[1]]\n",
    "\n",
    "# Initialise empty vectors for gravity field coefficients' a priori constraints and errors\n",
    "apriori_cosine_per_deg = np.zeros(max_deg_ganymede_gravity-1)\n",
    "apriori_sine_per_deg = np.zeros(max_deg_ganymede_gravity-1)\n",
    "formal_errors_cosine_per_deg = np.zeros(max_deg_ganymede_gravity-1)\n",
    "formal_errors_sine_per_deg = np.zeros(max_deg_ganymede_gravity-1)\n",
    "\n",
    "# Compute rms of a priori constraints and formal errors for gravity field coefficients\n",
    "start_index_cosine_deg = 0\n",
    "start_index_sine_deg = 0\n",
    "for deg in range(2, max_deg_ganymede_gravity+1):\n",
    "\n",
    "    # Cosine coefficients\n",
    "    rms_apriori = 0\n",
    "    rms_error = 0\n",
    "    for j in range(deg+1):\n",
    "        rms_apriori += getKaulaConstraint(kaula_constraint_multiplier, deg)**2\n",
    "        rms_error += formal_errors_cosine_coefs[start_index_cosine_deg+j]**2\n",
    "    start_index_cosine_deg += deg+1\n",
    "\n",
    "    apriori_cosine_per_deg[deg-2] = np.sqrt(rms_apriori/(deg+1))\n",
    "    formal_errors_cosine_per_deg[deg-2] = np.sqrt(rms_error/(deg+1))\n",
    "\n",
    "    # Sine coefficients\n",
    "    rms_apriori = 0\n",
    "    rms_error = 0\n",
    "    for j in range(deg):\n",
    "        rms_apriori += getKaulaConstraint(kaula_constraint_multiplier, deg)\n",
    "        rms_error += formal_errors_sine_coefs[start_index_sine_deg+j]**2\n",
    "    start_index_sine_deg += deg\n",
    "\n",
    "    apriori_sine_per_deg[deg-2] = np.sqrt(rms_apriori/deg)\n",
    "    formal_errors_sine_per_deg[deg-2] = np.sqrt(rms_error/deg)\n",
    "\n",
    "\n",
    "# Plot Ganymede's gravity spectrum\n",
    "plt.figure()\n",
    "plt.plot(apriori_cosine_per_deg, label='Kaula constraint')\n",
    "plt.plot(formal_errors_cosine_per_deg, label='Estimated')\n",
    "plt.grid()\n",
    "plt.yscale(\"log\")\n",
    "plt.ylabel('RMS gravity coefficients')\n",
    "plt.xlabel('Degree')\n",
    "plt.xticks(np.arange(0, max_deg_ganymede_gravity-1, 1), np.arange(2, max_deg_ganymede_gravity+1, 1))\n",
    "plt.title('Gravity spectrum Ganymede')\n",
    "plt.legend()\n",
    "\n",
    "# Show all plots\n",
    "plt.show()"
   ]
  },
  {
   "cell_type": "code",
   "execution_count": null,
   "id": "a71198f1-9d38-4af6-a105-b6cbdb8e7c4d",
   "metadata": {},
   "outputs": [],
   "source": []
  }
 ],
 "metadata": {
  "kernelspec": {
   "display_name": "tudat-bundle",
   "language": "python",
   "name": "tudat-bundle"
  },
  "language_info": {
   "codemirror_mode": {
    "name": "ipython",
    "version": 3
   },
   "file_extension": ".py",
   "mimetype": "text/x-python",
   "name": "python",
   "nbconvert_exporter": "python",
   "pygments_lexer": "ipython3",
   "version": "3.11.9"
  }
 },
 "nbformat": 4,
 "nbformat_minor": 5
}
