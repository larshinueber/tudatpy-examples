{
 "cells": [
  {
   "cell_type": "code",
   "execution_count": 15,
   "id": "3845bba2-fcf9-41f2-abd5-8ed34c2ac09a",
   "metadata": {},
   "outputs": [
    {
     "name": "stdout",
     "output_type": "stream",
     "text": [
      "^lrosv_[0-9]+_[0-9]+\\.bc$\n"
     ]
    }
   ],
   "source": [
    "import re\n",
    "\n",
    "def create_pattern(filename):\n",
    "    # Escape any special characters in the filename\n",
    "    escaped = re.escape(filename)\n",
    "\n",
    "    # Replace specific dynamic sections with regex patterns\n",
    "    # Replace sequences of digits with a numeric pattern\n",
    "    pattern = re.sub(r'\\d+', r'[0-9]+', escaped)\n",
    "\n",
    "    # Replace fixed-length sequences of lowercase letters (e.g., \"sc\", \"hg\") with a general pattern\n",
    "    pattern = re.sub(r'[a-z]{d+}', r'[a-z]{d+}', pattern, count=1)\n",
    "\n",
    "    return f\"^{pattern}$\"\n",
    "\n",
    "# Example usage\n",
    "filename = \"lrosv_2009182_2009192.bc\"\n",
    "pattern = create_pattern(filename)\n",
    "print(pattern)"
   ]
  },
  {
   "cell_type": "code",
   "execution_count": 10,
   "id": "77a83e44-8d99-4bb1-86f0-459da030301c",
   "metadata": {},
   "outputs": [
    {
     "name": "stdout",
     "output_type": "stream",
     "text": [
      "<re.Match object; span=(0, 24), match='mrosa_2009182_2009192.bc'>\n"
     ]
    }
   ],
   "source": [
    "print(re.match(pattern, filename))\n"
   ]
  },
  {
   "cell_type": "code",
   "execution_count": null,
   "id": "4e3ca340-742e-46ce-b722-5e66ca45befb",
   "metadata": {},
   "outputs": [],
   "source": []
  }
 ],
 "metadata": {
  "kernelspec": {
   "display_name": "tudat-bundle_2",
   "language": "python",
   "name": "tudat-bundle_2"
  },
  "language_info": {
   "codemirror_mode": {
    "name": "ipython",
    "version": 3
   },
   "file_extension": ".py",
   "mimetype": "text/x-python",
   "name": "python",
   "nbconvert_exporter": "python",
   "pygments_lexer": "ipython3",
   "version": "3.11.10"
  }
 },
 "nbformat": 4,
 "nbformat_minor": 5
}
