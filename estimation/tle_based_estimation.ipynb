{
 "cells": [
  {
   "cell_type": "markdown",
   "source": [
    "# Galilean Satellites - Initial State Estimation\n",
    "Copyright (c) 2010-2022, Delft University of Technology. All rights reserved. This file is part of the Tudat. Redistribution and use in source and binary forms, with or without modification, are permitted exclusively under the terms of the Modified BSD license. You should have received a copy of the license with this file. If not, please or visit: http://tudat.tudelft.nl/LICENSE.\n",
    "\n",
    "## Context"
   ],
   "metadata": {
    "collapsed": false
   }
  },
  {
   "cell_type": "markdown",
   "source": [
    "## Import Statements\n",
    "Typically - in the most pythonic way - all required modules are imported at the very beginning.\n",
    "\n",
    "Some standard modules are first loaded: `numpy` and `matplotlib.pyplot`. Within this example, while no particular new functionality of `tudatpy` will be introduced, we will nevertheless explore the already known parts of the `estimation` module in more depth and how it can be applied to intricate problems."
   ],
   "metadata": {
    "collapsed": false
   }
  },
  {
   "cell_type": "code",
   "execution_count": 6,
   "outputs": [],
   "source": [
    "# General imports\n",
    "import os\n",
    "import math\n",
    "import numpy as np\n",
    "from matplotlib import pyplot as plt\n",
    "import matplotlib.dates as mdates\n",
    "\n",
    "# tudatpy imports\n",
    "from tudatpy.kernel import constants\n",
    "from tudatpy.kernel.interface import spice\n",
    "from tudatpy.kernel import numerical_simulation\n",
    "from tudatpy.kernel.astro import time_conversion, element_conversion\n",
    "from tudatpy.kernel.numerical_simulation import environment_setup\n",
    "from tudatpy.kernel.numerical_simulation import propagation_setup\n",
    "from tudatpy.kernel.numerical_simulation import estimation, estimation_setup\n",
    "\n",
    "# Problem-specific imports\n",
    "import galilean_moons_state_estimation_util as Util"
   ],
   "metadata": {
    "collapsed": false
   }
  },
  {
   "cell_type": "code",
   "execution_count": 14,
   "outputs": [
    {
     "ename": "TypeError",
     "evalue": "get_cartesian_state_from_tle_at_epoch(): incompatible function arguments. The following argument types are supported:\n    1. (epoch: float, tle: tudat::ephemerides::Tle) -> numpy.ndarray[numpy.float64[6, 1]]\n\nInvoked with: 63855112523, <_io.TextIOWrapper name='/Users/kai/Documents/tu_delft/tudat/tudatpy-examples/estimation/TLEs/25544_epoch_63855112523.dat' mode='r' encoding='UTF-8'>",
     "output_type": "error",
     "traceback": [
      "\u001B[0;31m---------------------------------------------------------------------------\u001B[0m",
      "\u001B[0;31mTypeError\u001B[0m                                 Traceback (most recent call last)",
      "Cell \u001B[0;32mIn[14], line 16\u001B[0m\n\u001B[1;32m     12\u001B[0m     epoch_year \u001B[38;5;241m=\u001B[39m \u001B[38;5;241m2000\u001B[39m \u001B[38;5;241m+\u001B[39m tle_year\n\u001B[1;32m     14\u001B[0m tle_epoch \u001B[38;5;241m=\u001B[39m \u001B[38;5;28mint\u001B[39m(epoch_year \u001B[38;5;241m*\u001B[39m constants\u001B[38;5;241m.\u001B[39mJULIAN_YEAR \u001B[38;5;241m+\u001B[39m tle_day_of_year \u001B[38;5;241m*\u001B[39m constants\u001B[38;5;241m.\u001B[39mJULIAN_DAY)\n\u001B[0;32m---> 16\u001B[0m foo \u001B[38;5;241m=\u001B[39m \u001B[43mspice\u001B[49m\u001B[38;5;241;43m.\u001B[39;49m\u001B[43mget_cartesian_state_from_tle_at_epoch\u001B[49m\u001B[43m(\u001B[49m\u001B[43mtle_epoch\u001B[49m\u001B[43m,\u001B[49m\u001B[43m \u001B[49m\u001B[43mf\u001B[49m\u001B[43m)\u001B[49m\n\u001B[1;32m     17\u001B[0m \u001B[38;5;28mprint\u001B[39m(foo)\n",
      "\u001B[0;31mTypeError\u001B[0m: get_cartesian_state_from_tle_at_epoch(): incompatible function arguments. The following argument types are supported:\n    1. (epoch: float, tle: tudat::ephemerides::Tle) -> numpy.ndarray[numpy.float64[6, 1]]\n\nInvoked with: 63855112523, <_io.TextIOWrapper name='/Users/kai/Documents/tu_delft/tudat/tudatpy-examples/estimation/TLEs/25544_epoch_63855112523.dat' mode='r' encoding='UTF-8'>"
     ]
    }
   ],
   "source": [
    "for filename in os.listdir(os.path.join(os.getcwd(), 'TLEs')):\n",
    "    with open(os.path.join(os.getcwd(), 'TLEs', filename), 'r') as f:\n",
    "\n",
    "        lines = f.read().splitlines()\n",
    "\n",
    "        #Calculate epoch of TLE\n",
    "        tle_year = float(lines[0][18:20])\n",
    "        tle_day_of_year = float(lines[0][20:32])\n",
    "        if tle_year >= 60.0:\n",
    "            epoch_year = 1900 + tle_year\n",
    "        else:\n",
    "            epoch_year = 2000 + tle_year\n",
    "\n",
    "        tle_epoch = int(epoch_year * constants.JULIAN_YEAR + tle_day_of_year * constants.JULIAN_DAY)\n",
    "\n",
    "        foo = spice.get_cartesian_state_from_tle_at_epoch(tle_epoch, f)\n",
    "        print(foo)"
   ],
   "metadata": {
    "collapsed": false
   }
  },
  {
   "cell_type": "code",
   "execution_count": null,
   "outputs": [],
   "source": [
    "# Create default body settings for selected celestial bodies\n",
    "bodies_to_create = ['Sun', 'Earth', 'Moon', 'Mars', 'Venus', 'Jupiter']\n",
    "\n",
    "# Create default body settings for bodies_to_create\n",
    "global_frame_origin = 'Earth'\n",
    "global_frame_orientation = 'ECLIPJ2000'\n",
    "body_settings = environment_setup.get_default_body_settings(\n",
    "    bodies_to_create, global_frame_origin, global_frame_orientation)\n",
    "\n",
    "### EARTH ENVIRONMENT MODELS ###\n",
    "# Atmosphere\n",
    "body_settings.get('Earth').atmosphere_settings = environment_setup.atmosphere.nrlmsise00()\n",
    "# Rotation\n",
    "body_settings.get('Earth').rotation_model_settings = environment_setup.rotation_model.gcrs_to_itrs(\n",
    "    precession_nutation_theory=environment_setup.rotation_model.IAUConventions.iau_2006, base_frame='ECLIPJ2000')\n",
    "# Gravity-field reference frame\n",
    "body_settings.get('Earth').gravity_field_settings.associated_reference_frame = 'ITRS'\n",
    "# Shape\n",
    "body_settings.get('Earth').shape_settings = environment_setup.shape.oblate_spherical(6378137.0, 1.0 / 298.257223563)\n",
    "\n",
    "# Create system of selected bodies\n",
    "bodies = environment_setup.create_system_of_bodies(body_settings)\n",
    "\n",
    "### ACCELERATION SETTINGS ###\n",
    "# Define bodies that are propagated, and their central bodies of propagation\n",
    "bodies_to_propagate = ['sc_name']\n",
    "central_bodies = ['Earth']\n",
    "\n",
    "accelerations_settings_on_sc = dict(\n",
    "    Sun=[\n",
    "        propagation_setup.acceleration.cannonball_radiation_pressure(),\n",
    "        propagation_setup.acceleration.point_mass_gravity()\n",
    "    ],\n",
    "    Earth=[\n",
    "        propagation_setup.acceleration.spherical_harmonic_gravity(32, 32),\n",
    "        propagation_setup.acceleration.aerodynamic()\n",
    "    ],\n",
    "    Moon=[\n",
    "        propagation_setup.acceleration.point_mass_gravity()\n",
    "    ],\n",
    "    Mars=[\n",
    "        propagation_setup.acceleration.point_mass_gravity()\n",
    "    ],\n",
    "    Venus=[\n",
    "        propagation_setup.acceleration.point_mass_gravity()\n",
    "    ],\n",
    "    Jupiter=[\n",
    "        propagation_setup.acceleration.point_mass_gravity()\n",
    "    ]\n",
    ")\n",
    "\n",
    "# Create acceleration models\n",
    "acceleration_models = propagation_setup.create_acceleration_models(\n",
    "    bodies, acceleration_settings_on_sc, bodies_to_propagate, central_bodies)\n",
    "\n",
    "# Define initial state\n",
    "initial_states = list()\n",
    "for body in bodies_to_propagate:\n",
    "    initial_states.append(spice.get_body_cartesian_state_at_epoch(\n",
    "        target_body_name=body,\n",
    "        observer_body_name='Jupiter',\n",
    "        reference_frame_name='ECLIPJ2000',\n",
    "        aberration_corrections='none',\n",
    "        ephemeris_time=simulation_start_epoch))\n",
    "initial_states = np.concatenate(initial_states)\n",
    "\n",
    "### INTEGRATOR SETTINGS ###\n",
    "# Use fixed step-size integrator (RK4) with fixed time-step of 10 seconds\n",
    "# Create integrator settings\n",
    "time_step_sec = 10.0\n",
    "integrator_settings = propagation_setup.integrator. \\\n",
    "    runge_kutta_fixed_step_size(initial_time_step=time_step_sec,\n",
    "                                coefficient_set=propagation_setup.integrator.CoefficientSets.rk4)\n",
    "\n",
    "### TERMINATION SETTINGS ###\n",
    "termination_condition = propagation_setup.propagator.time_termination(simulation_end_epoch)\n",
    "\n",
    "### PROPAGATOR SETTINGS ###\n",
    "propagator_settings = propagation_setup.propagator. \\\n",
    "    translational(central_bodies=central_bodies,\n",
    "                  acceleration_models=acceleration_models,\n",
    "                  bodies_to_integrate=bodies_to_propagate,\n",
    "                  initial_states=initial_states,\n",
    "                  initial_time=simulation_start_epoch,\n",
    "                  integrator_settings=integrator_settings,\n",
    "                  termination_settings=termination_condition,\n",
    "                  output_variables=dependent_variables_to_save)"
   ],
   "metadata": {
    "collapsed": false
   }
  },
  {
   "cell_type": "code",
   "execution_count": null,
   "outputs": [],
   "source": [
    "\n",
    "\n",
    "\n",
    "\n",
    "link_ends_io = dict()\n",
    "link_ends_io[estimation_setup.observation.observed_body] = estimation_setup.observation.\\\n",
    "    body_origin_link_end_id('Io')\n",
    "link_definition_io = estimation_setup.observation.LinkDefinition(link_ends_io)\n",
    "\n",
    "position_observation_settings = [estimation_setup.observation.cartesian_position(link_definition_io)]\n",
    "\n",
    "parameters_to_estimate_settings = estimation_setup.parameter.initial_states(propagator_settings, bodies)\n",
    "parameters_to_estimate = estimation_setup.create_parameter_set(parameters_to_estimate_settings, bodies)\n",
    "original_parameter_vector = parameters_to_estimate.parameter_vector\n",
    "\n",
    "print('Running propagation...')\n",
    "estimator = numerical_simulation.Estimator(bodies, parameters_to_estimate,\n",
    "                                           position_observation_settings, propagator_settings)"
   ],
   "metadata": {
    "collapsed": false
   }
  },
  {
   "cell_type": "code",
   "execution_count": null,
   "outputs": [],
   "source": [],
   "metadata": {
    "collapsed": false
   }
  }
 ],
 "metadata": {
  "kernelspec": {
   "display_name": "Python 3 (ipykernel)",
   "language": "python",
   "name": "python3"
  },
  "language_info": {
   "codemirror_mode": {
    "name": "ipython",
    "version": 3
   },
   "file_extension": ".py",
   "mimetype": "text/x-python",
   "name": "python",
   "nbconvert_exporter": "python",
   "pygments_lexer": "ipython3",
   "version": "3.10.10"
  }
 },
 "nbformat": 4,
 "nbformat_minor": 1
}
