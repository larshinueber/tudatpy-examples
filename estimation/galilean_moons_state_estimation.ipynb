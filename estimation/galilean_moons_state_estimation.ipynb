{
 "cells": [
  {
   "cell_type": "markdown",
   "metadata": {},
   "source": [
    "# Initial State Estimation Using NOE-5 Ephemeris\n",
    "Copyright (c) 2010-2022, Delft University of Technology. All rights reserved. This file is part of the Tudat. Redistribution and use in source and binary forms, with or without modification, are permitted exclusively under the terms of the Modified BSD license. You should have received a copy of the license with this file. If not, please or visit: http://tudat.tudelft.nl/LICENSE.\n",
    "\n",
    "## Objectives\n",
    "This example illustrates how to optimize the **initial conditions** of a fixed dynamical model to **better match the available ephemeris of a celestial body**, using them as **\"artificial\" observations**. By adjusting the initial state, the goal is to minimize the discrepancy between the model’s predicted orbit and the ephemeris provided orbit over time. \n",
    "\n",
    "We will showcase how we can **enhance the accuracy of predicted orbits of the Galilean moons** based on the most current ephemerides (**NOE-5**) published by [Institut de mécanique céleste et de calcul des éphémérides](https://www.imcce.fr/institut/presentation/) (IMCEE).\n",
    "\n",
    "In particular, we will:\n",
    "\n",
    "1) **simulate observations** based on the ephemerides of the Galilean moons;\n",
    "2) **estimate an improved initial state** for all four moons, such that\n",
    "   the propagated orbit **minimizes the observations (ephemeris) residuals**\n",
    "4) inspecting the (correct) representation and stability of the **Laplace resonance** between the inner three moons (Io, Europa, and Ganymede)."
   ]
  },
  {
   "cell_type": "markdown",
   "metadata": {},
   "source": [
    "## Import Statements\n",
    "Typically - in the most pythonic way - all required modules are imported at the very beginning.\n",
    "\n",
    "Some standard modules are first loaded: `numpy` and `matplotlib.pyplot`. Within this example, while no particular new functionality of `tudatpy` will be introduced, we will nevertheless explore the already known parts of the `estimation` module in more depth and how it can be applied to **intricate problems**."
   ]
  },
  {
   "cell_type": "code",
   "execution_count": 1,
   "metadata": {},
   "outputs": [],
   "source": [
    "# General imports\n",
    "import math\n",
    "import numpy as np\n",
    "from matplotlib import pyplot as plt\n",
    "import matplotlib.dates as mdates\n",
    "\n",
    "# tudatpy imports\n",
    "from tudatpy import util\n",
    "from tudatpy import constants\n",
    "from tudatpy.interface import spice\n",
    "from tudatpy import numerical_simulation\n",
    "from tudatpy.astro import time_conversion, element_conversion\n",
    "from tudatpy.numerical_simulation import environment_setup\n",
    "from tudatpy.numerical_simulation import propagation_setup\n",
    "from tudatpy.numerical_simulation import estimation, estimation_setup\n",
    "from tudatpy.astro.time_conversion import DateTime"
   ]
  },
  {
   "cell_type": "markdown",
   "metadata": {},
   "source": [
    "## Orbital Simulation\n",
    "Entirely independent of the upcoming estimation-process, we first have to:\n",
    "* define the **general settings of the simulation**\n",
    "* create the **environment**\n",
    "* define all relevant **propagation settings**\n",
    "\n",
    "### Simulation Settings\n",
    "Besides importing tudat's standard kernels - which handily already include a version of the **NOE-5 ephemeris**, for more details see also [here](https://py.api.tudat.space/en/latest/spice.html#tudatpy.interface.spice.load_standard_kernels) - in terms of time-wise settings we have (arbitrarily) chosen to make use of the nominal duration of ESA's JUICE mission as scope of our simulation. Nonetheless, note that any other reasonably long time-span would have been equally sufficient."
   ]
  },
  {
   "cell_type": "code",
   "execution_count": 2,
   "metadata": {},
   "outputs": [],
   "source": [
    "# Load spice kernels\n",
    "spice.load_standard_kernels()\n",
    "\n",
    "# Define temporal scope of the simulation - equal to the time JUICE will spend in orbit around Jupiter\n",
    "simulation_start_epoch = DateTime(2031, 7,  2).epoch()\n",
    "simulation_end_epoch   = DateTime(2035, 4, 20).epoch()"
   ]
  },
  {
   "cell_type": "markdown",
   "metadata": {},
   "source": [
    "### Create the Environment\n",
    "For the problem at hand, the **environment** consists of the Jovian system with its four largest moons - Io, Europa, Ganymede, and Callisto - as well as Saturn and the Sun which will be relevant when creating some **perturbing accelerations** afterwards. \n",
    "\n",
    "While slightly altering the standard settings of the moons, such that their rotation around their own main axis resembles a synchronous rotation, we will also apply a tabulated ephemeris based on every current (standard) ephemeris to the moons' settings. While, at first glance, this does not add any value to the simulation, this step is crucial in order to later be able to simulate the moons states purely based on their ephemerides without having to propagate their states."
   ]
  },
  {
   "cell_type": "code",
   "execution_count": 3,
   "metadata": {},
   "outputs": [],
   "source": [
    "# Create default body settings for selected celestial bodies\n",
    "jovian_moons_to_create = ['Io', 'Europa', 'Ganymede', 'Callisto']\n",
    "planets_to_create = ['Jupiter', 'Saturn']\n",
    "stars_to_create = ['Sun']\n",
    "bodies_to_create = np.concatenate((jovian_moons_to_create, planets_to_create, stars_to_create))\n",
    "\n",
    "# Create default body settings for bodies_to_create, with 'Jupiter'/'J2000'\n",
    "# as global frame origin and orientation.\n",
    "global_frame_origin = 'Jupiter'\n",
    "global_frame_orientation = 'ECLIPJ2000'\n",
    "body_settings = environment_setup.get_default_body_settings(\n",
    "    bodies_to_create, global_frame_origin, global_frame_orientation)\n",
    "\n",
    "### Ephemeris Settings Moons ###\n",
    "for moon in jovian_moons_to_create:\n",
    "    # Apply tabulated ephemeris settings\n",
    "    body_settings.get(moon).ephemeris_settings = environment_setup.ephemeris.tabulated_from_existing(\n",
    "    body_settings.get(moon).ephemeris_settings,\n",
    "    simulation_start_epoch,\n",
    "    simulation_end_epoch,\n",
    "    time_step=5.0 * 60.0)\n",
    "\n",
    "### Rotational Models ###\n",
    "# Define overall parameters describing the synchronous rotation model\n",
    "central_body_name = \"Jupiter\"\n",
    "original_frame = \"ECLIPJ2000\"\n",
    "target_frames = ['IAU_Io', 'IAU_Europa', 'IAU_Ganymede', 'IAU_Callisto']\n",
    "# Define satellite specific parameters and change rotation model settings\n",
    "for moon_idx, moon in enumerate(jovian_moons_to_create):\n",
    "    body_settings.get(moon).rotation_model_settings = environment_setup.rotation_model.synchronous(\n",
    "        central_body_name, original_frame, target_frames[moon_idx])\n",
    "\n",
    "# Create system of selected bodies\n",
    "bodies = environment_setup.create_system_of_bodies(body_settings)"
   ]
  },
  {
   "cell_type": "markdown",
   "metadata": {},
   "source": [
    "### Create Propagator Settings\n",
    "Trivially, in order to **estimate 'better' initial states** for the Galilean moons (as for to the objectives discussed above), we have to include all four of them in our propagation. Acceleration-wise, they are moreover modelled in the same fashion: \n",
    "\n",
    "* mutual spherical harmonic acceleration due to Jupiter,\n",
    "* tidal dissipation on both the moons and the primary,\n",
    "* mutual spherical harmonic acceleration due to the remaining three moons,\n",
    "* and point mass gravity attraction by both Saturn and the Sun.\n",
    "\n",
    "The **initial states** of the moons are taken from the **NOE-5 ephemeris** and will later also serve as **a-priori information and input to the estimator**. We will use a **Dormand-Prince 8th order integrator (RKDP8)** with a fixed step-size of **30 minutes**. Note that, while this example saves the Kepler elements of all four moons as dependent variables, this is not strictly necessary for the estimation, but purely serves as means of **better post-processing visualization** of the results."
   ]
  },
  {
   "cell_type": "code",
   "execution_count": 4,
   "metadata": {},
   "outputs": [],
   "source": [
    "# Define bodies that are propagated, and their central bodies of propagation\n",
    "bodies_to_propagate = ['Io', 'Europa', 'Ganymede', 'Callisto']\n",
    "central_bodies = ['Jupiter', 'Jupiter', 'Jupiter', 'Jupiter']\n",
    "\n",
    "### Acceleration Settings ###\n",
    "# Dirkx et al. (2016) - restricted to second degree\n",
    "love_number_moons = 0.3\n",
    "dissipation_parameter_moons = 0.015\n",
    "q_moons = love_number_moons / dissipation_parameter_moons\n",
    "# Lari (2018)\n",
    "mean_motion_io = 203.49 * (math.pi / 180) * 1 / constants.JULIAN_DAY\n",
    "mean_motion_europa = 101.37 * (math.pi / 180) * 1 / constants.JULIAN_DAY\n",
    "mean_motion_ganymede = 50.32 * (math.pi / 180) * 1 / constants.JULIAN_DAY\n",
    "mean_motion_callisto = 21.57 * (math.pi / 180) * 1 / constants.JULIAN_DAY\n",
    "\n",
    "# Dirkx et al. (2016) - restricted to second degree\n",
    "love_number_jupiter = 0.38\n",
    "dissipation_parameter_jupiter= 1.1E-5\n",
    "q_jupiter = love_number_jupiter / dissipation_parameter_jupiter\n",
    "\n",
    "# Lainey et al. (2009)\n",
    "tidal_frequency_io = 23.3 # rad.day-1\n",
    "spin_frequency_jupiter = math.pi/tidal_frequency_io + mean_motion_io\n",
    "\n",
    "# Calculate all required time lags associated with the individual tides\n",
    "time_lag_io = 1 / mean_motion_io * np.arctan(1 / q_moons)\n",
    "time_lag_jupiter_io = 1/(spin_frequency_jupiter - mean_motion_io) * np.arctan(1 / q_jupiter)\n",
    "time_lag_europa = 1 / mean_motion_europa * np.arctan(1 / q_moons)\n",
    "time_lag_jupiter_europa = 1 / (spin_frequency_jupiter - mean_motion_europa) * np.arctan(1 / q_jupiter)\n",
    "time_lag_ganymede = 1 / mean_motion_ganymede * np.arctan(1 / q_moons)\n",
    "time_lag_jupiter_ganymede = 1 / (spin_frequency_jupiter - mean_motion_ganymede) * np.arctan(1 / q_jupiter)\n",
    "time_lag_callisto = 1 / mean_motion_callisto * np.arctan(1 / q_moons)\n",
    "time_lag_jupiter_callisto = 1 / (spin_frequency_jupiter - mean_motion_callisto) * np.arctan(1 / q_jupiter)\n",
    "\n",
    "time_lag_dict = {'Io': (time_lag_io, time_lag_jupiter_io),\n",
    "                 'Europa': (time_lag_europa, time_lag_jupiter_europa),\n",
    "                 'Ganymede': (time_lag_ganymede, time_lag_jupiter_ganymede),\n",
    "                 'Callisto': (time_lag_callisto, time_lag_jupiter_callisto)}\n",
    "\n",
    "acceleration_settings_moons = dict()\n",
    "\n",
    "for idx, moon in enumerate(bodies_to_propagate):\n",
    "    other_moons = np.delete(np.array(bodies_to_propagate), idx)\n",
    "    acceleration_settings_moon = {\n",
    "        'Jupiter': [propagation_setup.acceleration.mutual_spherical_harmonic_gravity(8, 0, 2, 2),\n",
    "                 propagation_setup.acceleration.direct_tidal_dissipation_acceleration(love_number_moons,\n",
    "                                                                                      time_lag_dict[moon][0],\n",
    "                                                                                      True, False),\n",
    "                 propagation_setup.acceleration.direct_tidal_dissipation_acceleration(love_number_jupiter,\n",
    "                                                                                      time_lag_dict[moon][1],\n",
    "                                                                                      True, True)],\n",
    "        other_moons[0]: [propagation_setup.acceleration.mutual_spherical_harmonic_gravity(2, 2, 2, 2)],\n",
    "        other_moons[1]: [propagation_setup.acceleration.mutual_spherical_harmonic_gravity(2, 2, 2, 2)],\n",
    "        other_moons[2]: [propagation_setup.acceleration.mutual_spherical_harmonic_gravity(2, 2, 2, 2)],\n",
    "        'Sun': [propagation_setup.acceleration.point_mass_gravity()],\n",
    "        'Saturn': [propagation_setup.acceleration.point_mass_gravity()]\n",
    "    }\n",
    "    acceleration_settings_moons[moon] = acceleration_settings_moon\n",
    "\n",
    "acceleration_settings = acceleration_settings_moons\n",
    "# Create acceleration models\n",
    "acceleration_models = propagation_setup.create_acceleration_models(\n",
    "    bodies, acceleration_settings, bodies_to_propagate, central_bodies)\n",
    "\n",
    "# Define initial state\n",
    "initial_states = list()\n",
    "for body in bodies_to_propagate:\n",
    "    initial_states.append(spice.get_body_cartesian_state_at_epoch(\n",
    "        target_body_name=body,\n",
    "        observer_body_name='Jupiter',\n",
    "        reference_frame_name='ECLIPJ2000',\n",
    "        aberration_corrections='none',\n",
    "        ephemeris_time=simulation_start_epoch))\n",
    "initial_states = np.concatenate(initial_states)\n",
    "\n",
    "### Integrator Settings ###\n",
    "# Use fixed step-size integrator (RKDP8) with fixed time-step of 30 minutes\n",
    "# Create integrator settings\n",
    "time_step_sec = 30.0 * 60.0\n",
    "integrator_settings = propagation_setup.integrator. \\\n",
    "    runge_kutta_fixed_step_size(initial_time_step=time_step_sec,\n",
    "                                coefficient_set=propagation_setup.integrator.CoefficientSets.rkdp_87)\n",
    "\n",
    "### Termination Settings ###\n",
    "termination_condition = propagation_setup.propagator.time_termination(simulation_end_epoch)\n",
    "\n",
    "# Define Keplerian elements of the Galilean moons as dependent variables\n",
    "dependent_variables_to_save = [propagation_setup.dependent_variable.keplerian_state('Io', 'Jupiter'),\n",
    "                               propagation_setup.dependent_variable.keplerian_state('Europa', 'Jupiter'),\n",
    "                               propagation_setup.dependent_variable.keplerian_state('Ganymede', 'Jupiter'),\n",
    "                               propagation_setup.dependent_variable.keplerian_state('Callisto', 'Jupiter')]\n",
    "\n",
    "### Propagator Settings ###\n",
    "propagator_settings = propagation_setup.propagator. \\\n",
    "    translational(central_bodies=central_bodies,\n",
    "                  acceleration_models=acceleration_models,\n",
    "                  bodies_to_integrate=bodies_to_propagate,\n",
    "                  initial_states=initial_states,\n",
    "                  initial_time=simulation_start_epoch,\n",
    "                  integrator_settings=integrator_settings,\n",
    "                  termination_settings=termination_condition,\n",
    "                  output_variables=dependent_variables_to_save)"
   ]
  },
  {
   "cell_type": "markdown",
   "metadata": {},
   "source": [
    "## Orbital Estimation\n",
    "Having defined all settings required for the simulation of the moons' orbits, the orbital estimation can finally be discussed - we will have to create the required **link ends** for the Galilean moons, define the observation model and simulation settings, simulate the states of the moons based on their associated ephemerides, define the estimable parameters, and finally perform the estimation itself.\n",
    "\n",
    "### Create Link Ends for the Moons\n",
    "Since we will be using the [cartesian_position](https://py.api.tudat.space/en/latest/observation.html#tudatpy.numerical_simulation.estimation_setup.observation.cartesian_position) type of observable to simulate the ephemeris-states of the moons, we will have to define the link-ends for all four moons to be of the `observed_body` type. Finally, we will also have to create the complete set of link definitions for each moon individually."
   ]
  },
  {
   "cell_type": "code",
   "execution_count": 5,
   "metadata": {},
   "outputs": [],
   "source": [
    "link_ends_io = dict()\n",
    "link_ends_io[estimation_setup.observation.observed_body] = estimation_setup.observation.\\\n",
    "    body_origin_link_end_id('Io')\n",
    "link_definition_io = estimation_setup.observation.LinkDefinition(link_ends_io)\n",
    "\n",
    "link_ends_europa = dict()\n",
    "link_ends_europa[estimation_setup.observation.observed_body] = estimation_setup.observation.\\\n",
    "    body_origin_link_end_id('Europa')\n",
    "link_definition_europa = estimation_setup.observation.LinkDefinition(link_ends_europa)\n",
    "\n",
    "link_ends_ganymede = dict()\n",
    "link_ends_ganymede[estimation_setup.observation.observed_body] = estimation_setup.observation.\\\n",
    "    body_origin_link_end_id('Ganymede')\n",
    "link_definition_ganymede = estimation_setup.observation.LinkDefinition(link_ends_ganymede)\n",
    "\n",
    "link_ends_callisto = dict()\n",
    "link_ends_callisto[estimation_setup.observation.observed_body] = estimation_setup.observation.\\\n",
    "    body_origin_link_end_id('Callisto')\n",
    "link_definition_callisto = estimation_setup.observation.LinkDefinition(link_ends_callisto)\n",
    "\n",
    "link_definition_dict = {\n",
    "    'Io': link_definition_io,\n",
    "    'Europa': link_definition_europa,\n",
    "    'Ganymede': link_definition_ganymede,\n",
    "    'Callisto': link_definition_callisto,\n",
    "}"
   ]
  },
  {
   "cell_type": "markdown",
   "metadata": {},
   "source": [
    "### Observation Model Settings\n",
    "As mentioned above, we will 'observe' the state of the moons at every epoch as being perfectly cartesian and handily available to the user. However, note that the `cartesian_position` observable is typically not realized in reality but mainly serves verification or analysis purposes."
   ]
  },
  {
   "cell_type": "code",
   "execution_count": 6,
   "metadata": {},
   "outputs": [],
   "source": [
    "position_observation_settings = [estimation_setup.observation.cartesian_position(link_definition_io),\n",
    "                                 estimation_setup.observation.cartesian_position(link_definition_europa),\n",
    "                                 estimation_setup.observation.cartesian_position(link_definition_ganymede),\n",
    "                                 estimation_setup.observation.cartesian_position(link_definition_callisto)]"
   ]
  },
  {
   "cell_type": "markdown",
   "metadata": {},
   "source": [
    "### Observation Simulation Settings\n",
    "To simulate the states of the moons at every given epochs, we will have to define the simulation settings for all moons. For the problem at hand, they will be entirely identical - we have to define the correct `observable_type` that is associated with the `cartesian_position` observable, give the above-realised `link_definition`, and finally define the epochs at which we want to take the states from the respective ephemerides.\n",
    "\n",
    "Finally, realise that the default setting for the `reference_link_end_type` argument of the [`tabulated_simulation_settings`](https://py.api.tudat.space/en/latest/observation.html#tudatpy.numerical_simulation.estimation_setup.observation.tabulated_simulation_settings) function is set to `LinkEndType`.receiver. However, to satisfy the estimators expectation when using the `position_observable_type` the default value has to be overwritten and set to `observed_body`. This might be different on a case-by-case situation and should carefully be evaluated when using different types of observables, since the estimation will crash otherwise."
   ]
  },
  {
   "cell_type": "code",
   "execution_count": 7,
   "metadata": {},
   "outputs": [],
   "source": [
    "# Define epochs at which the ephemerides shall be checked\n",
    "observation_times = np.arange(simulation_start_epoch, simulation_end_epoch, 3.0 * 3600)\n",
    "\n",
    "# Create the observation simulation settings per moon\n",
    "observation_simulation_settings = list()\n",
    "for moon in link_definition_dict.keys():\n",
    "    observation_simulation_settings.append(estimation_setup.observation.tabulated_simulation_settings(\n",
    "        estimation_setup.observation.position_observable_type,\n",
    "        link_definition_dict[moon],\n",
    "        observation_times,\n",
    "        reference_link_end_type=estimation_setup.observation.observed_body))"
   ]
  },
  {
   "cell_type": "markdown",
   "metadata": {},
   "source": [
    "### Simulate Ephemeris' States of Satellites\n",
    "In a nutshell, what we want to do is to check the ephemeris every three hours - as defined just above - and take the associated (cartesian) state of all four moons at that moment as our observable. However, in order to automatically satisfy all requirements in terms of inputs to the estimator, we have to manually create an `observation_simulator` object, since we explicitly do not want to use the (propagating) simulators that get created alongside the estimator.\n",
    "\n",
    "The way custom-implemented observation simulators are implemented is that they do not propagate any bodies themselves but simulate the observations based on the (tabulated) ephemerides of all involved bodies. To this end, while setting up the environment we have already set the NOE-5 ephemeris as tabulated ephemerides for all Galilean moons. Thanks to this, we can directly create the required observation simulator object and finally simulate the observations according to the above-defined settings."
   ]
  },
  {
   "cell_type": "code",
   "execution_count": 8,
   "metadata": {},
   "outputs": [
    {
     "name": "stdout",
     "output_type": "stream",
     "text": [
      "Checking ephemerides...\n"
     ]
    }
   ],
   "source": [
    "# Create observation simulators\n",
    "ephemeris_observation_simulators = estimation_setup.create_observation_simulators(\n",
    "    position_observation_settings, bodies)\n",
    "# Get ephemeris states as ObservationCollection\n",
    "print('Checking ephemerides...')\n",
    "ephemeris_satellite_states = estimation.simulate_observations(\n",
    "    observation_simulation_settings,\n",
    "    ephemeris_observation_simulators,\n",
    "    bodies)"
   ]
  },
  {
   "cell_type": "markdown",
   "metadata": {},
   "source": [
    "### Define Estimable Parameters\n",
    "Given the problem at hand - **minimising the discrepancy between the NOE-5 ephemeris and the states of the moons when propagated under the influence of the above-defined accelerations by selection of an *optimal initial state***, we will restrict the set of estimable parameters to the moons' initial states."
   ]
  },
  {
   "cell_type": "code",
   "execution_count": 9,
   "metadata": {},
   "outputs": [],
   "source": [
    "parameters_to_estimate_settings = estimation_setup.parameter.initial_states(propagator_settings, bodies)\n",
    "parameters_to_estimate = estimation_setup.create_parameter_set(parameters_to_estimate_settings, bodies)\n",
    "original_parameter_vector = parameters_to_estimate.parameter_vector"
   ]
  },
  {
   "cell_type": "markdown",
   "metadata": {},
   "source": [
    "### Perform the Estimation\n",
    "Using the set of **'artificial cartesian observations'** of the moons' ephemerides, we are finally able to estimate improved initial states for each of the four Galilean satellites. To this end, we will make use of the known estimation functionality of tudat. All other settings remain unchanged and thus equal to their default values (for more details see [here](https://py.api.tudat.space/en/latest/estimation.html#tudatpy.numerical_simulation.estimation.EstimationInput.define_estimation_settings))."
   ]
  },
  {
   "cell_type": "code",
   "execution_count": 10,
   "metadata": {},
   "outputs": [
    {
     "name": "stdout",
     "output_type": "stream",
     "text": [
      "Running propagation...\n"
     ]
    }
   ],
   "source": [
    "print('Running propagation...')\n",
    "with util.redirect_std():\n",
    "    estimator = numerical_simulation.Estimator(bodies, parameters_to_estimate,\n",
    "                                               position_observation_settings, propagator_settings)"
   ]
  },
  {
   "cell_type": "code",
   "execution_count": 11,
   "metadata": {},
   "outputs": [
    {
     "name": "stdout",
     "output_type": "stream",
     "text": [
      "Performing the estimation...\n",
      "Original initial states: [ 8.63323027e+07  4.12867822e+08  1.57133735e+07 -1.69693641e+04\n",
      "  3.48217545e+03 -1.24928712e+02 -4.32049739e+08  5.18868750e+08\n",
      "  9.01917305e+06 -1.05582750e+04 -8.65408199e+03 -3.79942840e+02\n",
      " -4.69807789e+08 -9.61020184e+08 -4.38607022e+07  9.77839286e+03\n",
      " -4.76408474e+03 -2.94541424e+01 -1.56870118e+09 -1.06272769e+09\n",
      " -5.40329614e+07  4.59044637e+03 -6.73098048e+03 -1.47766750e+02]\n"
     ]
    }
   ],
   "source": [
    "# Create input object for the estimation\n",
    "estimation_input = estimation.EstimationInput(ephemeris_satellite_states)\n",
    "# Set methodological options\n",
    "estimation_input.define_estimation_settings(save_state_history_per_iteration=True)\n",
    "# Perform the estimation\n",
    "print('Performing the estimation...')\n",
    "print(f'Original initial states: {original_parameter_vector}')"
   ]
  },
  {
   "cell_type": "code",
   "execution_count": null,
   "metadata": {},
   "outputs": [],
   "source": [
    "with util.redirect_std(redirect_out=False):\n",
    "    estimation_output = estimator.perform_estimation(estimation_input)\n",
    "initial_states_updated = parameters_to_estimate.parameter_vector\n",
    "print('Done with the estimation...')\n",
    "print(f'Updated initial states: {initial_states_updated}')"
   ]
  },
  {
   "cell_type": "markdown",
   "metadata": {},
   "source": [
    "## Post-Processing\n",
    "With the initial states updated, the estimation is finished. In the following, we will thus be left with analysing how well the propagation of the improved initial states performs compared to the ephemeris solution (selected as **\"ground truth\" solution**).\n",
    "\n",
    "To this end, we first have to save both the state and dependent variable history of the estimation's final iteration followed by a loop over all respective epochs in order to save all associated ephemeris-states and Keplerian elements. These will subsequently be used as \"ground-truth\" solution.\n",
    "\n",
    "Finally, we will graphically compare the absolute difference of our estimated solution as well as the behaviour of the **Laplace resonance** between the three inner moons - Io, Europa, Ganymede - with the ephemeris-solution."
   ]
  },
  {
   "cell_type": "code",
   "execution_count": null,
   "metadata": {},
   "outputs": [],
   "source": [
    "### LOAD DATA ###\n",
    "simulator_object = estimation_output.simulation_results_per_iteration[-1]\n",
    "state_history = simulator_object.dynamics_results.state_history\n",
    "dependent_variable_history = simulator_object.dynamics_results.dependent_variable_history\n",
    "\n",
    "### Ephemeris Kepler elements ####\n",
    "# Initialize containers\n",
    "ephemeris_state_history = dict()\n",
    "ephemeris_keplerian_states = dict()\n",
    "jupiter_gravitational_parameter = bodies.get('Jupiter').gravitational_parameter\n",
    "# Loop over the propagated states and use the IMCEE ephemeris as benchmark solution\n",
    "for epoch in state_history.keys():\n",
    "    ephemeris_state = list()\n",
    "    keplerian_state = list()\n",
    "    for moon in bodies_to_propagate:\n",
    "        ephemeris_state_temp = spice.get_body_cartesian_state_at_epoch(\n",
    "            target_body_name=moon,\n",
    "            observer_body_name='Jupiter',\n",
    "            reference_frame_name='ECLIPJ2000',\n",
    "            aberration_corrections='none',\n",
    "            ephemeris_time=epoch)\n",
    "        ephemeris_state.append(ephemeris_state_temp)\n",
    "        keplerian_state.append(element_conversion.cartesian_to_keplerian(ephemeris_state_temp,\n",
    "                                                                         jupiter_gravitational_parameter))\n",
    "\n",
    "    ephemeris_state_history[epoch] = np.concatenate(np.array(ephemeris_state))\n",
    "    ephemeris_keplerian_states[epoch] = np.concatenate(np.array(keplerian_state))\n",
    "\n",
    "state_history_difference = np.vstack(list(state_history.values())) - np.vstack(list(ephemeris_state_history.values()))\n",
    "position_difference = {'Io': state_history_difference[:, 0:3],\n",
    "                       'Europa': state_history_difference[:, 6:9],\n",
    "                       'Ganymede': state_history_difference[:, 12:15],\n",
    "                       'Callisto': state_history_difference[:, 18:21]}\n",
    "\n",
    "### PLOTTING ###\n",
    "time2plt = list()\n",
    "epochs_julian_seconds = np.vstack(list(state_history.keys()))\n",
    "for epoch in epochs_julian_seconds:\n",
    "    epoch_days = constants.JULIAN_DAY_ON_J2000 + epoch / constants.JULIAN_DAY\n",
    "    time2plt.append(time_conversion.julian_day_to_calendar_date(epoch_days))\n",
    "\n",
    "fig, ax1 = plt.subplots(1, 1, figsize=(10, 6))\n",
    "\n",
    "ax1.plot(time2plt, np.linalg.norm(position_difference['Io'], axis=1) * 1E-3,\n",
    "         label=r'Io ($i=1$)', c='#A50034')\n",
    "ax1.plot(time2plt, np.linalg.norm(position_difference['Europa'], axis=1) * 1E-3,\n",
    "         label=r'Europa ($i=2$)', c='#0076C2')\n",
    "ax1.plot(time2plt, np.linalg.norm(position_difference['Ganymede'], axis=1) * 1E-3,\n",
    "         label=r'Ganymede ($i=3$)', c='#EC6842')\n",
    "ax1.plot(time2plt, np.linalg.norm(position_difference['Callisto'], axis=1) * 1E-3,\n",
    "         label=r'Callisto ($i=4$)', c='#009B77')\n",
    "ax1.set_title(r'Difference in Position')\n",
    "ax1.xaxis.set_major_locator(mdates.MonthLocator(bymonth=1))\n",
    "ax1.xaxis.set_minor_locator(mdates.MonthLocator())\n",
    "ax1.xaxis.set_major_formatter(mdates.DateFormatter('%b-%Y'))\n",
    "ax1.set_ylabel(r'Difference [km]')\n",
    "ax1.legend();"
   ]
  },
  {
   "cell_type": "markdown",
   "metadata": {
    "collapsed": false,
    "jupyter": {
     "outputs_hidden": false
    }
   },
   "source": [
    "Overall, for the inner three moons trapped in resonance (for more details see below) the above results lie within the expected range of achievable accuracy given the rather rudimentary set-up of the environment and especially associated acceleration models. However, what is striking is that the performance of Callisto falls short compared to the other satellites. Thus, hypothetically, to enhance the estimated solution of the orbit of Callisto with respect to the underlying ephemeris, one could opt to estimate its gravity field alongside the initial state, which could lead to significantly improved results. However, this path is left as an adventure to be followed and explored by the reader."
   ]
  },
  {
   "cell_type": "code",
   "execution_count": null,
   "metadata": {
    "collapsed": false,
    "jupyter": {
     "outputs_hidden": false
    }
   },
   "outputs": [],
   "source": [
    "def calculate_mean_longitude(kepler_elements: dict):\n",
    "    # Calculate dictionary for moon-wise longitudes\n",
    "    mean_longitude_dict = dict()\n",
    "    # Loop over every moon of interest (Io, Europa, Ganymede)\n",
    "    for moon in kepler_elements.keys():\n",
    "        mean_anomaly_per_moon = list()\n",
    "        kepler_elements_per_moon = kepler_elements[moon]\n",
    "        # For every epoch get the mean anomaly of the moon\n",
    "        for i in range(len(kepler_elements[moon])):\n",
    "            mean_anomaly_per_moon.append(element_conversion.true_to_mean_anomaly(\n",
    "                eccentricity=kepler_elements_per_moon[i, 1],\n",
    "                true_anomaly=kepler_elements_per_moon[i, 5]))\n",
    "        mean_anomaly_per_moon = np.array(mean_anomaly_per_moon)\n",
    "        mean_anomaly_per_moon[mean_anomaly_per_moon < 0] = mean_anomaly_per_moon[mean_anomaly_per_moon < 0] \\\n",
    "                                                           + 2 * math.pi\n",
    "        # Calculate the mean longitude as\n",
    "        # (longitude of the ascending node) + (argument of the pericenter) + (mean anomaly)\n",
    "        longitude_of_the_ascending_node = kepler_elements_per_moon[:, 4]\n",
    "        argument_of_the_pericenter = kepler_elements_per_moon[:, 3]\n",
    "\n",
    "        mean_longitude_per_moon = longitude_of_the_ascending_node + argument_of_the_pericenter + mean_anomaly_per_moon\n",
    "        # Include epoch-wise mean longitude in dictionary\n",
    "        mean_longitude_per_moon = np.mod(mean_longitude_per_moon, 2*math.pi)\n",
    "        mean_longitude_dict[moon] = mean_longitude_per_moon\n",
    "\n",
    "    return mean_longitude_dict"
   ]
  },
  {
   "cell_type": "code",
   "execution_count": null,
   "metadata": {
    "collapsed": false,
    "jupyter": {
     "outputs_hidden": false
    }
   },
   "outputs": [],
   "source": [
    "### LAPLACE STABILITY ###\n",
    "ephemeris_kepler_elements = np.vstack(list(ephemeris_keplerian_states.values()))\n",
    "propagation_kepler_elements = np.vstack(list(dependent_variable_history.values()))\n",
    "\n",
    "ephemeris_kepler_elements_dict = {'Io': ephemeris_kepler_elements[:, 0:6],\n",
    "                                  'Europa': ephemeris_kepler_elements[:, 6:12],\n",
    "                                  'Ganymede': ephemeris_kepler_elements[:, 12:18],\n",
    "                                  'Callisto': ephemeris_kepler_elements[:, 18:24]}\n",
    "\n",
    "propagated_kepler_elements_dict = {'Io': propagation_kepler_elements[:, 0:6],\n",
    "                                   'Europa': propagation_kepler_elements[:, 6:12],\n",
    "                                   'Ganymede': propagation_kepler_elements[:, 12:18],\n",
    "                                   'Callisto': propagation_kepler_elements[:, 18:24]}\n",
    "\n",
    "# Calculate propagated Laplace stability\n",
    "\n",
    "mean_longitude_dict_prop = calculate_mean_longitude(propagated_kepler_elements_dict)\n",
    "\n",
    "laplace_stability_prop = mean_longitude_dict_prop['Io'] \\\n",
    "                         - 3 * mean_longitude_dict_prop['Europa'] \\\n",
    "                         + 2 * mean_longitude_dict_prop['Ganymede']\n",
    "laplace_stability_prop = np.mod(laplace_stability_prop, 2 * math.pi)\n",
    "\n",
    "# Calculate ephemeris Laplace stability\n",
    "\n",
    "mean_longitude_dict_ephem = calculate_mean_longitude(ephemeris_kepler_elements_dict)\n",
    "\n",
    "laplace_stability_ephem = mean_longitude_dict_ephem['Io'] \\\n",
    "                         - 3 * mean_longitude_dict_ephem['Europa'] \\\n",
    "                         + 2 * mean_longitude_dict_ephem['Ganymede']\n",
    "laplace_stability_ephem = np.mod(laplace_stability_ephem, 2 * math.pi)\n",
    "\n",
    "### PLOTTING ###\n",
    "time2plt = list()\n",
    "epochs_julian_seconds = np.vstack(list(state_history.keys()))\n",
    "for epoch in epochs_julian_seconds:\n",
    "    epoch_days = constants.JULIAN_DAY_ON_J2000 + epoch / constants.JULIAN_DAY\n",
    "    time2plt.append(time_conversion.julian_day_to_calendar_date(epoch_days))\n",
    "\n",
    "fig, (ax1, ax2) = plt.subplots(2, 1, figsize=(10, 8), sharex=True)\n",
    " \n",
    "ax1.plot(time2plt, laplace_stability_prop * 180 / math.pi, label='Propagated', c='#A50034')\n",
    "ax1.plot(time2plt, laplace_stability_ephem * 180 / math.pi, label='NOE 5 Ephemeris', c='#EC6842',\n",
    "         linestyle=(0, (5, 10)))\n",
    "ax1.set_title(r'Laplace Resonance $\\Phi_L=\\lambda_I-3 \\lambda_E+2 \\lambda_G$')\n",
    "ax1.set_ylabel(r'Laplace $\\Phi_L$ [deg]')\n",
    "ax1.legend()\n",
    "\n",
    "ax2.plot(time2plt, (laplace_stability_prop - laplace_stability_ephem) * 180 / math.pi, c='#0076C2')\n",
    "ax2.set_title(r'Difference in Laplace Resonance $\\Delta\\Phi_L$')\n",
    "ax2.xaxis.set_major_locator(mdates.MonthLocator(bymonth=1))\n",
    "ax2.xaxis.set_minor_locator(mdates.MonthLocator())\n",
    "ax2.xaxis.set_major_formatter(mdates.DateFormatter('%b-%Y'))\n",
    "ax2.set_ylabel(r'Laplace $\\Delta\\Phi_L$ [deg]');"
   ]
  },
  {
   "cell_type": "code",
   "execution_count": null,
   "metadata": {},
   "outputs": [],
   "source": []
  }
 ],
 "metadata": {
  "kernelspec": {
   "display_name": "tudat-bundle",
   "language": "python",
   "name": "tudat-bundle"
  },
  "language_info": {
   "codemirror_mode": {
    "name": "ipython",
    "version": 3
   },
   "file_extension": ".py",
   "mimetype": "text/x-python",
   "name": "python",
   "nbconvert_exporter": "python",
   "pygments_lexer": "ipython3",
   "version": "3.11.10"
  }
 },
 "nbformat": 4,
 "nbformat_minor": 4
}
