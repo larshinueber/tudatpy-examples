{
 "cells": [
  {
   "cell_type": "markdown",
   "id": "278f715a-7434-4435-9996-32e58c833585",
   "metadata": {},
   "source": [
    "## Objectives\n",
    "\n",
    "This script allows to download:\n",
    "1) Spice (clock, frame, orientation, planetary) Kernels\n",
    "2) Closed Loop Doppler Data (DSN and IFMS)\n",
    "3) Ancillary Ionospheric and Tropospheric Data\n",
    "\n",
    "**NOTE 1 (Supported Missions and Relative Downloaded Data).** \n",
    "\n",
    "The following spice kernels:\n",
    "\n",
    "1) **existing spice kernels** in the mission folder\n",
    "2) (new) **downloaded spice kernels**\n",
    "3) **standard TUDAT kernels** from [`spice.load_standard_kernels()`](https://py.api.tudat.space/en/latest/spice.html#tudatpy.interface.spice.load_standard_kernels) \n",
    "\n",
    "are loaded at the end of a run (some information is printed as output).\n",
    "\n",
    "List of currently supported input_missions:\n",
    "- **Mars Reconnnaissance Orbiter (MRO)** [Available: Spice Kernels, Doppler Data, Ancillary]\n",
    "- **Mars Express (MEX)** [Available: Spice Kernels, Doppler Data, Ancillary]\n",
    "- **Jupiter Icy Moons Explorer (JUICE)** [Available: Spice Kernels, Not Available (yet): Doppler Data, Ancillary]\n",
    "- **Cassini**\n",
    "\n",
    "Foreseen supported missions (in descending priority order, code yet to be developed):\n",
    "\n",
    "- Insight\n",
    "- VEX\n",
    "- GRAIL\n",
    "- LRO\n",
    "\n",
    "**NOTE 2. (Outputs)**\n",
    "\n",
    "The downloaded data for a given mission is stored in a folder named `<mission_name>_archive`. Subfolders are created automatically where Kernels, Radio Science Data and Ancillary Data are stored.\n",
    "\n",
    "**NOTE 3. (about DSN-TNF)**\n",
    "\n",
    "No DSN-TNF download is implemented, since for many applications the TNF is too cumbersome. We download the DSN-ODF files instead. The ODF is an edited and partially processed version of the TNF. It is a smaller file, often issued in daily increments of about 0.2 MB. It contains the most important information (range and Doppler) \n",
    "\n",
    "\n"
   ]
  },
  {
   "cell_type": "markdown",
   "id": "e8aaf94f-6919-4ab5-bac1-f9c50a8502de",
   "metadata": {},
   "source": [
    "## Load required standard modules\n",
    "The required modules and dependencies are taken from the python file: `Mission_Data_Retriever_Class.py` present in the`tudatpy-examples/estimation` folder."
   ]
  },
  {
   "cell_type": "code",
   "execution_count": 1,
   "id": "960740e6-2b3f-4816-96c4-7c292af8f9b0",
   "metadata": {},
   "outputs": [],
   "source": [
    "import spiceypy as spicey\n",
    "from mission_data_downloader_class import *"
   ]
  },
  {
   "cell_type": "markdown",
   "id": "7c7d053f-a48e-4570-b828-a26b03d586fd",
   "metadata": {},
   "source": [
    "## Create the LoadPDS Object\n",
    "First, we create the LoadPDS() object."
   ]
  },
  {
   "cell_type": "code",
   "execution_count": 2,
   "id": "5b389133-79f9-405d-8aab-451c8b08aec8",
   "metadata": {},
   "outputs": [],
   "source": [
    "object = LoadPDS()"
   ]
  },
  {
   "cell_type": "markdown",
   "id": "2f43bb56-edd9-44ac-a22b-1af763e51780",
   "metadata": {},
   "source": [
    "## Downloader\n",
    "\n",
    "### Set Time Interval(s) for Downloading\n",
    "\n",
    "Then we select the `start_date` and `end_date`, and we do so for each mission we wish to download. Of course, each mission has to come with its own dates, as operations are carried out over different periods. \n",
    "\n",
    "### Download Mission Files\n",
    "Finally, we can call the function \"get_mission_files\n",
    "get_mro_files will download: clock kernels, orientation kernels, radio science (odf) files for mro\n",
    "get_mex_files will download: clock kernels, orientation kernels, radio science (ifms) files for mex \n",
    "get_juice_files will download: clock kernels, orientation kernels, for juice. No radio science data, cause none is yet available on the server (fdets retrieval is needed).\n",
    "\n",
    "**NOTE 4. (about the following cell output)**\n",
    "\n",
    "Please note that, although the output main cell for the MRO mission is visible in this Jupyter Notebook file, the `mro_archive` folder won't be present in the repo. You will need to run this cell yourself in order to automatically create the folder."
   ]
  },
  {
   "cell_type": "code",
   "execution_count": 3,
   "id": "92902ed5-e805-4028-a147-14df0ec6be58",
   "metadata": {
    "scrolled": true
   },
   "outputs": [
    {
     "name": "stdout",
     "output_type": "stream",
     "text": [
      "======================================= Downloading CASSINI Data ==============================================\n",
      "\n",
      "=========================================== Folder(s) Creation ==================================================\n",
      "Folder: cassini_archive/ already exists and will not be overwritten.\n",
      "Folder: ck already exists and will not be overwritten.\n",
      "Folder: spk already exists and will not be overwritten.\n",
      "Folder: fk already exists and will not be overwritten.\n",
      "Folder: sclk already exists and will not be overwritten.\n",
      "Folder: lsk already exists and will not be overwritten.\n",
      "Folder: eop already exists and will not be overwritten.\n",
      "Folder: ifms already exists and will not be overwritten.\n",
      "Folder: odf already exists and will not be overwritten.\n",
      "Folder: dp2 already exists and will not be overwritten.\n",
      "Folder: dps already exists and will not be overwritten.\n",
      "Folder: dpx already exists and will not be overwritten.\n",
      "Folder: tro already exists and will not be overwritten.\n",
      "Folder: ion already exists and will not be overwritten.\n",
      "...Done.\n",
      "===============================================================================================================\n",
      "\n",
      "╒════════════╤══════════════╤══════════════════════╤════════════════════════╤═══════════════════════════════╤════════╤═══════╤════════╕\n",
      "│  \u001b[35mFlyby ID\u001b[39m  │  \u001b[35mExperiment\u001b[39m  │    \u001b[35mPDS Repository\u001b[39m    │  \u001b[35mAncillary Repository\u001b[39m  │  \u001b[35mCumulative Index Repository\u001b[39m  │  \u001b[35mDate\u001b[39m  │   \u001b[35mDOY\u001b[39m │   \u001b[35mYear\u001b[39m │\n",
      "╞════════════╪══════════════╪══════════════════════╪════════════════════════╪═══════════════════════════════╪════════╪═══════╪════════╡\n",
      "│    T011    │    tigr3     │      cors_0133       │                        │                               │ 27.02. │    58 │   2006 │\n",
      "├────────────┼──────────────┼──────────────────────┼────────────────────────┼───────────────────────────────┼────────┼───────┼────────┤\n",
      "│    T022    │    tigr6     │      cors_0168       │                        │                               │ 28.12. │   362 │   2006 │\n",
      "├────────────┼──────────────┼──────────────────────┼────────────────────────┼───────────────────────────────┼────────┼───────┼────────┤\n",
      "│    T033    │    tigr8     │      cors_0176       │                        │                               │ 29.06. │   180 │   2007 │\n",
      "├────────────┼──────────────┼──────────────────────┼────────────────────────┼───────────────────────────────┼────────┼───────┼────────┤\n",
      "│    T045    │    tigr11    │      cors_0239       │                        │                               │ 30.07. │   212 │   2008 │\n",
      "├────────────┼──────────────┼──────────────────────┼────────────────────────┼───────────────────────────────┼────────┼───────┼────────┤\n",
      "│    T068    │    tigr15    │      cors_0320       │                        │                               │ 19.05. │   139 │   2010 │\n",
      "├────────────┼──────────────┼──────────────────────┼────────────────────────┼───────────────────────────────┼────────┼───────┼────────┤\n",
      "│    T074    │    tigr16    │ cors_0349, cors_0350 │       cors_0349        │           cors_0350           │ 18.02. │    49 │   2011 │\n",
      "├────────────┼──────────────┼──────────────────────┼────────────────────────┼───────────────────────────────┼────────┼───────┼────────┤\n",
      "│    T089    │    tigr17    │ cors_0394, cors_0395 │       cors_0394        │           cors_0395           │ 16.02. │    47 │   2013 │\n",
      "├────────────┼──────────────┼──────────────────────┼────────────────────────┼───────────────────────────────┼────────┼───────┼────────┤\n",
      "│    T099    │    tigr18    │ cors_0487, cors_0488 │       cors_0487        │           cors_0488           │ 06.03. │    65 │   2014 │\n",
      "├────────────┼──────────────┼──────────────────────┼────────────────────────┼───────────────────────────────┼────────┼───────┼────────┤\n",
      "│    T110    │    tigr19    │      cors_0525       │                        │                               │ 16.03. │    75 │   2015 │\n",
      "├────────────┼──────────────┼──────────────────────┼────────────────────────┼───────────────────────────────┼────────┼───────┼────────┤\n",
      "│    T122    │    tigr20    │ cors_0566, cors_0567 │       cors_0566        │           cors_0567           │ 09.08. │   222 │   2016 │\n",
      "╘════════════╧══════════════╧══════════════════════╧════════════════════════╧═══════════════════════════════╧════════╧═══════╧════════╛\n"
     ]
    },
    {
     "name": "stdin",
     "output_type": "stream",
     "text": [
      "You are about to download data for the Cassini Spacecraft. What flyby would you like to download? (Check Provided Table for Reference.)\n",
      " T022\n"
     ]
    },
    {
     "name": "stdout",
     "output_type": "stream",
     "text": [
      "===========================================================================================================\n",
      "Download CASSINI Kernels (ck, spk) Ancillary Files (eop, ion, tro) and Radio Science (odf) files from PDS Atmosphere Node:\n",
      "File: S26TIGF2006_080_2007_081.EOP already exists in cassini_archive/eop/S26TIGF2006_080_2007_081.EOP and will not be downloaded.\n",
      "File: S26TIGF2006_335_2007_001.ION already exists in cassini_archive/ion/S26TIGF2006_335_2007_001.ION and will not be downloaded.\n",
      "File: S26TIGF2006_335_2006_363.TRO already exists in cassini_archive/tro/S26TIGF2006_335_2006_363.TRO and will not be downloaded.\n",
      "File: S26TIGF2006_357_2006_361.CKF already exists in cassini_archive/ck/S26TIGF2006_357_2006_361.CKF and will not be downloaded.\n",
      "File: S26TIGF2006_362_2006_365.CKF already exists in cassini_archive/ck/S26TIGF2006_362_2006_365.CKF and will not be downloaded.\n",
      "File: S26TIGF2006_356_2007_008.SPK already exists in cassini_archive/spk/S26TIGF2006_356_2007_008.SPK and will not be downloaded.\n",
      "File: S26TIGF2006_362_0305XMMMV1.ODF already exists in cassini_archive/odf/S26TIGF2006_362_0305XMMMV1.ODF and will not be downloaded.\n",
      "===========================================================================================================\n",
      "Download CASSINI Frame Kernels from NAIF:\n",
      "File: cassini_archive/fk/cas_v43.tf already exists in cassini_archive/ and will not be downloaded.\n",
      "eop ['cassini_archive/eop/S26TIGF2006_080_2007_081.EOP']\n",
      "transfering\n",
      "ck ['cassini_archive/ck/S26TIGF2006_357_2006_361.CKF', 'cassini_archive/ck/S26TIGF2006_362_2006_365.CKF']\n",
      "transfering\n",
      "transfering\n",
      "spk ['cassini_archive/spk/S26TIGF2006_356_2007_008.SPK']\n",
      "transfering\n",
      "fk ['cassini_archive/fk/cas_v43.tf']\n",
      "transfering\n",
      "===============================================================================================================\n",
      "Number of Loaded Existing + Downloaded Kernels: 7\n",
      "Number of Loaded Standard Kernels: 13\n",
      "===============================================================================================================\n",
      "Cleaning Mission Archive...\n",
      "Done.\n",
      "kernels: {'eop': ['cassini_archive/eop/S26TIGF2006_080_2007_081.EOP'], 'ck': ['cassini_archive/ck/S26TIGF2006_357_2006_361.CKF', 'cassini_archive/ck/S26TIGF2006_362_2006_365.CKF'], 'spk': ['cassini_archive/spk/S26TIGF2006_356_2007_008.SPK'], 'fk': ['cassini_archive/fk/cas_v43.tf']}\n",
      "Total number of loaded kernels: 20\n"
     ]
    }
   ],
   "source": [
    "if __name__ == \"__main__\":\n",
    "\n",
    "    # Set Time Interval(s) for Downloading\n",
    "\n",
    "    start_date_juice = datetime(2023, 7, 1)\n",
    "    end_date_juice = datetime(2023, 8, 10)\n",
    "    \n",
    "    start_date_mro = datetime(2007, 1, 3)\n",
    "    end_date_mro = datetime(2007, 1, 5)\n",
    "    \n",
    "    start_date_mex = datetime(2004, 1, 3)\n",
    "    end_date_mex = datetime(2004,2, 7) \n",
    "\n",
    "    # Download Mission Files \n",
    "    # (only MRO is shown here. Uncomment the corresponding lines to download data for MEX and JUICE!)\n",
    "    \n",
    "    #kernel_files_mro, radio_science_files_mro, ancillary_files_mro = object.get_mission_files(input_mission = 'mro', start_date = start_date_mro, end_date = end_date_mro)         \n",
    "    #print(f'Total number of loaded kernels: {spice.get_total_count_of_kernels_loaded()}')\n",
    "    \n",
    "    #kernel_files_mex, radio_science_files_mex, ancillary_files_mex = object.get_mission_files(input_mission = 'mex', start_date = start_date_mex, end_date = end_date_mex)         \n",
    "    #print(f'Total number of loaded kernels: {spice.get_total_count_of_kernels_loaded()}')\n",
    "    \n",
    "    #kernel_files_juice, radio_science_files_juice, ancillary_files_juice = object.get_mission_files(input_mission = 'juice', start_date = start_date_juice, end_date = end_date_juice) \n",
    "    #print(f'Total number of loaded kernels: {spice.get_total_count_of_kernels_loaded()}')\n",
    "    \n",
    "    kernel_files_cassini, radio_science_files_cassini, ancillary_files_cassini = object.get_mission_files(input_mission = 'cassini')\n",
    "    print(f'Total number of loaded kernels: {spice.get_total_count_of_kernels_loaded()}')\n"
   ]
  },
  {
   "cell_type": "markdown",
   "id": "1901bd8e-1e40-4b50-b0d1-d55acb92d1eb",
   "metadata": {},
   "source": [
    "## Loaded Kernels (Existing + Downloaded)\n",
    "Last, you can print the list of existing + downloaded files. "
   ]
  },
  {
   "cell_type": "code",
   "execution_count": 4,
   "id": "852ea8b2-78f5-4630-af89-2b44d01be859",
   "metadata": {},
   "outputs": [
    {
     "name": "stdout",
     "output_type": "stream",
     "text": [
      "CASSINI Kernels: {'eop': ['cassini_archive/eop/S26TIGF2006_080_2007_081.EOP'], 'ck': ['cassini_archive/ck/S26TIGF2006_357_2006_361.CKF', 'cassini_archive/ck/S26TIGF2006_362_2006_365.CKF'], 'spk': ['cassini_archive/spk/S26TIGF2006_356_2007_008.SPK'], 'fk': ['cassini_archive/fk/cas_v43.tf']}\n",
      "\n",
      "CASSINI Radio Science: {'odf': ['cassini_archive/odf/S26TIGF2006_362_0305XMMMV1.ODF']}\n",
      "\n",
      "CASSINI Ancillary: {'ion': ['cassini_archive/ion/S26TIGF2006_335_2007_001.ION'], 'tro': ['cassini_archive/tro/S26TIGF2006_335_2006_363.TRO']}\n",
      "\n"
     ]
    }
   ],
   "source": [
    "#print(f'MRO Kernels: {kernel_files_mro}\\n')\n",
    "#print(f'MRO Radio Science: {radio_science_files_mro}\\n')\n",
    "#print(f'MRO Ancillary: {ancillary_files_mro}\\n')\n",
    "\n",
    "#print(f'MEX Kernels: {kernel_files_mex}\\n')\n",
    "#print(f'MEX Radio Science: {radio_science_files_mex}\\n')\n",
    "#print(f'MEX Ancillary: {ancillary_files_mex}\\n')\n",
    "\n",
    "#print(f'JUICE Kernels: {kernel_files_juice}\\n')\n",
    "#print(f'JUICE Radio Science: {radio_science_files_juice}\\n') # it will be empty for now... (no Radio Science yet available on the server)\n",
    "#print(f'JUICE Ancillary: {ancillary_files_juice}\\n') # it will be empty for now... (no Ancillary files yet available on the server)\n",
    "\n",
    "\n",
    "print(f'CASSINI Kernels: {kernel_files_cassini}\\n')\n",
    "print(f'CASSINI Radio Science: {radio_science_files_cassini}\\n')\n",
    "print(f'CASSINI Ancillary: {ancillary_files_cassini}\\n')\n"
   ]
  },
  {
   "cell_type": "code",
   "execution_count": 5,
   "id": "365814a0-5ee0-48e9-a2cf-c0b2512e8cb2",
   "metadata": {},
   "outputs": [
    {
     "data": {
      "text/plain": [
       "20"
      ]
     },
     "execution_count": 5,
     "metadata": {},
     "output_type": "execute_result"
    }
   ],
   "source": [
    "spice.load_kernel('cassini_archive/ck/S19TIGE2006_075_2006_079.ck')\n",
    "spice.get_total_count_of_kernels_loaded()"
   ]
  }
 ],
 "metadata": {
  "jupytext": {
   "cell_metadata_filter": "-all",
   "main_language": "python",
   "notebook_metadata_filter": "-all"
  },
  "kernelspec": {
   "display_name": "tudat-bundle_2",
   "language": "python",
   "name": "tudat-bundle_2"
  },
  "language_info": {
   "codemirror_mode": {
    "name": "ipython",
    "version": 3
   },
   "file_extension": ".py",
   "mimetype": "text/x-python",
   "name": "python",
   "nbconvert_exporter": "python",
   "pygments_lexer": "ipython3",
   "version": "3.11.10"
  }
 },
 "nbformat": 4,
 "nbformat_minor": 5
}
