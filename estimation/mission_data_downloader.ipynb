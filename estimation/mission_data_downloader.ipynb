{
 "cells": [
  {
   "cell_type": "markdown",
   "id": "278f715a-7434-4435-9996-32e58c833585",
   "metadata": {
    "jp-MarkdownHeadingCollapsed": true
   },
   "source": [
    "## Objectives\n",
    "\n",
    "- This script shows how to use the TudatPy `mission_data_downloader` functionality  to download:\n",
    "1) **SPICE** (clock, frame, orientation, planetary) **Kernels**\n",
    "2) **Closed Loop Doppler Data** (DSN and IFMS)\n",
    "3) **Ancillary** Ionospheric and Tropospheric **Data**\n",
    "\n",
    "for some supported missions (see **NOTE 1** for a list of supported missions). \n",
    "\n",
    "- Moreover, we also show how to use the functionality to download: \n",
    "1) **SPICE** (clock, frame, orientation, planetary) **Kernels**\n",
    "2) **Ancillary** Ionospheric and Tropospheric **Data**\n",
    "\n",
    "    for a custom, user-defined mission. \n",
    "\n",
    "### NOTES\n",
    "**NOTE 1. (Supported Missions and Relative Downloaded Data).** \n",
    "\n",
    "The following spice kernels are loaded at the end of a run:\n",
    "\n",
    "1) **existing spice kernels** in the mission folder\n",
    "2) (new) **downloaded spice kernels**\n",
    "3) **standard TUDAT kernels** from [`spice.load_standard_kernels()`](https://py.api.tudat.space/en/latest/spice.html#tudatpy.interface.spice.load_standard_kernels) \n",
    "\n",
    "List of currently supported input_missions:\n",
    "- **Mars Reconnnaissance Orbiter (MRO)** [Available: Spice Kernels, Doppler Data, Ancillary]\n",
    "- **Mars Express (MEX)** [Available: Spice Kernels, Doppler Data, Ancillary]\n",
    "- **Jupiter Icy Moons Explorer (JUICE)** [Available: Spice Kernels, Not Available (yet): Doppler Data, Ancillary]\n",
    "- **Cassini**\n",
    "- **GRAIL (both Grail-A and Grail-B)**\n",
    "\n",
    "Foreseen supported missions (in descending priority order, code yet to be developed):\n",
    "\n",
    "- Insight\n",
    "- VEX\n",
    "- LRO\n",
    "\n",
    "**NOTE 2. (Default and Custom Outputs)**\n",
    "\n",
    "The downloaded data for a given mission is stored (by default) in a folder named `<mission_name>_archive`. Subfolders are created automatically where Kernels, Radio Science Data and Ancillary Data are stored. \n",
    "The user can still define a custom output path passing the flag `custom_output` in the `get_mission_files` function. The output files will then be found in: `custom_path`\n",
    "\n",
    "**NOTE 3. (About DSN-TNF)**\n",
    "\n",
    "No DSN-TNF download functionality has been implemented (at least, not yet!)\n",
    "\n",
    "**Note 4. About spiceypy**\n",
    "\n",
    "A compiled version of TUDAT containing the `spiceypy` dependency is needed (if spiceypy is not present, you won't be able to download files for the Cassini mission)"
   ]
  },
  {
   "cell_type": "markdown",
   "id": "e8aaf94f-6919-4ab5-bac1-f9c50a8502de",
   "metadata": {},
   "source": [
    "## Load required standard modules\n",
    "The required modules and dependencies are taken from the python file: `Mission_Data_Retriever_Class.py` present in the`tudatpy-examples/estimation` folder."
   ]
  },
  {
   "cell_type": "code",
   "execution_count": 1,
   "id": "960740e6-2b3f-4816-96c4-7c292af8f9b0",
   "metadata": {},
   "outputs": [],
   "source": [
    "from mission_data_downloader_class import *"
   ]
  },
  {
   "cell_type": "markdown",
   "id": "7c7d053f-a48e-4570-b828-a26b03d586fd",
   "metadata": {},
   "source": [
    "## Create the LoadPDS Object\n",
    "First, we create the LoadPDS() object."
   ]
  },
  {
   "cell_type": "code",
   "execution_count": 2,
   "id": "5b389133-79f9-405d-8aab-451c8b08aec8",
   "metadata": {},
   "outputs": [],
   "source": [
    "object = LoadPDS()\n",
    "spice.clear_kernels() #lets clear the kernels to avoid duplicates,since we will load all standard + Downloaded + existing kernels"
   ]
  },
  {
   "cell_type": "markdown",
   "id": "2f43bb56-edd9-44ac-a22b-1af763e51780",
   "metadata": {},
   "source": [
    "## MRO Downloader (with Default Output)\n",
    "\n",
    "### Set Time Interval(s) for Downloading\n",
    "\n",
    "Then we select the `start_date` and `end_date`, and we do so for each mission we wish to download (Cassini will be an exception due to the peculiar mission concept, see **Cassini Downloader** below). Of course, each mission has to come with its own dates, as operations are carried out over different periods. \n",
    "\n",
    "### Download Mission Files (MRO, MEX, JUICE)\n",
    "Finally, we can call the function \"get_mission_files\".\n",
    "get_mro_files will download: clock kernels, orientation kernels, radio science (odf) files for mro\n",
    "get_mex_files will download: clock kernels, orientation kernels, radio science (ifms) files for mex \n",
    "get_juice_files will download: clock kernels, orientation kernels, for juice. No radio science data, cause none is yet available on the server (fdets retrieval is needed).\n",
    "\n",
    "**NOTE 5. (About MEX and JUICE Files Download)**\n",
    "\n",
    "Here, we will only showcase the downloading of MRO files. However, **if you wish to download files for MEX or JUICE**, you can simply **uncomment the corresponding lines** in the cell below! We have included those **just for you**!"
   ]
  },
  {
   "cell_type": "code",
   "execution_count": null,
   "id": "92902ed5-e805-4028-a147-14df0ec6be58",
   "metadata": {
    "scrolled": true
   },
   "outputs": [],
   "source": [
    "start_date_juice = datetime(2023, 7, 1)\n",
    "end_date_juice = datetime(2023, 8, 10)\n",
    "\n",
    "start_date_mro = datetime(2007, 1, 3)\n",
    "end_date_mro = datetime(2007, 1, 5)\n",
    "\n",
    "start_date_mex = datetime(2004, 1, 3)\n",
    "end_date_mex = datetime(2004,2, 7) \n",
    "\n",
    "# Download Mission Files with default output folder\n",
    "# (only MRO is shown here. Uncomment the corresponding lines to download data for MEX and JUICE!)\n",
    "\n",
    "kernel_files_mro, radio_science_files_mro, ancillary_files_mro = object.get_mission_files(input_mission = 'mro', start_date = start_date_mro, end_date = end_date_mro, custom_output = None)         \n",
    "print(f'Total number of loaded kernels: {spice.get_total_count_of_kernels_loaded()}')\n",
    "\n",
    "#kernel_files_mex, radio_science_files_mex, ancillary_files_mex = object.get_mission_files(input_mission = 'mex', start_date = start_date_mex, end_date = end_date_mex)         \n",
    "#print(f'Total number of loaded kernels: {spice.get_total_count_of_kernels_loaded()}')\n",
    "\n",
    "#kernel_files_juice, radio_science_files_juice, ancillary_files_juice = object.get_mission_files(input_mission = 'juice', start_date = start_date_juice, end_date = end_date_juice) \n",
    "#print(f'Total number of loaded kernels: {spice.get_total_count_of_kernels_loaded()}')"
   ]
  },
  {
   "cell_type": "markdown",
   "id": "1901bd8e-1e40-4b50-b0d1-d55acb92d1eb",
   "metadata": {},
   "source": [
    "## Loaded Kernels for MRO, MEX and JUICE (Existing + Downloaded)\n",
    "Let's print the list of existing + downloaded files. "
   ]
  },
  {
   "cell_type": "code",
   "execution_count": null,
   "id": "848b1ea2-7800-439a-a463-601cc84f2e9b",
   "metadata": {},
   "outputs": [],
   "source": [
    "print(f'MRO Kernels: {kernel_files_mro}\\n')\n",
    "print(f'MRO Radio Science: {radio_science_files_mro}\\n')\n",
    "print(f'MRO Ancillary: {ancillary_files_mro}\\n')\n",
    "\n",
    "#print(f'MEX Kernels: {kernel_files_mex}\\n')\n",
    "#print(f'MEX Radio Science: {radio_science_files_mex}\\n')\n",
    "#print(f'MEX Ancillary: {ancillary_files_mex}\\n')\n",
    "\n",
    "#print(f'JUICE Kernels: {kernel_files_juice}\\n')\n",
    "#print(f'JUICE Radio Science: {radio_science_files_juice}\\n') # it will be empty for now... (no Radio Science yet available on the server)\n",
    "#print(f'JUICE Ancillary: {ancillary_files_juice}\\n') # it will be empty for now... (no Ancillary files yet available on the server)"
   ]
  },
  {
   "cell_type": "markdown",
   "id": "747f7733-2c9f-4ad1-bf16-0d3cf2b29949",
   "metadata": {},
   "source": [
    "## Cassini Downloader (with Custom Output)\n",
    "\n",
    "### Set Flybys for Downloading\n",
    "\n",
    "The most valuable data collected for Cassini is probably the one related to the various flybys of the Moons of Saturn.\n",
    "For this reason, in order to retrieve Cassini data, we will require the **name of the flyby** data the user wishes to download, rather than a start and end date (see **Notes 6 and 7** for info on the supported flybys). \n",
    "\n",
    "### How to pick a flyby?\n",
    "- If you already know the name of the flyby you want to download (e.g. T011, T022, etc...), you can simply call the function `get_mission_files` with `input_mission = 'Cassini'`, also adding the flag `flyby_IDs = T011` (or `flyby_IDs = T022`, ec...). \n",
    "\n",
    "- Alternatively, calling `get_mission_files` with 'Cassini' as `input_mission` and no `flyby_IDs` flag **will print a comprehensive table of supported flybys to choose from**, and you will be asked to **manually input** the name of one (or more) of them. This table is constructed based on the [Cassini Titan Gravity Science Table](https://pds-atmospheres.nmsu.edu/data_and_services/atmospheres_data/Cassini/Cassini/RSS%20PDS%20page%202019-01-23/rss/TI_12.html).\n",
    "\n",
    "### Flyby Data Output Division\n",
    "\n",
    "The default output folder will be named `cassini_archive/MOON_NAME/FLYBY_ID/`, where `MOON_NAME` is the flyby moon, and `FLYBY_ID` is the denomination of each downloaded flyby (e.g. T011, T022). Each subfolder will contain kernel ancillary and radio science subdirectories. In this example, we will download files from the **flyby T011**, and we will store them in the custom path: `'CASSINI_CUSTOM_ARCHIVE/'`\n",
    "\n",
    "\n",
    "### NOTES\n",
    "**NOTE 6. Supported Flyby Moons**\n",
    "\n",
    "For now, only Titan Flybys are supported.\n",
    "\n",
    "**NOTE 7. flyby_IDs types**\n",
    "\n",
    "`flyby_IDs` can be:\n",
    "1) a list made of single flybys like: `flyby_IDs = ['T011', 'T022']` or `flyby_IDs = ['T011']`\n",
    "2) a single string object like: `flyby_IDs = 'T011'` (not a list)\n",
    "3) a list made of all flybys performed at a given moon: `flyby_IDs = ['ALL_TITAN']`\n",
    "4) a single string object like: `flyby_IDs = 'ALL_TITAN'`\n",
    "5) a mixed list like: `flyby_IDs = ['T011', 'ALL_TITAN']`\n",
    "\n",
    "As mentioned above in *Download Cassini Flyby Files*, **you can also decide not to specify any flyby_ID**. \n",
    "In this case, **a table will be printed out** from which you will be able to interactively select the flyby you're interested in. \n",
    "\n",
    "**NOTE 8. Custom Output**\n",
    "\n",
    "As we mentioned above, the **default** output folder will be: `cassini_archive/MOON_NAME/FLYBY_ID/`\n",
    "The user can still define a custom output path using the flag `custom_output` in the `get_mission_files` function. The output files will then be found in: `custom_path/MOON_NAME/FLYBY_ID/`"
   ]
  },
  {
   "cell_type": "code",
   "execution_count": null,
   "id": "4a9fa913-5fba-4c05-b5eb-df19bb1eeb62",
   "metadata": {
    "scrolled": true
   },
   "outputs": [],
   "source": [
    "# Download Cassini Titan Flyby T011 Files specifying './CASSINI_ARCHIVE/' as custom output\n",
    "flyby_IDs = 'T011'\n",
    "kernel_files_cassini, radio_science_files_cassini, ancillary_files_cassini = object.get_mission_files(input_mission = 'cassini', flyby_IDs = flyby_IDs, custom_output = 'CASSINI_CUSTOM_ARCHIVE/')\n",
    "print(f'Total number of loaded kernels: {spice.get_total_count_of_kernels_loaded()}')"
   ]
  },
  {
   "cell_type": "markdown",
   "id": "1fc54783-62ed-4ab7-8ab1-d5637cecb2a3",
   "metadata": {},
   "source": [
    "## Loaded Kernels for Cassini Titan Flyby (Existing + Downloaded)\n",
    "Last, you can print the list of existing + downloaded files. "
   ]
  },
  {
   "cell_type": "code",
   "execution_count": null,
   "id": "b33344da-55e8-490d-a9d4-41a9754857d3",
   "metadata": {},
   "outputs": [],
   "source": [
    "print(f'CASSINI Kernels: {kernel_files_cassini}\\n')\n",
    "print(f'CASSINI Radio Science: {radio_science_files_cassini}\\n')\n",
    "print(f'CASSINI Ancillary: {ancillary_files_cassini}\\n')"
   ]
  },
  {
   "cell_type": "markdown",
   "id": "b07e4929-0064-4ec7-9b12-7f275394992a",
   "metadata": {},
   "source": [
    "## GRAIL-A and GRAIL-B Downloader (with Custom Output)\n",
    "You can also download **GRAIL data** for both **GRAIL-A and GRAIL-B** spacecraft. These can be downloaded as usual via the command: `get_mission_files`, specifying either: 'grail-a' or 'grail_b' as `input_mission`. Two folders will be created by default: `grail_archive/grail-a` and `grail_archive/grail-b`. However, you can still choose your own custom output folder. Let's call it `'GRAIL_ARCHIVE'`."
   ]
  },
  {
   "cell_type": "code",
   "execution_count": null,
   "id": "eb2350dc-2efa-448d-9f2d-b9fc2a565825",
   "metadata": {},
   "outputs": [],
   "source": [
    "start_date_grail_a = datetime(2012, 4, 6)\n",
    "end_date_grail_a = datetime(2012, 4, 12)\n",
    "\n",
    "start_date_grail_b = datetime(2012, 5, 6)\n",
    "end_date_grail_b = datetime(2012, 6, 12)\n",
    "\n",
    "kernel_files_grail_a, radio_science_files_grail_a, ancillary_files_grail_a = object.get_mission_files(\n",
    "    input_mission = 'grail-a', start_date = start_date_grail_a, end_date = end_date_grail_a, custom_output = './GRAIL_ARCHIVE'\n",
    ")         \n",
    "print(f'Total number of loaded kernels: {spice.get_total_count_of_kernels_loaded()}\\n\\n)\n",
    "\n",
    "kernel_files_grail_b, radio_science_files_grail_b, ancillary_files_grail_b = object.get_mission_files(\n",
    "    input_mission = 'grail-b', start_date = start_date_grail_b, end_date = end_date_grail_b, custom_output = './GRAIL_ARCHIVE'\n",
    ")         \n",
    "print(f'Total number of loaded kernels: {spice.get_total_count_of_kernels_loaded()}\\n\\n')\n",
    "\n",
    "print(f'GRAIL-A Kernels: {kernel_files_grail_a}\\n')\n",
    "print(f'GRAIL-A Radio Science: {radio_science_files_grail_a}\\n')\n",
    "print(f'GRAIL-A Ancillary: {ancillary_files_grail_a}\\n\\n')\n",
    "print(f'GRAIL-B Kernels: {kernel_files_grail_b}\\n')\n",
    "print(f'GRAIL-B Radio Science: {radio_science_files_grail_b}\\n')\n",
    "print(f'GRAIL-B Ancillary: {ancillary_files_grail_b}\\n')"
   ]
  },
  {
   "cell_type": "markdown",
   "id": "1c3b09f6-6a3c-4605-b2de-54ed1dc4a7e0",
   "metadata": {},
   "source": [
    "## Downloading Kernels For Non-Supported Missions \n",
    "As we mentioned in the beginning, users can also download **SPICE kernels** and **Ancillary Data** for non-supported missions (**Doppler data download** for non-supported missions is **not supported yet**!). \n",
    "\n",
    "### Customizing URLs and Patterns\n",
    "The folllowing cell shows how to download SPICE Orientation Kernels (ck) for **LRO** (not supported mission) specifying **custom url** and **output folder**.\n",
    "\n",
    "The steps to be performed are:\n",
    "\n",
    "- Define the name of your `custom_input_mission`;\n",
    "- Add a `custom_ck_url` (namely, the NAIF link where ck kernels for the mission are stored);\n",
    "- Define a `placeholders` list.\n",
    "  \n",
    "  This is a list containing the \"single pieces\" that make up a \"template filename\", selected by the user.\n",
    "\n",
    "  For instance, let's suppose you want to download all files with this structure: lrodv_2012060_2012092_v01.bc.\n",
    "  Here, lro = mission, dv = isntrument, 2012060 = start_date, 2012092 = end_date, v01 = version, bc = extension.\n",
    "  The corresponding placeholders list will be: placeholders = ['mission', 'instrument', '_', 'start_date_file', '_', 'end_date_file', '_', 'version', 'extension'], also encoding the underscores positions. \n",
    "  \n",
    "- Create the pattern corresponding to the placeholders list;\n",
    "- Add the corresponding pattern to the list of supported patterns;\n",
    "- Define the `custom_local_path`  where you want to store your data;\n",
    "- Call the `get_mission_files` function as done for other missions already, and do not forget the **flag**: `all_meta_kernel_files`.\n",
    "- Specify the start and end date\n",
    "- Call the `dynamic_download_url_files_time_interval` function."
   ]
  },
  {
   "cell_type": "code",
   "execution_count": 7,
   "id": "aaadeee6-eaee-4306-ae90-4354de910e08",
   "metadata": {},
   "outputs": [
    {
     "name": "stdout",
     "output_type": "stream",
     "text": [
      "(?P<luigi>[a-z]{1,})\n",
      "(?P<calo>[a-z]{1,})\n",
      "_\n",
      "(?P<start_date_file>[0-9]+)\n",
      "_\n",
      "(?P<end_date_file>[0-9]+)\n",
      "_\n",
      "(?P<version>v[0-9]+)\n",
      "(?P<extension>.[a-z]{1,})\n",
      "Checking URL: https://naif.jpl.nasa.gov/pub/naif/pds/data/lro-l-spice-6-v1.0/lrosp_1000/data/ck/\n",
      "Creating Local Folder: ./lro_archive\n",
      "Creating Local Subfolder: ./lro_archive/ck\n",
      "Downloading: https://naif.jpl.nasa.gov/pub/naif/pds/data/lro-l-spice-6-v1.0/lrosp_1000/data/ck/lrodv_2009186_2009213_v01.bc to: ./lro_archive/ck/lrodv_2009186_2009213_v01.bc\n"
     ]
    },
    {
     "name": "stderr",
     "output_type": "stream",
     "text": [
      "\n",
      "KeyboardInterrupt\n",
      "\n"
     ]
    }
   ],
   "source": [
    "custom_input_mission = 'lro'\n",
    "custom_ck_url = 'https://naif.jpl.nasa.gov/pub/naif/pds/data/lro-l-spice-6-v1.0/lrosp_1000/data/ck/'\n",
    "\n",
    "local_path = './lro_archive'\n",
    "start_date_lro = datetime(2009, 7, 1)\n",
    "end_date_lro = datetime(2009, 7, 10)\n",
    "\n",
    "object.add_custom_mission_kernel_url(custom_input_mission, custom_ck_url)\n",
    "\n",
    "placeholders_ck = ['mission', 'instrument', '_', 'start_date_file', '_', 'end_date_file', '_', 'version', 'extension']\n",
    "custom_ck_pattern = object.create_pattern(placeholders_ck)\n",
    "\n",
    "object.add_custom_mission_kernel_pattern(custom_input_mission, 'ck', custom_ck_pattern)\n",
    "object.dynamic_download_url_files_time_interval(custom_input_mission, local_path, start_date_lro, end_date_lro, custom_ck_url)\n",
    "\n",
    "custom_spk_url = 'https://naif.jpl.nasa.gov/pub/naif/pds/data/lro-l-spice-6-v1.0/lrosp_1000/data/spk/'\n",
    "placeholders_spk = ['mission', 'instrument', '_', 'start_date_file', '_', 'end_date_file', '_', 'version', 'extension']\n",
    "custom_spk_pattern = object.create_pattern(placeholders_spk)\n",
    "\n",
    "object.add_custom_mission_kernel_url(custom_input_mission, custom_spk_url)\n",
    "object.add_custom_mission_kernel_pattern(custom_input_mission, 'spk', custom_spk_pattern)\n",
    "print(object.supported_patterns.items())\n",
    "print(custom_spk_pattern)\n",
    "object.dynamic_download_url_files_time_interval(custom_input_mission, local_path, start_date_lro, end_date_lro, custom_spk_url)"
   ]
  },
  {
   "cell_type": "markdown",
   "id": "32ea23ac-440f-4afc-86ac-bfa293ab8bcb",
   "metadata": {},
   "source": [
    "## Downloading Custom Meta-Kernel Files for LRO (not supported mission)\n",
    "The following cell shows how to download all relevant files specified in a custom mission Meta-Kernel using custom inputs.\n",
    "The steps to be performed are:\n",
    "\n",
    "- Define the name of your `custom_input_mission`;\n",
    "- Add a `custom_meta_kernel_url` associated to the `custom_input_mission`;\n",
    "- Add a `custom_meta_kernel_pattern`  (or name, if you already know what's the exact name of the **meta-kernel** to be downloaded!);\n",
    "- Add the `custom_kernels_url` where kernels for your custom input mission are stored;\n",
    "- Define the `custom_local_path` where you want to store your data;\n",
    "- Call the `get_mission_files` function as done for other missions already, and do not forget the **flag**: `all_meta_kernel_files`;\n",
    "- Get popcorns, it's gonna take a while! 🍿"
   ]
  },
  {
   "cell_type": "code",
   "execution_count": null,
   "id": "59da3282-d6df-4f9d-8257-2f78aeb25571",
   "metadata": {},
   "outputs": [],
   "source": [
    "custom_input_mission = 'lro'\n",
    "custom_meta_kernel_url = 'https://naif.jpl.nasa.gov/pub/naif/pds/data/lro-l-spice-6-v1.0/lrosp_1000/extras/mk/'\n",
    "custom_meta_kernel_pattern = 'lro_2024_v02.tm'\n",
    "custom_kernels_url = 'https://naif.jpl.nasa.gov/pub/naif/pds/data/lro-l-spice-6-v1.0/lrosp_1000/data/'\n",
    "\n",
    "object.add_custom_mission_meta_kernel_url(custom_input_mission , custom_meta_kernel_url)\n",
    "object.add_custom_mission_meta_kernel_pattern(custom_input_mission , custom_meta_kernel_pattern)\n",
    "object.add_custom_mission_kernel_url(custom_input_mission, custom_kernels_url)\n",
    "custom_local_path = './lro_archive'\n",
    "\n",
    "object.get_mission_files(input_mission = custom_input_mission, \n",
    "                         custom_output = custom_local_path, all_meta_kernel_files = True)"
   ]
  },
  {
   "cell_type": "code",
   "execution_count": null,
   "id": "e00df629-8954-4a10-ace1-0fb2679c6e2e",
   "metadata": {},
   "outputs": [],
   "source": []
  }
 ],
 "metadata": {
  "jupytext": {
   "cell_metadata_filter": "-all",
   "main_language": "python",
   "notebook_metadata_filter": "-all"
  },
  "kernelspec": {
   "display_name": "tudat-bundle_2",
   "language": "python",
   "name": "tudat-bundle_2"
  },
  "language_info": {
   "codemirror_mode": {
    "name": "ipython",
    "version": 3
   },
   "file_extension": ".py",
   "mimetype": "text/x-python",
   "name": "python",
   "nbconvert_exporter": "python",
   "pygments_lexer": "ipython3",
   "version": "3.11.10"
  }
 },
 "nbformat": 4,
 "nbformat_minor": 5
}
