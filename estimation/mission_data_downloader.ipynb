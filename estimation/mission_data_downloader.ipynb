{
 "cells": [
  {
   "cell_type": "markdown",
   "id": "278f715a-7434-4435-9996-32e58c833585",
   "metadata": {
    "jp-MarkdownHeadingCollapsed": true
   },
   "source": [
    "## Objectives\n",
    "\n",
    "This script allows to download:\n",
    "1) Spice (clock, frame, orientation, planetary) Kernels\n",
    "2) Closed Loop Doppler Data (DSN and IFMS)\n",
    "3) Ancillary Ionospheric and Tropospheric Data\n",
    "\n",
    "**NOTE 1 (Supported Missions and Relative Downloaded Data).** \n",
    "\n",
    "The following spice kernels:\n",
    "\n",
    "1) **existing spice kernels** in the mission folder\n",
    "2) (new) **downloaded spice kernels**\n",
    "3) **standard TUDAT kernels** from [`spice.load_standard_kernels()`](https://py.api.tudat.space/en/latest/spice.html#tudatpy.interface.spice.load_standard_kernels) \n",
    "\n",
    "are loaded at the end of a run (some information is printed as output).\n",
    "\n",
    "List of currently supported input_missions:\n",
    "- **Mars Reconnnaissance Orbiter (MRO)** [Available: Spice Kernels, Doppler Data, Ancillary]\n",
    "- **Mars Express (MEX)** [Available: Spice Kernels, Doppler Data, Ancillary]\n",
    "- **Jupiter Icy Moons Explorer (JUICE)** [Available: Spice Kernels, Not Available (yet): Doppler Data, Ancillary]\n",
    "- **Cassini**\n",
    "- **GRAIL (both Grail-A and Grail-B)**\n",
    "\n",
    "Foreseen supported missions (in descending priority order, code yet to be developed):\n",
    "\n",
    "- Insight\n",
    "- VEX\n",
    "- LRO\n",
    "\n",
    "**NOTE 2. (Default and Custom Outputs)**\n",
    "\n",
    "The downloaded data for a given mission is stored (by default) in a folder named `<mission_name>_archive`. Subfolders are created automatically where Kernels, Radio Science Data and Ancillary Data are stored. \n",
    "The user can still define a custom output path passing the flag `custom_output` in the `get_mission_files` function. The output files will then be found in: `custom_path`\n",
    "\n",
    "**NOTE 3. (About DSN-TNF)**\n",
    "\n",
    "No DSN-TNF download functionality has been implemented (at least, not yet!)\n",
    "\n",
    "**Note 4: About spiceypy**\n",
    "\n",
    "A compiled version of TUDAT containing the `spiceypy` dependency is needed (if spiceypy is not present, you won't be able to download files for the Cassini mission)"
   ]
  },
  {
   "cell_type": "markdown",
   "id": "e8aaf94f-6919-4ab5-bac1-f9c50a8502de",
   "metadata": {},
   "source": [
    "## Load required standard modules\n",
    "The required modules and dependencies are taken from the python file: `Mission_Data_Retriever_Class.py` present in the`tudatpy-examples/estimation` folder."
   ]
  },
  {
   "cell_type": "code",
   "execution_count": 1,
   "id": "960740e6-2b3f-4816-96c4-7c292af8f9b0",
   "metadata": {},
   "outputs": [],
   "source": [
    "from mission_data_downloader_class import *"
   ]
  },
  {
   "cell_type": "markdown",
   "id": "7c7d053f-a48e-4570-b828-a26b03d586fd",
   "metadata": {},
   "source": [
    "## Create the LoadPDS Object\n",
    "First, we create the LoadPDS() object."
   ]
  },
  {
   "cell_type": "code",
   "execution_count": 2,
   "id": "5b389133-79f9-405d-8aab-451c8b08aec8",
   "metadata": {},
   "outputs": [],
   "source": [
    "object = LoadPDS()"
   ]
  },
  {
   "cell_type": "markdown",
   "id": "2f43bb56-edd9-44ac-a22b-1af763e51780",
   "metadata": {},
   "source": [
    "## MRO Downloader (with Default Output)\n",
    "\n",
    "### Set Time Interval(s) for Downloading\n",
    "\n",
    "Then we select the `start_date` and `end_date`, and we do so for each mission we wish to download (Cassini will be an exception due to the peculiar mission concept, see **Cassini Downloader** below). Of course, each mission has to come with its own dates, as operations are carried out over different periods. \n",
    "\n",
    "### Download Mission Files (MRO, MEX, JUICE)\n",
    "Finally, we can call the function \"get_mission_files\".\n",
    "get_mro_files will download: clock kernels, orientation kernels, radio science (odf) files for mro\n",
    "get_mex_files will download: clock kernels, orientation kernels, radio science (ifms) files for mex \n",
    "get_juice_files will download: clock kernels, orientation kernels, for juice. No radio science data, cause none is yet available on the server (fdets retrieval is needed).\n",
    "\n",
    "**Note 5 (About MEX and JUICE Files Download)**\n",
    "\n",
    "Here, we will only showcase the downloading of MRO files. However, **if you wish to download files for MEX or JUICE**, you can simply **uncomment the corresponding lines** in the cell below! We have included those **just for you**!"
   ]
  },
  {
   "cell_type": "code",
   "execution_count": 3,
   "id": "e395c559-808e-4a12-bd97-e80fb5aab407",
   "metadata": {},
   "outputs": [
    {
     "data": {
      "text/plain": [
       "'MEX_241127_STEP.TSC'"
      ]
     },
     "execution_count": 3,
     "metadata": {},
     "output_type": "execute_result"
    }
   ],
   "source": [
    "object.get_latest_clock_kernel_name('mex')"
   ]
  },
  {
   "cell_type": "code",
   "execution_count": 4,
   "id": "92902ed5-e805-4028-a147-14df0ec6be58",
   "metadata": {
    "scrolled": true
   },
   "outputs": [
    {
     "name": "stdout",
     "output_type": "stream",
     "text": [
      "======================================= Downloading MRO Data ==============================================\n",
      "\n",
      "=========================================== Folder(s) Creation ==================================================\n",
      "Creating Local Folder: mro_archive/ and its subfolders (kernels and radio)...\n",
      "Folder: mro_archive/ already exists and will not be overwritten.\n",
      "===============================================================================================================\n",
      "\n",
      "===========================================================================================================\n",
      "Download MRO ODF files:\n",
      "Checking URL: https://pds-geosciences.wustl.edu/mro/mro-m-rss-1-magr-v1/mrors_0xxx/odf/\n",
      "Downloading: https://pds-geosciences.wustl.edu/mro/mro-m-rss-1-magr-v1/mrors_0xxx/odf/mromagr2007_003_0845xmmmv1.odf to: mro_archive/odf/mromagr2007_003_0845xmmmv1.odf\n",
      "Downloading: https://pds-geosciences.wustl.edu/mro/mro-m-rss-1-magr-v1/mrors_0xxx/odf/mromagr2007_004_1801xmmmv1.odf to: mro_archive/odf/mromagr2007_004_1801xmmmv1.odf\n",
      "...Done.\n",
      "===========================================================================================================\n",
      "Download MRO Clock Kernels:\n",
      "mro_sclkscet_00112_65536.tsc\n",
      "Downloading File: https://naif.jpl.nasa.gov/pub/naif/pds/data/mro-m-spice-6-v1.0/mrosp_1000/data/sclk/mro_sclkscet_00112_65536.tsc to: mro_archive/sclk/mro_sclkscet_00112_65536.tsc\n",
      "===========================================================================================================\n",
      "Download MRO Frame Kernels:\n",
      "Downloading File: https://naif.jpl.nasa.gov/pub/naif/pds/data/mro-m-spice-6-v1.0/mrosp_1000/data/fk/mro_v16.tf to: mro_archive/fk/mro_v16.tf\n",
      "===========================================================================================================\n",
      "Download MRO SPK Kernels:\n",
      "Downloading File: https://naif.jpl.nasa.gov/pub/naif/pds/data/mro-m-spice-6-v1.0/mrosp_1000/data/spk/mro_psp2.bsp to: mro_archive/spk/mro_psp2.bsp\n",
      "Downloading File: https://naif.jpl.nasa.gov/pub/naif/pds/data/mro-m-spice-6-v1.0/mrosp_1000/data/spk/mro_struct_v10.bsp to: mro_archive/spk/mro_struct_v10.bsp\n",
      "===========================================================================================================\n",
      "Download MRO Orientation Kernels:\n",
      "Checking URL: https://naif.jpl.nasa.gov/pub/naif/pds/data/mro-m-spice-6-v1.0/mrosp_1000/data/ck/\n",
      "Downloading: https://naif.jpl.nasa.gov/pub/naif/pds/data/mro-m-spice-6-v1.0/mrosp_1000/data/ck/mro_sc_psp_070102_070108.bc to: mro_archive/ck/mro_sc_psp_070102_070108.bc\n",
      "...Done.\n",
      "===========================================================================================================\n",
      "Download MRO Tropospheric Corrections Files\n",
      "Checking URL: https://pds-geosciences.wustl.edu/mro/mro-m-rss-1-magr-v1/mrors_0xxx/ancillary/tro/\n",
      "Downloading: https://pds-geosciences.wustl.edu/mro/mro-m-rss-1-magr-v1/mrors_0xxx/ancillary/tro/mromagr2007_001_2007_032.tro to: mro_archive/tro/mromagr2007_001_2007_032.tro\n",
      "...Done.\n",
      "===========================================================================================================\n",
      "Download MRO Ionospheric Corrections Files\n",
      "Checking URL: https://pds-geosciences.wustl.edu/mro/mro-m-rss-1-magr-v1/mrors_0xxx/ancillary/ion/\n",
      "Downloading: https://pds-geosciences.wustl.edu/mro/mro-m-rss-1-magr-v1/mrors_0xxx/ancillary/ion/mromagr2007_001_2007_032.ion to: mro_archive/ion/mromagr2007_001_2007_032.ion\n",
      "...Done.\n",
      "===============================================================================================================\n",
      "Number of Loaded Existing + Downloaded Kernels: 2\n",
      "Cleaning Mission Archive...\n",
      "Done.\n",
      "Number of Loaded Standard Kernels: 13\n",
      "===============================================================================================================\n",
      "Total number of loaded kernels: 15\n",
      "======================================= Downloading JUICE Data ==============================================\n",
      "\n",
      "=========================================== Folder(s) Creation ==================================================\n",
      "Creating Local Folder: juice_archive/ and its subfolders (kernels and radio)...\n",
      "Folder: juice_archive/ already exists and will not be overwritten.\n",
      "===============================================================================================================\n",
      "\n",
      "===========================================================================================================\n",
      "Download JUICE Clock Files:\n",
      "Warning: Clock Kernel Ambiguity Found: ['https://spiftp.esac.esa.int/data/SPICE/JUICE/kernels/sclk/juice_fict_160326_v02.tsc', 'https://spiftp.esac.esa.int/data/SPICE/JUICE/kernels/sclk/juice_step_241112_v01.tsc'].\n",
      "Warning: Clock Kernel Ambiguity Found: ['https://spiftp.esac.esa.int/data/SPICE/JUICE/kernels/sclk/juice_fict_160326_v02.tsc', 'https://spiftp.esac.esa.int/data/SPICE/JUICE/kernels/sclk/juice_step_241112_v01.tsc'].\n"
     ]
    },
    {
     "ename": "TypeError",
     "evalue": "join() argument must be str, bytes, or os.PathLike object, not 'NoneType'",
     "output_type": "error",
     "traceback": [
      "\u001b[0;31m---------------------------------------------------------------------------\u001b[0m",
      "\u001b[0;31mTypeError\u001b[0m                                 Traceback (most recent call last)",
      "Cell \u001b[0;32mIn[4], line 19\u001b[0m\n\u001b[1;32m     14\u001b[0m \u001b[38;5;28mprint\u001b[39m(\u001b[38;5;124mf\u001b[39m\u001b[38;5;124m'\u001b[39m\u001b[38;5;124mTotal number of loaded kernels: \u001b[39m\u001b[38;5;132;01m{\u001b[39;00mspice\u001b[38;5;241m.\u001b[39mget_total_count_of_kernels_loaded()\u001b[38;5;132;01m}\u001b[39;00m\u001b[38;5;124m'\u001b[39m)\n\u001b[1;32m     16\u001b[0m \u001b[38;5;66;03m#kernel_files_mex, radio_science_files_mex, ancillary_files_mex = object.get_mission_files(input_mission = 'mex', start_date = start_date_mex, end_date = end_date_mex)         \u001b[39;00m\n\u001b[1;32m     17\u001b[0m \u001b[38;5;66;03m#print(f'Total number of loaded kernels: {spice.get_total_count_of_kernels_loaded()}')\u001b[39;00m\n\u001b[0;32m---> 19\u001b[0m kernel_files_juice, radio_science_files_juice, ancillary_files_juice \u001b[38;5;241m=\u001b[39m \u001b[38;5;28mobject\u001b[39m\u001b[38;5;241m.\u001b[39mget_mission_files(input_mission \u001b[38;5;241m=\u001b[39m \u001b[38;5;124m'\u001b[39m\u001b[38;5;124mjuice\u001b[39m\u001b[38;5;124m'\u001b[39m, start_date \u001b[38;5;241m=\u001b[39m start_date_juice, end_date \u001b[38;5;241m=\u001b[39m end_date_juice) \n\u001b[1;32m     20\u001b[0m \u001b[38;5;28mprint\u001b[39m(\u001b[38;5;124mf\u001b[39m\u001b[38;5;124m'\u001b[39m\u001b[38;5;124mTotal number of loaded kernels: \u001b[39m\u001b[38;5;132;01m{\u001b[39;00mspice\u001b[38;5;241m.\u001b[39mget_total_count_of_kernels_loaded()\u001b[38;5;132;01m}\u001b[39;00m\u001b[38;5;124m'\u001b[39m)\n",
      "File \u001b[0;32m~/Desktop/tudatpy-examples/estimation/mission_data_downloader_class.py:1414\u001b[0m, in \u001b[0;36mLoadPDS.get_mission_files\u001b[0;34m(self, input_mission, start_date, end_date, flyby_IDs, custom_output, all_meta_kernel_files)\u001b[0m\n\u001b[1;32m   1411\u001b[0m         _, radio_science_files_to_load, ancillary_files_to_load \u001b[38;5;241m=\u001b[39m \u001b[38;5;28mself\u001b[39m\u001b[38;5;241m.\u001b[39mget_juice_files(local_folder, start_date, end_date)\n\u001b[1;32m   1413\u001b[0m     \u001b[38;5;28;01melse\u001b[39;00m: \n\u001b[0;32m-> 1414\u001b[0m         kernel_files_to_load, radio_science_files_to_load, ancillary_files_to_load \u001b[38;5;241m=\u001b[39m \u001b[38;5;28mself\u001b[39m\u001b[38;5;241m.\u001b[39mget_juice_files(local_folder, start_date, end_date)\n\u001b[1;32m   1416\u001b[0m \u001b[38;5;28;01melif\u001b[39;00m input_mission \u001b[38;5;241m==\u001b[39m \u001b[38;5;124m'\u001b[39m\u001b[38;5;124mmro\u001b[39m\u001b[38;5;124m'\u001b[39m:\n\u001b[1;32m   1417\u001b[0m     \u001b[38;5;28;01mif\u001b[39;00m kernel_files_to_load:\n",
      "File \u001b[0;32m~/Desktop/tudatpy-examples/estimation/mission_data_downloader_class.py:1788\u001b[0m, in \u001b[0;36mLoadPDS.get_juice_files\u001b[0;34m(self, local_folder, start_date, end_date)\u001b[0m\n\u001b[1;32m   1786\u001b[0m url_clock_files\u001b[38;5;241m=\u001b[39m\u001b[38;5;124m\"\u001b[39m\u001b[38;5;124mhttps://spiftp.esac.esa.int/data/SPICE/JUICE/kernels/sclk/\u001b[39m\u001b[38;5;124m\"\u001b[39m\n\u001b[1;32m   1787\u001b[0m wanted_clock_files \u001b[38;5;241m=\u001b[39m [\u001b[38;5;28mself\u001b[39m\u001b[38;5;241m.\u001b[39mget_latest_clock_kernel_name(input_mission)]\n\u001b[0;32m-> 1788\u001b[0m clock_files_to_load \u001b[38;5;241m=\u001b[39m \u001b[38;5;28mself\u001b[39m\u001b[38;5;241m.\u001b[39mget_kernels(url_clock_files, wanted_clock_files, local_folder)\n\u001b[1;32m   1790\u001b[0m \u001b[38;5;28;01mif\u001b[39;00m clock_files_to_load:\n\u001b[1;32m   1791\u001b[0m     \u001b[38;5;28mself\u001b[39m\u001b[38;5;241m.\u001b[39mkernel_files_to_load[\u001b[38;5;124m'\u001b[39m\u001b[38;5;124msclk\u001b[39m\u001b[38;5;124m'\u001b[39m] \u001b[38;5;241m=\u001b[39m clock_files_to_load\n",
      "File \u001b[0;32m~/Desktop/tudatpy-examples/estimation/mission_data_downloader_class.py:488\u001b[0m, in \u001b[0;36mLoadPDS.get_kernels\u001b[0;34m(self, url, wanted_files, local_folder)\u001b[0m\n\u001b[1;32m    485\u001b[0m os\u001b[38;5;241m.\u001b[39mmakedirs(os\u001b[38;5;241m.\u001b[39mpath\u001b[38;5;241m.\u001b[39mjoin(local_folder,data_type), exist_ok\u001b[38;5;241m=\u001b[39m\u001b[38;5;28;01mTrue\u001b[39;00m)\n\u001b[1;32m    487\u001b[0m \u001b[38;5;66;03m# Create full paths for each file to load locally\u001b[39;00m\n\u001b[0;32m--> 488\u001b[0m \u001b[38;5;28mself\u001b[39m\u001b[38;5;241m.\u001b[39mfiles_to_load \u001b[38;5;241m=\u001b[39m [os\u001b[38;5;241m.\u001b[39mpath\u001b[38;5;241m.\u001b[39mjoin(local_folder, data_type, wanted_file) \u001b[38;5;28;01mfor\u001b[39;00m wanted_file \u001b[38;5;129;01min\u001b[39;00m wanted_files]\n\u001b[1;32m    490\u001b[0m \u001b[38;5;66;03m# Download each file if not already present\u001b[39;00m\n\u001b[1;32m    491\u001b[0m \u001b[38;5;28;01mfor\u001b[39;00m wanted_file, local_file \u001b[38;5;129;01min\u001b[39;00m \u001b[38;5;28mzip\u001b[39m(wanted_files, \u001b[38;5;28mself\u001b[39m\u001b[38;5;241m.\u001b[39mfiles_to_load):\n",
      "File \u001b[0;32m~/Desktop/tudatpy-examples/estimation/mission_data_downloader_class.py:488\u001b[0m, in \u001b[0;36m<listcomp>\u001b[0;34m(.0)\u001b[0m\n\u001b[1;32m    485\u001b[0m os\u001b[38;5;241m.\u001b[39mmakedirs(os\u001b[38;5;241m.\u001b[39mpath\u001b[38;5;241m.\u001b[39mjoin(local_folder,data_type), exist_ok\u001b[38;5;241m=\u001b[39m\u001b[38;5;28;01mTrue\u001b[39;00m)\n\u001b[1;32m    487\u001b[0m \u001b[38;5;66;03m# Create full paths for each file to load locally\u001b[39;00m\n\u001b[0;32m--> 488\u001b[0m \u001b[38;5;28mself\u001b[39m\u001b[38;5;241m.\u001b[39mfiles_to_load \u001b[38;5;241m=\u001b[39m [os\u001b[38;5;241m.\u001b[39mpath\u001b[38;5;241m.\u001b[39mjoin(local_folder, data_type, wanted_file) \u001b[38;5;28;01mfor\u001b[39;00m wanted_file \u001b[38;5;129;01min\u001b[39;00m wanted_files]\n\u001b[1;32m    490\u001b[0m \u001b[38;5;66;03m# Download each file if not already present\u001b[39;00m\n\u001b[1;32m    491\u001b[0m \u001b[38;5;28;01mfor\u001b[39;00m wanted_file, local_file \u001b[38;5;129;01min\u001b[39;00m \u001b[38;5;28mzip\u001b[39m(wanted_files, \u001b[38;5;28mself\u001b[39m\u001b[38;5;241m.\u001b[39mfiles_to_load):\n",
      "File \u001b[0;32m/opt/homebrew/anaconda3/envs/tudat-bundle_2/lib/python3.11/posixpath.py:90\u001b[0m, in \u001b[0;36mjoin\u001b[0;34m(a, *p)\u001b[0m\n\u001b[1;32m     88\u001b[0m             path \u001b[38;5;241m+\u001b[39m\u001b[38;5;241m=\u001b[39m sep \u001b[38;5;241m+\u001b[39m b\n\u001b[1;32m     89\u001b[0m \u001b[38;5;28;01mexcept\u001b[39;00m (\u001b[38;5;167;01mTypeError\u001b[39;00m, \u001b[38;5;167;01mAttributeError\u001b[39;00m, \u001b[38;5;167;01mBytesWarning\u001b[39;00m):\n\u001b[0;32m---> 90\u001b[0m     genericpath\u001b[38;5;241m.\u001b[39m_check_arg_types(\u001b[38;5;124m'\u001b[39m\u001b[38;5;124mjoin\u001b[39m\u001b[38;5;124m'\u001b[39m, a, \u001b[38;5;241m*\u001b[39mp)\n\u001b[1;32m     91\u001b[0m     \u001b[38;5;28;01mraise\u001b[39;00m\n\u001b[1;32m     92\u001b[0m \u001b[38;5;28;01mreturn\u001b[39;00m path\n",
      "File \u001b[0;32m/opt/homebrew/anaconda3/envs/tudat-bundle_2/lib/python3.11/genericpath.py:152\u001b[0m, in \u001b[0;36m_check_arg_types\u001b[0;34m(funcname, *args)\u001b[0m\n\u001b[1;32m    150\u001b[0m         hasbytes \u001b[38;5;241m=\u001b[39m \u001b[38;5;28;01mTrue\u001b[39;00m\n\u001b[1;32m    151\u001b[0m     \u001b[38;5;28;01melse\u001b[39;00m:\n\u001b[0;32m--> 152\u001b[0m         \u001b[38;5;28;01mraise\u001b[39;00m \u001b[38;5;167;01mTypeError\u001b[39;00m(\u001b[38;5;124mf\u001b[39m\u001b[38;5;124m'\u001b[39m\u001b[38;5;132;01m{\u001b[39;00mfuncname\u001b[38;5;132;01m}\u001b[39;00m\u001b[38;5;124m() argument must be str, bytes, or \u001b[39m\u001b[38;5;124m'\u001b[39m\n\u001b[1;32m    153\u001b[0m                         \u001b[38;5;124mf\u001b[39m\u001b[38;5;124m'\u001b[39m\u001b[38;5;124mos.PathLike object, not \u001b[39m\u001b[38;5;132;01m{\u001b[39;00ms\u001b[38;5;241m.\u001b[39m\u001b[38;5;18m__class__\u001b[39m\u001b[38;5;241m.\u001b[39m\u001b[38;5;18m__name__\u001b[39m\u001b[38;5;132;01m!r}\u001b[39;00m\u001b[38;5;124m'\u001b[39m) \u001b[38;5;28;01mfrom\u001b[39;00m \u001b[38;5;28;01mNone\u001b[39;00m\n\u001b[1;32m    154\u001b[0m \u001b[38;5;28;01mif\u001b[39;00m hasstr \u001b[38;5;129;01mand\u001b[39;00m hasbytes:\n\u001b[1;32m    155\u001b[0m     \u001b[38;5;28;01mraise\u001b[39;00m \u001b[38;5;167;01mTypeError\u001b[39;00m(\u001b[38;5;124m\"\u001b[39m\u001b[38;5;124mCan\u001b[39m\u001b[38;5;124m'\u001b[39m\u001b[38;5;124mt mix strings and bytes in path components\u001b[39m\u001b[38;5;124m\"\u001b[39m) \u001b[38;5;28;01mfrom\u001b[39;00m \u001b[38;5;28;01mNone\u001b[39;00m\n",
      "\u001b[0;31mTypeError\u001b[0m: join() argument must be str, bytes, or os.PathLike object, not 'NoneType'"
     ]
    }
   ],
   "source": [
    "start_date_juice = datetime(2023, 7, 1)\n",
    "end_date_juice = datetime(2023, 8, 10)\n",
    "\n",
    "start_date_mro = datetime(2007, 1, 3)\n",
    "end_date_mro = datetime(2007, 1, 5)\n",
    "\n",
    "start_date_mex = datetime(2004, 1, 3)\n",
    "end_date_mex = datetime(2004,2, 7) \n",
    "\n",
    "# Download Mission Files with default output folder\n",
    "# (only MRO is shown here. Uncomment the corresponding lines to download data for MEX and JUICE!)\n",
    "\n",
    "kernel_files_mro, radio_science_files_mro, ancillary_files_mro = object.get_mission_files(input_mission = 'mro', start_date = start_date_mro, end_date = end_date_mro, custom_output = None)         \n",
    "print(f'Total number of loaded kernels: {spice.get_total_count_of_kernels_loaded()}')\n",
    "\n",
    "#kernel_files_mex, radio_science_files_mex, ancillary_files_mex = object.get_mission_files(input_mission = 'mex', start_date = start_date_mex, end_date = end_date_mex)         \n",
    "#print(f'Total number of loaded kernels: {spice.get_total_count_of_kernels_loaded()}')\n",
    "\n",
    "#kernel_files_juice, radio_science_files_juice, ancillary_files_juice = object.get_mission_files(input_mission = 'juice', start_date = start_date_juice, end_date = end_date_juice) \n",
    "#print(f'Total number of loaded kernels: {spice.get_total_count_of_kernels_loaded()}')"
   ]
  },
  {
   "cell_type": "markdown",
   "id": "1901bd8e-1e40-4b50-b0d1-d55acb92d1eb",
   "metadata": {},
   "source": [
    "## Loaded Kernels for MRO, MEX and JUICE (Existing + Downloaded)\n",
    "Last, you can print the list of existing + downloaded files. "
   ]
  },
  {
   "cell_type": "code",
   "execution_count": null,
   "id": "848b1ea2-7800-439a-a463-601cc84f2e9b",
   "metadata": {},
   "outputs": [],
   "source": [
    "print(f'MRO Kernels: {kernel_files_mro}\\n')\n",
    "print(f'MRO Radio Science: {radio_science_files_mro}\\n')\n",
    "print(f'MRO Ancillary: {ancillary_files_mro}\\n')\n",
    "\n",
    "print(f'MEX Kernels: {kernel_files_mex}\\n')\n",
    "print(f'MEX Radio Science: {radio_science_files_mex}\\n')\n",
    "print(f'MEX Ancillary: {ancillary_files_mex}\\n')\n",
    "\n",
    "print(f'JUICE Kernels: {kernel_files_juice}\\n')\n",
    "print(f'JUICE Radio Science: {radio_science_files_juice}\\n') # it will be empty for now... (no Radio Science yet available on the server)\n",
    "print(f'JUICE Ancillary: {ancillary_files_juice}\\n') # it will be empty for now... (no Ancillary files yet available on the server)"
   ]
  },
  {
   "cell_type": "markdown",
   "id": "747f7733-2c9f-4ad1-bf16-0d3cf2b29949",
   "metadata": {},
   "source": [
    "## Cassini Downloader (with Custom Output)\n",
    "\n",
    "### Set Flybys for Downloading\n",
    "\n",
    "The most valuable data collected for Cassini is probably the one related to the various flybys of the Moons of Saturn.\n",
    "For this reason, in order to retrieve Cassini data, we will require the name of the flyby data the user wishes to download, rather than a start and end date (see **Notes 5 and 6** for info on the supported flybys). \n",
    "\n",
    "### Download Cassini Flyby Files\n",
    "We can call the function \"get_mission_files\" with 'Cassini' as input_mission. This call **will print a comprehensive table of supported flybys to choose from**, and the user will be asked to manually input the name of one of them.\n",
    "\n",
    "### Flyby Data Output Division\n",
    "\n",
    "The default output folder will be named `cassini_archive/MOON_NAME/FLYBY_ID/`, where `MOON_NAME` is the flyby moon, and `FLYBY_ID` is the denomination of each downloaded flyby (e.g. T011, T022). Each subfolder will contain kernel ancillary and radio science subdirectories. In this example, we will download files from the flyby T011, and we will store them in the custom path: `'CASSINI_CUSTOM_ARCHIVE/'`\n",
    "\n",
    "**Note 5: Supported Flyby Moons**\n",
    "\n",
    "For now, only Titan Flybys are supported.\n",
    "\n",
    "**Note 6: flyby_IDs types**\n",
    "\n",
    "`flyby_IDs` can be:\n",
    "1) a list made of single flybys like: `flyby_IDs = ['T011', 'T022']` or `flyby_IDs = ['T011']`\n",
    "2) a single string object like: `flyby_IDs = 'T011'` (not a list)\n",
    "3) a list made of all flybys performed at a given moon: `flyby_IDs = ['ALL_TITAN']`\n",
    "4) a single string object like: `flyby_IDs = 'ALL_TITAN'`\n",
    "5) a mixed list like: `flyby_IDs = ['T011', 'ALL_TITAN']`\n",
    "\n",
    "As mentioned above in *Download Cassini Flyby Files*, **you can also decide not to specify any flyby_ID**. \n",
    "In this case, **a table will be printed out** from which you will be able to interactively select the flyby you're interested in. \n",
    "\n",
    "**Note 7: Custom Output**\n",
    "\n",
    "As we mentioned above, the **default** output folder will be: `cassini_archive/MOON_NAME/FLYBY_ID/`\n",
    "The user can still define a custom output path using the flag `custom_output` in the `get_mission_files` function. The output files will then be found in: `custom_path/MOON_NAME/FLYBY_ID/`"
   ]
  },
  {
   "cell_type": "code",
   "execution_count": null,
   "id": "4a9fa913-5fba-4c05-b5eb-df19bb1eeb62",
   "metadata": {
    "scrolled": true
   },
   "outputs": [],
   "source": [
    "# Download Cassini Titan Flyby T011 Files specifying './CASSINI_ARCHIVE/' as custom output\n",
    "flyby_IDs = 'T011'\n",
    "kernel_files_cassini, radio_science_files_cassini, ancillary_files_cassini = object.get_mission_files(input_mission = 'cassini', flyby_IDs = flyby_IDs, custom_output = 'CASSINI_CUSTOM_ARCHIVE/')\n",
    "print(f'Total number of loaded kernels: {spice.get_total_count_of_kernels_loaded()}')"
   ]
  },
  {
   "cell_type": "markdown",
   "id": "1fc54783-62ed-4ab7-8ab1-d5637cecb2a3",
   "metadata": {},
   "source": [
    "## Loaded Kernels for Cassini Titan Flyby (Existing + Downloaded)\n",
    "Last, you can print the list of existing + downloaded files. "
   ]
  },
  {
   "cell_type": "code",
   "execution_count": null,
   "id": "b33344da-55e8-490d-a9d4-41a9754857d3",
   "metadata": {},
   "outputs": [],
   "source": [
    "print(f'CASSINI Kernels: {kernel_files_cassini}\\n')\n",
    "print(f'CASSINI Radio Science: {radio_science_files_cassini}\\n')\n",
    "print(f'CASSINI Ancillary: {ancillary_files_cassini}\\n')"
   ]
  },
  {
   "cell_type": "markdown",
   "id": "b07e4929-0064-4ec7-9b12-7f275394992a",
   "metadata": {},
   "source": [
    "## GRAIL-A and GRAIL-B Downloader (with Custom Output)\n",
    "As we mentioned above, you can also download GRAIL data for both GRAIL-A and GRAIL-B spacecraft. These can be downloaded as usually via the command: `get_mission_files`, specifying either: 'grail-a' or 'grail_b' as `input_mission`. Two folders will be created by default: `grail_archive/grail-a` and `grail_archive/grail-b`. However, you can still choose your own custom output folder. Let's call it `'GRAIL_ARCHIVE'`."
   ]
  },
  {
   "cell_type": "code",
   "execution_count": null,
   "id": "eb2350dc-2efa-448d-9f2d-b9fc2a565825",
   "metadata": {},
   "outputs": [],
   "source": [
    "start_date_grail_a = datetime(2012, 4, 6)\n",
    "end_date_grail_a = datetime(2012, 4, 12)\n",
    "\n",
    "start_date_grail_b = datetime(2012, 5, 6)\n",
    "end_date_grail_b = datetime(2012, 6, 12)\n",
    "\n",
    "kernel_files_grail_a, radio_science_files_grail_a, ancillary_files_grail_a = object.get_mission_files(input_mission = 'grail-a', start_date = start_date_grail_a, end_date = end_date_grail_a, custom_output = './GRAIL_ARCHIVE')         \n",
    "print(f'Total number of loaded kernels (GRAIL-A): {spice.get_total_count_of_kernels_loaded()}')\n",
    "kernel_files_grail_b, radio_science_files_grail_b, ancillary_files_grail_b = object.get_mission_files(input_mission = 'grail-b', start_date = start_date_grail_b, end_date = end_date_grail_b, custom_output = './GRAIL_ARCHIVE')         \n",
    "print(f'Total number of loaded kernels (GRAIL-B): {spice.get_total_count_of_kernels_loaded()}')"
   ]
  },
  {
   "cell_type": "code",
   "execution_count": null,
   "id": "687382ae-1cc8-4f12-92eb-94136215eb47",
   "metadata": {},
   "outputs": [],
   "source": [
    "print(f'GRAIL-A Kernels: {kernel_files_grail_a}\\n')\n",
    "print(f'GRAIL-A Radio Science: {radio_science_files_grail_a}\\n')\n",
    "print(f'GRAIL-A Ancillary: {ancillary_files_grail_a}\\n')\n",
    "print('############################################################################################################################################\\n')\n",
    "print(f'GRAIL-B Kernels: {kernel_files_grail_b}\\n')\n",
    "print(f'GRAIL-B Radio Science: {radio_science_files_grail_b}\\n')\n",
    "print(f'GRAIL-B Ancillary: {ancillary_files_grail_b}\\n')"
   ]
  },
  {
   "cell_type": "markdown",
   "id": "53367b7c-4152-4265-8abf-469e589084df",
   "metadata": {},
   "source": [
    "## Download Meta-Kernel Files"
   ]
  },
  {
   "cell_type": "code",
   "execution_count": null,
   "id": "72c5c0a0-05b9-46be-9b91-d388284e33c2",
   "metadata": {},
   "outputs": [],
   "source": [
    "# Example Usage\n",
    "kernels_from_meta_kernel = object.extract_kernels_from_meta_kernel('mro')\n",
    "print(\"Kernel Files from Meta Kernel File:\")\n",
    "for category, files in categorized_kernels.items():\n",
    "    print(f\"{category}: {files}\\n\")"
   ]
  },
  {
   "cell_type": "markdown",
   "id": "1c3b09f6-6a3c-4605-b2de-54ed1dc4a7e0",
   "metadata": {},
   "source": [
    "## Customizing URLs and Patterns"
   ]
  },
  {
   "cell_type": "code",
   "execution_count": null,
   "id": "aaadeee6-eaee-4306-ae90-4354de910e08",
   "metadata": {},
   "outputs": [],
   "source": [
    "object.add_custom_mission_meta_kernel_pattern('luigi', 'luigi_url')"
   ]
  }
 ],
 "metadata": {
  "jupytext": {
   "cell_metadata_filter": "-all",
   "main_language": "python",
   "notebook_metadata_filter": "-all"
  },
  "kernelspec": {
   "display_name": "tudat-bundle_2",
   "language": "python",
   "name": "tudat-bundle_2"
  },
  "language_info": {
   "codemirror_mode": {
    "name": "ipython",
    "version": 3
   },
   "file_extension": ".py",
   "mimetype": "text/x-python",
   "name": "python",
   "nbconvert_exporter": "python",
   "pygments_lexer": "ipython3",
   "version": "3.11.10"
  }
 },
 "nbformat": 4,
 "nbformat_minor": 5
}
