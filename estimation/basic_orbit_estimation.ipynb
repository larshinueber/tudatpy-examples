{
 "cells": [
  {
   "cell_type": "markdown",
   "id": "e67134f8",
   "metadata": {},
   "source": [
    "# Tudatpy example application: Basic orbit estimation\n",
    "Copyright (c) 2010-2021, Delft University of Technology. All rights reserved. This file is part of the Tudat. Redistribution and use in source and binary forms, with or without modification, are permitted exclusively under the terms of the Modified BSD license. You should have received a copy of the license with this file. If not, please or visit: http://tudat.tudelft.nl/LICENSE.\n",
    "\n",
    "## Context\n",
    "This example implements the following ascept of orbit estimation:\n",
    "- Simulation of a spacecraft orbit.\n",
    "- Creation of a tracking station on Earth.\n",
    "- Simulation of Doppler data at 1 mm/s every 60 seconds, during periods where the spacecraft is at an elevation angle above 15deg, as viewed from the station.\n",
    "- Perturbation of the initial state of 100m (position components) and 0.1 m/s (velocity components).\n",
    "- Use of the simulated data to estimate the spacecraft initial state, drag coefficient and radiation pressure coefficient."
   ]
  },
  {
   "cell_type": "markdown",
   "id": "e99cbeda",
   "metadata": {},
   "source": [
    "## Import statements\n",
    "The required import statements are made here, at the very beginning.\n",
    "\n",
    "Some standard modules are first loaded to convert degrees to radians, and plot results. These are `numpy` and `matplotlib.pyplot`.\n",
    "\n",
    "Then, the different modules of `tudatpy` that will be used are imported. Most notably, the `estimation`, `estimation_setup`, and `obeservation` modules are new to this example."
   ]
  },
  {
   "cell_type": "code",
   "execution_count": 1,
   "id": "b71677c3",
   "metadata": {},
   "outputs": [],
   "source": [
    "# Load standard modules\n",
    "import numpy as np\n",
    "from matplotlib import pyplot as plt\n",
    "\n",
    "# Load tudatpy modules\n",
    "from tudatpy.kernel import constants\n",
    "from tudatpy.kernel.interface import spice\n",
    "from tudatpy.kernel import numerical_simulation\n",
    "from tudatpy.kernel.numerical_simulation import environment_setup\n",
    "from tudatpy.kernel.numerical_simulation import propagation_setup\n",
    "from tudatpy.kernel.numerical_simulation import estimation, estimation_setup\n",
    "from tudatpy.kernel.numerical_simulation.estimation_setup import observation\n",
    "from tudatpy.kernel.astro import element_conversion"
   ]
  },
  {
   "cell_type": "markdown",
   "id": "707bd319",
   "metadata": {},
   "source": [
    "## Configuration\n",
    "NAIF's `SPICE` kernels are first loaded, so that the position of various bodies such as the Earth can be make known to `tudatpy`.\n",
    "\n",
    "Then, the start and end simulation epochs are setups. In this case, the start epoch is set to `0`, corresponding to the 1st of January 2000. The times should be specified in seconds since J2000.\n",
    "Please refer to the API documentation of the `time_conversion module` [here](https://tudatpy.readthedocs.io/en/latest/time_conversion.html) for more information on this."
   ]
  },
  {
   "cell_type": "code",
   "execution_count": 2,
   "id": "e336516b",
   "metadata": {},
   "outputs": [],
   "source": [
    "# Load spice kernels\n",
    "spice.load_standard_kernels()\n",
    "\n",
    "# Set simulation start and end epochs\n",
    "simulation_start_epoch = 0.0\n",
    "simulation_end_epoch = 3 * constants.JULIAN_DAY"
   ]
  },
  {
   "cell_type": "markdown",
   "id": "dd2cea53",
   "metadata": {},
   "source": [
    "## Environment setup\n",
    "Let’s create the environment for our simulation. This setup covers the creation of (celestial) bodies, vehicle(s), and environment interfaces.\n",
    "\n",
    "### Create main the bodies\n",
    "Bodies can be created by making a list of strings with the bodies that is to be included in the simulation.\n",
    "\n",
    "The default body settings (such as atmosphere, body shape, rotation model) are taken from `SPICE`.\n",
    "\n",
    "These settings can be adjusted. Please refere to the [Available Environment Models](https://tudat-space.readthedocs.io/en/latest/_src_user_guide/state_propagation/environment_setup/create_models/available.html#available-environment-models) in the user guide for more details.\n",
    "\n",
    "Finally, the system of bodies is created using the settings. This system of bodies is stored into the variable `bodies`."
   ]
  },
  {
   "cell_type": "code",
   "execution_count": 3,
   "id": "4563c7d1",
   "metadata": {},
   "outputs": [],
   "source": [
    "# Create default body settings for \"Sun\", \"Earth\", \"Moon\", \"Mars\", and \"Venus\"\n",
    "bodies_to_create = [\"Sun\", \"Earth\", \"Moon\", \"Mars\", \"Venus\"]\n",
    "\n",
    "# Create default body settings for bodies_to_create, with \"Earth\"/\"J2000\" as the global frame origin and orientation\n",
    "global_frame_origin = \"Earth\"\n",
    "global_frame_orientation = \"J2000\"\n",
    "body_settings = environment_setup.get_default_body_settings(\n",
    "    bodies_to_create, global_frame_origin, global_frame_orientation)\n",
    "\n",
    "# Create system of bodies\n",
    "bodies = environment_setup.create_system_of_bodies(body_settings)"
   ]
  },
  {
   "cell_type": "markdown",
   "id": "0c03bcbc",
   "metadata": {},
   "source": [
    "### Add a ground station\n",
    "A ground station is then added. In this case, the ground station is located on Earth, in Delft, at an altitude of 0m, 52.00667°N, 4.35556°E.\n",
    "\n",
    "More information on how to use the `add_ground_station()` function can be found on [tudatpy API website](https://tudatpy.readthedocs.io/en/latest/environment_setup.html#tudatpy.numerical_simulation.environment_setup.add_ground_station)."
   ]
  },
  {
   "cell_type": "code",
   "execution_count": 4,
   "id": "445f4751",
   "metadata": {},
   "outputs": [],
   "source": [
    "# Define the position of the ground station on Earth\n",
    "station_altitude = 0.0\n",
    "delft_latitude = np.deg2rad(52.00667)\n",
    "delft_longitude = np.deg2rad(4.35556)\n",
    "\n",
    "# Add the ground station to the environment\n",
    "environment_setup.add_ground_station(\n",
    "    bodies.get_body(\"Earth\"),\n",
    "    \"TrackingStation\",\n",
    "    [station_altitude, delft_latitude, delft_longitude],\n",
    "    element_conversion.geodetic_position_type)"
   ]
  },
  {
   "cell_type": "markdown",
   "id": "f1b002c1",
   "metadata": {},
   "source": [
    "### Create the vehicle and its environment interface\n",
    "Let's now create the satellite for which an orbit will be simulated.\n",
    "\n",
    "This satellite is setup to have mass of 400kg, a reference area (used both for aerodynamic and radiation pressure) of 4m$^2$, a radiation pressure coefficient of 1.2, and a drag coefficient also of 1.2.\n",
    "\n",
    "When setting up the radiation pressure interface, the Earth is set as a body that can occult the radiation emitted by the Sun."
   ]
  },
  {
   "cell_type": "code",
   "execution_count": 5,
   "id": "1585b93e",
   "metadata": {},
   "outputs": [],
   "source": [
    "# Create vehicle objects.\n",
    "bodies.create_empty_body(\"Delfi-C3\")\n",
    "bodies.get(\"Delfi-C3\").mass = 400.0\n",
    "\n",
    "# Create aerodynamic coefficient interface settings\n",
    "reference_area = 4.0\n",
    "drag_coefficient = 1.2\n",
    "aero_coefficient_settings = environment_setup.aerodynamic_coefficients.constant(\n",
    "    reference_area, [drag_coefficient, 0.0, 0.0]\n",
    ")\n",
    "# Add the aerodynamic interface to the environment\n",
    "environment_setup.add_aerodynamic_coefficient_interface(\n",
    "            bodies, \"Delfi-C3\", aero_coefficient_settings)\n",
    "\n",
    "# Create radiation pressure settings\n",
    "reference_area_radiation = 4.0\n",
    "radiation_pressure_coefficient = 1.2\n",
    "occulting_bodies = [\"Earth\"]\n",
    "radiation_pressure_settings = environment_setup.radiation_pressure.cannonball(\n",
    "    \"Sun\", reference_area_radiation, radiation_pressure_coefficient, occulting_bodies\n",
    ")\n",
    "# Add the radiation pressure interface to the environment\n",
    "environment_setup.add_radiation_pressure_interface(\n",
    "            bodies, \"Delfi-C3\", radiation_pressure_settings)"
   ]
  },
  {
   "cell_type": "markdown",
   "id": "8bc428bc",
   "metadata": {},
   "source": [
    "## Propagation setup\n",
    "Now that the environment is created, the propagation setup is defined.\n",
    "\n",
    "First, the bodies to be propagated and the central bodies will be defined.\n",
    "Central bodies are the bodies with respect to which the state of the respective propagated bodies is defined."
   ]
  },
  {
   "cell_type": "code",
   "execution_count": 6,
   "id": "f4c79591",
   "metadata": {},
   "outputs": [],
   "source": [
    "# Define bodies that are propagated\n",
    "bodies_to_propagate = [\"Delfi-C3\"]\n",
    "\n",
    "# Define central bodies of propagation\n",
    "central_bodies = [\"Earth\"]"
   ]
  },
  {
   "cell_type": "markdown",
   "id": "a615dbcd",
   "metadata": {},
   "source": [
    "### Create the acceleration model\n",
    "First off, the acceleration settings that act on `Delfi-C3` are to be defined.\n",
    "In this case, these consist in the followings:\n",
    "* Gravitational acceleration using a Point Mass approximation from:\n",
    "    - The Sun\n",
    "    - The Moon\n",
    "    - Mars\n",
    "* Gravitational acceleration using a Spherical Harmonic approximation up to degree and order 8 from Earth.\n",
    "* Aerodynamic acceleration from Earth.\n",
    "* Acceleration caused by the radiation pressure of the Sun on the vehicle approximated as a cannonball.\n",
    "\n",
    "The acceleration settings defined are then applied to `Delfi-C3` in a dictionary.\n",
    "\n",
    "This dictionary is finally input to the propagation setup to create the acceleration models."
   ]
  },
  {
   "cell_type": "code",
   "execution_count": 7,
   "id": "ae320f6d",
   "metadata": {},
   "outputs": [],
   "source": [
    "# Define the accelerations acting on Delfi-C3\n",
    "accelerations_settings_delfi_c3 = dict(\n",
    "    Sun=[\n",
    "        propagation_setup.acceleration.cannonball_radiation_pressure(),\n",
    "        propagation_setup.acceleration.point_mass_gravity()\n",
    "    ],\n",
    "    Mars=[\n",
    "        propagation_setup.acceleration.point_mass_gravity()\n",
    "    ],\n",
    "    Moon=[\n",
    "        propagation_setup.acceleration.point_mass_gravity()\n",
    "    ],\n",
    "    Earth=[\n",
    "        propagation_setup.acceleration.spherical_harmonic_gravity(8, 8),\n",
    "        propagation_setup.acceleration.aerodynamic()\n",
    "    ])\n",
    "\n",
    "# Create global accelerations dictionary\n",
    "acceleration_settings = {\"Delfi-C3\": accelerations_settings_delfi_c3}\n",
    "\n",
    "# Create acceleration models\n",
    "acceleration_models = propagation_setup.create_acceleration_models(\n",
    "    bodies,\n",
    "    acceleration_settings,\n",
    "    bodies_to_propagate,\n",
    "    central_bodies)"
   ]
  },
  {
   "cell_type": "markdown",
   "id": "f4a73dba",
   "metadata": {},
   "source": [
    "### Define the initial state\n",
    "The initial state of the vehicle that will be propagated is now defined. \n",
    "\n",
    "This initial state always has to be provided as a cartesian state, in the form of a list with the first three elements reprensenting the initial position, and the three remaining elements representing the initial velocity.\n",
    "\n",
    "In this case, let's make use of the `keplerian_to_cartesian_elementwise()` function that is included in the `element_conversion` module, so that the initial state can be input as Keplerian elements, and then converted in Cartesian elements."
   ]
  },
  {
   "cell_type": "code",
   "execution_count": 8,
   "id": "12458abf",
   "metadata": {},
   "outputs": [],
   "source": [
    "# Set the initial state of the vehicle\n",
    "earth_gravitational_parameter = bodies.get(\"Earth\").gravitational_parameter\n",
    "initial_state = element_conversion.keplerian_to_cartesian_elementwise(\n",
    "    gravitational_parameter=earth_gravitational_parameter,\n",
    "    semi_major_axis=7500.0E3,\n",
    "    eccentricity=0.1,\n",
    "    inclination=np.deg2rad(85.3),\n",
    "    argument_of_periapsis=np.deg2rad(235.7),\n",
    "    longitude_of_ascending_node=np.deg2rad(23.4),\n",
    "    true_anomaly=np.deg2rad(139.87)\n",
    ")"
   ]
  },
  {
   "cell_type": "markdown",
   "id": "188db727",
   "metadata": {},
   "source": [
    "### Create the propagator settings\n",
    "The propagator is finally setup.\n",
    "\n",
    "First, a termination condition is defined so that the propagation will stop when the end epochs that was defined is reached.\n",
    "\n",
    "Then, the translational propagator settings are defined. These are used to simulate the orbit of `Delfi-C3` around Earth."
   ]
  },
  {
   "cell_type": "code",
   "execution_count": 9,
   "id": "d666f1a3",
   "metadata": {},
   "outputs": [],
   "source": [
    "# Create termination settings\n",
    "termination_condition = propagation_setup.propagator.time_termination(simulation_end_epoch)\n",
    "\n",
    "# Create propagation settings\n",
    "propagator_settings = propagation_setup.propagator.translational(\n",
    "    central_bodies,\n",
    "    acceleration_models,\n",
    "    bodies_to_propagate,\n",
    "    initial_state,\n",
    "    termination_condition\n",
    ")"
   ]
  },
  {
   "cell_type": "markdown",
   "id": "cd8e2587",
   "metadata": {},
   "source": [
    "### Create the integrator settings\n",
    "The last step before starting the simulation is to setup the integrator that will be used.\n",
    "\n",
    "In this case, a RKF78 integrator is used with a step fixed at 60 seconds (this is done by setting both the minimum and maximum step size to 60 seconds)."
   ]
  },
  {
   "cell_type": "code",
   "execution_count": 10,
   "id": "44edeb70",
   "metadata": {},
   "outputs": [],
   "source": [
    "# Create numerical integrator settings\n",
    "integrator_settings = propagation_setup.integrator.runge_kutta_variable_step_size(\n",
    "    simulation_start_epoch, 60.0, propagation_setup.integrator.rkf_78, 60.0, 60.0, 1.0, 1.0\n",
    ")"
   ]
  },
  {
   "cell_type": "markdown",
   "id": "ee6a84e0",
   "metadata": {},
   "source": [
    "### Setup the variational equations\n",
    "In addition to the state of the satellite, variation equations will also be propagated.\n",
    "A detailled explanation on variational equations is given in [tudatpy user guide](https://tudat-space.readthedocs.io/en/latest/_src_user_guide/state_propagation/running_variational_simulation.html).\n",
    "\n",
    "In this example, both the initial state transition matrix and the sensitivity matrix are to be propagated.\n",
    "The list of the available estimated parameters for the sensitivity matrix are also given in [tudatpy user guide](https://tudat-space.readthedocs.io/en/latest/_src_user_guide/state_propagation/sensitivity_analysis/available_parameters.html)."
   ]
  },
  {
   "cell_type": "code",
   "execution_count": 11,
   "id": "44bf1b2a",
   "metadata": {},
   "outputs": [],
   "source": [
    "# Setup parameters settings to propagate the state transition matrix\n",
    "parameter_settings = estimation_setup.parameter.initial_states(propagator_settings, bodies)\n",
    "\n",
    "# Add estimated parameters to the sensitivity matrix that will be propagated\n",
    "parameter_settings.append(estimation_setup.parameter.gravitational_parameter(\"Earth\"))\n",
    "parameter_settings.append(estimation_setup.parameter.constant_drag_coefficient(\"Delfi-C3\"))\n",
    "\n",
    "# Create the parameters that will be estimated\n",
    "parameters_to_estimate = estimation_setup.create_parameters_to_estimate(parameter_settings, bodies)"
   ]
  },
  {
   "cell_type": "markdown",
   "id": "031edbe8",
   "metadata": {},
   "source": [
    "### Define the observation links and estimator\n",
    "Let's now define the links of the observation model. Then, the observation settings list is saved.\n",
    "\n",
    "Finally, the estimator object is created, taking amongst other inputs the parameters that need to be estimated (`parameters_to_estimate`) and the objservation settings (`observation_settings_list`)."
   ]
  },
  {
   "cell_type": "code",
   "execution_count": 12,
   "id": "4b6e5137",
   "metadata": {},
   "outputs": [],
   "source": [
    "# Define the uplink link ends for one-way observable\n",
    "link_ends = dict()\n",
    "link_ends[observation.transmitter] = (\"Earth\", \"TrackingStation\")\n",
    "link_ends[observation.receiver] = (\"Delfi-C3\", \"\")\n",
    "\n",
    "# Create observation settings for each link/observable\n",
    "observation_settings_list = [observation.one_way_open_loop_doppler(link_ends)]\n",
    "\n",
    "# Create the estimation object\n",
    "estimator = numerical_simulation.Estimator(\n",
    "    bodies,\n",
    "    parameters_to_estimate,\n",
    "    observation_settings_list,\n",
    "    integrator_settings,\n",
    "    propagator_settings)"
   ]
  },
  {
   "cell_type": "markdown",
   "id": "939bff16",
   "metadata": {},
   "source": [
    "## Simulate the observations\n",
    "The observation of the `Delfi-C3` satellite over time will now be simulated.\n",
    "\n",
    "### Setup the observations simulation\n",
    "First, we need to setup the observations simulation.\n",
    "\n",
    "This include the definition of the simulation times for each observation link, of the noise levels, and of the viability settings."
   ]
  },
  {
   "cell_type": "code",
   "execution_count": 13,
   "id": "966c580d",
   "metadata": {},
   "outputs": [],
   "source": [
    "# Define observation simulation times for each link (separated by steps of 1 minute)\n",
    "observation_times = np.arange(simulation_start_epoch, simulation_end_epoch, 60.0)\n",
    "observation_simulation_settings = observation.tabulated_simulation_settings(\n",
    "    observation.one_way_doppler_type,\n",
    "    link_ends,\n",
    "    observation_times\n",
    ")\n",
    "\n",
    "# Add noise levels of roughly 3.3E-12 [s/m] and add this as Gaussian noise to the observation\n",
    "noise_level = 1.0E-3 / constants.SPEED_OF_LIGHT\n",
    "observation.add_gaussian_noise_to_settings(\n",
    "    [observation_simulation_settings],\n",
    "    noise_level,\n",
    "    observation.one_way_doppler_type\n",
    ")\n",
    "\n",
    "# Create viability settings\n",
    "viability_setting = observation.elevation_angle_viability([\"Earth\", \"TrackingStation\"], np.deg2rad(15))\n",
    "observation.add_viability_check_to_settings(\n",
    "    [observation_simulation_settings],\n",
    "    [viability_setting]\n",
    ")"
   ]
  },
  {
   "cell_type": "markdown",
   "id": "1f7cad02",
   "metadata": {},
   "source": [
    "### Perform the observations simulation\n",
    "With the observations simulation setup, we can now perform it, calling the `simulation_observations()` function from the `observation` module."
   ]
  },
  {
   "cell_type": "code",
   "execution_count": 14,
   "id": "e66fd2ac",
   "metadata": {},
   "outputs": [],
   "source": [
    "# Simulate required observation\n",
    "simulated_observations = observation.simulate_observations(\n",
    "    [observation_simulation_settings],\n",
    "    estimator.observation_simulators,\n",
    "    bodies)"
   ]
  },
  {
   "cell_type": "markdown",
   "id": "56cd3526",
   "metadata": {},
   "source": [
    "## Estimate the parameters\n",
    "After the observations have been simulated, we can now estimate a few parameters.\n",
    "\n",
    "### Setup the parameters estimation\n",
    "Let's first setup the parameters estimation model, consisting in the initial state deviation."
   ]
  },
  {
   "cell_type": "code",
   "execution_count": 15,
   "id": "a1478bbc",
   "metadata": {},
   "outputs": [],
   "source": [
    "# Perturb initial position by 100m and 0.1m/s in each direction\n",
    "initial_parameter_deviation = np.zeros(parameters_to_estimate.parameter_set_size)\n",
    "initial_parameter_deviation[0:3] = 100.0\n",
    "initial_parameter_deviation[3:6] = 0.1\n",
    "\n",
    "# Save the truth parameters to later analyse the error\n",
    "truth_parameters = parameters_to_estimate.parameter_vector\n",
    "\n",
    "# Create input for estimation\n",
    "pod_input = estimation.PodInput(\n",
    "    simulated_observations, parameters_to_estimate.parameter_set_size,\n",
    "    apriori_parameter_correction=initial_parameter_deviation)\n",
    "pod_input.define_estimation_settings(\n",
    "    reintegrate_variational_equations=False)\n",
    "\n",
    "# Define weights\n",
    "weights_per_observable = \\\n",
    "    {estimation_setup.observation.one_way_doppler_type: noise_level ** -2}\n",
    "pod_input.set_constant_weight_per_observable(weights_per_observable)"
   ]
  },
  {
   "cell_type": "markdown",
   "id": "39f16498",
   "metadata": {},
   "source": [
    "### Perform the estimation\n",
    "Finally, let's run the estimation itself, using the inputs that have been defined earlier."
   ]
  },
  {
   "cell_type": "code",
   "execution_count": 16,
   "id": "fcb86d74",
   "metadata": {},
   "outputs": [
    {
     "name": "stdout",
     "output_type": "stream",
     "text": [
      "Calculating residuals and partials 238\n",
      "Parameter update    6459.29     2423.83    -910.259  -0.0382246    0.449098     8.58954 1.22284e+12    0.232715\n",
      "Current residual: 5.20904e-07\n",
      "Calculating residuals and partials 238\n",
      "Parameter update     -6532.2     -2511.03      808.187   -0.0641832    -0.545295     -8.65589 -1.21653e+12    -0.213002\n",
      "Current residual: 4.03572e-08\n",
      "Calculating residuals and partials 238\n",
      "Parameter update      6.8135     0.193996     -2.25145    0.0027012 -0.000706251    0.0112164      -420906    -0.018477\n",
      "Current residual: 3.75969e-08\n",
      "Calculating residuals and partials 238\n",
      "Parameter update    -34.1063     -13.1717      3.99669 -9.17726e-05  -0.00287498   -0.0450003 -6.35341e+09  -0.00130553\n",
      "Current residual: 7.73882e-11\n",
      "Calculating residuals and partials 238\n",
      "Parameter update 0.000327331  0.000103831  2.91887e-05 -5.65406e-08 -4.67526e-08  3.94218e-07      24975.7 -5.41423e-07\n",
      "Current residual: 3.30227e-12\n",
      "Maximum number of iterations reached\n",
      "Final residual: 3.30227e-12\n"
     ]
    }
   ],
   "source": [
    "# Perform estimation (this also prints the residuals and partials)\n",
    "pod_output = estimator.perform_estimation(pod_input)"
   ]
  },
  {
   "cell_type": "code",
   "execution_count": 17,
   "id": "e4e2be65",
   "metadata": {},
   "outputs": [
    {
     "name": "stdout",
     "output_type": "stream",
     "text": [
      "[1.60858847e-01 1.70140338e-01 1.67143773e-01 1.34696394e-04\n",
      " 1.24426708e-04 1.41853340e-04 2.20984800e+07 3.74865310e-05]\n",
      "[ 2.00662146e-01  1.79491028e-01  3.27712532e-01 -2.01622759e-04\n",
      " -2.21889721e-04  1.36231755e-04  4.08823225e+07  7.08526271e-05]\n"
     ]
    }
   ],
   "source": [
    "# Print the estimation error\n",
    "print(pod_output.formal_errors)\n",
    "print(truth_parameters - parameters_to_estimate.parameter_vector)"
   ]
  },
  {
   "cell_type": "markdown",
   "id": "41061acd",
   "metadata": {},
   "source": [
    "## Results post-processing\n",
    "Let's now process the results of the estimation and observations.\n",
    "\n",
    "### Correlation\n",
    "First, let's plot the correlation between the outputs of the estimation."
   ]
  },
  {
   "cell_type": "code",
   "execution_count": 18,
   "id": "3a8b2784",
   "metadata": {},
   "outputs": [
    {
     "data": {
      "image/png": "[encoded data removed]",
      "text/plain": [
       "<Figure size 432x288 with 2 Axes>"
      ]
     },
     "metadata": {
      "needs_background": "light"
     },
     "output_type": "display_data"
    }
   ],
   "source": [
    "plt.imshow(np.abs(pod_output.correlations), aspect='auto', interpolation='none')\n",
    "plt.colorbar()\n",
    "plt.show()"
   ]
  },
  {
   "cell_type": "markdown",
   "id": "2554637b",
   "metadata": {},
   "source": [
    "### Range rate over time\n",
    "Let's now make a plot of the observations range rate over time."
   ]
  },
  {
   "cell_type": "code",
   "execution_count": 19,
   "id": "ec5f6503",
   "metadata": {},
   "outputs": [
    {
     "data": {
      "image/png": "[encoded data removed]",
      "text/plain": [
       "<Figure size 1224x360 with 1 Axes>"
      ]
     },
     "metadata": {
      "needs_background": "light"
     },
     "output_type": "display_data"
    }
   ],
   "source": [
    "observation_times = np.array(simulated_observations.concatenated_times)\n",
    "observations_list = np.array(simulated_observations.concatenated_observations)\n",
    "\n",
    "plt.figure(figsize=(17, 5))\n",
    "plt.title(\"Observations as a function of time.\")\n",
    "plt.scatter(observation_times / 3600.0, observations_list * constants.SPEED_OF_LIGHT)\n",
    "plt.xlabel(\"Time [hr]\")\n",
    "plt.ylabel(\"Range rate [m/s]\")\n",
    "plt.grid()\n",
    "plt.show()"
   ]
  },
  {
   "cell_type": "markdown",
   "id": "ac4355d2",
   "metadata": {},
   "source": [
    "### Residuals history\n",
    "The history of residuals from the estimation can also been analysed by plotting their history."
   ]
  },
  {
   "cell_type": "code",
   "execution_count": 20,
   "id": "86f8577d",
   "metadata": {},
   "outputs": [
    {
     "data": {
      "image/png": "[encoded data removed]",
      "text/plain": [
       "<Figure size 1440x1224 with 6 Axes>"
      ]
     },
     "metadata": {
      "needs_background": "light"
     },
     "output_type": "display_data"
    }
   ],
   "source": [
    "residual_history = pod_output.residual_history\n",
    "fig, ((ax1, ax2), (ax3, ax4), (ax5, ax6)) = plt.subplots(3, 2, figsize=(20, 17))\n",
    "subplots_list = [ax1, ax2, ax3, ax4, ax5]\n",
    "\n",
    "\n",
    "for i in range(5):\n",
    "    subplots_list[i].scatter(observation_times, residual_history[:, i])\n",
    "plt.show()"
   ]
  },
  {
   "cell_type": "markdown",
   "id": "e7e02e10",
   "metadata": {},
   "source": [
    "### Final residuals\n",
    "Finally, we can analyse the final residuals, print them, and plot them."
   ]
  },
  {
   "cell_type": "code",
   "execution_count": 21,
   "id": "e00d8f48",
   "metadata": {},
   "outputs": [
    {
     "name": "stdout",
     "output_type": "stream",
     "text": [
      "[ 0.80164022  0.94790441  0.51003168 -0.66806146 -0.56075923  1.04126486\n",
      "  0.54053876  0.5290775 ]\n"
     ]
    },
    {
     "data": {
      "image/png": "[encoded data removed]",
      "text/plain": [
       "<Figure size 1224x360 with 1 Axes>"
      ]
     },
     "metadata": {
      "needs_background": "light"
     },
     "output_type": "display_data"
    }
   ],
   "source": [
    "print(pod_output.formal_errors / (truth_parameters - parameters_to_estimate.parameter_vector))\n",
    "final_residuals = pod_output.final_residuals\n",
    "\n",
    "plt.figure(figsize=(17, 5))\n",
    "plt.hist(final_residuals, 25)\n",
    "plt.show()"
   ]
  },
  {
   "cell_type": "code",
   "execution_count": null,
   "id": "22f6bf59",
   "metadata": {},
   "outputs": [],
   "source": []
  }
 ],
 "metadata": {
  "interpreter": {
   "hash": "4a4d53b53330cd83e1499268313a4bcd5eafe4bf50523883929af79f2dd687b2"
  },
  "kernelspec": {
   "display_name": "tudat-space",
   "language": "python",
   "name": "tudat-space"
  },
  "language_info": {
   "codemirror_mode": {
    "name": "ipython",
    "version": 3
   },
   "file_extension": ".py",
   "mimetype": "text/x-python",
   "name": "python",
   "nbconvert_exporter": "python",
   "pygments_lexer": "ipython3",
   "version": "3.8.12"
  }
 },
 "nbformat": 4,
 "nbformat_minor": 5
}
