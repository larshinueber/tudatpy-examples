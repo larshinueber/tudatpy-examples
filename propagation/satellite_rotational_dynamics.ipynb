{
 "cells": [
  {
   "cell_type": "code",
   "execution_count": 1,
   "metadata": {},
   "outputs": [],
   "source": [
    "import numpy as np\n",
    "from tudatpy.numerical_simulation import (\n",
    "    propagation_setup,\n",
    "    environment_setup,\n",
    "    environment,\n",
    ")\n",
    "from tudatpy.astro import element_conversion\n",
    "from tudatpy.interface import spice\n",
    "from tudatpy import constants, numerical_simulation\n",
    "from tudatpy.util import result2array\n",
    "\n",
    "\n",
    "spice.load_standard_kernels()"
   ]
  },
  {
   "cell_type": "markdown",
   "metadata": {},
   "source": [
    "## Vehicle Settings"
   ]
  },
  {
   "cell_type": "code",
   "execution_count": 2,
   "metadata": {},
   "outputs": [],
   "source": [
    "# Define string names for bodies to be created from default.\n",
    "bodies_to_create = [\"Sun\", \"Earth\", \"Moon\"]\n",
    "\n",
    "# Use \"Earth\"/\"J2000\" as global frame origin and orientation.\n",
    "global_frame_origin = \"Earth\"\n",
    "global_frame_orientation = \"J2000\"\n",
    "\n",
    "# Create default body settings, usually from `spice`.\n",
    "body_settings = environment_setup.get_default_body_settings(\n",
    "    bodies_to_create, global_frame_origin, global_frame_orientation\n",
    ")\n",
    "\n",
    "# Create empty body settings for the satellite\n",
    "body_settings.add_empty_settings(\"Delfi-C3\")\n",
    "\n",
    "# Create aerodynamic coefficient interface settings\n",
    "reference_area_drag = (\n",
    "    4 * 0.3 * 0.1 + 2 * 0.1 * 0.1\n",
    ") / 4  # Average projection area of a 3U CubeSat\n",
    "drag_coefficient = 1.2\n",
    "\n",
    "# ! For the `force_coefficients_frame` argument neither the default nor the any other option seems to work\n",
    "aero_coefficient_settings = environment_setup.aerodynamic_coefficients.constant(\n",
    "    reference_area_drag,\n",
    "    [drag_coefficient, 0.0, 0.0],\n",
    "    # environment.AerodynamicCoefficientFrames.positive_body_fixed_frame_coefficients,\n",
    "    # environment.AerodynamicCoefficientFrames.negative_body_fixed_frame_coefficients,\n",
    "    # environment.AerodynamicCoefficientFrames.positive_aerodynamic_frame_coefficients,\n",
    "    # environment.AerodynamicCoefficientFrames.negative_aerodynamic_frame_coefficients, # default\n",
    ")\n",
    "\n",
    "# Add the aerodynamic interface to the body settings\n",
    "body_settings.get(\"Delfi-C3\").aerodynamic_coefficient_settings = (\n",
    "    aero_coefficient_settings\n",
    ")\n",
    "\n",
    "# body_settings.get(\"Delfi-C3\").shape_settings = environment_setup.shape.spherical(10)\n",
    "\n",
    "body_settings.get(\"Delfi-C3\").rigid_body_settings = (\n",
    "    environment_setup.rigid_body.constant_rigid_body_properties(\n",
    "        2.2, np.zeros(3), np.diag([0.3, 0.3, 0.3])\n",
    "    )\n",
    ")"
   ]
  },
  {
   "cell_type": "markdown",
   "metadata": {},
   "source": [
    "## Vehicle Ephemeris Settings"
   ]
  },
  {
   "cell_type": "code",
   "execution_count": 3,
   "metadata": {},
   "outputs": [],
   "source": [
    "# Retrieve the initial state of Delfi-C3 using Two-Line-Elements (TLEs)\n",
    "delfi_tle = environment.Tle(\n",
    "    \"1 32789U 07021G   08119.60740078 -.00000054  00000-0  00000+0 0  9999\",\n",
    "    \"2 32789 098.0082 179.6267 0015321 307.2977 051.0656 14.81417433    68\",\n",
    ")\n",
    "delfi_ephemeris = environment.TleEphemeris(\"Earth\", \"J2000\", delfi_tle, False)\n",
    "\n",
    "\n",
    "def custom_ephemeris_function(t):\n",
    "    # dirty way to get tle ephemeris settings\n",
    "    return delfi_ephemeris.cartesian_state(t)\n",
    "\n",
    "\n",
    "# strictly speaking the ephemeris is in TEME (?)\n",
    "body_settings.get(\"Delfi-C3\").ephemeris_settings = (\n",
    "    environment_setup.ephemeris.custom_ephemeris(\n",
    "        custom_ephemeris_function, \"Earth\", \"J2000\"\n",
    "    )\n",
    ")\n",
    "\n",
    "bodies = environment_setup.create_system_of_bodies(body_settings)"
   ]
  },
  {
   "cell_type": "markdown",
   "metadata": {},
   "source": [
    "## Torque Models"
   ]
  },
  {
   "cell_type": "code",
   "execution_count": 4,
   "metadata": {},
   "outputs": [
    {
     "ename": "RuntimeError",
     "evalue": "Error when getting aerodynamic coefficient frame; frame not rezognized",
     "output_type": "error",
     "traceback": [
      "\u001b[0;31m---------------------------------------------------------------------------\u001b[0m",
      "\u001b[0;31mRuntimeError\u001b[0m                              Traceback (most recent call last)",
      "Cell \u001b[0;32mIn[4], line 16\u001b[0m\n\u001b[1;32m     13\u001b[0m bodies_to_propagate \u001b[38;5;241m=\u001b[39m [\u001b[38;5;124m\"\u001b[39m\u001b[38;5;124mDelfi-C3\u001b[39m\u001b[38;5;124m\"\u001b[39m]\n\u001b[1;32m     15\u001b[0m \u001b[38;5;66;03m# Create torque models.\u001b[39;00m\n\u001b[0;32m---> 16\u001b[0m torque_models \u001b[38;5;241m=\u001b[39m \u001b[43mpropagation_setup\u001b[49m\u001b[38;5;241;43m.\u001b[39;49m\u001b[43mcreate_torque_models\u001b[49m\u001b[43m(\u001b[49m\n\u001b[1;32m     17\u001b[0m \u001b[43m    \u001b[49m\u001b[43mbodies\u001b[49m\u001b[43m,\u001b[49m\u001b[43m \u001b[49m\u001b[43mtorque_settings\u001b[49m\u001b[43m,\u001b[49m\u001b[43m \u001b[49m\u001b[43mbodies_to_propagate\u001b[49m\n\u001b[1;32m     18\u001b[0m \u001b[43m)\u001b[49m\n",
      "\u001b[0;31mRuntimeError\u001b[0m: Error when getting aerodynamic coefficient frame; frame not rezognized"
     ]
    }
   ],
   "source": [
    "# Define torque settings acting on spacecraft\n",
    "torque_settings_spacecraft = dict(\n",
    "    Sun=[propagation_setup.torque.second_degree_gravitational()],\n",
    "    Moon=[propagation_setup.torque.second_degree_gravitational()],\n",
    "    Earth=[\n",
    "        propagation_setup.torque.second_degree_gravitational(),\n",
    "        propagation_setup.torque.aerodynamic(),\n",
    "    ],\n",
    ")\n",
    "torque_settings = {\"Delfi-C3\": torque_settings_spacecraft}\n",
    "\n",
    "# Define bodies that are propagated\n",
    "bodies_to_propagate = [\"Delfi-C3\"]\n",
    "\n",
    "# Create torque models.\n",
    "torque_models = propagation_setup.create_torque_models(\n",
    "    bodies, torque_settings, bodies_to_propagate\n",
    ")"
   ]
  },
  {
   "cell_type": "markdown",
   "metadata": {},
   "source": [
    "## Define initial rotational state"
   ]
  },
  {
   "cell_type": "code",
   "execution_count": 5,
   "metadata": {},
   "outputs": [],
   "source": [
    "# Below, we define the initial state in a somewhat trivial manner (body axes along global frame\n",
    "# axes; no initial rotation). A real application should use a more realistic initial rotational state\n",
    "# Set initial rotation matrix (identity matrix)\n",
    "initial_rotation_matrix = np.eye(3)\n",
    "# Set initial orientation by converting a rotation matrix to a Tudat-compatible quaternion\n",
    "initial_state = element_conversion.rotation_matrix_to_quaternion_entries(\n",
    "    initial_rotation_matrix\n",
    ")\n",
    "# Complete initial state by adding angular velocity vector (zero in this case)\n",
    "initial_state = np.hstack((initial_state, [0, 0, 0]))\n",
    "\n",
    "# Define numerical integrator (RK4; step size 2 seconds)\n",
    "integrator_settings = propagation_setup.integrator.runge_kutta_4(2.0)\n",
    "\n",
    "# Start of simulation\n",
    "simulation_start_epoch = delfi_tle.get_epoch()\n",
    "\n",
    "# Define termination settings\n",
    "simulation_end_epoch = simulation_start_epoch + 1 * constants.JULIAN_DAY\n",
    "termination_settings = propagation_setup.propagator.time_termination(\n",
    "    simulation_end_epoch\n",
    ")\n",
    "\n",
    "# Define propagator type\n",
    "propagator_type = propagation_setup.propagator.modified_rodrigues_parameters\n",
    "\n",
    "# Define dependent variables\n",
    "dependent_variables_to_save = [\n",
    "    propagation_setup.dependent_variable.total_torque_norm(\"Delfi-C3\")\n",
    "]\n",
    "\n",
    "# Define rotational propagator settings\n",
    "rotational_propagator_settings = propagation_setup.propagator.rotational(\n",
    "    torque_models,\n",
    "    bodies_to_propagate,\n",
    "    initial_state,\n",
    "    simulation_start_epoch,\n",
    "    integrator_settings,\n",
    "    termination_settings,\n",
    "    propagator=propagator_type,\n",
    "    output_variables=dependent_variables_to_save,\n",
    ")"
   ]
  },
  {
   "cell_type": "markdown",
   "metadata": {},
   "source": [
    "## Perform propagation"
   ]
  },
  {
   "cell_type": "code",
   "execution_count": 6,
   "metadata": {},
   "outputs": [],
   "source": [
    "dynamics_simulator = numerical_simulation.create_dynamics_simulator(\n",
    "    bodies, rotational_propagator_settings\n",
    ")"
   ]
  },
  {
   "cell_type": "code",
   "execution_count": 7,
   "metadata": {},
   "outputs": [],
   "source": [
    "states = dynamics_simulator.propagation_results.state_history\n",
    "states_array = result2array(states)\n",
    "dep_vars = dynamics_simulator.propagation_results.dependent_variable_history\n",
    "dep_vars_array = result2array(dep_vars)"
   ]
  },
  {
   "cell_type": "code",
   "execution_count": 8,
   "metadata": {},
   "outputs": [
    {
     "data": {
      "text/plain": [
       "[<matplotlib.lines.Line2D at 0x7fee8661e440>]"
      ]
     },
     "execution_count": 8,
     "metadata": {},
     "output_type": "execute_result"
    },
    {
     "data": {
      "image/png": "[encoded data removed]",
      "text/plain": [
       "<Figure size 640x480 with 1 Axes>"
      ]
     },
     "metadata": {},
     "output_type": "display_data"
    }
   ],
   "source": [
    "import matplotlib.pyplot as plt\n",
    "\n",
    "fig, ax = plt.subplots()\n",
    "\n",
    "# ax.plot(states_array[:, 0], states_array[:, 1])\n",
    "# ax.plot(states_array[:, 0], states_array[:, 2])\n",
    "# ax.plot(states_array[:, 0], states_array[:, 3])\n",
    "ax.plot(states_array[:, 0], states_array[:, 4])"
   ]
  },
  {
   "cell_type": "code",
   "execution_count": 9,
   "metadata": {},
   "outputs": [
    {
     "data": {
      "text/plain": [
       "[<matplotlib.lines.Line2D at 0x7fee7e4efd90>]"
      ]
     },
     "execution_count": 9,
     "metadata": {},
     "output_type": "execute_result"
    },
    {
     "data": {
      "image/png": "[encoded data removed]",
      "text/plain": [
       "<Figure size 640x480 with 1 Axes>"
      ]
     },
     "metadata": {},
     "output_type": "display_data"
    }
   ],
   "source": [
    "fig, ax = plt.subplots()\n",
    "\n",
    "ax.set_title(\"Total Torque Norm\")\n",
    "ax.plot(dep_vars_array[:, 0], dep_vars_array[:, 1])"
   ]
  }
 ],
 "metadata": {
  "kernelspec": {
   "display_name": "tudat-examples",
   "language": "python",
   "name": "python3"
  },
  "language_info": {
   "codemirror_mode": {
    "name": "ipython",
    "version": 3
   },
   "file_extension": ".py",
   "mimetype": "text/x-python",
   "name": "python",
   "nbconvert_exporter": "python",
   "pygments_lexer": "ipython3",
   "version": "3.10.14"
  }
 },
 "nbformat": 4,
 "nbformat_minor": 2
}
