{
 "cells": [
  {
   "cell_type": "code",
   "execution_count": 1,
   "id": "c01f8ad0",
   "metadata": {
    "collapsed": false,
    "jupyter": {
     "outputs_hidden": false
    }
   },
   "outputs": [],
   "source": [
    "import sys\n",
    "sys.path.insert(0, '/home/dominic/Software/tudat-bundle/build-tudat-bundle-Desktop-Default/tudatpy/')"
   ]
  },
  {
   "cell_type": "markdown",
   "id": "195565ae",
   "metadata": {},
   "source": [
    "# Re-entry trajectory\n",
    "\n",
    "Copyright (c) 2010-2022, Delft University of Technology. All rights reserved. This file is part of the Tudat. Redistribution and use in source and binary forms, with or without modification, are permitted exclusively under the terms of the Modified BSD license. You should have received a copy of the license with this file. If not, please or visit: http://tudat.tudelft.nl/LICENSE."
   ]
  },
  {
   "cell_type": "markdown",
   "id": "7a1d1160",
   "metadata": {},
   "source": [
    "## Context\n",
    "\n",
    "This examples focuses on the application of aerodynamic guidance in the context of a re-entry trajectory of the Space Transportation System (STS).\n",
    "\n",
    "The aerodynamic guidance updates the angle of attack and the bank angle of the vehicle based on its flight conditions.\n",
    "The angle of attack is set to 40deg for a Mach number above 12, to 10deg for a Mach number below 6, and varies linearly between them. The bank angle is computed such that the derivative of the flight path angle over time equals 0, and the flight path angle is then constant.\n",
    "To do so, this example also showcases how to extract and use the flight condition\n",
    "and body properties during the simulation.\n",
    "\n",
    "The initial state of the STS is most notably its initial altitude of 120km, velocity of 7.5km/s, and its flight path angle of -0.6deg.\n",
    "\n",
    "A high number of dependent variable are also propagated in this example. All of them are then plotted at the end of this script."
   ]
  },
  {
   "cell_type": "markdown",
   "id": "5203a79a",
   "metadata": {},
   "source": [
    "## Import statements\n",
    "\n",
    "The required import statements are made here, at the very beginning.\n",
    "\n",
    "Some standard modules are first loaded. These are `numpy` and `matplotlib.pyplot`.\n",
    "\n",
    "Then, the different modules of `tudatpy` that will be used are imported."
   ]
  },
  {
   "cell_type": "code",
   "execution_count": 2,
   "id": "ff69831a",
   "metadata": {
    "collapsed": false,
    "jupyter": {
     "outputs_hidden": false
    }
   },
   "outputs": [],
   "source": [
    "# Load standard modules\n",
    "import math\n",
    "import numpy as np\n",
    "from matplotlib import pyplot as plt"
   ]
  },
  {
   "cell_type": "code",
   "execution_count": 3,
   "id": "c46fdfff",
   "metadata": {
    "collapsed": false,
    "jupyter": {
     "outputs_hidden": false
    }
   },
   "outputs": [],
   "source": [
    "# Load tudatpy modules\n",
    "from tudatpy.kernel.interface import spice\n",
    "from tudatpy.kernel import numerical_simulation\n",
    "from tudatpy.kernel.numerical_simulation import environment_setup, environment\n",
    "from tudatpy.kernel.numerical_simulation import propagation_setup, propagation\n",
    "from tudatpy.kernel.astro import element_conversion\n",
    "from tudatpy.kernel import constants\n",
    "from tudatpy.util import result2array"
   ]
  },
  {
   "cell_type": "markdown",
   "id": "eb4e8f6c",
   "metadata": {},
   "source": [
    "## Aerodynamic guidance class\n",
    "\n",
    "First of all, let's  create a class that contains the aerodynamic guidance. This class needs to be inherited from `propagation.AerodynamicGuidance`.\n",
    "\n",
    "During the initialisation of this class, the current system of simulated bodies will have to be input.\n",
    "\n",
    "Then, the class must contain an `updateGuidance()` function that will be called at each simulation time step, taking the time as an input.\n",
    "Most importantly, this function updates both the angle of attack (`self.angle_of_attack`) and bank angle (`self.bank_angle`) of the vehicle.\n",
    "\n",
    "The angle of attack $\\alpha$ should be updated as a function of the Mach number $M$ as follows:\n",
    "- $\\alpha = 40$ deg if $M > 12$.\n",
    "- $\\alpha = 10$ deg if $M < 6$.\n",
    "- $\\alpha$ varies linearly between the two boundaries for other $M$.\n",
    "\n",
    "In practice, the following Logistic function is used so that the transition in $\\alpha$ between $M=12$ and $M=6$ is smoother:\n",
    "$$\n",
    "\\alpha = \\frac{30}{1 + e^{-2 (M-9) }} + 10\n",
    "$$\n",
    "\n",
    "The bank angle $\\sigma$ is computed so that, ideally, the flight path angle $\\gamma$ should stay constant over time ($\\dot{\\gamma} = 0$).\n",
    "The change in flight path angle over time $\\dot{\\gamma}$ is related to the bank angle $\\sigma$ trough the equation below. We thus compute $\\sigma$ so that this equation equals 0.\n",
    "$$\n",
    "V \\dot{\\gamma} = \\frac{L}{m} \\cos \\sigma - \\left( g_d - \\frac{V^2}{r} \\right) \\cos \\gamma + 2 \\omega_E V \\cos \\delta \\sin \\chi + \\omega^2_E r \\cos \\delta (\\cos \\delta \\cos \\gamma + \\sin \\gamma \\sin \\delta \\cos \\chi)\n",
    "$$\n",
    "In this equation, $\\chi$ and $\\delta$ are the heading and latitude angles. $L$, $m$, $V$, and $\\omega_E$ are the lift force, vehicle mass, airspeed, and Earth rotation rate. $g_d$ is the downwards (towards the centre of Earth) component of the gravitational acceleration. All of these values are either directly obtained or computed from the flight conditions, the aerodynamic coefficient interface, or the aerodynamic coefficient interface."
   ]
  },
  {
   "cell_type": "code",
   "execution_count": 4,
   "id": "c18b2ffe",
   "metadata": {
    "collapsed": false,
    "jupyter": {
     "outputs_hidden": false
    }
   },
   "outputs": [],
   "source": [
    "# Create a class for the aerodynamic guidance of the STS, inheriting from 'propagation.AerodynamicGuidance'\n",
    "class STSAerodynamicGuidance:\n",
    "\n",
    "    def __init__(self, bodies: environment.SystemOfBodies):\n",
    "\n",
    "        # Extract the STS and Earth bodies\n",
    "        self.vehicle = bodies.get_body(\"STS\")\n",
    "        self.earth = bodies.get_body(\"Earth\")\n",
    "\n",
    "        # Extract the STS flight conditions, angle calculator, and aerodynamic coefficient interface\n",
    "        environment_setup.add_flight_conditions( bodies, 'STS', 'Earth' )\n",
    "        self.vehicle_flight_conditions = bodies.get_body(\"STS\").flight_conditions\n",
    "        self.aerodynamic_angle_calculator = self.vehicle_flight_conditions.aerodynamic_angle_calculator\n",
    "        self.aerodynamic_coefficient_interface = self.vehicle_flight_conditions.aerodynamic_coefficient_interface\n",
    "\n",
    "        self.current_time = float(\"NaN\")\n",
    "\n",
    "    def getAerodynamicAngles(self, current_time: float):\n",
    "        self.updateGuidance( current_time )\n",
    "        return np.array([self.angle_of_attack, 0.0, self.bank_angle])\n",
    "\n",
    "    # Function that is called at each simulation time step to update the ideal bank angle of the vehicle\n",
    "    def updateGuidance(self, current_time: float):\n",
    "\n",
    "        if( math.isnan( current_time ) ):\n",
    "            self.current_time = float(\"NaN\")\n",
    "        elif( current_time != self.current_time ):\n",
    "            # Get the (constant) angular velocity of the Earth body\n",
    "            earth_angular_velocity = np.linalg.norm(self.earth.body_fixed_angular_velocity)\n",
    "            # Get the distance between the vehicle and the Earth bodies\n",
    "            earth_distance = np.linalg.norm(self.vehicle.position)\n",
    "            # Get the (constant) mass of the vehicle body\n",
    "            body_mass = self.vehicle.mass\n",
    "\n",
    "            # Extract the current Mach number, airspeed, and air density from the flight conditions\n",
    "            mach_number = self.vehicle_flight_conditions.mach_number\n",
    "            airspeed = self.vehicle_flight_conditions.airspeed\n",
    "            density = self.vehicle_flight_conditions.density\n",
    "\n",
    "            # Set the current Angle of Attack (AoA). The following line enforces the followings:\n",
    "            # * the AoA is constant at 40deg when the Mach number is above 12\n",
    "            # * the AoA is constant at 10deg when the Mach number is below 6\n",
    "            # * the AoA varies close to linearly when the Mach number is between 12 and 6\n",
    "            # * a Logistic relation is used so that the transition in AoA between M=12 and M=6 is smoother\n",
    "            self.angle_of_attack = np.deg2rad(30 / (1 + np.exp(-2*(mach_number-9))) + 10)\n",
    "\n",
    "            # Update the variables on which the aerodynamic coefficients are based (AoA and Mach)\n",
    "            current_aerodynamics_independent_variables = [self.angle_of_attack, mach_number]\n",
    "            # Update the aerodynamic coefficients\n",
    "            self.aerodynamic_coefficient_interface.update_coefficients(\n",
    "                current_aerodynamics_independent_variables, current_time)\n",
    "\n",
    "            # Extract the current force coefficients (in order: C_D, C_S, C_L)\n",
    "            current_force_coefficients = self.aerodynamic_coefficient_interface.current_force_coefficients\n",
    "            # Extract the (constant) reference area of the vehicle\n",
    "            aerodynamic_reference_area = self.aerodynamic_coefficient_interface.reference_area\n",
    "\n",
    "            # Get the heading, flight path, and latitude angles from the aerodynamic angle calculator\n",
    "            heading = self.aerodynamic_angle_calculator.get_angle(environment.heading_angle)\n",
    "            flight_path_angle = self.aerodynamic_angle_calculator.get_angle(environment.flight_path_angle)\n",
    "            latitude = self.aerodynamic_angle_calculator.get_angle(environment.latitude_angle)\n",
    "\n",
    "            # Compute the acceleration caused by Lift\n",
    "            lift_acceleration = 0.5 * density * airspeed ** 2 * aerodynamic_reference_area * current_force_coefficients[2] / body_mass\n",
    "            # Compute the gravitational acceleration\n",
    "            downward_gravitational_acceleration = self.earth.gravitational_parameter / (earth_distance ** 2)\n",
    "            # Compute the centrifugal acceleration\n",
    "            spacecraft_centrifugal_acceleration = airspeed ** 2 / earth_distance\n",
    "            # Compute the Coriolis acceleration\n",
    "            coriolis_acceleration = 2 * earth_angular_velocity * airspeed * np.cos(latitude) * np.sin(heading)\n",
    "            # Compute the centrifugal acceleration from the Earth\n",
    "            earth_centrifugal_acceleration = earth_angular_velocity ** 2 * earth_distance * np.cos(latitude) *             (np.cos(latitude) * np.cos(flight_path_angle) + np.sin(flight_path_angle) * np.sin(latitude) * np.cos(heading))\n",
    "\n",
    "            # Compute the cosine of the ideal bank angle\n",
    "            cosine_of_bank_angle = ((downward_gravitational_acceleration - spacecraft_centrifugal_acceleration) * np.cos(flight_path_angle) - coriolis_acceleration - earth_centrifugal_acceleration) / lift_acceleration\n",
    "            # If the cosine lead to a value out of the [-1, 1] range, set to bank angle to 0deg or 180deg\n",
    "            if (cosine_of_bank_angle < -1):\n",
    "                self.bank_angle = np.pi\n",
    "            elif (cosine_of_bank_angle > 1):\n",
    "                self.bank_angle = 0.0\n",
    "            else:\n",
    "                # If the cos is in the correct range, return the computed bank angle\n",
    "                self.bank_angle = np.arccos(cosine_of_bank_angle)\n",
    "            self.current_time = current_time"
   ]
  },
  {
   "cell_type": "markdown",
   "id": "dd9232e0",
   "metadata": {},
   "source": [
    "## Configuration\n",
    "\n",
    "NAIF's `SPICE` kernels are first loaded, so that the position of various bodies such as the Earth can be make known to `tudatpy`.\n",
    "\n",
    "Then, the start and end simulation epochs are setups. In this case, the start epoch is set to `0`, corresponding to the 1st of January 2000. The times should be specified in seconds since J2000.\n",
    "Please refer to the API documentation of the `time_conversion module` [here](https://tudatpy.readthedocs.io/en/latest/time_conversion.html) for more information on this."
   ]
  },
  {
   "cell_type": "code",
   "execution_count": 5,
   "id": "6ea394a1",
   "metadata": {
    "collapsed": false,
    "jupyter": {
     "outputs_hidden": false
    }
   },
   "outputs": [],
   "source": [
    "# Load spice kernels\n",
    "spice.load_standard_kernels()\n",
    "\n",
    "# Set simulation start epoch\n",
    "simulation_start_epoch = 0.0\n",
    "\n",
    "# Set the maximum simulation time (avoid very long skipping re-entry)\n",
    "max_simulation_time = 3*constants.JULIAN_DAY\n",
    "\n",
    "\n",
    "# ## Environment setup\n",
    "# \n",
    "# Let’s create the environment for our simulation. This setup covers the creation of (celestial) bodies, vehicle(s), and environment interfaces.\n",
    "# "
   ]
  },
  {
   "cell_type": "markdown",
   "id": "c14e6f50",
   "metadata": {},
   "source": [
    "### Create the bodies\n",
    "\n",
    "Bodies can be created by making a list of strings with the bodies that is to be included in the simulation.\n",
    "\n",
    "The default body settings (such as atmosphere, body shape, rotation model) are taken from `SPICE`.\n",
    "\n",
    "These settings can be adjusted. Please refere to the [Available Environment Models](https://tudat-space.readthedocs.io/en/latest/_src_user_guide/state_propagation/environment_setup/create_models/available.html#available-environment-models) in the user guide for more details.\n",
    "\n",
    "Finally, the system of bodies is created using the settings. This system of bodies is stored into the variable `bodies`."
   ]
  },
  {
   "cell_type": "code",
   "execution_count": 6,
   "id": "06dd4f2c",
   "metadata": {
    "collapsed": false,
    "jupyter": {
     "outputs_hidden": false
    }
   },
   "outputs": [],
   "source": [
    "# Create default body settings for \"Earth\"\n",
    "bodies_to_create = [\"Earth\"]\n",
    "\n",
    "# Create default body settings for bodies_to_create, with \"Earth\"/\"J2000\" as the global frame origin and orientation\n",
    "global_frame_origin = \"Earth\"\n",
    "global_frame_orientation = \"J2000\"\n",
    "body_settings = environment_setup.get_default_body_settings(\n",
    "    bodies_to_create, global_frame_origin, global_frame_orientation)\n",
    "\n",
    "# Create system of bodies (in this case only Earth)\n",
    "bodies = environment_setup.create_system_of_bodies(body_settings)"
   ]
  },
  {
   "cell_type": "markdown",
   "id": "8000875d",
   "metadata": {},
   "source": [
    "### Create the vehicle\n",
    "\n",
    "Let's now create the 5000kg vehicle for which Earth re-entry trajectory will be simulated."
   ]
  },
  {
   "cell_type": "code",
   "execution_count": 7,
   "id": "e75afb5e",
   "metadata": {
    "collapsed": false,
    "jupyter": {
     "outputs_hidden": false
    }
   },
   "outputs": [],
   "source": [
    "# Create vehicle object and set its constant mass\n",
    "bodies.create_empty_body(\"STS\")\n",
    "bodies.get_body( \"STS\" ).set_constant_mass(5.0e3)"
   ]
  },
  {
   "cell_type": "markdown",
   "id": "88b6d10d",
   "metadata": {},
   "source": [
    "### Add an aerodynamic coefficient interface\n",
    "\n",
    "An aerodynamic coefficient interface is now added to the STS vehicle. These coefficients are interpolated from files that tabulate them as a function of angle of attack and Mach number."
   ]
  },
  {
   "cell_type": "code",
   "execution_count": 8,
   "id": "b1611884",
   "metadata": {
    "collapsed": false,
    "jupyter": {
     "outputs_hidden": false
    }
   },
   "outputs": [],
   "source": [
    "# Define the aerodynamic coefficient files (leave C_S empty)\n",
    "aero_coefficients_files = {0: \"input/STS_CD.dat\", 2:\"input/STS_CL.dat\"}\n",
    "\n",
    "# Setup the aerodynamic coefficients settings tabulated from the files\n",
    "coefficient_settings = environment_setup.aerodynamic_coefficients.tabulated_force_only_from_files(\n",
    "    force_coefficient_files=aero_coefficients_files,\n",
    "    reference_area=2690.0*0.3048*0.3048,\n",
    "    independent_variable_names=[environment.angle_of_attack_dependent, environment.mach_number_dependent],\n",
    "    are_coefficients_in_aerodynamic_frame=True,\n",
    "    are_coefficients_in_negative_axis_direction=True\n",
    ")\n",
    "\n",
    "# Add predefined aerodynamic coefficients database to the body\n",
    "environment_setup.add_aerodynamic_coefficient_interface(bodies, \"STS\", coefficient_settings)"
   ]
  },
  {
   "cell_type": "code",
   "execution_count": 9,
   "id": "c7a6dfb7",
   "metadata": {
    "collapsed": false,
    "jupyter": {
     "outputs_hidden": false
    }
   },
   "outputs": [
    {
     "ename": "AttributeError",
     "evalue": "module 'tudatpy.kernel.numerical_simulation.environment_setup.rotation_model' has no attribute 'aerodynamic_angle_based'",
     "output_type": "error",
     "traceback": [
      "\u001b[0;31m---------------------------------------------------------------------------\u001b[0m",
      "\u001b[0;31mAttributeError\u001b[0m                            Traceback (most recent call last)",
      "Cell \u001b[0;32mIn [9], line 5\u001b[0m\n\u001b[1;32m      1\u001b[0m \u001b[38;5;66;03m# ### Add rotation model based on aerodynamic guidance\u001b[39;00m\n\u001b[1;32m      2\u001b[0m \n\u001b[1;32m      3\u001b[0m \u001b[38;5;66;03m# Create the aerodynamic guidance object\u001b[39;00m\n\u001b[1;32m      4\u001b[0m aerodynamic_guidance_object \u001b[38;5;241m=\u001b[39m STSAerodynamicGuidance(bodies)\n\u001b[0;32m----> 5\u001b[0m rotation_model_settings \u001b[38;5;241m=\u001b[39m \u001b[43menvironment_setup\u001b[49m\u001b[38;5;241;43m.\u001b[39;49m\u001b[43mrotation_model\u001b[49m\u001b[38;5;241;43m.\u001b[39;49m\u001b[43maerodynamic_angle_based\u001b[49m(\n\u001b[1;32m      6\u001b[0m     \u001b[38;5;124m'\u001b[39m\u001b[38;5;124mEarth\u001b[39m\u001b[38;5;124m'\u001b[39m, \u001b[38;5;124m'\u001b[39m\u001b[38;5;124m'\u001b[39m, \u001b[38;5;124m'\u001b[39m\u001b[38;5;124mSTS_Fixed\u001b[39m\u001b[38;5;124m'\u001b[39m, aerodynamic_guidance_object\u001b[38;5;241m.\u001b[39mgetAerodynamicAngles )\n\u001b[1;32m      7\u001b[0m environment_setup\u001b[38;5;241m.\u001b[39madd_rotation_model( bodies, \u001b[38;5;124m'\u001b[39m\u001b[38;5;124mSTS\u001b[39m\u001b[38;5;124m'\u001b[39m, rotation_model_settings )\n",
      "\u001b[0;31mAttributeError\u001b[0m: module 'tudatpy.kernel.numerical_simulation.environment_setup.rotation_model' has no attribute 'aerodynamic_angle_based'"
     ]
    }
   ],
   "source": [
    "# ### Add rotation model based on aerodynamic guidance\n",
    "\n",
    "# Create the aerodynamic guidance object\n",
    "aerodynamic_guidance_object = STSAerodynamicGuidance(bodies)\n",
    "rotation_model_settings = environment_setup.rotation_model.aerodynamic_angle_based(\n",
    "    'Earth', '', 'STS_Fixed', aerodynamic_guidance_object.getAerodynamicAngles )\n",
    "environment_setup.add_rotation_model( bodies, 'STS', rotation_model_settings )"
   ]
  },
  {
   "cell_type": "markdown",
   "id": "ea092482",
   "metadata": {},
   "source": [
    "## Propagation setup\n",
    "\n",
    "Now that the environment is created, the propagation setup is defined.\n",
    "\n",
    "First, the bodies to be propagated and the central bodies will be defined.\n",
    "Central bodies are the bodies with respect to which the state of the respective propagated bodies is defined."
   ]
  },
  {
   "cell_type": "code",
   "execution_count": null,
   "id": "55c21079",
   "metadata": {
    "collapsed": false,
    "jupyter": {
     "outputs_hidden": false
    }
   },
   "outputs": [],
   "source": [
    "# Define bodies that are propagated\n",
    "bodies_to_propagate = [\"STS\"]\n",
    "\n",
    "# Define central bodies of propagation\n",
    "central_bodies = [\"Earth\"]"
   ]
  },
  {
   "cell_type": "markdown",
   "id": "cfd2b48e",
   "metadata": {},
   "source": [
    "### Create the acceleration model\n",
    "\n",
    "The acceleration settings that act on the `STS` vehicle are now defined.\n",
    "In this case, these simply consist in the Earth gravitational effect modelled as a point mass and of the aerodynamic acceleration of the Earth atmosphere.\n",
    "\n",
    "The acceleration settings defined are then applied to `STS` vehicle in a dictionary.\n",
    "\n",
    "This dictionary is finally input to the propagation setup to create the acceleration models."
   ]
  },
  {
   "cell_type": "code",
   "execution_count": null,
   "id": "5b5139ec",
   "metadata": {
    "collapsed": false,
    "jupyter": {
     "outputs_hidden": false
    }
   },
   "outputs": [],
   "source": [
    "# Define the accelerations acting on the STS (Earth as a Point Mass, and Earth's atmosphere)\n",
    "accelerations_settings_STS = dict(\n",
    "    Earth=[\n",
    "        propagation_setup.acceleration.point_mass_gravity(),\n",
    "        propagation_setup.acceleration.aerodynamic(),\n",
    "    ]\n",
    ")\n",
    "\n",
    "acceleration_settings = {\"STS\": accelerations_settings_STS}\n",
    "\n",
    "# Create the acceleration models\n",
    "acceleration_models = propagation_setup.create_acceleration_models(\n",
    "    bodies, acceleration_settings, bodies_to_propagate, central_bodies\n",
    ")"
   ]
  },
  {
   "cell_type": "markdown",
   "id": "ae1bc6a2",
   "metadata": {},
   "source": [
    "### Define the initial state\n",
    "\n",
    "The initial state of the vehicle that will be propagated is now defined. Most importantly, the `STS` vehicle starts 120km above Earth, at a velocity og 7500m/s, and a flight path angle of -0.6 deg (from the horizon).\n",
    "\n",
    "This initial state always has to be provided as a cartesian state, in the form of a list with the first three elements reprensenting the initial position, and the three remaining elements representing the initial velocity.\n",
    "\n",
    "In this case, let's make use of the `spherical_to_cartesian_elementwise()` function that is included in the `element_conversion` module, so that the initial state can be input as Spherical elements, and then converted in Cartesian elements.\n",
    "\n",
    "Finally, the initial state has to be converted from the Earth-fixed frame in which it is defined with the Spherical elements to the inertial frame."
   ]
  },
  {
   "cell_type": "code",
   "execution_count": null,
   "id": "bb67e486",
   "metadata": {
    "collapsed": false,
    "jupyter": {
     "outputs_hidden": false
    }
   },
   "outputs": [],
   "source": [
    "# Set the initial state of the STS as spherical elements, and convert them to a cartesian state\n",
    "initial_radial_distance = bodies.get_body(\"Earth\").shape_model.average_radius + 120e3\n",
    "\n",
    "# Convert the initial state\n",
    "initial_earth_fixed_state = element_conversion.spherical_to_cartesian_elementwise(\n",
    "    radial_distance=initial_radial_distance,\n",
    "    latitude=np.deg2rad(20),\n",
    "    longitude=np.deg2rad(140),\n",
    "    speed=7.5e3,\n",
    "    flight_path_angle=np.deg2rad(-0.6),\n",
    "    heading_angle=np.deg2rad(15),\n",
    ")\n",
    "\n",
    "# Convert the state from the Earth-fixed frame to the inertial frame\n",
    "earth_rotation_model = bodies.get_body(\"Earth\").rotation_model\n",
    "initial_state = environment.transform_to_inertial_orientation(\n",
    "    initial_earth_fixed_state, simulation_start_epoch, earth_rotation_model\n",
    ")"
   ]
  },
  {
   "cell_type": "markdown",
   "id": "b6dba9f1",
   "metadata": {},
   "source": [
    "### Define the dependent variables to save\n",
    "\n",
    "In this example, we are interested in saving not only the propagated state of the vehicle over time, but also a set of so-called dependent variables, that are to be computed (or extracted and saved) at each integration step.\n",
    "\n",
    "[This page](https://tudatpy.readthedocs.io/en/latest/dependent_variable.html) of the tudatpy API website provides a detailled explanation of all the dependent variables that are available."
   ]
  },
  {
   "cell_type": "code",
   "execution_count": null,
   "id": "9c4bf3ba",
   "metadata": {
    "collapsed": false,
    "jupyter": {
     "outputs_hidden": false
    }
   },
   "outputs": [],
   "source": [
    "# Define the list of dependent variables to save during the propagation\n",
    "dependent_variables_to_save = [\n",
    "    propagation_setup.dependent_variable.flight_path_angle(\"STS\", \"Earth\"),\n",
    "    propagation_setup.dependent_variable.altitude(\"STS\", \"Earth\"),\n",
    "    propagation_setup.dependent_variable.bank_angle(\"STS\", \"Earth\"),\n",
    "    propagation_setup.dependent_variable.angle_of_attack(\"STS\", \"Earth\"),\n",
    "    propagation_setup.dependent_variable.aerodynamic_force_coefficients(\"STS\"),\n",
    "    propagation_setup.dependent_variable.airspeed(\"STS\", \"Earth\"),\n",
    "    propagation_setup.dependent_variable.total_acceleration_norm(\"STS\"),\n",
    "    propagation_setup.dependent_variable.mach_number(\"STS\", \"Earth\")\n",
    "]"
   ]
  },
  {
   "cell_type": "markdown",
   "id": "60721bd6",
   "metadata": {},
   "source": [
    "### Create the propagator settings\n",
    "\n",
    "The propagator is finally setup.\n",
    "\n",
    "First, a termination condition is defined so that the propagation as soon as one of these conditions is fulfilled:\n",
    "- The altitude gets below 25km.\n",
    "- The simulation time gets above 3 days.\n",
    "\n",
    "Combinated termination settings are then needed, which can be done using the `propagation_setup.propagator.hybrid_termination()` function.\n",
    "\n",
    "Then, the translational propagator settings are defined. These are used to simulate the orbit of `Delfi-C3` around Earth."
   ]
  },
  {
   "cell_type": "code",
   "execution_count": null,
   "id": "9d21dfa3",
   "metadata": {
    "collapsed": false,
    "jupyter": {
     "outputs_hidden": false
    }
   },
   "outputs": [],
   "source": [
    "# Define a termination conditions to stop once altitude goes below 25 km\n",
    "termination_altitude_settings = propagation_setup.propagator.dependent_variable_termination(\n",
    "    dependent_variable_settings=propagation_setup.dependent_variable.altitude(\"STS\", \"Earth\"),\n",
    "    limit_value=25.0e3,\n",
    "    use_as_lower_limit=True)\n",
    "# Define a termination condition to stop after a given time (to avoid an endless skipping re-entry)\n",
    "termination_time_settings = propagation_setup.propagator.time_termination(simulation_start_epoch + max_simulation_time)\n",
    "# Combine the termination settings to stop when one of them is fulfilled\n",
    "combined_termination_settings = propagation_setup.propagator.hybrid_termination(\n",
    "    [termination_altitude_settings, termination_time_settings], fulfill_single_condition=True )\n",
    "\n",
    "# Create the propagation settings\n",
    "propagator_settings = propagation_setup.propagator.translational(\n",
    "    central_bodies,\n",
    "    acceleration_models,\n",
    "    bodies_to_propagate,\n",
    "    initial_state,\n",
    "    combined_termination_settings,\n",
    "    output_variables=dependent_variables_to_save\n",
    ")"
   ]
  },
  {
   "cell_type": "markdown",
   "id": "45a52748",
   "metadata": {},
   "source": [
    "### Create the integrator settings\n",
    "\n",
    "The last step before starting the simulation is to setup the integrator that will be used.\n",
    "\n",
    "In this case, a RK4 integrator is used with a step fixed at 0.5 seconds."
   ]
  },
  {
   "cell_type": "code",
   "execution_count": null,
   "id": "d7c95592",
   "metadata": {
    "collapsed": false,
    "jupyter": {
     "outputs_hidden": false
    }
   },
   "outputs": [],
   "source": [
    "# Create numerical integrator settings\n",
    "fixed_step_size = 0.5\n",
    "integrator_settings = propagation_setup.integrator.runge_kutta_4(\n",
    "    simulation_start_epoch, fixed_step_size\n",
    ")"
   ]
  },
  {
   "cell_type": "markdown",
   "id": "b09089d3",
   "metadata": {},
   "source": [
    "## Propagate the trajectory\n",
    "\n",
    "The re-entry trajectory is now ready to be propagated.\n",
    "\n",
    "This is done by calling the `SingleArcSimulator()` function of the `numerical_simulation module`.\n",
    "This function requires the `bodies`, `integrator_settings`, and `propagator_settings` that have all been defined earlier.\n",
    "\n",
    "After this, the dependent variable history is extracted.\n",
    "The column indexes corresponding to a given dependent variable in the `dep_vars` variable are printed when the simulation is run, when `SingleArcSimulator()` is called.\n",
    "Do mind that converting to an ndarray using the `result2array()` utility will shift these indexes, since the first column (index 0) will then be the times.\n",
    "\n",
    "In this example, we are not interested in analysing the state history. This can however be accessed in the `dynamics_simulator.state_history` variable."
   ]
  },
  {
   "cell_type": "code",
   "execution_count": null,
   "id": "40cd08f9",
   "metadata": {
    "collapsed": false,
    "jupyter": {
     "outputs_hidden": false
    }
   },
   "outputs": [],
   "source": [
    "# Create the simulation objects and propagate the dynamics\n",
    "dynamics_simulator = numerical_simulation.SingleArcSimulator(\n",
    "    bodies, integrator_settings, propagator_settings\n",
    ")\n",
    "\n",
    "# Extract the resulting simulation dependent variables\n",
    "dependent_variables = dynamics_simulator.dependent_variable_history\n",
    "# Convert the dependent variables from a dictionary to a numpy array\n",
    "dependent_variables_array = result2array(dependent_variables)"
   ]
  },
  {
   "cell_type": "markdown",
   "id": "f3cf93f9",
   "metadata": {},
   "source": [
    "## Post-process the propagation results\n",
    "\n",
    "The results of the propagation are then processed to a more user-friendly form."
   ]
  },
  {
   "cell_type": "markdown",
   "id": "3c2a9717",
   "metadata": {},
   "source": [
    "### Altitude over time\n",
    "\n",
    "First, let's plot the altitude of the `STS` vehicle over time."
   ]
  },
  {
   "cell_type": "code",
   "execution_count": null,
   "id": "d8dc6404",
   "metadata": {
    "collapsed": false,
    "jupyter": {
     "outputs_hidden": false
    }
   },
   "outputs": [],
   "source": [
    "# Extract the time from the dependent variables array (and convert from seconds to minutes)\n",
    "time_min = dependent_variables_array[:,0] / 60\n",
    "\n",
    "# Define a matplotlib.pyplot figure\n",
    "plt.figure(figsize=(9, 5))\n",
    "# Plot the altitude over time\n",
    "plt.plot(time_min, dependent_variables_array[:,2]/1e3)\n",
    "# Add label to the axis\n",
    "plt.xlabel(\"Time [min]\"), plt.ylabel(\"Altitude [km]\")\n",
    "# Add a grid\n",
    "plt.grid()\n",
    "# Use a tight layout to save space\n",
    "plt.tight_layout()\n",
    "plt.show()"
   ]
  },
  {
   "cell_type": "markdown",
   "id": "d48ce681",
   "metadata": {},
   "source": [
    "### Airspeed vs altitude\n",
    "\n",
    "Let's now plot the altitude of the vehicle as a function of its airspeed. This gives insights into how the vehicle decelerates."
   ]
  },
  {
   "cell_type": "code",
   "execution_count": null,
   "id": "00436c5f",
   "metadata": {
    "collapsed": false,
    "jupyter": {
     "outputs_hidden": false
    }
   },
   "outputs": [],
   "source": [
    "# Plot the airspeed vs altitude\n",
    "plt.figure(figsize=(9, 5))\n",
    "plt.plot(dependent_variables_array[:,8], dependent_variables_array[:,2]/1e3)\n",
    "plt.xlabel(\"Airspeed [m/s]\"), plt.ylabel(\"Altitude [km]\")\n",
    "plt.grid()\n",
    "plt.tight_layout()\n",
    "plt.show()"
   ]
  },
  {
   "cell_type": "markdown",
   "id": "fce6a312",
   "metadata": {},
   "source": [
    "### g-load over time\n",
    "\n",
    "The following plot then shows the total acceleration on the vehicle in `g` (Earth's gravitational acceleration at sea level)."
   ]
  },
  {
   "cell_type": "code",
   "execution_count": null,
   "id": "629b9b44",
   "metadata": {
    "collapsed": false,
    "jupyter": {
     "outputs_hidden": false
    }
   },
   "outputs": [],
   "source": [
    "# Plot the g-load over time\n",
    "plt.figure(figsize=(9, 5))\n",
    "plt.plot(time_min, dependent_variables_array[:,9]/9.81)\n",
    "plt.xlabel(\"Time [min]\"), plt.ylabel(\"Total g-load [-]\")\n",
    "plt.grid()\n",
    "plt.tight_layout()\n",
    "plt.show()"
   ]
  },
  {
   "cell_type": "markdown",
   "id": "4ed1a97c",
   "metadata": {},
   "source": [
    "### Aerodynamic coefficient over time\n",
    "\n",
    "Plotting the aerodynamic coefficients over time can also give a good set of insights into what happens during re-entry."
   ]
  },
  {
   "cell_type": "code",
   "execution_count": null,
   "id": "cc405878",
   "metadata": {
    "collapsed": false,
    "jupyter": {
     "outputs_hidden": false
    }
   },
   "outputs": [],
   "source": [
    "# Plot C_D, C_L, and L/D over time\n",
    "plt.figure(figsize=(9, 5))\n",
    "plt.plot(time_min, dependent_variables_array[:,5], label=\"Drag\")\n",
    "plt.plot(time_min, dependent_variables_array[:,7], label=\"Lift\")\n",
    "plt.plot(time_min, dependent_variables_array[:,7]/dependent_variables_array[:,5], label=\"Lift/Drag\")\n",
    "plt.xlabel(\"Time [min]\"), plt.ylabel(\"Aerodynamic coefficient [-]\")\n",
    "# Also add a legend\n",
    "plt.legend()\n",
    "plt.grid()\n",
    "plt.tight_layout()\n",
    "plt.show()"
   ]
  },
  {
   "cell_type": "markdown",
   "id": "4cfa2687",
   "metadata": {},
   "source": [
    "### Angles over time\n",
    "\n",
    "Plotting the angle of attack and bank angle over time allows to check if the aerodynamic guidance behaves as expected. Moreover, plotting the flight path angle over time allows to check how efficient the guidance was at keeping it constant."
   ]
  },
  {
   "cell_type": "code",
   "execution_count": null,
   "id": "e289aa3e",
   "metadata": {
    "collapsed": false,
    "jupyter": {
     "outputs_hidden": false
    }
   },
   "outputs": [],
   "source": [
    "# Plot various angles over time (bank angle, angle of attack, and flight-path angle)\n",
    "plt.figure(figsize=(9, 5))\n",
    "plt.plot(time_min, np.rad2deg(dependent_variables_array[:,3]), label=\"Bank angle\")\n",
    "plt.plot(time_min, np.rad2deg(dependent_variables_array[:,4]), label=\"Angle of attack\")\n",
    "plt.plot(time_min, np.rad2deg(dependent_variables_array[:,1]), label=\"Flight-path angle\")\n",
    "plt.xlabel(\"Time [min]\"), plt.ylabel(\"Angle [deg]\")\n",
    "plt.legend()\n",
    "plt.grid()\n",
    "plt.tight_layout()\n",
    "plt.show()"
   ]
  },
  {
   "cell_type": "markdown",
   "id": "6f1b8772",
   "metadata": {},
   "source": [
    "### Angle of attack vs Mach number\n",
    "\n",
    "Plotting the angle of attack as a function of the Mach number allows to check that it indeed is of 10deg below Mach 6, of 40deg above Mach 12, and that it varies more or less linearly (and smoothly) in-between."
   ]
  },
  {
   "cell_type": "code",
   "execution_count": null,
   "id": "2954e9fb",
   "metadata": {
    "collapsed": false,
    "jupyter": {
     "outputs_hidden": false
    }
   },
   "outputs": [],
   "source": [
    "# Plot the AoA over Mach number\n",
    "plt.figure(figsize=(9, 5))\n",
    "plt.plot(dependent_variables_array[:,10], np.rad2deg(dependent_variables_array[:,4]))\n",
    "plt.xlabel(\"Mach number [-]\"), plt.ylabel(\"Angle of attack [deg]\")\n",
    "# Set the x-axis ticks spacing to 1\n",
    "plt.xticks(np.arange(0, 28.1, 1))\n",
    "plt.grid()\n",
    "plt.tight_layout()\n",
    "plt.show()"
   ]
  },
  {
   "cell_type": "markdown",
   "id": "bfc0dabb",
   "metadata": {},
   "source": [
    "### Derivative of flight path angle over time\n",
    "\n",
    "Plotting the derivative of the flight path angle over time finally allows to analyse how constant the flight path angle really was."
   ]
  },
  {
   "cell_type": "code",
   "execution_count": null,
   "id": "a0c10a1a",
   "metadata": {
    "collapsed": false,
    "jupyter": {
     "outputs_hidden": false
    }
   },
   "outputs": [],
   "source": [
    "flight_path_angle = dependent_variables_array[:,1]\n",
    "# Compute the derivative of the flight path angle over time (dot(gamma) = Delta gamma / Delta t)\n",
    "flight_path_angle_derivative = np.fabs(( flight_path_angle[1:flight_path_angle.size] - flight_path_angle[0:-1])/fixed_step_size)\n",
    "# Plot the derivative of the flight path angle over time\n",
    "plt.figure(figsize=(9, 5))\n",
    "plt.plot(time_min[0:-1], np.rad2deg(flight_path_angle_derivative))\n",
    "plt.xlabel(\"Time [min]\"), plt.ylabel(\"Absolute flight-path angle rate [deg/s]\")\n",
    "# Make the y-axis logarithmic\n",
    "plt.yscale(\"log\")\n",
    "# Have a tick on the y-axis every power of 10\n",
    "plt.yticks(10**np.arange(-12, 0.1, 1))\n",
    "plt.grid()\n",
    "plt.tight_layout()\n",
    "plt.show()"
   ]
  }
 ],
 "metadata": {
  "kernelspec": {
   "display_name": "Python 3 (ipykernel)",
   "language": "python",
   "name": "python3"
  },
  "language_info": {
   "codemirror_mode": {
    "name": "ipython",
    "version": 3
   },
   "file_extension": ".py",
   "mimetype": "text/x-python",
   "name": "python",
   "nbconvert_exporter": "python",
   "pygments_lexer": "ipython3",
   "version": "3.9.13"
  }
 },
 "nbformat": 4,
 "nbformat_minor": 5
}
