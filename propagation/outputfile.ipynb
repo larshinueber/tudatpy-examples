{
 "cells": [
  {
   "cell_type": "code",
   "execution_count": null,
   "id": "498736d4",
   "metadata": {
    "collapsed": false
   },
   "outputs": [],
   "source": [
    "import sys\n",
    "sys.path.insert(0, '/home/dominic/Software/tudat-bundle/build-tudat-bundle-Desktop-Default/tudatpy/')"
   ]
  },
  {
   "cell_type": "markdown",
   "id": "c3802389",
   "metadata": {},
   "source": [
    "# Thrust between the Earth and the Moon\n",
    "\n",
    "Copyright (c) 2010-2022, Delft University of Technology. All rights reserved. This file is part of the Tudat. Redistribution and use in source and binary forms, with or without modification, are permitted exclusively under the terms of the Modified BSD license. You should have received a copy of the license with this file. If not, please or visit: http://tudat.tudelft.nl/LICENSE."
   ]
  },
  {
   "cell_type": "markdown",
   "id": "08f60b2b",
   "metadata": {},
   "source": [
    "## Context\n",
    "\n",
    "This example demonstrates the a basic use of thrust in the Earth-Moon system.\n",
    "\n",
    "Thrust is implemented to be of constant magnitude, and be co-linear with velocity, pushing the simulated vehicle from behind.\n",
    "In addition to the acceleration from the thrust, a basic model is setup, consisting of the acceleration of the Earth, Moon, and Sun, only considering them as Point Masses.\n",
    "\n",
    "The mass of the vehicle is also propagated, using a mass rate model made to be consistent with the rocket thrust used.\n",
    "\n",
    "How to setup dependent variables to save the mass and altitude of the vehicle over time is also demonstrated.\n",
    "\n",
    "Termination settings based on the minimum mass of the vehicle and its maximum altitude are also shown.\n",
    "\n",
    "Finally, how to plot the trajectory of the vehicle and of the Moon in 3D is demonstrated.\n",
    "For this, this example also shows how to extract the position of the Moon over time from SPICE."
   ]
  },
  {
   "cell_type": "markdown",
   "id": "fc5339c0",
   "metadata": {},
   "source": [
    "## Import statements\n",
    "\n",
    "The required import statements are made here, at the very beginning.\n",
    "\n",
    "Some standard modules are first loaded. These are `numpy` and `matplotlib.pyplot`.\n",
    "\n",
    "Then, the different modules of `tudatpy` that will be used are imported."
   ]
  },
  {
   "cell_type": "code",
   "execution_count": null,
   "id": "98d83876",
   "metadata": {
    "collapsed": false
   },
   "outputs": [],
   "source": [
    "# Load standard modules\n",
    "import numpy as np\n",
    "from matplotlib import pyplot as plt\n",
    "\n",
    "# Load tudatpy modules\n",
    "from tudatpy.kernel.interface import spice\n",
    "from tudatpy.kernel import numerical_simulation\n",
    "from tudatpy.kernel.numerical_simulation import environment_setup\n",
    "from tudatpy.kernel.numerical_simulation import propagation_setup\n",
    "from tudatpy.kernel import constants\n",
    "from tudatpy.util import result2array"
   ]
  },
  {
   "cell_type": "markdown",
   "id": "9344f8eb",
   "metadata": {},
   "source": [
    "## Configuration\n",
    "\n",
    "NAIF's `SPICE` kernels are first loaded, so that the position of various bodies such as the Earth can be make known to `tudatpy`.\n",
    "\n",
    "Then, the start and end simulation epochs are setups. In this case, the start epoch is set to `1e7`, corresponding to 10 million seconds ($\\approx$ 115.74 days) after the 1st of January 2000.\n",
    "\n",
    "The times should always be specified in seconds since J2000.\n",
    "Please refer to the API documentation of the `time_conversion module` [here](https://tudatpy.readthedocs.io/en/latest/time_conversion.html) for more information on this."
   ]
  },
  {
   "cell_type": "code",
   "execution_count": null,
   "id": "bd083a5c",
   "metadata": {
    "collapsed": false
   },
   "outputs": [],
   "source": [
    "# Load spice kernels\n",
    "spice.load_standard_kernels()\n",
    "\n",
    "# Set simulation start and end epochs (total simulation time of 30 days)\n",
    "simulation_start_epoch = 1.0e7\n",
    "simulation_end_epoch = 1.0e7 + 30.0 * constants.JULIAN_DAY"
   ]
  },
  {
   "cell_type": "markdown",
   "id": "d4be86c4",
   "metadata": {},
   "source": [
    "## Environment setup\n",
    "\n",
    "Let’s create the environment for our simulation. This setup covers the creation of (celestial) bodies, vehicle(s), and environment interfaces."
   ]
  },
  {
   "cell_type": "markdown",
   "id": "096bb943",
   "metadata": {},
   "source": [
    "### Create the bodies\n",
    "\n",
    "Bodies can be created by making a list of strings with the bodies that is to be included in the simulation.\n",
    "\n",
    "The default body settings (such as atmosphere, body shape, rotation model) are taken from `SPICE`.\n",
    "\n",
    "These settings can be adjusted. Please refere to the [Available Environment Models](https://tudat-space.readthedocs.io/en/latest/_src_user_guide/state_propagation/environment_setup/create_models/available.html#available-environment-models) in the user guide for more details.\n",
    "\n",
    "Finally, the system of bodies is created using the settings. This system of bodies is stored into the variable `bodies`."
   ]
  },
  {
   "cell_type": "code",
   "execution_count": null,
   "id": "08b8dd18",
   "metadata": {
    "collapsed": false
   },
   "outputs": [],
   "source": [
    "# Define bodies in simulation\n",
    "bodies_to_create = [\"Sun\", \"Earth\", \"Moon\"]\n",
    "\n",
    "# Create bodies in simulation\n",
    "body_settings = environment_setup.get_default_body_settings(bodies_to_create)\n",
    "system_of_bodies = environment_setup.create_system_of_bodies(body_settings)"
   ]
  },
  {
   "cell_type": "markdown",
   "id": "5d4243fe",
   "metadata": {},
   "source": [
    "### Create the vehicle\n",
    "\n",
    "Let's now create the 5000kg Vehicle for which the trajectory bewteen the Earth and the Moon will be propagated."
   ]
  },
  {
   "cell_type": "code",
   "execution_count": null,
   "id": "1943409a",
   "metadata": {
    "collapsed": false
   },
   "outputs": [],
   "source": [
    "# Create the vehicle body in the environment\n",
    "system_of_bodies.create_empty_body(\"Vehicle\")\n",
    "system_of_bodies.get_body(\"Vehicle\").set_constant_mass(5e3)"
   ]
  },
  {
   "cell_type": "markdown",
   "id": "69580ab7",
   "metadata": {},
   "source": [
    "### Define the thrust guidance settings\n",
    "\n",
    "Let's now define the aspects of the body related to thrust: its orientation and its engine\n",
    "\n",
    "First, the `thrust_direction_settings` are setup so that the thrust is always acting aligned with the velocity vector of the vehicle, making sure that the orbit is continuously raised.\n",
    "\n",
    "Then, the `thrust_magnitude_settings` are setup to indicate that a constant thrust of 10N is used."
   ]
  },
  {
   "cell_type": "code",
   "execution_count": null,
   "id": "8415699d",
   "metadata": {
    "collapsed": false
   },
   "outputs": [],
   "source": [
    "rotation_model_settings = environment_setup.rotation_model.orbital_state_direction_based(\n",
    "        central_body=\"Earth\",\n",
    "        is_colinear_with_velocity=True,\n",
    "        direction_is_opposite_to_vector=False,\n",
    "        base_frame = \"\",\n",
    "        target_frame = \"VehicleFixed\" )\n",
    "environment_setup.add_rotation_model( system_of_bodies, 'Vehicle', rotation_model_settings )\n",
    "\n",
    "thrust_magnitude_settings = (\n",
    "    propagation_setup.thrust.constant_thrust_magnitude(\n",
    "        thrust_magnitude=10.0, specific_impulse=5e3 ) )\n",
    "environment_setup.add_engine_model(\n",
    "    'Vehicle', 'MainEngine', thrust_magnitude_settings, system_of_bodies )"
   ]
  },
  {
   "cell_type": "markdown",
   "id": "d52b6a41",
   "metadata": {},
   "source": [
    "## Propagation setup\n",
    "\n",
    "Now that the environment is created, the propagation setup is defined.\n",
    "\n",
    "First, the bodies to be propagated and the central bodies will be defined.\n",
    "Central bodies are the bodies with respect to which the state of the respective propagated bodies is defined."
   ]
  },
  {
   "cell_type": "code",
   "execution_count": null,
   "id": "0af05c08",
   "metadata": {
    "collapsed": false
   },
   "outputs": [],
   "source": [
    "# Define bodies that are propagated\n",
    "bodies_to_propagate = [\"Vehicle\"]\n",
    "\n",
    "# Define central bodies of propagation\n",
    "central_bodies = [\"Earth\"]"
   ]
  },
  {
   "cell_type": "markdown",
   "id": "e2e76d58",
   "metadata": {},
   "source": [
    "### Create the acceleration model\n",
    "\n",
    "First off, the acceleration settings that act on the Vehicle are to be defined.\n",
    "In this case, these consist in the followings:\n",
    "- Acceleration from the constant thrust, using the settings defined earlier.\n",
    "- Graviational acceleration from the Earth, the Moon, and the Sun, all modeled as Point Masses.\n",
    "\n",
    "The acceleration settings defined are then applied to the Vehicle in a dictionary.\n",
    "\n",
    "This dictionary is finally input to the propagation setup to create the acceleration models."
   ]
  },
  {
   "cell_type": "code",
   "execution_count": null,
   "id": "5fe356ac",
   "metadata": {
    "collapsed": false
   },
   "outputs": [],
   "source": [
    "# Define the accelerations acting on the vehicle\n",
    "acceleration_on_vehicle = dict(\n",
    "    Vehicle=[\n",
    "        # Define the thrust acceleration from its direction and magnitude\n",
    "        propagation_setup.acceleration.thrust_from_engine( 'MainEngine')\n",
    "    ],\n",
    "    # Define the acceleration due to the Earth, Moon, and Sun as Point Mass\n",
    "    Earth=[propagation_setup.acceleration.point_mass_gravity()],\n",
    "    Moon=[propagation_setup.acceleration.point_mass_gravity()],\n",
    "    Sun=[propagation_setup.acceleration.point_mass_gravity()]\n",
    ")\n",
    "\n",
    "# Compile the accelerations acting on the vehicle\n",
    "acceleration_dict = dict(Vehicle=acceleration_on_vehicle)\n",
    "\n",
    "# Create the acceleration models from the acceleration mapping dictionary\n",
    "acceleration_models = propagation_setup.create_acceleration_models(\n",
    "    body_system=system_of_bodies,\n",
    "    selected_acceleration_per_body=acceleration_dict,\n",
    "    bodies_to_propagate=bodies_to_propagate,\n",
    "    central_bodies=central_bodies\n",
    ")"
   ]
  },
  {
   "cell_type": "markdown",
   "id": "a9cc9b1a",
   "metadata": {},
   "source": [
    "### Define the initial state\n",
    "\n",
    "The initial state of the vehicle that will be propagated is now defined. \n",
    "\n",
    "In this example, this state is very straightforwardly set directly in cartesian coordinates.\n",
    "\n",
    "The Vehicle will thus start 8000km from the center of the Earth, at a velocity of 7.5km/s."
   ]
  },
  {
   "cell_type": "code",
   "execution_count": null,
   "id": "49bebf70",
   "metadata": {
    "collapsed": false
   },
   "outputs": [],
   "source": [
    "# Get system initial state (in cartesian coordinates)\n",
    "system_initial_state = np.array([8.0e6, 0, 0, 0, 7.5e3, 0])"
   ]
  },
  {
   "cell_type": "markdown",
   "id": "c93ce197",
   "metadata": {},
   "source": [
    "### Define dependent variables to save\n",
    "\n",
    "In this example, we are interested in saving not only the propagated state of the satellite over time, but also a set of so-called dependent variables, that are to be computed (or extracted and saved) at each integration step.\n",
    "\n",
    "[This page](https://tudatpy.readthedocs.io/en/latest/dependent_variable.html) of the tudatpy API website provides a detailled explanation of all the dependent variables that are available."
   ]
  },
  {
   "cell_type": "code",
   "execution_count": null,
   "id": "2cc4f673",
   "metadata": {
    "collapsed": false
   },
   "outputs": [],
   "source": [
    "# Create a dependent variable to save the altitude of the vehicle w.r.t. Earth over time\n",
    "vehicle_altitude_dep_var = propagation_setup.dependent_variable.altitude( \"Vehicle\", \"Earth\" )\n",
    "\n",
    "# Create a dependent variable to save the mass of the vehicle over time\n",
    "vehicle_mass_dep_var = propagation_setup.dependent_variable.body_mass( \"Vehicle\" )\n",
    "\n",
    "# Define list of dependent variables to save\n",
    "dependent_variables_to_save = [vehicle_altitude_dep_var, vehicle_mass_dep_var]"
   ]
  },
  {
   "cell_type": "markdown",
   "id": "67d4561b",
   "metadata": {},
   "source": [
    "### Create the termination settings\n",
    "\n",
    "Let's now define a set of termination conditions. In this setup, once a single one of them is fulfilled, the propagation stops.\n",
    "\n",
    "These conditions are the following:\n",
    "- Stop when the altitude get above 100,000 km.\n",
    "- Stop when the vehicle has a mass of 4000kg (burned 1000kg of propellant).\n",
    "- Stop when the vehicle reaches the specified end epoch (after 30 days)."
   ]
  },
  {
   "cell_type": "code",
   "execution_count": null,
   "id": "dd465779",
   "metadata": {
    "collapsed": false
   },
   "outputs": [],
   "source": [
    "# Create a termination setting to stop when altitude of the vehicle is above 100e3 km\n",
    "termination_distance_settings = propagation_setup.propagator.dependent_variable_termination(\n",
    "        dependent_variable_settings = vehicle_altitude_dep_var,\n",
    "        limit_value = 100e6,\n",
    "        use_as_lower_limit = False)\n",
    "\n",
    "# Create a termination setting to stop when the vehicle has a mass below 4e3 kg\n",
    "termination_mass_settings = propagation_setup.propagator.dependent_variable_termination(\n",
    "        dependent_variable_settings = vehicle_mass_dep_var,\n",
    "        limit_value = 4000.0,\n",
    "        use_as_lower_limit = True)\n",
    "\n",
    "# Create a termination setting to stop at the specified simulation end epoch\n",
    "termination_time_settings = propagation_setup.propagator.time_termination(simulation_end_epoch)\n",
    "\n",
    "# Setup a hybrid termination setting to stop the simulation when one of the aforementionned termination setting is reached\n",
    "termination_condition = propagation_setup.propagator.hybrid_termination(\n",
    "    [termination_distance_settings, termination_mass_settings, termination_time_settings],\n",
    "    fulfill_single_condition = True)"
   ]
  },
  {
   "cell_type": "markdown",
   "id": "76c69681",
   "metadata": {},
   "source": [
    "### Create the propagator settings\n",
    "\n",
    "The propagator settings are now defined.\n",
    "\n",
    "As usual, translational propagation settings are defined, using a Cowell propagator.\n",
    "\n",
    "Then, mass propagation settings are also defined. The mass rate from the vehicle is setup to be consistent with the thrust used. The vehicle then looses mass as it looses propellant.\n",
    "\n",
    "Finally, a multitype propagator is defined, encompassing both the translational and the mass propagators."
   ]
  },
  {
   "cell_type": "code",
   "execution_count": null,
   "id": "12216840",
   "metadata": {
    "collapsed": false
   },
   "outputs": [],
   "source": [
    "# Create the translational propagation settings (use a Cowell propagator)\n",
    "translational_propagator_settings = propagation_setup.propagator.translational(\n",
    "    central_bodies,\n",
    "    acceleration_models,\n",
    "    bodies_to_propagate,\n",
    "    system_initial_state,\n",
    "    termination_condition,\n",
    "    propagation_setup.propagator.cowell,\n",
    "    output_variables=[vehicle_altitude_dep_var, vehicle_mass_dep_var]\n",
    ")\n",
    "\n",
    "# Create a mass rate model so that the vehicle looses mass according to how much thrust acts on it\n",
    "mass_rate_settings = dict(Vehicle=[propagation_setup.mass_rate.from_thrust()])\n",
    "mass_rate_models = propagation_setup.create_mass_rate_models(\n",
    "    system_of_bodies,\n",
    "    mass_rate_settings,\n",
    "    acceleration_models\n",
    ")\n",
    "# Create the mass propagation settings\n",
    "mass_propagator_settings = propagation_setup.propagator.mass(\n",
    "    bodies_to_propagate,\n",
    "    mass_rate_models,\n",
    "    [5e3], # initial vehicle mass\n",
    "    termination_condition )\n",
    "\n",
    "# Combine the translational and mass propagator settings\n",
    "propagator_settings = propagation_setup.propagator.multitype(\n",
    "    [translational_propagator_settings, mass_propagator_settings],\n",
    "    termination_condition,\n",
    "    [vehicle_altitude_dep_var, vehicle_mass_dep_var])"
   ]
  },
  {
   "cell_type": "markdown",
   "id": "1ecaa285",
   "metadata": {},
   "source": [
    "### Create the integrator settings\n",
    "\n",
    "The last step before starting the simulation is to setup the integrator that will be used.\n",
    "\n",
    "In this case, a RKF7(8) variable step integrator is used, which has a tolerance of $10^{-10}$, can take steps from 0.01s to 1 day, and starts at an initial step size of 10s."
   ]
  },
  {
   "cell_type": "code",
   "execution_count": null,
   "id": "02c0facb",
   "metadata": {
    "collapsed": false
   },
   "outputs": [],
   "source": [
    "# Setup the variable step integrator time step sizes\n",
    "initial_time_step = 10.0\n",
    "minimum_time_step = 0.01\n",
    "maximum_time_step = 86400\n",
    "# Setup the tolerance of the variable step integrator\n",
    "tolerance = 1e-10\n",
    "\n",
    "# Create numerical integrator settings (using a RKF7(8) coefficient set)\n",
    "integrator_settings = propagation_setup.integrator.runge_kutta_variable_step_size(\n",
    "    simulation_start_epoch,\n",
    "    initial_time_step,\n",
    "    propagation_setup.integrator.rkf_78,\n",
    "    minimum_time_step,\n",
    "    maximum_time_step,\n",
    "    relative_error_tolerance=tolerance,\n",
    "    absolute_error_tolerance=tolerance)"
   ]
  },
  {
   "cell_type": "markdown",
   "id": "f2544af6",
   "metadata": {},
   "source": [
    "## Propagate the orbit\n",
    "\n",
    "The orbit from the Earth to the Moon is now ready to be propagated.\n",
    "\n",
    "This is done by calling the `SingleArcSimulator()` function of the `numerical_simulation module`.\n",
    "This function requires the `system_of_bodies`, `integrator_settings`, and `propagator_settings` that have all been defined earlier.\n",
    "\n",
    "After this, the history of the propagated state over time, containing both the position and velocity history, is extracted.\n",
    "This history, taking the form of a dictionary, is then converted to an array containing 7 columns:\n",
    "- Column 0: Time history, in seconds since J2000.\n",
    "- Columns 1 to 3: Position history, in meters, in the frame that was specified in the `body_settings`.\n",
    "- Columns 4 to 6: Velocity history, in meters per second, in the frame that was specified in the `body_settings`.\n",
    "\n",
    "The same is done with the dependent variable history. The column indexes corresponding to a given dependent variable in the `dep_vars` variable are printed when the simulation is run, when `SingleArcSimulator()` is called.\n",
    "Do mind that converting to an ndarray using the `result2array()` utility will shift these indexes, since the first column (index 0) will then be the times."
   ]
  },
  {
   "cell_type": "code",
   "execution_count": null,
   "id": "70af45ec",
   "metadata": {
    "collapsed": false
   },
   "outputs": [],
   "source": [
    "# Instantiate the dynamics simulator and run the simulation\n",
    "dynamics_simulator = numerical_simulation.SingleArcSimulator(\n",
    "    system_of_bodies, integrator_settings, propagator_settings, print_dependent_variable_data=True\n",
    ")\n",
    "\n",
    "# Extract the state and dependent variable history\n",
    "state_history = dynamics_simulator.state_history\n",
    "dependent_variable_history = dynamics_simulator.dependent_variable_history\n",
    "\n",
    "# Convert the dictionaries to multi-dimensional arrays\n",
    "vehicle_array = result2array(state_history)\n",
    "dep_var_array = result2array(dependent_variable_history)"
   ]
  },
  {
   "cell_type": "markdown",
   "id": "43b6f8ac",
   "metadata": {},
   "source": [
    "### Get Moon state from SPICE\n",
    "\n",
    "The state of the Moon at the epochs at which the propagation was run is now extracted from the SPICE kernel."
   ]
  },
  {
   "cell_type": "code",
   "execution_count": null,
   "id": "e33e694d",
   "metadata": {
    "collapsed": false
   },
   "outputs": [],
   "source": [
    "# Retrieve the Moon trajectory over vehicle propagation epochs from spice\n",
    "moon_states_from_spice = {\n",
    "    epoch:spice.get_body_cartesian_state_at_epoch(\"Moon\", \"Earth\", \"J2000\", \"None\", epoch)\n",
    "    for epoch in list(state_history.keys())\n",
    "}\n",
    "# Convert the dictionary to a mutli-dimensional array\n",
    "moon_array = result2array(moon_states_from_spice)"
   ]
  },
  {
   "cell_type": "markdown",
   "id": "1b31d8e0",
   "metadata": {},
   "source": [
    "## Post-process the propagation results\n",
    "\n",
    "The results of the propagation are then processed to a more user-friendly form."
   ]
  },
  {
   "cell_type": "markdown",
   "id": "baf6c6c3",
   "metadata": {},
   "source": [
    "### Altitude over time\n",
    "\n",
    "Let's first plot the altitude of the vehicle over time, as given in the second column of the dependent variable array (the first one being the epochs)."
   ]
  },
  {
   "cell_type": "code",
   "execution_count": null,
   "id": "73e4174b",
   "metadata": {
    "collapsed": false
   },
   "outputs": [],
   "source": [
    "# Convert the time to days\n",
    "time_days = (vehicle_array[:,0] - vehicle_array[0,0])/constants.JULIAN_DAY\n",
    "\n",
    "# Create a figure for the altitude of the vehicle above Earth\n",
    "fig1 = plt.figure(figsize=(9, 5))\n",
    "ax1 = fig1.add_subplot(111)\n",
    "ax1.set_title(f\"Vehicle altitude above Earth\")\n",
    "\n",
    "# Plot the altitude of the vehicle over time\n",
    "ax1.plot(time_days, dep_var_array[:,1]/1e3)\n",
    "\n",
    "# Add a grid and axis labels to the plot\n",
    "ax1.grid(), ax1.set_xlabel(\"Simulation time [day]\"), ax1.set_ylabel(\"Vehicle altitude [km]\")\n",
    "\n",
    "# Use a tight layout for the figure (do last to avoid trimming axis)\n",
    "fig1.tight_layout()"
   ]
  },
  {
   "cell_type": "markdown",
   "id": "63a6ca7b",
   "metadata": {},
   "source": [
    "### Vehicle mass over time\n",
    "\n",
    "The mass of the vehicle over time is now plotted. This shows that, as expected, the propellant being used for thrust gets removed from the vehicle mass."
   ]
  },
  {
   "cell_type": "code",
   "execution_count": null,
   "id": "a78adf6a",
   "metadata": {
    "collapsed": false
   },
   "outputs": [],
   "source": [
    "# Create a figure for the altitude of the vehicle above Earth\n",
    "fig2 = plt.figure(figsize=(9, 5))\n",
    "ax2 = fig2.add_subplot(111)\n",
    "ax2.set_title(f\"Vehicle mass over time\")\n",
    "\n",
    "# Plot the mass of the vehicle over time\n",
    "ax2.plot(time_days, dep_var_array[:,2])\n",
    "\n",
    "# Add a grid and axis labels to the plot\n",
    "ax2.grid(), ax2.set_xlabel(\"Simulation time [day]\"), ax2.set_ylabel(\"Vehicle mass [kg]\")\n",
    "\n",
    "# Use a tight layout for the figure (do last to avoid trimming axis)\n",
    "fig2.tight_layout()"
   ]
  },
  {
   "cell_type": "markdown",
   "id": "18d92bc1",
   "metadata": {},
   "source": [
    "### 3D Projection\n",
    "\n",
    "Finally, let's plot the state of the vehicle and of the Moon in 3 dimensions."
   ]
  },
  {
   "cell_type": "code",
   "execution_count": null,
   "id": "db04ab07",
   "metadata": {
    "collapsed": false
   },
   "outputs": [],
   "source": [
    "# Create a figure with a 3D projection for the Moon and vehicle trajectory around Earth\n",
    "fig3 = plt.figure(figsize=(8, 8))\n",
    "ax3 = fig3.add_subplot(111, projection=\"3d\")\n",
    "ax3.set_title(f\"System state evolution in 3D\")\n",
    "\n",
    "# Plot the vehicle and Moon positions as curve, and the Earth as a marker\n",
    "ax3.plot(vehicle_array[:,1], vehicle_array[:,2], vehicle_array[:,3], label=\"Vehicle\", linestyle=\"-.\", color=\"green\")\n",
    "ax3.plot(moon_array[:,1], moon_array[:,2], moon_array[:,3], label=\"Moon\", linestyle=\"-\", color=\"grey\")\n",
    "ax3.scatter(0.0, 0.0, 0.0, label=\"Earth\", marker=\"o\", color=\"blue\")\n",
    "\n",
    "# Add a legend, set the plot limits, and add axis labels\n",
    "ax3.legend()\n",
    "ax3.set_xlim([-3E8, 3E8]), ax3.set_ylim([-3E8, 3E8]), ax3.set_zlim([-3E8, 3E8])\n",
    "ax3.set_xlabel(\"x [m]\"), ax3.set_ylabel(\"y [m]\"), ax3.set_zlabel(\"z [m]\")\n",
    "\n",
    "# Use a tight layout for the figure (do last to avoid trimming axis)\n",
    "fig3.tight_layout()\n",
    "\n",
    "plt.show()"
   ]
  }
 ],
 "metadata": {},
 "nbformat": 4,
 "nbformat_minor": 5
}
