{
 "cells": [
  {
   "cell_type": "markdown",
   "id": "30a42c7f-3ae8-4bcc-b5c3-7b99d258fa01",
   "metadata": {},
   "source": [
    "# Two-stage rocket ascent\n",
    "\n",
    "## Objectives\n",
    "This example demonstrates the simulation of the ascent trajectory of a two stage rocket on Mars. Two simulations are carried: one for each stage. In these simulations, both the dynamic state and the mass of the vehicle are propagated.\n",
    "\n",
    "To ascent to orbit, the rocket needs thrust. This example thus also focuses on demonstrating various ascpect of thrust that are available in Tudat(Py). More specifically, dual thrust is implemented, simulating a solid propellant which burns with a magnitude 1.75 times higher in the 15 first seconds.\n",
    "\n",
    "Aerodynamic guidance is also included, as to very simply update the angle of attack of the vehicle over time, simulating an oscillation between -2deg and 2deg.\n",
    "\n",
    "A custom termination setting is also showcased, used to switch from the first stage to the second stage when apogee is reached."
   ]
  },
  {
   "cell_type": "raw",
   "id": "2e637bae-e8f8-4de7-956c-5c26be25de78",
   "metadata": {},
   "source": [
    "## Key API References"
   ]
  },
  {
   "cell_type": "markdown",
   "id": "c00d1dc2",
   "metadata": {},
   "source": [
    "## Import statements\n",
    "The required import statements are made here, at the very beginning.\n",
    "\n",
    "Some standard modules are first loaded. These are `numpy`, `matplotlib.pyplot`, and `datetime.datetime`.\n",
    "\n",
    "Then, the different modules of `tudatpy` that will be used are imported."
   ]
  },
  {
   "cell_type": "code",
   "execution_count": 12,
   "id": "051dee59",
   "metadata": {},
   "outputs": [],
   "source": [
    "# Load standard modules\n",
    "import numpy as np\n",
    "\n",
    "from matplotlib import pyplot as plt\n",
    "from datetime import datetime\n",
    "\n",
    "# Load tudatpy modules\n",
    "from tudatpy.interface import spice\n",
    "from tudatpy import numerical_simulation\n",
    "from tudatpy.numerical_simulation import environment, environment_setup, propagation, propagation_setup\n",
    "from tudatpy.astro import element_conversion, time_conversion\n",
    "from tudatpy import constants\n",
    "from tudatpy.util import result2array"
   ]
  },
  {
   "cell_type": "markdown",
   "id": "b3330666",
   "metadata": {},
   "source": [
    "## Configuration\n",
    "NAIF's `SPICE` kernels are first loaded, so that the position of various bodies such as the Earth can be make known to `tudatpy`.\n",
    "\n",
    "Then, the start and end simulation epochs are setups. In this case, the start epoch is set to the 17th of February 2031. This epoch is first defined using the `datetime` module. Because the times should be specified in seconds since J2000, the `time_conversion module` is then used to convert the `datetime` to the correct format."
   ]
  },
  {
   "cell_type": "code",
   "execution_count": 13,
   "id": "1d05ce93",
   "metadata": {},
   "outputs": [],
   "source": [
    "# Load spice kernels\n",
    "spice.load_standard_kernels()\n",
    "\n",
    "# Set simulation start as the 17th of February 2031\n",
    "simulation_start_datetime = datetime(2031, 2, 17)\n",
    "# Convert simulation start to Julian Days\n",
    "simulation_start_JD = time_conversion.calendar_date_to_julian_day(simulation_start_datetime)\n",
    "# Convert simulation start to seconds since J2000\n",
    "simulation_start_epoch = time_conversion.julian_day_to_seconds_since_epoch(simulation_start_JD)"
   ]
  },
  {
   "cell_type": "markdown",
   "id": "fd20d553",
   "metadata": {},
   "source": [
    "## Environment setup\n",
    "Let’s create the environment for our simulation. This setup covers the creation of (celestial) bodies, vehicle(s), and environment interfaces.\n",
    "\n",
    "### Create the bodies\n",
    "Bodies can be created by making a list of strings with the bodies that is to be included in the simulation.\n",
    "\n",
    "The default body settings (such as atmosphere, body shape, rotation model) are taken from `SPICE`.\n",
    "\n",
    "These settings can be adjusted. Please refere to the [Available Environment Models](https://tudat-space.readthedocs.io/en/latest/_src_user_guide/state_propagation/environment_setup/create_models/available.html#available-environment-models) in the user guide for more details.\n",
    "\n",
    "For our central body Mars, a predefined exponential atmosphere is then loaded.\n",
    "\n",
    "Finally, the system of bodies is created using the settings. This system of bodies is stored into the variable `bodies`."
   ]
  },
  {
   "cell_type": "code",
   "execution_count": 14,
   "id": "855d657b",
   "metadata": {},
   "outputs": [],
   "source": [
    "# Define a function to create a default system of bodies (so it can be reused later)\n",
    "def create_bodies():\n",
    "    # Define string names for bodies to be created from default.\n",
    "    bodies_to_create = [\"Mars\"]\n",
    "\n",
    "    # Use \"Earth\"/\"J2000\" as global frame origin and orientation.\n",
    "    global_frame_origin = \"Mars\"\n",
    "    global_frame_orientation = \"J2000\"\n",
    "\n",
    "    # Create default body settings, usually from `spice`.\n",
    "    body_settings = environment_setup.get_default_body_settings(\n",
    "        bodies_to_create,\n",
    "        global_frame_origin,\n",
    "        global_frame_orientation\n",
    "    )\n",
    "\n",
    "    # Add a predefined exponential atmosphere model for Mars\n",
    "    body_settings.get(\"Mars\").atmosphere_settings = environment_setup.atmosphere.exponential_predefined(\"Mars\")\n",
    "\n",
    "    # Return the system of selected celestial bodies\n",
    "    return environment_setup.create_system_of_bodies(body_settings)\n",
    "    \n",
    "# Create the system of selected celestial bodies\n",
    "bodies = create_bodies()"
   ]
  },
  {
   "cell_type": "markdown",
   "id": "5a43b442",
   "metadata": {},
   "source": [
    "## First section simulation\n",
    "In this example, our rocket consists of two stages. Do note that, further, the nomenclature of rocket **sections** is used, rather than rocket **stages**. The first rocket section contains both the first and the second stage. The second rocket section contains only the second stage. Section 1 is thus before stage separation, and section 2 after.\n",
    "\n",
    "Two distinct propagations will be made, one for each rocket section. The first section is numerically propagated until stage separation at apogee. Then, the second rocket section is propagated with a different body, with different properties, starting from where the first section stopped.\n",
    "\n",
    "In a first time, we will thus focus on the ascent of the first section. Many functions will be defined in this example to setup the propagation of the first section. This is because the second section uses a similar setup, and will later re-use these functions."
   ]
  },
  {
   "cell_type": "markdown",
   "id": "a3ac4c4f",
   "metadata": {},
   "source": [
    "### Create the vehicle\n",
    "Let's now create our vehicle for the first section, called \"Section 1\". It has an initial mass of 370kg."
   ]
  },
  {
   "cell_type": "code",
   "execution_count": 15,
   "id": "f53ff7d9",
   "metadata": {},
   "outputs": [],
   "source": [
    "# Define a function to create a body for a rocket section\n",
    "def create_rocket_section(section_name, wet_mass):\n",
    "    # Create an empty body with the given section name\n",
    "    bodies.create_empty_body(section_name)\n",
    "    # Assign the initial mass of the body (the section wet mass)\n",
    "    bodies.get(section_name).mass = wet_mass\n",
    "\n",
    "# Create the first rocket section body with a wet mass of 370kg\n",
    "create_rocket_section(\"Section 1\", 370.0)"
   ]
  },
  {
   "cell_type": "markdown",
   "id": "8da1affb",
   "metadata": {},
   "source": [
    "To account for the aerodynamic of the first section, let's add an aerodynamic interface to the environment setup, taking the followings into account:\n",
    "- A constant drag coefficient of 0.85.\n",
    "- No sideslip coefficient (equal to 0).\n",
    "- A lift coefficient of 0.4.\n",
    "- A reference area of 0.25m$^2$.\n",
    "- No moment coefficient."
   ]
  },
  {
   "cell_type": "code",
   "execution_count": 16,
   "id": "edd0d50f",
   "metadata": {},
   "outputs": [],
   "source": [
    "# Define a function to add an aerodynamic coefficient interface with the coefficient of a given section\n",
    "def add_aero_coefficients(section_name, CD, CL, ref_area=0.25):\n",
    "    # Create aerodynamic coefficient interface settings\n",
    "    aero_coefficient_settings = environment_setup.aerodynamic_coefficients.constant(\n",
    "        ref_area,\n",
    "        [CD, 0, CL]\n",
    "    )\n",
    "    # Add the aerodynamic coefficient interface settings to the environment, linked to the rocket section\n",
    "    environment_setup.add_aerodynamic_coefficient_interface(\n",
    "        bodies,\n",
    "        section_name,\n",
    "        aero_coefficient_settings\n",
    "    )\n",
    "\n",
    "# Create an aerodynamic coefficient interface for the first rocket section\n",
    "add_aero_coefficients(\"Section 1\", 0.85, 0.4)"
   ]
  },
  {
   "cell_type": "markdown",
   "id": "48e44ea5",
   "metadata": {},
   "source": [
    "### Propagation setup\n",
    "Now that the environment is created, the propagation setup is defined.\n",
    "\n",
    "First, the bodies to be propagated and the central bodies will be defined.\n",
    "Central bodies are the bodies with respect to which the state of the respective propagated bodies is defined.\n",
    "\n",
    "The body to be propagated in the first part of this example is the first rocket section."
   ]
  },
  {
   "cell_type": "code",
   "execution_count": 17,
   "id": "c2a6f96e",
   "metadata": {},
   "outputs": [],
   "source": [
    "# Define bodies that are propagated\n",
    "bodies_to_propagate = [\"Section 1\"]\n",
    "\n",
    "# Define central bodies of propagation\n",
    "central_bodies = [\"Mars\"]"
   ]
  },
  {
   "cell_type": "markdown",
   "id": "5abbe3b9",
   "metadata": {},
   "source": [
    "#### Thrust model\n",
    "Let's now define a thrust class, which will contain all of the functions needed to fully define a custom thrust model.\n",
    "\n",
    "As always in an ascent problem, we cannot use thrust anymore when the current stage has exhausted its propellant. The first function, `is_thrust_on()`, returns True when thrust can be used, and False when all of the propellant has been used.\n",
    "\n",
    "Then, the `get_thrust_magnitude()` function returns the current thrust magnitude. This magnitude is 1.75 times higher in the first 15 seconds, simulating the dual thrust of a solid propellant motor. This results in the following function for the thrust over time, with the time since engine start $t$ in seconds, and the user-set thrust magnitude $F_{T_\\text{set}}$ in Newtons:\n",
    "$$\n",
    "F_T(t) = \n",
    "\\begin{cases}\n",
    "1.75 \\cdot F_{T_\\text{set}} & \\text{if }t < 15 \\\\\n",
    "F_{T_\\text{set}} & \\text{if }t \\geq 15\n",
    "\\end{cases}\n",
    "$$\n",
    "\n",
    "The constant specific impulse is returned by the `get_specific_impulse()` function.\n",
    "\n",
    "Finally, the `get_thrust_direction()` returns the angle of the thrust in the **inertial frame**, as defined by the `vertical_angle` variable that specifies the angle of the thrust w.r.t. the axis going from the vehicle to the centre of Mars (the **vertical frame**). This unit vector that represents the thrust angle in the inertial frame $\\hat{\\mathbf{f}}_T$ is computed as below, with the rotation matrix from the vertical frame to the inertial frame $\\mathbf{R}^{I/V}$ and the specified thrust angle in the vertical frame $\\alpha_V$.\n",
    "\n",
    "$$\n",
    "\\hat{\\mathbf{f}}_T = \\mathbf{R}^{I/V} \\cdot \n",
    "\\begin{bmatrix}\n",
    "0 \\\\\n",
    "\\sin \\alpha_V \\\\\n",
    "-\\cos \\alpha_V\n",
    "\\end{bmatrix}\n",
    "$$"
   ]
  },
  {
   "cell_type": "code",
   "execution_count": 18,
   "id": "5099543a",
   "metadata": {},
   "outputs": [],
   "source": [
    "class thrust_model:\n",
    "\n",
    "    def __init__(self, magnitude, Isp, vertical_angle, propagated_body, section_dry_mass):\n",
    "        self.magnitude = magnitude               # Thrust magnitude [N]\n",
    "        self.Isp = Isp                           # Specific impulse [s]\n",
    "        self.vertical_angle = vertical_angle     # Angle from the vertical [rad]\n",
    "        self.propagated_body = propagated_body   # Body that is being propagated (tudatpy.numerical_simulation.environment.Body)\n",
    "        self.section_dry_mass = section_dry_mass # Dry mass of the section [kg]\n",
    "        self.t0 = None                           # Initial burn time for this section [s]\n",
    "\n",
    "    def is_thrust_on(self, time):\n",
    "        # The thrust is on (true) if the current section mass is strictly greater than its dry mass\n",
    "        return self.propagated_body.mass > self.section_dry_mass\n",
    "\n",
    "    def get_thrust_magnitude(self, time):\n",
    "        # If we are in the 15 first seconds, return 1.75 times the magnitude\n",
    "        if self.t0 is None:\n",
    "            self.t0 = time\n",
    "        if time - self.t0 < 15:\n",
    "            return 1.75*self.magnitude\n",
    "        return self.magnitude\n",
    "\n",
    "    def get_specific_impulse(self, time):\n",
    "        # Return the constant specific impulse\n",
    "        return self.Isp\n",
    "\n",
    "    def get_thrust_direction(self, time):\n",
    "        # Get aerodynamic angle calculator\n",
    "        aerodynamic_angle_calculator = self.propagated_body.flight_conditions.aerodynamic_angle_calculator\n",
    "        \n",
    "        # Set thrust in vertical frame and transpose it\n",
    "        thrust_direction_vertical_frame = np.array([[0, np.sin(self.vertical_angle), - np.cos(self.vertical_angle)]]).T\n",
    "        \n",
    "        # Retrieve rotation matrix from vertical to inertial frame from the aerodynamic angle calculator\n",
    "        vertical_to_inertial_frame = aerodynamic_angle_calculator.get_rotation_matrix_between_frames(\n",
    "            environment.AerodynamicsReferenceFrames.vertical_frame,\n",
    "            environment.AerodynamicsReferenceFrames.inertial_frame)\n",
    "        \n",
    "        # Compute the thrust in the inertial frame\n",
    "        thrust_inertial_frame = np.dot(vertical_to_inertial_frame,\n",
    "                                    thrust_direction_vertical_frame)\n",
    "        # Return the thrust direction in the inertial frame\n",
    "        return thrust_inertial_frame"
   ]
  },
  {
   "cell_type": "markdown",
   "id": "dda8ce89",
   "metadata": {},
   "source": [
    "#### Define the thrust settings\n",
    "Using the `ThrustModel` class that was defined earlier, we can now define thrust acceleration settings for the first rocket section.\n",
    "\n",
    "For this first section, the following parameters are used for the thrust:\n",
    "- A thrust magnitude of 4.25 kN.\n",
    "- A specific impulse of 275 seconds.\n",
    "- A constant thrust angle of 40 deg from the vertical.\n",
    "- A dry mass of the first section of 185 kg (note that the wet mass was defined as 370 kg, so 185 kg of propellant can be used)."
   ]
  },
  {
   "cell_type": "code",
   "execution_count": 19,
   "id": "2eb175da",
   "metadata": {},
   "outputs": [],
   "source": [
    "# Define a function to create acceleration settings based on the direction and magnitude from the custom thrust class\n",
    "def create_body_settings_for_thrust(current_thrust_model, bodies, body_name):\n",
    "    # Define the thrust direction settings for the first section from the custom direction function\n",
    "    rotation_model_settings = environment_setup.rotation_model.custom_inertial_direction_based(\n",
    "        current_thrust_model.get_thrust_direction,\n",
    "                \"J2000\", \"VehicleFixed\"\n",
    "    )\n",
    "    \n",
    "    environment_setup.add_rotation_model( bodies, body_name, rotation_model_settings )\n",
    "\n",
    "\n",
    "    # Define the thrust magnitude settings for the first section from the custom functions\n",
    "    thrust_magnitude_settings = propagation_setup.thrust.custom_thrust_magnitude(\n",
    "        current_thrust_model.get_thrust_magnitude,\n",
    "        current_thrust_model.get_specific_impulse\n",
    "    )\n",
    "    \n",
    "    environment_setup.add_engine_model(\n",
    "    body_name,\n",
    "    \"MainEngine\",\n",
    "    thrust_magnitude_settings,\n",
    "    bodies )\n",
    "\n",
    "\n",
    "# Setup the thrust model for the first section\n",
    "current_thrust_model = thrust_model(4250, 275, np.deg2rad(40), bodies.get(\"Section 1\"), 185)\n",
    "create_body_settings_for_thrust(current_thrust_model, bodies, \"Section 1\")\n"
   ]
  },
  {
   "cell_type": "markdown",
   "id": "ed6aecc0",
   "metadata": {},
   "source": [
    "#### Create the accelerations model\n",
    "First off, the acceleration settings from the environment that act on the rocket are to be defined.\n",
    "In this case, these consist in the two followings:\n",
    "- Graviational acceleration of Mars modeled as Spherical Harmonics, taken up to a degree and order 4.\n",
    "- Aerodynamic acceleration caused by the atmosphere of Mars (using the aerodynamic interface defined earlier).\n",
    "\n",
    "Additional accelerations are then added for the first rocket section, containing the thrust acceleration settings that were defined earlier.\n",
    "\n",
    "The acceleration settings defined are then applied to the rocket section, and acceleration models are created."
   ]
  },
  {
   "cell_type": "code",
   "execution_count": 20,
   "id": "e92f08cc",
   "metadata": {},
   "outputs": [],
   "source": [
    "# Define a function to create acceleration models for a given rocket section, containing the thrust\n",
    "def create_section_accelerations(section_name):\n",
    "    # Duplicate the environmental accelerations (use copy to avoiding keeping the same dict linked to both sections)\n",
    "    accelerations_on_rocket = {\n",
    "        \"Mars\": [\n",
    "            propagation_setup.acceleration.spherical_harmonic_gravity(4, 4),\n",
    "            propagation_setup.acceleration.aerodynamic()\n",
    "        ],\n",
    "        section_name: [\n",
    "            propagation_setup.acceleration.thrust_from_all_engines( )\n",
    "        ]\n",
    "    }\n",
    "\n",
    "    # Create acceleration models for the given section\n",
    "    return propagation_setup.create_acceleration_models(\n",
    "        bodies,\n",
    "        {section_name: accelerations_on_rocket},\n",
    "        bodies_to_propagate,\n",
    "        central_bodies\n",
    "    )\n",
    "\n",
    "\n",
    "# Define the acceleration models for the first rocket section\n",
    "acceleration_models = create_section_accelerations(\"Section 1\")\n"
   ]
  },
  {
   "cell_type": "markdown",
   "id": "20b91885",
   "metadata": {},
   "source": [
    "### Define the initial state\n",
    "The initial state of the rocket for which the ascent will be propagated is now defined. \n",
    "\n",
    "This initial state always has to be provided as a cartesian state, in the form of a list with the first three elements reprensenting the initial position, and the three remaining elements representing the initial velocity.\n",
    "\n",
    "In this case, let's make use of the `spherical_to_cartesian_elementwise()` function that is included in the `element_conversion` module, so that the initial state can be input as Spherical elements, and then converted in Cartesian elements.\n",
    "\n",
    "The initial state that will be defined is the one of the entire rocket, which is the same as the one used for the first section."
   ]
  },
  {
   "cell_type": "code",
   "execution_count": 21,
   "id": "2532c6e5",
   "metadata": {},
   "outputs": [],
   "source": [
    "# Define the initial state in Spherical elements, and convert to Mars fixed Cartesian elements\n",
    "initial_mars_fixed_state = element_conversion.spherical_to_cartesian_elementwise(\n",
    "    radial_distance=bodies.get_body(\"Mars\").shape_model.average_radius + 500,\n",
    "    latitude=np.deg2rad(18.85),\n",
    "    longitude=np.deg2rad(77.52),\n",
    "    speed=1.0,\n",
    "    flight_path_angle=np.deg2rad(40),\n",
    "    heading_angle=0\n",
    ")\n",
    "\n",
    "# Convert the Mars fixed initial state to the inertial frame\n",
    "initial_inertial_state = environment.transform_to_inertial_orientation(\n",
    "    initial_mars_fixed_state, simulation_start_epoch, bodies.get_body(\"Mars\").rotation_model\n",
    ")"
   ]
  },
  {
   "cell_type": "markdown",
   "id": "b5fefb71",
   "metadata": {},
   "source": [
    "### Define dependent variables to save\n",
    "Different dependent variables can be saved alongside the state of the vehicle during the propagation. In this example, we are particularily interested in saving the altitude, airspeed, dynamic pressure, and mass of the first rocket section. In addition, various acceleration norms are defined to be saved as dependent variables."
   ]
  },
  {
   "cell_type": "code",
   "execution_count": 22,
   "id": "d57aa550",
   "metadata": {},
   "outputs": [],
   "source": [
    "# Define a function to return the list of dependent variables to save for a given section\n",
    "def define_dependent_variables_to_save(section_name):\n",
    "    return [\n",
    "        propagation_setup.dependent_variable.altitude( section_name, \"Mars\" ),\n",
    "        propagation_setup.dependent_variable.airspeed( section_name, \"Mars\" ),\n",
    "        propagation_setup.dependent_variable.dynamic_pressure( section_name, \"Mars\"),\n",
    "        propagation_setup.dependent_variable.body_mass( section_name ),\n",
    "        propagation_setup.dependent_variable.total_acceleration_norm( section_name ),\n",
    "        propagation_setup.dependent_variable.single_acceleration_norm(\n",
    "            propagation_setup.acceleration.spherical_harmonic_gravity_type, section_name, \"Mars\"),\n",
    "        propagation_setup.dependent_variable.single_acceleration_norm(\n",
    "            propagation_setup.acceleration.thrust_acceleration_type, section_name, section_name),\n",
    "        propagation_setup.dependent_variable.single_acceleration_norm(\n",
    "            propagation_setup.acceleration.aerodynamic_type, section_name, \"Mars\")\n",
    "    ]\n",
    "    \n",
    "# Define the dependent variables to save for the first rocket section\n",
    "dependent_variables_to_save = define_dependent_variables_to_save(\"Section 1\")"
   ]
  },
  {
   "cell_type": "markdown",
   "id": "657f5fcb",
   "metadata": {},
   "source": [
    "### Define termination settings\n",
    "Termination settings define the conditions that, once reached, will stop the propagation.\n",
    "\n",
    "In this case, for the first rocket section, two termination settings are used:\n",
    "- Stop when the vehicle starts falling again, indicating that it reached apogee.\n",
    "- Stop 225 minutes after lift-off."
   ]
  },
  {
   "cell_type": "code",
   "execution_count": 23,
   "id": "6cce1981",
   "metadata": {},
   "outputs": [],
   "source": [
    "class VehicleFalling:\n",
    "    \n",
    "    def __init__(self, body, initial_time):\n",
    "        # Initialise the class used to compute wether a body is falling or not\n",
    "        self.body = body\n",
    "        self.last_h = -np.inf\n",
    "        self.init_t = initial_time\n",
    "        \n",
    "    def is_it_falling(self, time):\n",
    "        # Compute the difference in altitude since this function was last called\n",
    "        dh = self.body.flight_conditions.altitude - self.last_h\n",
    "        self.last_h = self.body.flight_conditions.altitude\n",
    "        # Compute how far from lift-off we are\n",
    "        time_elapsed = time - self.init_t\n",
    "        # Return True (vehicle is falling) if the vehicle looses altitude, and lift-off was more than a second ago\n",
    "        return dh < 0 and time_elapsed > 1\n",
    "\n",
    "# Define a termination setting based on the custom function defining wether the vehicle falls or not\n",
    "vehicle_falling_model = VehicleFalling(bodies.get(\"Section 1\"), simulation_start_epoch)\n",
    "termination_apogee_settings = propagation_setup.propagator.custom_termination(vehicle_falling_model.is_it_falling)\n",
    "\n",
    "# Define a termination setting to stop 225 minutes after lift-off\n",
    "end_epoch = simulation_start_epoch + 225*60\n",
    "termination_max_time_settings = propagation_setup.propagator.time_termination(end_epoch)\n",
    "\n",
    "# Combine both termination settings into a hybrid termination\n",
    "combined_termination_settings = propagation_setup.propagator.hybrid_termination(\n",
    "    [termination_apogee_settings, termination_max_time_settings],\n",
    "    fulfill_single_condition=True\n",
    ")"
   ]
  },
  {
   "cell_type": "markdown",
   "id": "659cc89d",
   "metadata": {},
   "source": [
    "### Create integrator settings\n",
    "Let's now create integrator settings. These use a RK78 intergration scheme with a variable step size. The following settings are used:\n",
    "- An initial time step of 0.25 seconds.\n",
    "- A minimum time step of 1e-4 seconds.\n",
    "- A maximum time step of 10 seconds.\n",
    "- A relative and absolute error tolerance of 1e-14.\n",
    "\n",
    "Note: The example seems particularly sensitive to the integrator choice. In a more sophisticated analysis, the integrator and its parameters needs to selected carefully and verified for different mission scenarios."
   ]
  },
  {
   "cell_type": "code",
   "execution_count": 24,
   "id": "46185bac",
   "metadata": {},
   "outputs": [],
   "source": [
    "# Define integrator settings with the initial integration epoch\n",
    "def define_integrator_settings():\n",
    "    initial_time_step = 0.25\n",
    "    minimum_time_step = 1e-4\n",
    "    maximum_time_step = 10\n",
    "    tolerance = 1e-14\n",
    "\n",
    "    control_settings = propagation_setup.integrator.step_size_control_elementwise_scalar_tolerance( tolerance, tolerance )\n",
    "    validation_settings = propagation_setup.integrator.step_size_validation(minimum_time_step, maximum_time_step, minimum_step_size_handling = propagation_setup.integrator.MinimumIntegrationTimeStepHandling.set_to_minimum_step_every_time_warning)\n",
    "\n",
    "    return propagation_setup.integrator.runge_kutta_variable_step(\n",
    "        initial_time_step,\n",
    "        propagation_setup.integrator.rkf_78,\n",
    "        minimum_time_step,\n",
    "        maximum_time_step,\n",
    "        relative_error_tolerance=1e-14,\n",
    "        absolute_error_tolerance=1e-14)\n",
    "\n",
    "# Define the integrator settings\n",
    "integrator_settings = define_integrator_settings()"
   ]
  },
  {
   "cell_type": "markdown",
   "id": "feda66a6",
   "metadata": {},
   "source": [
    "### Create propagator settings\n",
    "The acceleration models, the initial state, the dependent variables, and the termination settings can now all be combined to define translational propagation settings.\n",
    "Also, in this case, a Cowell propagator is selected.\n",
    "\n",
    "Since we use thrust, we also define mass propagation settings, with the mass rate being setup to be consistant with the thrust.\n",
    "\n",
    "The translational and mass propagation settings are combined together, to propagate both in the same propagation."
   ]
  },
  {
   "cell_type": "code",
   "execution_count": 25,
   "id": "4179486d",
   "metadata": {},
   "outputs": [],
   "source": [
    "# Define a function to create translational and mass propagation settings for a given rocket section\n",
    "def create_propagator_settings(section_name, initial_state, simulation_start_epoch, initial_mass, termination_settings, integrator_settings):\n",
    "    # Define the translational propagator settings with a Cowell propagator\n",
    "    translational_propagator_settings = propagation_setup.propagator.translational(\n",
    "        central_bodies,\n",
    "        acceleration_models,\n",
    "        bodies_to_propagate,\n",
    "        initial_state,\n",
    "        simulation_start_epoch,\n",
    "        integrator_settings,\n",
    "        termination_settings,\n",
    "        propagation_setup.propagator.cowell,\n",
    "        output_variables=dependent_variables_to_save\n",
    "    )\n",
    "    # Define a mass rate model so that the mass lost by the rocket is consistant with its thrust and specific impulse\n",
    "    mass_rate_settings = {section_name:[propagation_setup.mass_rate.from_thrust()]}\n",
    "    mass_rate_models = propagation_setup.create_mass_rate_models(\n",
    "        bodies,\n",
    "        mass_rate_settings,\n",
    "        acceleration_models\n",
    "    )\n",
    "    # Define the mass propagator settings, taking the initial section mass into account\n",
    "    mass_propagator_settings = propagation_setup.propagator.mass(\n",
    "        bodies_to_propagate,\n",
    "        mass_rate_models,\n",
    "        [initial_mass],\n",
    "        simulation_start_epoch,\n",
    "        integrator_settings,\n",
    "        termination_settings\n",
    "    )\n",
    "    # Return the translational and mass propagator settings combined\n",
    "    return propagation_setup.propagator.multitype(\n",
    "        [translational_propagator_settings, mass_propagator_settings],\n",
    "        integrator_settings,\n",
    "        simulation_start_epoch,\n",
    "        termination_settings,\n",
    "        dependent_variables_to_save\n",
    "    )\n",
    "    \n",
    "# Define the translational and mass propagator settings for the first rocket section\n",
    "propagator_settings = create_propagator_settings(\"Section 1\", initial_inertial_state, simulation_start_epoch, 370, combined_termination_settings, integrator_settings)"
   ]
  },
  {
   "cell_type": "markdown",
   "id": "282a2a0e",
   "metadata": {},
   "source": [
    "### Run the first section ascent\n",
    "With everything being now setup, we can finally run the ascent simulation of the first rocket section (containing both the first and the second stage). This is done by calling the `create_dynamics_simulator()` function.\n",
    "\n",
    "The state and dependent variables history is then extracted from the dynamics simulator, and converted to multi-dimensional numpy arrays, using the `result2array()` from tudatpy utils. Do mind that using `result2array` will shift all elements by 1 column to the right, since a first column will be added, containing the apochs."
   ]
  },
  {
   "cell_type": "code",
   "execution_count": 26,
   "id": "659f817e",
   "metadata": {},
   "outputs": [
    {
     "name": "stderr",
     "output_type": "stream",
     "text": [
      "Error in step-size control, minimum step size 0.000100 is higher than required time step 0.000097\n",
      "Error, propagation terminated at t=982325034.782465, returning propagation data up to current time.\n"
     ]
    }
   ],
   "source": [
    "# Run the numerical simulation of the first rocket section\n",
    "dynamics_simulator = numerical_simulation.create_dynamics_simulator(\n",
    "    bodies,\n",
    "    propagator_settings\n",
    ")\n",
    "# Extract the propagated states and dependent variables and convert them to numpy arrays\n",
    "states = dynamics_simulator.state_history\n",
    "states_array_section_1 = result2array(states)\n",
    "dep_vars = dynamics_simulator.dependent_variable_history\n",
    "dep_vars_array_section_1 = result2array(dep_vars)"
   ]
  },
  {
   "cell_type": "markdown",
   "id": "6020089d",
   "metadata": {},
   "source": [
    "### Save section 1 final state\n",
    "Because we now want to simulate the second section from our rocket, we need to save what was the last state from the first section. This way, we can start a new propagation, simulating the remaining ascent of the second section (being the second stage) only, starting from where the first section ended."
   ]
  },
  {
   "cell_type": "code",
   "execution_count": 27,
   "id": "0e780920",
   "metadata": {},
   "outputs": [],
   "source": [
    "final_state_section_1 = states_array_section_1[-1,1:7]\n",
    "final_epoch_section_1 = states_array_section_1[-1,0]"
   ]
  },
  {
   "cell_type": "markdown",
   "id": "5441d244",
   "metadata": {},
   "source": [
    "## Second section simulation\n",
    "With the first section simulation finished, the resulting states and dependant variables saved as the `states_array_section_1` and `dep_vars_array_section_1` arrays, and the final first section state saved as `final_state_section_1`, we can now propagate our second rocket section.\n",
    "\n",
    "The setup is done in a very similar way than for the first section, re-using many of the setup functions that were defined."
   ]
  },
  {
   "cell_type": "markdown",
   "id": "93714215",
   "metadata": {},
   "source": [
    "### Define the bodies, thrust and accelerations\n",
    "The same celestial bodies are defined again, as well as the second section with a wet mass of 85kg, a drag coefficient of 0.55, and a lift coefficient of 0.25.\n",
    "\n",
    "The thrust for the second section is of a magnitude of 2.25 kN and a specific impulse of 290 seconds.\n",
    "The second section has a constant thrust orientation of 90 degrees from the vertical (it is horizontal).\n",
    "Also, this section has a dry mass of 38.25kg, meaning that 46.75kg of propellant can be used."
   ]
  },
  {
   "cell_type": "code",
   "execution_count": 28,
   "id": "894ea2ea",
   "metadata": {},
   "outputs": [],
   "source": [
    "# Re-create the system of bodies (to remove the first section that is now useless)\n",
    "bodies = create_bodies()\n",
    "\n",
    "# Create the second rocket section body with a wet mass of 85kg\n",
    "create_rocket_section(\"Section 2\", 85.0)\n",
    "# Setup the thrust model for the first section\n",
    "current_thrust_model = thrust_model(2250, 273, np.deg2rad(90), bodies.get(\"Section 2\"), 38.25)\n",
    "create_body_settings_for_thrust(current_thrust_model, bodies, \"Section 2\")\n",
    "\n",
    "# Create an aerodynamic coefficient interface for the second rocket section\n",
    "add_aero_coefficients(\"Section 2\", 0.55, 0.25)\n",
    "\n",
    "# Define bodies that are propagated\n",
    "bodies_to_propagate = [\"Section 2\"]\n",
    "\n",

    "# Define the acceleration models for the second rocket section\n",
    "acceleration_models = create_section_accelerations(\"Section 2\")"
   ]
  },
  {
   "cell_type": "markdown",
   "id": "dbc94f0c",
   "metadata": {},
   "source": [
    "### Define dependent variables\n",
    "The same dependent variables as for the first section are used. However, they are now all linked to the \"Section 2\" body."
   ]
  },
  {
   "cell_type": "code",
   "execution_count": 18,

   "id": "32a83c1a",
   "metadata": {},
   "outputs": [],
   "source": [
    "dependent_variables_to_save = define_dependent_variables_to_save(\"Section 2\")"
   ]
  },
  {
   "cell_type": "markdown",
   "id": "72ea673a",
   "metadata": {},
   "source": [
    "### Define integrator settings\n",
    "A RK4 integration scheme is also used for this second rocket section, with a half a second time step. However, this initial integration epoch is now setup as the final epoch of the first section."
   ]
  },
  {
   "cell_type": "code",
   "execution_count": 19,

   "id": "b6337cdd",
   "metadata": {},
   "outputs": [],
   "source": [
    "integrator_settings = define_integrator_settings()\n",
    "\n",
    "surface_impact_termination_settings = (\n",
    "    propagation_setup.propagator.dependent_variable_termination(\n",
    "        propagation_setup.dependent_variable.altitude(\"Section 2\", \"Mars\"),\n",
    "        limit_value=500,\n",
    "        use_as_lower_limit=True,\n",
    "    )\n",
    ")\n",
    "\n",
    "# Combine both termination settings into a hybrid termination\n",
    "combined_termination_settings_section_2 = (\n",
    "    propagation_setup.propagator.hybrid_termination(\n",
    "        [surface_impact_termination_settings, termination_max_time_settings],\n",
    "        fulfill_single_condition=True,\n",
    "    )\n",
    ")"
   ]
  },
  {
   "cell_type": "markdown",
   "id": "665e01fa",
   "metadata": {},
   "source": [
    "### Define propagator settings\n",
    "New translational and mass propagator settings are now defined for the second section.\n",
    "\n",
    "This time, the initial state of the second section is set as the final state of the first section.\n",
    "Also, the initial mass of the second section is set as 85kg for the mass propagator, and the only termination settings used is to finish after 300 minutes have elapsed since lift-off."
   ]
  },
  {
   "cell_type": "code",
   "execution_count": 20,
   "id": "b4bd7a43",
   "metadata": {},
   "outputs": [],
   "source": [
    "# Define the translational and mass propagator settings for the first rocket section\n",
    "propagator_settings = create_propagator_settings(\"Section 2\", final_state_section_1, final_epoch_section_1, 85, termination_max_time_settings, integrator_settings)"
   ]
  },
  {
   "cell_type": "markdown",
   "id": "74cc122e",
   "metadata": {},
   "source": [
    "### Run second section simulation\n",
    "We can now run the ascent simulation for the second section.\n",
    "\n",
    "Note that this may take a little longer to run, since it will propagate for up to half a day, instead of around 10 minutes until apogee.\n",
    "\n",
    "The state and dependent variable histories for the second section are now saved into the `states_array_section_2` and `dep_vars_array_section_2` numpy arrays."
   ]
  },
  {
   "cell_type": "code",
   "execution_count": 21,
   "id": "4b521537",
   "metadata": {},
   "outputs": [
    {
     "name": "stderr",
     "output_type": "stream",
     "text": [
      "Warning in step-size control, minimum step size 0.000100 is higher than required time step 0.000076, minimum step will be used.\n"
      "Error in step-size control, minimum step size 0.000100 is higher than required time step 0.000091\n",
      "Error, propagation terminated at t=982325135.921466, returning propagation data up to current time.\n"
     ]
    }
   ],
   "source": [
    "dynamics_simulator = numerical_simulation.create_dynamics_simulator(\n",
    "    bodies,\n",
    "    propagator_settings\n",
    ")\n",
    "states = dynamics_simulator.state_history\n",
    "states_array_section_2 = result2array(states)\n",
    "dep_vars = dynamics_simulator.dependent_variable_history\n",
    "dep_vars_array_section_2 = result2array(dep_vars)"
   ]
  },
  {
   "cell_type": "markdown",
   "id": "6cff42de",
   "metadata": {},
   "source": [
    "## Results analysis\n",
    "With the ascent simulation of both sections completed, we can now analyse the results. Most importantly, this consists in plotting the various dependent variables that has been saved over time."
   ]
  },
  {
   "cell_type": "markdown",
   "id": "5a755d5c",
   "metadata": {},
   "source": [
    "### Combine results from both sections\n",
    "First, let's combine the dependent variables arrays from both rocket sections together. This then produces one single `dep_vars_array` containing the dependent variables history of the entire rocket over time."
   ]
  },
  {
   "cell_type": "code",
   "execution_count": 22,
   "id": "0542dad6",
   "metadata": {},
   "outputs": [],
   "source": [
    "dep_vars_array = np.concatenate((dep_vars_array_section_1, dep_vars_array_section_2))"
   ]
  },
  {
   "cell_type": "markdown",
   "id": "a6ca23a1",
   "metadata": {},
   "source": [
    "### Extract the data\n",
    "Let's now extract each of the relevant data array from the dependent variables multi-dimensional array."
   ]
  },
  {
   "cell_type": "code",
   "execution_count": 23,
   "id": "16c25ce2",
   "metadata": {},
   "outputs": [],
   "source": [
    "times = dep_vars_array[:,0]\n",
    "times_since_launch = times - times[0]\n",
    "\n",
    "altitudes = dep_vars_array[:,1]\n",
    "airspeeds = dep_vars_array[:,2]\n",
    "dyna_pressures = dep_vars_array[:,3]\n",
    "mass = dep_vars_array[:,4]\n",
    "total_a = dep_vars_array[:,5]\n",
    "SH_a = dep_vars_array[:,6]\n",
    "thrust_a = dep_vars_array[:,7]\n",
    "aero_a = dep_vars_array[:,8]"
   ]
  },
  {
   "cell_type": "markdown",
   "id": "0e0f212d",
   "metadata": {},
   "source": [
    "### Plot the results\n",
    "Let's plot all of the dependent variables over time.\n",
    "\n",
    "Do note that some of the plots are cropped after 10 minutes, to effectively zoom in on their most interesting part."
   ]
  },
  {
   "cell_type": "code",
   "execution_count": 24,
   "id": "83b0cced",
   "metadata": {
    "tags": [
     "nbsphinx-thumbnail"
    ]
   },
   "outputs": [
    {
     "name": "stdout",
     "output_type": "stream",
     "text": [
      "Stage separation occurred after 7.62 minutes.\n"
     ]
    },
    {
     "data": {
      "image/png": "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",
      "text/plain": [
       "<Figure size 900x1100 with 5 Axes>"
      ]
     },
     "metadata": {},
     "output_type": "display_data"
    }
   ],
   "source": [
    "print(\"Stage separation occured after %.2f minutes.\" % ((final_epoch_section_1-times[0])/60))\n",
    "\n",
    "# Compute the index at which the time since launch gets above 10 minutes\n",
    "idx_crop = np.where(times_since_launch/60 >= 10)[0][0]\n",
    "\n",
    "# Create a figure with 5 subplots: a grid of 2x2, then one horizontal one at the bottom\n",
    "fig = plt.figure(figsize=(9, 11))\n",
    "gs = fig.add_gridspec(3, 2)\n",
    "ax1 = fig.add_subplot(gs[0, 0])\n",
    "ax2 = fig.add_subplot(gs[0, 1])\n",
    "ax3 =fig.add_subplot(gs[1, 0])\n",
    "ax4 = fig.add_subplot(gs[1, 1])\n",
    "ax5 = fig.add_subplot(gs[2, :])\n",
    "\n",
    "# Plot the altitude history\n",
    "ax1.plot(times_since_launch/60, altitudes/1e3)\n",
    "ax1.grid()\n",
    "ax1.set_xlabel(\"Time since launch [min]\")\n",
    "ax1.set_ylabel(\"Altitude [km]\")\n",
    "ax1.axvline(\n",
    "    stage_separation_epoch_mins, color=\"red\", linestyle=\"--\", label=\"Stage separation\"\n",
    ")\n",
    "ax1.legend()\n",
    "\n",
    "# Plot the airspeed history\n",
    "ax2.plot(times_since_launch/60, airspeeds)\n",
    "ax2.grid()\n",
    "ax2.set_xlabel(\"Time since launch [min]\")\n",
    "ax2.set_ylabel(\"Airspeed [m/s]\")\n",
    "ax2.axvline(stage_separation_epoch_mins, color=\"red\", linestyle=\"--\")\n",
    "\n",
    "# Plot the mass history in the first 10 minutes\n",
    "ax3.plot(times_since_launch[:idx_crop]/60, mass[:idx_crop])\n",
    "ax3.grid()\n",
    "ax3.set_xlabel(\"Time since launch [min]\")\n",
    "ax3.set_ylabel(\"Rocket mass [kg]\")\n",
    "ax3.axvline(stage_separation_epoch_mins, color=\"red\", linestyle=\"--\")\n",
    "\n",
    "# Plot the dynamic pressure history in the first 10 minutes\n",
    "ax4.plot(times_since_launch[:idx_crop]/60, dyna_pressures[:idx_crop]/1e3)\n",
    "ax4.grid()\n",
    "ax4.set_xlabel(\"Time since launch [min]\")\n",
    "ax4.set_ylabel(\"Dynamic pressure [kPa]\")\n",
    "ax4.axvline(stage_separation_epoch_mins, color=\"red\", linestyle=\"--\")\n",
    "\n",
    "# Plot the accelerations history in the first 10 minutes\n",
    "ax5.plot(times_since_launch[:idx_crop]/60, total_a[:idx_crop], label=\"Total\", linestyle=\"dotted\", color=\"black\")\n",
    "ax5.plot(times_since_launch[:idx_crop]/60, SH_a[:idx_crop], label=\"SH D/O 4\")\n",
    "ax5.plot(times_since_launch[:idx_crop]/60, thrust_a[:idx_crop], label=\"Thrust\")\n",
    "ax5.plot(times_since_launch[:idx_crop]/60, aero_a[:idx_crop], label=\"Aerodynamic\")\n",
    "ax5.grid()\n",
    "ax5.set_xlabel(\"Time since launch [min]\")\n",
    "ax5.set_ylabel(\"Acceleration [m/s$^2$]\")\n",
    "# ax5.set_yscale(\"log\") # (uncomment this to see the distinction between the accelerations more clearly)\n",
    "ax5.axvline(stage_separation_epoch_mins, color=\"red\", linestyle=\"--\")\n",

    "ax5.legend()\n",
    "\n",
    "# Save some space using a tight layout, and show the figure\n",
    "plt.tight_layout()\n",
    "plt.show()"
   ]
  },
  {
   "cell_type": "markdown",
   "id": "193f4f85",
   "metadata": {},
   "source": [
    "### Results analysis\n",
    "Finally, we can analyse the plot that we produce, giving various insights in our numerical simulation of a two-stage rocket ascent on Mars.\n",
    "\n",
    "#### Altitude over time\n",
    "In the first plot on the top left, we can see the altitude plotted as a function of time. This shows that the rocket progressively gains more and more altitude, as its accelerates. After stage separation, at around 8min, when the second stage ignites, the rocket does not gain significantly more altitude. This is because the second stage fires only horizontally. Because it does so at apoapsis, it fires only prograde, increasing the prograde (horizontal) velocity of the rocket, without increasing its radial (vertical) velocity. Afterwards, we see oscillations between around 150km and 900km. This shows that our vehicle is now in orbit.\n",
    "\n",
    "#### Airspeed over time\n",
    "The second plot on the top right clearly shows that the rocket gains considerable speed in the first seconds, when the first stage fires. At first stage burnout, the velocity starts decreasing. This is because we lose velocity for altitude, until we reach apoapsis. At apoapsis, the second stage ignites, and the velocity increases considerably again. Afterwards, we see oscillations between around 3.4 and 2.7 km/s, showing that our vehicle is at orbital velocity around Mars.\n",
    "\n",
    "#### Rocket mass over time\n",
    "The thrust plot in the middle left shows the mass of our rocket over time in its first 10 minutes. We can clearly identify the two moments where the rocket burns propellant, indicated by the two sections where the mass linearly decreases, from 0min to 2min, and from 8min to 9min. During the burns, since the rocket has a thrust magnitude that is 1.75 times higher in the first 15 seconds, it also looses propellant 1.75 times faster. This can be seen by the higher mass rate at the beginning of the ignition of both stages.\n",
    "Finally, we can see at around 8min that the two stages separate, because our rocket mass instantaneously changes from 185kg to 85kg.\n",
    "\n",
    "#### Dynamic pressure over time\n",
    "The fourth plot, in the middle right, shows the dynamic pressure over time in front of our rocket. While the model used to compute it is rather simplistic, it still gives a good indication as when max-q (moment of maximum dynamic pressure) is reached, and of its magnitude. This maximum dynamic pressure may be lower than expected, since we are flying on Mars and not the Earth.\n",
    "\n",
    "#### Accelerations over time\n",
    "Finally, the plot at the bottom shows various accelerations over time. Clearly, thrust gives the acceleration of the highest magnitude. Once again, we can see that the thrust was each time of a mgnitude 1.75 times higher in the first 15 seconds. Also, we can see that the thrust acceleration increases over time furing each of the burn. This can be expected: the acceleration that results in the thrust force becomes higher over time as our rocket mass becomes lower.\n",
    "The Martian gravitational acceleration comes second in magnitude. While it appears constant, because its magnitude is much lower than the one of the thrst, this gravitational acceleration decreases as altitude increases.\n",
    "Finally, the aerodynamic acceleration is only significant in the first 2min of the ascent. One may realise that this acceleration follows a similar shape as the dynamic pressure over time. This is because the aerodynamic acceleration relies purely on the aerodynamic coefficients (which are constant in this case), the angle of attack (that varies only between -2deg and 2deg), and the dynamic pressure."
   ]
  }
 ],
 "metadata": {
  "kernelspec": {
   "display_name": "tudat-bundle",
   "language": "python",
   "name": "tudat-bundle"
  },
  "language_info": {
   "codemirror_mode": {
    "name": "ipython",
    "version": 3
   },
   "file_extension": ".py",
   "mimetype": "text/x-python",
   "name": "python",
   "nbconvert_exporter": "python",
   "pygments_lexer": "ipython3",
   "version": "3.11.10"
  }
 },
 "nbformat": 4,
 "nbformat_minor": 5
}
