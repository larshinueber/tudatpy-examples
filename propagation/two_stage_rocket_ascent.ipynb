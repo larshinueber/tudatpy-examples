{
 "cells": [
  {
   "cell_type": "markdown",
   "id": "24f3aafb",
   "metadata": {},
   "source": [
    "# Tudatpy example application: Two stage rocket ascent\n",
    "Copyright (c) 2010-2022, Delft University of Technology. All rights reserved. This file is part of the Tudat. Redistribution and use in source and binary forms, with or without modification, are permitted exclusively under the terms of the Modified BSD license. You should have received a copy of the license with this file. If not, please or visit: http://tudat.tudelft.nl/LICENSE.\n",
    "\n",
    "## Context\n",
    "This example demonstrates the simulation of the ascent trajectory of a two stage rocket on Mars. Two simulations are carried: one for each stage. In these simulations, both the dynamic state and the mass of the vehicle are propagated.\n",
    "\n",
    "To ascent to orbit, the rocket needs thrust. This example thus also focuses on demonstrating various ascpect of thrust that are available in Tudat(Py). More specifically, dual thrust is implemented, simulating a solid propellant which burns with a magnitude 1.75 times higher in the 15 first seconds.\n",
    "\n",
    "Aerodynamic guidance is also included, as to very simply update the angle of attack of the vehicle over time, simulating an oscillation between -2deg and 2deg.\n",
    "\n",
    "A custom termination setting is also showcased, used to switch from the first stage to the second stage when apogee is reached."
   ]
  },
  {
   "cell_type": "markdown",
   "id": "c00d1dc2",
   "metadata": {},
   "source": [
    "## Import statements\n",
    "The required import statements are made here, at the very beginning.\n",
    "\n",
    "Some standard modules are first loaded. These are `numpy`, `matplotlib.pyplot`, and `datetime.datetime`.\n",
    "\n",
    "Then, the different modules of `tudatpy` that will be used are imported."
   ]
  },
  {
   "cell_type": "code",
   "execution_count": 1,
   "id": "051dee59",
   "metadata": {},
   "outputs": [],
   "source": [
    "# Load standard modules\n",
    "import numpy as np\n",
    "from matplotlib import pyplot as plt\n",
    "from datetime import datetime\n",
    "\n",
    "# Load tudatpy modules\n",
    "from tudatpy.kernel.interface import spice\n",
    "from tudatpy.kernel import numerical_simulation\n",
    "from tudatpy.kernel.numerical_simulation import environment, environment_setup\n",
    "from tudatpy.kernel.numerical_simulation import propagation, propagation_setup\n",
    "from tudatpy.kernel.astro import element_conversion, time_conversion\n",
    "from tudatpy.kernel import constants\n",
    "from tudatpy.util import result2array"
   ]
  },
  {
   "cell_type": "markdown",
   "id": "b3330666",
   "metadata": {},
   "source": [
    "## Configuration\n",
    "NAIF's `SPICE` kernels are first loaded, so that the position of various bodies such as the Earth can be make known to `tudatpy`.\n",
    "\n",
    "Then, the start and end simulation epochs are setups. In this case, the start epoch is set to the 17th of February 2031. This epoch is first defined using the `datetime` module. Because the times should be specified in seconds since J2000, the `time_conversion module` is then used to convert the `datetime` to the correct format."
   ]
  },
  {
   "cell_type": "code",
   "execution_count": 2,
   "id": "1d05ce93",
   "metadata": {},
   "outputs": [],
   "source": [
    "# Load spice kernels\n",
    "spice.load_standard_kernels()\n",
    "\n",
    "# Set simulation start as the 17th of February 2031\n",
    "simulation_start_datetime = datetime(2031, 2, 17)\n",
    "# Convert simulation start to Julian Days\n",
    "simulation_start_JD = time_conversion.calendar_date_to_julian_day(simulation_start_datetime)\n",
    "# Convert simulation start to seconds since J2000\n",
    "simulation_start_epoch = time_conversion.julian_day_to_seconds_since_epoch(simulation_start_JD)"
   ]
  },
  {
   "cell_type": "markdown",
   "id": "fd20d553",
   "metadata": {},
   "source": [
    "## Environment setup\n",
    "Let’s create the environment for our simulation. This setup covers the creation of (celestial) bodies, vehicle(s), and environment interfaces.\n",
    "\n",
    "### Create the bodies\n",
    "Bodies can be created by making a list of strings with the bodies that is to be included in the simulation.\n",
    "\n",
    "The default body settings (such as atmosphere, body shape, rotation model) are taken from `SPICE`.\n",
    "\n",
    "These settings can be adjusted. Please refere to the [Available Environment Models](https://tudat-space.readthedocs.io/en/latest/_src_user_guide/state_propagation/environment_setup/create_models/available.html#available-environment-models) in the user guide for more details.\n",
    "\n",
    "For our central body Mars, a predefined exponential atmosphere is then loaded.\n",
    "\n",
    "Finally, the system of bodies is created using the settings. This system of bodies is stored into the variable `bodies`."
   ]
  },
  {
   "cell_type": "code",
   "execution_count": 3,
   "id": "855d657b",
   "metadata": {},
   "outputs": [],
   "source": [
    "# Define a function to create a default system of bodies (so it can be reused later)\n",
    "def create_bodies():\n",
    "    # Define string names for bodies to be created from default.\n",
    "    bodies_to_create = [\"Mars\"]\n",
    "\n",
    "    # Use \"Earth\"/\"J2000\" as global frame origin and orientation.\n",
    "    global_frame_origin = \"Mars\"\n",
    "    global_frame_orientation = \"J2000\"\n",
    "\n",
    "    # Create default body settings, usually from `spice`.\n",
    "    body_settings = environment_setup.get_default_body_settings(\n",
    "        bodies_to_create,\n",
    "        global_frame_origin,\n",
    "        global_frame_orientation\n",
    "    )\n",
    "\n",
    "    # Add a predefined exponential atmosphere model for Mars\n",
    "    body_settings.get(\"Mars\").atmosphere_settings = environment_setup.atmosphere.exponential_predefined(\"Mars\")\n",
    "\n",
    "    # Return the system of selected celestial bodies\n",
    "    return environment_setup.create_system_of_bodies(body_settings)\n",
    "    \n",
    "# Create the system of selected celestial bodies\n",
    "bodies = create_bodies()"
   ]
  },
  {
   "cell_type": "markdown",
   "id": "5a43b442",
   "metadata": {},
   "source": [
    "## First section simulation\n",
    "In this example, our rocket consists of two stages. Do note that, further, the nomenclature of rocket **sections** is used, rather than rocket **stages**. The first rocket section contains both the first and the second stage. The second rocket section contains only the second stage. Section 1 is thus before stage separation, and section 2 after.\n",
    "\n",
    "Two distinct propagations will be made, one for each rocket section. The first section is numerically propagated until stage separation at apogee. Then, the second rocket section is propagated with a different body, with different properties, starting from where the first section stopped.\n",
    "\n",
    "In a first time, we will thus focus on the ascent of the first section. Many functions will be defined in this example to setup the propagation of the first section. This is because the second section uses a similar setup, and will later re-use these functions."
   ]
  },
  {
   "cell_type": "markdown",
   "id": "a3ac4c4f",
   "metadata": {},
   "source": [
    "### Create the vehicle\n",
    "Let's now create our vehicle for the first section, called \"Section 1\". It has an initial mass of 370kg."
   ]
  },
  {
   "cell_type": "code",
   "execution_count": 4,
   "id": "f53ff7d9",
   "metadata": {},
   "outputs": [],
   "source": [
    "# Define a function to create a body for a rocket section\n",
    "def create_rocket_section(section_name, wet_mass):\n",
    "    # Create an empty body with the given section name\n",
    "    bodies.create_empty_body(section_name)\n",
    "    # Assign the initial mass of the body (the section wet mass)\n",
    "    bodies.get(section_name).mass = wet_mass\n",
    "\n",
    "# Create the first rocket section body with a wet mass of 370kg\n",
    "create_rocket_section(\"Section 1\", 370.0)"
   ]
  },
  {
   "cell_type": "markdown",
   "id": "8da1affb",
   "metadata": {},
   "source": [
    "To account for the aerodynamic of the first section, let's add an aerodynamic interface to the environment setup, taking the followings into account:\n",
    "- A constant drag coefficient of 0.85.\n",
    "- No sideslip coefficient (equal to 0).\n",
    "- A lift coefficient of 0.4.\n",
    "- A reference area of 0.25m$^2$.\n",
    "- No moment coefficient."
   ]
  },
  {
   "cell_type": "code",
   "execution_count": 5,
   "id": "edd0d50f",
   "metadata": {},
   "outputs": [],
   "source": [
    "# Define a function to add an aerodynamic coefficient interface with the coefficient of a given section\n",
    "def add_aero_coefficients(section_name, CD, CL, ref_area=0.25):\n",
    "    # Create aerodynamic coefficient interface settings\n",
    "    aero_coefficient_settings = environment_setup.aerodynamic_coefficients.constant(\n",
    "        ref_area,\n",
    "        [CD, 0, CL]\n",
    "    )\n",
    "    # Add the aerodynamic coefficient interface settings to the environment, linked to the rocket section\n",
    "    environment_setup.add_aerodynamic_coefficient_interface(\n",
    "        bodies,\n",
    "        section_name,\n",
    "        aero_coefficient_settings\n",
    "    )\n",
    "\n",
    "# Create an aerodynamic coefficient interface for the first rocket section\n",
    "add_aero_coefficients(\"Section 1\", 0.85, 0.4)"
   ]
  },
  {
   "cell_type": "markdown",
   "id": "48e44ea5",
   "metadata": {},
   "source": [
    "### Propagation setup\n",
    "Now that the environment is created, the propagation setup is defined.\n",
    "\n",
    "First, the bodies to be propagated and the central bodies will be defined.\n",
    "Central bodies are the bodies with respect to which the state of the respective propagated bodies is defined.\n",
    "\n",
    "The body to be propagated in the first part of this example is the first rocket section."
   ]
  },
  {
   "cell_type": "code",
   "execution_count": 6,
   "id": "c2a6f96e",
   "metadata": {},
   "outputs": [],
   "source": [
    "# Define bodies that are propagated\n",
    "bodies_to_propagate = [\"Section 1\"]\n",
    "\n",
    "# Define central bodies of propagation\n",
    "central_bodies = [\"Mars\"]"
   ]
  },
  {
   "cell_type": "markdown",
   "id": "5abbe3b9",
   "metadata": {},
   "source": [
    "#### Thrust model\n",
    "Let's now define a thrust class, which will contain all of the functions needed to fully define a custom thrust model.\n",
    "\n",
    "As always in an ascent problem, we cannot use thrust anymore when the current stage has exhausted its propellant. The first function, `is_thrust_on()`, returns True when thrust can be used, and False when all of the propellant has been used.\n",
    "\n",
    "Then, the `get_thrust_magnitude()` function returns the current thrust magnitude. This magnitude is 1.75 times higher in the first 15 seconds, simulating the dual thrust of a solid propellant motor. This results in the following function for the thrust over time, with the time since engine start $t$ in seconds, and the user-set thrust magnitude $F_{T_\\text{set}}$ in Newtons:\n",
    "$$\n",
    "F_T(t) = \n",
    "\\begin{cases}\n",
    "1.75 \\cdot F_{T_\\text{set}} & \\text{if }t < 15 \\\\\n",
    "F_{T_\\text{set}} & \\text{if }t \\geq 15\n",
    "\\end{cases}\n",
    "$$\n",
    "\n",
    "The constant specific impulse is returned by the `get_specific_impulse()` function.\n",
    "\n",
    "Finally, the `get_thrust_direction()` returns the angle of the thrust in the **inertial frame**, as defined by the `vertical_angle` variable that specifies the angle of the thrust w.r.t. the axis going from the vehicle to the centre of Mars (the **vertical frame**). This unit vector that represents the thrust angle in the inertial frame $\\hat{\\mathbf{f}}_T$ is computed as below, with the rotation matrix from the vertical frame to the inertial frame $\\mathbf{R}^{I/V}$ and the specified thrust angle in the vertical frame $\\alpha_V$.\n",
    "\n",
    "$$\n",
    "\\hat{\\mathbf{f}}_T = \\mathbf{R}^{I/V} \\cdot \n",
    "\\begin{bmatrix}\n",
    "0 \\\\\n",
    "\\sin \\alpha_V \\\\\n",
    "-\\cos \\alpha_V\n",
    "\\end{bmatrix}\n",
    "$$"
   ]
  },
  {
   "cell_type": "code",
   "execution_count": 7,
   "id": "5099543a",
   "metadata": {},
   "outputs": [],
   "source": [
    "class thrust_model:\n",
    "\n",
    "    def __init__(self, magnitude, Isp, vertical_angle, propagated_body, section_dry_mass):\n",
    "        self.magnitude = magnitude               # Thrust magnitude [N]\n",
    "        self.Isp = Isp                           # Specific impulse [s]\n",
    "        self.vertical_angle = vertical_angle     # Angle from the vertical [rad]\n",
    "        self.propagated_body = propagated_body   # Body that is being propagated (tudatpy.numerical_simulation.environment.Body)\n",
    "        self.section_dry_mass = section_dry_mass # Dry mass of the section [kg]\n",
    "        self.t0 = None                           # Initial burn time for this section [s]\n",
    "\n",
    "    def is_thrust_on(self, time):\n",
    "        # The thrust is on (true) if the current section mass is strictly greater than its dry mass\n",
    "        return self.propagated_body.mass > self.section_dry_mass\n",
    "\n",
    "    def get_thrust_magnitude(self, time):\n",
    "        # If we are in the 15 first seconds, return 1.75 times the magnitude\n",
    "        if self.t0 is None:\n",
    "            self.t0 = time\n",
    "        if time - self.t0 < 15:\n",
    "            return 1.75*self.magnitude\n",
    "        return self.magnitude\n",
    "\n",
    "    def get_specific_impulse(self, time):\n",
    "        # Return the constant specific impulse\n",
    "        return self.Isp\n",
    "\n",
    "    def get_thrust_direction(self, time):\n",
    "        # Get aerodynamic angle calculator\n",
    "        aerodynamic_angle_calculator = self.propagated_body.flight_conditions.aerodynamic_angle_calculator\n",
    "        \n",
    "        # Set thrust in vertical frame and transpose it\n",
    "        thrust_direction_vertical_frame = np.array([[0, np.sin(self.vertical_angle), - np.cos(self.vertical_angle)]]).T\n",
    "        \n",
    "        # Retrieve rotation matrix from vertical to inertial frame from the aerodynamic angle calculator\n",
    "        vertical_to_inertial_frame = aerodynamic_angle_calculator.get_rotation_matrix_between_frames(\n",
    "            environment.AerodynamicsReferenceFrames.vertical_frame,\n",
    "            environment.AerodynamicsReferenceFrames.inertial_frame)\n",
    "        \n",
    "        # Compute the thrust in the inertial frame\n",
    "        thrust_inertial_frame = np.dot(vertical_to_inertial_frame,\n",
    "                                    thrust_direction_vertical_frame)\n",
    "        # Return the thrust direction in the inertial frame\n",
    "        return thrust_inertial_frame"
   ]
  },
  {
   "cell_type": "markdown",
   "id": "dda8ce89",
   "metadata": {},
   "source": [
    "#### Define the thrust settings\n",
    "Using the `thrust_model` class that was defined earlier, we can now define thrust acceleration settings for the first rocket section.\n",
    "\n",
    "For this first section, the following parameters are used for the thrust:\n",
    "- A thrust magnitude of 4.25 kN.\n",
    "- A specific impulse of 275 seconds.\n",
    "- A constant thrust angle of 40 deg from the vertical.\n",
    "- A dry mass of the first section of 185 kg (note that the wet mass was defined as 370 kg, so 185 kg of propellant can be used)."
   ]
  },
  {
   "cell_type": "code",
   "execution_count": 8,
   "id": "2eb175da",
   "metadata": {},
   "outputs": [],
   "source": [
    "# Define a function to create acceleration settings based on the direction and magnitude from the custom thrust class\n",
    "def create_thrust_acceleration_from_thrust_model(current_thrust_model):\n",
    "    # Define the thrust direction settings for the first section from the custom direction function\n",
    "    thrust_direction_settings = propagation_setup.thrust.custom_thrust_direction(\n",
    "        current_thrust_model.get_thrust_direction\n",
    "    )\n",
    "\n",
    "    # Define the thrust magnitude settings for the first section from the custom functions\n",
    "    thrust_magnitude_settings = propagation_setup.thrust.custom_thrust_magnitude(\n",
    "        current_thrust_model.get_thrust_magnitude,\n",
    "        current_thrust_model.get_specific_impulse,\n",
    "        current_thrust_model.is_thrust_on\n",
    "    )\n",
    "    \n",
    "    # Return acceleration settings based on the thrust direction and magnitude\n",
    "    return propagation_setup.acceleration.thrust_from_direction_and_magnitude(\n",
    "        thrust_direction_settings,\n",
    "        thrust_magnitude_settings\n",
    "    )\n",
    "\n",
    "# Setup the thrust model for the first section\n",
    "current_thrust_model = thrust_model(4250, 275, np.deg2rad(40), bodies.get(\"Section 1\"), 185)\n",
    "\n",
    "# Create acceleration settings for the first section\n",
    "thrust_acceleration = create_thrust_acceleration_from_thrust_model(current_thrust_model)"
   ]
  },
  {
   "cell_type": "markdown",
   "id": "ed6aecc0",
   "metadata": {},
   "source": [
    "#### Create the accelerations model\n",
    "First off, the acceleration settings from the environment that act on the rocket are to be defined.\n",
    "In this case, these consist in the two followings:\n",
    "- Graviational acceleration of Mars modeled as Spherical Harmonics, taken up to a degree and order 4.\n",
    "- Aerodynamic acceleration caused by the atmosphere of Mars (using the aerodynamic interface defined earlier).\n",
    "\n",
    "Additional accelerations are then added for the first rocket section, containing the thrust acceleration settings that were defined earlier.\n",
    "\n",
    "The acceleration settings defined are then applied to the rocket section, and acceleration models are created."
   ]
  },
  {
   "cell_type": "code",
   "execution_count": 9,
   "id": "e92f08cc",
   "metadata": {},
   "outputs": [],
   "source": [
    "# Define a function to create acceleration models for a given rocket section, containing the thrust\n",
    "def create_section_accelerations(section_name, thrust_acceleration):\n",
    "    # Duplicate the environmental accelerations (use copy to avoiding keeping the same dict linked to both sections)\n",
    "    accelerations_on_rocket = accelerations_environment.copy()\n",
    "\n",
    "    # Add the thrust acceleration to the given section\n",
    "    accelerations_on_rocket[section_name] = [ thrust_acceleration ]\n",
    "\n",
    "    # Create acceleration models for the given section\n",
    "    return propagation_setup.create_acceleration_models(\n",
    "        bodies,\n",
    "        {section_name: accelerations_on_rocket},\n",
    "        bodies_to_propagate,\n",
    "        central_bodies\n",
    "    )\n",
    "    \n",
    "\n",
    "# Define environmental acceleration\n",
    "accelerations_environment = {\n",
    "    \"Mars\": [\n",
    "        propagation_setup.acceleration.spherical_harmonic_gravity(4, 4),\n",
    "        propagation_setup.acceleration.aerodynamic()\n",
    "    ]\n",
    "}\n",
    "\n",
    "# Define the acceleration models for the first rocket section\n",
    "acceleration_models = create_section_accelerations(\"Section 1\", thrust_acceleration)"
   ]
  },
  {
   "cell_type": "markdown",
   "id": "bb60b2c1",
   "metadata": {},
   "source": [
    "#### Aerodynamic model\n",
    "A very basic aerodynamic model is now defined, to update the angle of attack of our vehicle as a function of time.\n",
    "It is encouraged for this model to be improved. For now, it ensures some slight variation in the aerodynamic acceleration over time, since it varies the angle of attack between -2 deg and 2 deg, using the following equation for the angle of attack $\\alpha$ in radians over the time $t$ in seconds:\n",
    "$$\n",
    "\\alpha(t) = \\frac{2*\\pi}{180} \\cdot \\sin \\left( \\frac{t \\cdot \\pi}{750} \\right)\n",
    "$$"
   ]
  },
  {
   "cell_type": "code",
   "execution_count": 10,
   "id": "89b25d2e",
   "metadata": {},
   "outputs": [],
   "source": [
    "class AeroGuidance(propagation.AerodynamicGuidance):\n",
    "\n",
    "    def __init__(self):\n",
    "        # Call the base class constructor\n",
    "        propagation.AerodynamicGuidance.__init__(self)\n",
    "\n",
    "    def updateGuidance(self, current_time):\n",
    "        # Update angle of attack as a function of time\n",
    "        self.angle_of_attack = np.deg2rad(2) * np.sin(current_time*np.pi/750)\n",
    "        \n",
    "# Set the aerodynamic guidance of the first section\n",
    "guidance_object = AeroGuidance()\n",
    "environment_setup.set_aerodynamic_guidance(guidance_object, bodies.get(\"Section 1\"), silence_warnings=True)"
   ]
  },
  {
   "cell_type": "markdown",
   "id": "20b91885",
   "metadata": {},
   "source": [
    "### Define the initial state\n",
    "The initial state of the rocket for which the ascent will be propagated is now defined. \n",
    "\n",
    "This initial state always has to be provided as a cartesian state, in the form of a list with the first three elements reprensenting the initial position, and the three remaining elements representing the initial velocity.\n",
    "\n",
    "In this case, let's make use of the `spherical_to_cartesian_elementwise()` function that is included in the `element_conversion` module, so that the initial state can be input as Spherical elements, and then converted in Cartesian elements.\n",
    "\n",
    "The initial state that will be defined is the one of the entire rocket, which is the same as the one used for the first section."
   ]
  },
  {
   "cell_type": "code",
   "execution_count": 11,
   "id": "2532c6e5",
   "metadata": {},
   "outputs": [],
   "source": [
    "# Define the initial state in Spherical elements, and convert to Mars fixed Cartesian elements\n",
    "initial_mars_fixed_state = element_conversion.spherical_to_cartesian_elementwise(\n",
    "    radial_distance=bodies.get_body(\"Mars\").shape_model.average_radius + 500,\n",
    "    latitude=np.deg2rad(18.85),\n",
    "    longitude=np.deg2rad(77.52),\n",
    "    speed=1.0,\n",
    "    flight_path_angle=np.deg2rad(40),\n",
    "    heading_angle=0\n",
    ")\n",
    "\n",
    "# Convert the Mars fixed initial state to the inertial frame\n",
    "initial_inertial_state = environment.transform_to_inertial_orientation(\n",
    "    initial_mars_fixed_state, simulation_start_epoch, bodies.get_body(\"Mars\").rotation_model\n",
    ")"
   ]
  },
  {
   "cell_type": "markdown",
   "id": "b5fefb71",
   "metadata": {},
   "source": [
    "### Define dependent variables to save\n",
    "Different dependent variables can be saved alongside the state of the vehicle during the propagation. In this example, we are particularily interested in saving the altitude, airspeed, dynamic pressure, and mass of the first rocket section. In addition, various acceleration norms are defined to be saved as dependent variables."
   ]
  },
  {
   "cell_type": "code",
   "execution_count": 12,
   "id": "d57aa550",
   "metadata": {},
   "outputs": [],
   "source": [
    "# Define a function to return the list of dependent variables to save for a given section\n",
    "def define_dependent_variables_to_save(section_name):\n",
    "    return [\n",
    "        propagation_setup.dependent_variable.altitude( section_name, \"Mars\" ),\n",
    "        propagation_setup.dependent_variable.airspeed( section_name, \"Mars\" ),\n",
    "        propagation_setup.dependent_variable.dynamic_pressure( section_name ),\n",
    "        propagation_setup.dependent_variable.body_mass( section_name ),\n",
    "        propagation_setup.dependent_variable.total_acceleration_norm( section_name ),\n",
    "        propagation_setup.dependent_variable.single_acceleration_norm(\n",
    "            propagation_setup.acceleration.spherical_harmonic_gravity_type, section_name, \"Mars\"),\n",
    "        propagation_setup.dependent_variable.single_acceleration_norm(\n",
    "            propagation_setup.acceleration.thrust_acceleration_type, section_name, section_name),\n",
    "        propagation_setup.dependent_variable.single_acceleration_norm(\n",
    "            propagation_setup.acceleration.aerodynamic_type, section_name, \"Mars\")\n",
    "    ]\n",
    "    \n",
    "# Define the dependent variables to save for the first rocket section\n",
    "dependent_variables_to_save = define_dependent_variables_to_save(\"Section 1\")"
   ]
  },
  {
   "cell_type": "markdown",
   "id": "657f5fcb",
   "metadata": {},
   "source": [
    "### Define termination settings\n",
    "Termination settings define the conditions that, once reached, will stop the propagation.\n",
    "\n",
    "In this case, for the first rocket section, two termination settings are used:\n",
    "- Stop when the vehicle starts falling again, indicating that it reached apogee.\n",
    "- Stop 225 minutes after lift-off."
   ]
  },
  {
   "cell_type": "code",
   "execution_count": 13,
   "id": "6cce1981",
   "metadata": {},
   "outputs": [],
   "source": [
    "class vehicle_falling:\n",
    "    \n",
    "    def __init__(self, body, initial_time):\n",
    "        # Initialise the class used to compute wether a body is falling or not\n",
    "        self.body = body\n",
    "        self.last_h = -np.inf\n",
    "        self.init_t = initial_time\n",
    "        \n",
    "    def is_it_falling(self, time):\n",
    "        # Compute the difference in altitude since this function was last called\n",
    "        dh = self.body.flight_conditions.altitude - self.last_h\n",
    "        self.last_h = self.body.flight_conditions.altitude\n",
    "        # Compute how far from lift-off we are\n",
    "        time_elapsed = time - self.init_t\n",
    "        # Return True (vehicle is falling) if the vehicle looses altitude, and lift-off was more than a second ago\n",
    "        return dh < 0 and time_elapsed > 1\n",
    "\n",
    "# Define a termination setting based on the custom function defining wether the vehicle falls or not\n",
    "vehicle_falling_model = vehicle_falling(bodies.get(\"Section 1\"), simulation_start_epoch)\n",
    "termination_apogee_settings = propagation_setup.propagator.custom_termination(vehicle_falling_model.is_it_falling)\n",
    "\n",
    "# Define a termination setting to stop 225 minutes after lift-off\n",
    "end_epoch = simulation_start_epoch + 225*60\n",
    "termination_max_time_settings = propagation_setup.propagator.time_termination(end_epoch)\n",
    "\n",
    "# Combine both termination settings into a hybrid termination\n",
    "combined_termination_settings = propagation_setup.propagator.hybrid_termination(\n",
    "    [termination_apogee_settings, termination_max_time_settings],\n",
    "    fulfill_single_condition=True\n",
    ")"
   ]
  },
  {
   "cell_type": "markdown",
   "id": "659cc89d",
   "metadata": {},
   "source": [
    "### Create integrator settings\n",
    "Let's now create integrator settings. These use a RK78 intergration scheme with a variable step size. The following settings are used:\n",
    "- An initial time step of 0.25 seconds.\n",
    "- A minimum time step of 1e-4 seconds.\n",
    "- A maximum time step of 100 seconds.\n",
    "- A relative and absolute error tolerance of 1e-13."
   ]
  },
  {
   "cell_type": "code",
   "execution_count": 14,
   "id": "46185bac",
   "metadata": {},
   "outputs": [],
   "source": [
    "# Define integrator settings with the initial integration epoch\n",
    "def define_integrator_settings(initial_epoch):\n",
    "    initial_time_step = 0.25\n",
    "    minimum_time_step = 1e-4\n",
    "    maximum_time_step = 100\n",
    "    return propagation_setup.integrator.runge_kutta_variable_step_size(\n",
    "        initial_epoch,\n",
    "        initial_time_step,\n",
    "        propagation_setup.integrator.rkf_78,\n",
    "        minimum_time_step,\n",
    "        maximum_time_step,\n",
    "        relative_error_tolerance=1e-14,\n",
    "        absolute_error_tolerance=1e-14)\n",
    "\n",
    "# Define the integrator settings\n",
    "integrator_settings = define_integrator_settings(simulation_start_epoch)"
   ]
  },
  {
   "cell_type": "markdown",
   "id": "feda66a6",
   "metadata": {},
   "source": [
    "### Create propagator settings\n",
    "The acceleration models, the initial state, the dependent variables, and the termination settings can now all be combined to define translational propagation settings.\n",
    "Also, in this case, a Cowell propagator is selected.\n",
    "\n",
    "Since we use thrust, we also define mass propagation settings, with the mass rate being setup to be consistant with the thrust.\n",
    "\n",
    "The translational and mass propagation settings are combined together, to propagate both in the same propagation."
   ]
  },
  {
   "cell_type": "code",
   "execution_count": 15,
   "id": "4179486d",
   "metadata": {},
   "outputs": [],
   "source": [
    "# Define a function to create translational and mass propagation settings for a given rocket section\n",
    "def create_propagator_settings(section_name, initial_state, initial_mass, termination_settings):\n",
    "    # Define the translational propagator settings with a Cowell propagator\n",
    "    translational_propagator_settings = propagation_setup.propagator.translational(\n",
    "        central_bodies,\n",
    "        acceleration_models,\n",
    "        bodies_to_propagate,\n",
    "        initial_state,\n",
    "        termination_settings,\n",
    "        propagation_setup.propagator.cowell,\n",
    "        output_variables=dependent_variables_to_save\n",
    "    )\n",
    "    # Define a mass rate model so that the mass lost by the rocket is consistant with its thrust and specific impulse\n",
    "    mass_rate_settings = {section_name:[propagation_setup.mass_rate.from_thrust()]}\n",
    "    mass_rate_models = propagation_setup.create_mass_rate_models(\n",
    "        bodies,\n",
    "        mass_rate_settings,\n",
    "        acceleration_models\n",
    "    )\n",
    "    # Define the mass propagator settings, taking the initial section mass into account\n",
    "    mass_propagator_settings = propagation_setup.propagator.mass(\n",
    "        bodies_to_propagate,\n",
    "        mass_rate_models,\n",
    "        [initial_mass],\n",
    "        termination_settings\n",
    "    )\n",
    "    # Return the translational and mass propagator settings combined\n",
    "    return propagation_setup.propagator.multitype(\n",
    "        [translational_propagator_settings, mass_propagator_settings],\n",
    "        termination_settings,\n",
    "        dependent_variables_to_save\n",
    "    )\n",
    "    \n",
    "# Define the translational and mass propagator settings for the first rocket section\n",
    "propagator_settings = create_propagator_settings(\"Section 1\", initial_inertial_state, 370, combined_termination_settings)"
   ]
  },
  {
   "cell_type": "markdown",
   "id": "282a2a0e",
   "metadata": {},
   "source": [
    "### Run the first section ascent\n",
    "With everything being now setup, we can finally run the ascent simulation of the first rocket section (containing both the first and the second stage). This is done by calling the `SingleArcSimulator()` function.\n",
    "\n",
    "The state and dependent variables history is then extracted from the dynamics simulator, and converted to multi-dimensional numpy arrays, using the `result2array()` from tudatpy utils. Do mind that using `result2array` will shift all elements by 1 column to the right, since a first column will be added, containing the apochs."
   ]
  },
  {
   "cell_type": "code",
   "execution_count": 16,
   "id": "659f817e",
   "metadata": {},
   "outputs": [
    {
     "name": "stdout",
     "output_type": "stream",
     "text": [
      "State vector contains: \n",
      "Vector entries, Vector contents\n",
      "[0:6], translational state of body Section 1\n",
      "[6], body mass state of body Section 1\n",
      "Dependent variables being saved, output vector contains: \n",
      "Vector entry, Vector contents\n",
      "0, Altitude of Section 1 w.r.t. Mars\n",
      "1, Airspeed of Section 1 w.r.t. Mars\n",
      "2, Local dynamic pressure of Section 1\n",
      "3, Current body mass of Section 1\n",
      "4, Total acceleration norm of Section 1\n",
      "5, Single acceleration norm of type spherical harmonic gravity , acting on Section 1, exerted by Mars\n",
      "6, Single acceleration norm of type thrust , acting on Section 1\n",
      "7, Single acceleration norm of type aerodynamic , acting on Section 1, exerted by Mars\n"
     ]
    }
   ],
   "source": [
    "# Run the numerical simulation of the first rocket section\n",
    "dynamics_simulator = numerical_simulation.SingleArcSimulator(\n",
    "    bodies,\n",
    "    integrator_settings,\n",
    "    propagator_settings\n",
    ")\n",
    "# Extract the propagated states and dependent variables and convert them to numpy arrays\n",
    "states = dynamics_simulator.state_history\n",
    "states_array_section_1 = result2array(states)\n",
    "dep_vars = dynamics_simulator.dependent_variable_history\n",
    "dep_vars_array_section_1 = result2array(dep_vars)"
   ]
  },
  {
   "cell_type": "markdown",
   "id": "6020089d",
   "metadata": {},
   "source": [
    "### Save section 1 final state\n",
    "Because we now want to simulate the second section from our rocket, we need to save what was the last state from the first section. This way, we can start a new propagation, simulating the remaining ascent of the second section (being the second stage) only, starting from where the first section ended."
   ]
  },
  {
   "cell_type": "code",
   "execution_count": 17,
   "id": "0e780920",
   "metadata": {},
   "outputs": [],
   "source": [
    "final_state_section_1 = states_array_section_1[-1,1:7]\n",
    "final_epoch_section_1 = states_array_section_1[-1,0]"
   ]
  },
  {
   "cell_type": "markdown",
   "id": "5441d244",
   "metadata": {},
   "source": [
    "## Second section simulation\n",
    "With the first section simulation finished, the resulting states and dependant variables saved as the `states_array_section_1` and `dep_vars_array_section_1` arrays, and the final first section state saved as `final_state_section_1`, we can now propagate our second rocket section.\n",
    "\n",
    "The setup is done in a very similar way than for the first section, re-using many of the setup functions that were defined."
   ]
  },
  {
   "cell_type": "markdown",
   "id": "93714215",
   "metadata": {},
   "source": [
    "### Define the bodies\n",
    "The same celestial bodies are defined again, as well as the second section with a wet mass of 85kg, a drag coefficient of 0.55, and a lift coefficient of 0.25."
   ]
  },
  {
   "cell_type": "code",
   "execution_count": 18,
   "id": "894ea2ea",
   "metadata": {},
   "outputs": [],
   "source": [
    "# Re-create the system of bodies (to remove the first section that is now useless)\n",
    "bodies = create_bodies()\n",
    "\n",
    "# Create the second rocket section body with a wet mass of 85kg\n",
    "create_rocket_section(\"Section 2\", 85.0)\n",
    "\n",
    "# Create an aerodynamic coefficient interface for the second rocket section\n",
    "add_aero_coefficients(\"Section 2\", 0.55, 0.25)\n",
    "\n",
    "# Define bodies that are propagated\n",
    "bodies_to_propagate = [\"Section 2\"]"
   ]
  },
  {
   "cell_type": "markdown",
   "id": "a8fe0da1",
   "metadata": {},
   "source": [
    "### Define the thrust and accelerations\n",
    "The thrust for the second section is of a magnitude of 2.25 kN and a specific impulse of 273 seconds.\n",
    "\n",
    "The second section has a constant thrust orientation of 90 degrees from the vertical (it is horizontal).\n",
    "\n",
    "Also, this section has a dry mass of 38.25kg, meaning that 46.75kg of propellant can be used."
   ]
  },
  {
   "cell_type": "code",
   "execution_count": 19,
   "id": "162e7374",
   "metadata": {},
   "outputs": [],
   "source": [
    "# Setup the thrust model for the second section\n",
    "current_thrust_model = thrust_model(2250, 273, np.deg2rad(90), bodies.get(\"Section 2\"), 38.25)\n",
    "\n",
    "# Create acceleration settings for the second section\n",
    "thrust_acceleration = create_thrust_acceleration_from_thrust_model(current_thrust_model)\n",
    "\n",
    "# Define the acceleration models for the second rocket section\n",
    "acceleration_models = create_section_accelerations(\"Section 2\", thrust_acceleration)"
   ]
  },
  {
   "cell_type": "markdown",
   "id": "997bcbf0",
   "metadata": {},
   "source": [
    "### Add aerodynamic model\n",
    "The same aerodynamic model as for the first section is used for the second section, ensuring some variation in the angle of attack."
   ]
  },
  {
   "cell_type": "code",
   "execution_count": 20,
   "id": "5a349c2e",
   "metadata": {},
   "outputs": [],
   "source": [
    "guidance_object = AeroGuidance()\n",
    "environment_setup.set_aerodynamic_guidance(guidance_object, bodies.get(\"Section 2\"), silence_warnings=True)"
   ]
  },
  {
   "cell_type": "markdown",
   "id": "dbc94f0c",
   "metadata": {},
   "source": [
    "### Define dependent variables\n",
    "The same dependent variables as for the first section are used. However, they are now all linked to the \"Section 2\" body."
   ]
  },
  {
   "cell_type": "code",
   "execution_count": 21,
   "id": "32a83c1a",
   "metadata": {},
   "outputs": [],
   "source": [
    "dependent_variables_to_save = define_dependent_variables_to_save(\"Section 2\")"
   ]
  },
  {
   "cell_type": "markdown",
   "id": "72ea673a",
   "metadata": {},
   "source": [
    "### Define integrator settings\n",
    "A RK4 integration scheme is also used for this second rocket section, with a half a second time step. However, this initial integration epoch is now setup as the final epoch of the first section."
   ]
  },
  {
   "cell_type": "code",
   "execution_count": 22,
   "id": "b6337cdd",
   "metadata": {},
   "outputs": [],
   "source": [
    "integrator_settings = define_integrator_settings(final_epoch_section_1)"
   ]
  },
  {
   "cell_type": "markdown",
   "id": "665e01fa",
   "metadata": {},
   "source": [
    "### Define propagator settings\n",
    "New translational and mass propagator settings are now defined for the second section.\n",
    "\n",
    "This time, the initial state of the second section is set as the final state of the first section.\n",
    "Also, the initial mass of the second section is set as 85kg for the mass propagator, and the only termination settings used is to finish after 300 minutes have elapsed since lift-off."
   ]
  },
  {
   "cell_type": "code",
   "execution_count": 23,
   "id": "b4bd7a43",
   "metadata": {},
   "outputs": [],
   "source": [
    "# Define the translational and mass propagator settings for the first rocket section\n",
    "propagator_settings = create_propagator_settings(\"Section 2\", final_state_section_1, 85, termination_max_time_settings)"
   ]
  },
  {
   "cell_type": "markdown",
   "id": "74cc122e",
   "metadata": {},
   "source": [
    "### Run second section simulation\n",
    "We can now run the ascent simulation for the second section.\n",
    "\n",
    "Note that this may take a little longer to run, since it will propagate for up to half a day, instead of around 10 minutes until apogee.\n",
    "\n",
    "The state and dependent variable histories for the second section are now saved into the `states_array_section_2` and `dep_vars_array_section_2` numpy arrays."
   ]
  },
  {
   "cell_type": "code",
   "execution_count": 24,
   "id": "4b521537",
   "metadata": {},
   "outputs": [
    {
     "name": "stdout",
     "output_type": "stream",
     "text": [
      "State vector contains: \n",
      "Vector entries, Vector contents\n",
      "[0:6], translational state of body Section 2\n",
      "[6], body mass state of body Section 2\n",
      "Dependent variables being saved, output vector contains: \n",
      "Vector entry, Vector contents\n",
      "0, Altitude of Section 2 w.r.t. Mars\n",
      "1, Airspeed of Section 2 w.r.t. Mars\n",
      "2, Local dynamic pressure of Section 2\n",
      "3, Current body mass of Section 2\n",
      "4, Total acceleration norm of Section 2\n",
      "5, Single acceleration norm of type spherical harmonic gravity , acting on Section 2, exerted by Mars\n",
      "6, Single acceleration norm of type thrust , acting on Section 2\n",
      "7, Single acceleration norm of type aerodynamic , acting on Section 2, exerted by Mars\n"
     ]
    }
   ],
   "source": [
    "dynamics_simulator = numerical_simulation.SingleArcSimulator(\n",
    "    bodies,\n",
    "    integrator_settings,\n",
    "    propagator_settings\n",
    ")\n",
    "states = dynamics_simulator.state_history\n",
    "states_array_section_2 = result2array(states)\n",
    "dep_vars = dynamics_simulator.dependent_variable_history\n",
    "dep_vars_array_section_2 = result2array(dep_vars)"
   ]
  },
  {
   "cell_type": "markdown",
   "id": "6cff42de",
   "metadata": {},
   "source": [
    "## Results analysis\n",
    "With the ascent simulation of both sections completed, we can now analyse the results. Most importantly, this consists in plotting the various dependent variables that has been saved over time."
   ]
  },
  {
   "cell_type": "markdown",
   "id": "5a755d5c",
   "metadata": {},
   "source": [
    "### Combine results from both sections\n",
    "First, let's combine the dependent variables arrays from both rocket sections together. This then produces one single `dep_vars_array` containing the dependent variables history of the entire rocket over time."
   ]
  },
  {
   "cell_type": "code",
   "execution_count": 25,
   "id": "0542dad6",
   "metadata": {},
   "outputs": [],
   "source": [
    "dep_vars_array = np.concatenate((dep_vars_array_section_1, dep_vars_array_section_2))"
   ]
  },
  {
   "cell_type": "markdown",
   "id": "a6ca23a1",
   "metadata": {},
   "source": [
    "### Extract the data\n",
    "Let's now extract each of the relevant data array from the dependent variables multi-dimensional array."
   ]
  },
  {
   "cell_type": "code",
   "execution_count": 26,
   "id": "16c25ce2",
   "metadata": {},
   "outputs": [],
   "source": [
    "times = dep_vars_array[:,0]\n",
    "times_since_launch = times - times[0]\n",
    "\n",
    "altitudes = dep_vars_array[:,1]\n",
    "airspeeds = dep_vars_array[:,2]\n",
    "dyna_pressures = dep_vars_array[:,3]\n",
    "mass = dep_vars_array[:,4]\n",
    "total_a = dep_vars_array[:,5]\n",
    "SH_a = dep_vars_array[:,6]\n",
    "thrust_a = dep_vars_array[:,7]\n",
    "aero_a = dep_vars_array[:,8]"
   ]
  },
  {
   "cell_type": "markdown",
   "id": "0e0f212d",
   "metadata": {},
   "source": [
    "### Plot the results\n",
    "Let's plot all of the dependent variables over time.\n",
    "\n",
    "Do note that some of the plots are cropped after 10 minutes, to effectively zoom in on their most interesting part."
   ]
  },
  {
   "cell_type": "code",
   "execution_count": 27,
   "id": "83b0cced",
   "metadata": {},
   "outputs": [
    {
     "name": "stdout",
     "output_type": "stream",
     "text": [
      "Stage separation occured after 9.06 minutes.\n"
     ]
    },
    {
     "data": {
      "image/png": "[encoded data removed]",
      "text/plain": [
       "<Figure size 1008x1080 with 5 Axes>"
      ]
     },
     "metadata": {
      "needs_background": "light"
     },
     "output_type": "display_data"
    }
   ],
   "source": [
    "print(\"Stage separation occured after %.2f minutes.\" % ((final_epoch_section_1-times[0])/60))\n",
    "\n",
    "# Compute the index at which the time since launch gets above 10 minutes\n",
    "idx_crop = np.where(times_since_launch/60 >= 10)[0][0]\n",
    "\n",
    "# Create a figure with 5 subplots: a grid of 2x2, then one horizontal one at the bottom\n",
    "fig = plt.figure(figsize=(14, 15))\n",
    "gs = fig.add_gridspec(3, 2)\n",
    "ax1 = fig.add_subplot(gs[0, 0])\n",
    "ax2 = fig.add_subplot(gs[0, 1])\n",
    "ax3 =fig.add_subplot(gs[1, 0])\n",
    "ax4 = fig.add_subplot(gs[1, 1])\n",
    "ax5 = fig.add_subplot(gs[2, :])\n",
    "\n",
    "# Plot the altitude history\n",
    "ax1.plot(times_since_launch/60, altitudes/1e3)\n",
    "ax1.grid()\n",
    "ax1.set_xlabel(\"Time since launch [min]\")\n",
    "ax1.set_ylabel(\"Altitude [km]\")\n",
    "\n",
    "# Plot the airspeed history\n",
    "ax2.plot(times_since_launch/60, airspeeds)\n",
    "ax2.grid()\n",
    "ax2.set_xlabel(\"Time since launch [min]\")\n",
    "ax2.set_ylabel(\"Airspeed [m/s]\")\n",
    "\n",
    "# Plot the mass history in the first 10 minutes\n",
    "ax3.plot(times_since_launch[:idx_crop]/60, mass[:idx_crop])\n",
    "ax3.grid()\n",
    "ax3.set_xlabel(\"Time since launch [min]\")\n",
    "ax3.set_ylabel(\"Rocket mass [kg]\")\n",
    "\n",
    "# Plot the dynamic pressure history in the first 10 minutes\n",
    "ax4.plot(times_since_launch[:idx_crop]/60, dyna_pressures[:idx_crop]/1e3)\n",
    "ax4.grid()\n",
    "ax4.set_xlabel(\"Time since launch [min]\")\n",
    "ax4.set_ylabel(\"Dynamic pressure [kPa]\")\n",
    "\n",
    "# Plot the accelerations history in the first 10 minutes\n",
    "ax5.plot(times_since_launch[:idx_crop]/60, total_a[:idx_crop], label=\"Total\", linestyle=\"dotted\", color=\"black\")\n",
    "ax5.plot(times_since_launch[:idx_crop]/60, SH_a[:idx_crop], label=\"SH D/O 4\")\n",
    "ax5.plot(times_since_launch[:idx_crop]/60, thrust_a[:idx_crop], label=\"Thrust\")\n",
    "ax5.plot(times_since_launch[:idx_crop]/60, aero_a[:idx_crop], label=\"Aerodynamic\")\n",
    "ax5.grid()\n",
    "ax5.set_xlabel(\"Time since launch [min]\")\n",
    "ax5.set_ylabel(\"Acceleration [m/s$^2$]\")\n",
    "#ax5.set_yscale(\"log\") # (uncomment this to see the distinction between the accelerations more clearly)\n",
    "ax5.legend()\n",
    "\n",
    "# Save some space using a tight layout, and show the figure\n",
    "plt.tight_layout()\n",
    "plt.show()"
   ]
  },
  {
   "cell_type": "markdown",
   "id": "193f4f85",
   "metadata": {},
   "source": [
    "### Results analysis\n",
    "Finally, we can analyse the plot that we produce, giving various insights in our numerical simulation of a two-stage rocket ascent on Mars.\n",
    "\n",
    "#### Altitude over time\n",
    "In the first plot on the top left, we can see the altitude plotted as a function of time. This shows that the rocket progressively gains more and more altitude, as its accelerates. After stage separation, at around 9min, when the second stage ignites, the rocket does not gain significantly more altitude. This is because the second stage fires only horizontally. Because it does so at apoapsis, it fires only prograde, increasing the prograde (horizontal) velocity of the rocket, without increasing its radial (vertical) velocity. Afterwards, we see oscillations between around 150km and 900km. This shows that our vehicle is now in orbit.\n",
    "\n",
    "#### Airspeed over time\n",
    "The second plot on the top right clearly shows that the rocket gains considerable speed in the first seconds, when the first stage fires. At first stage burnout, the velocity starts decreasing. This is because we loose velocity for altitude, until we reach apoapsis. At apoapsis, the second stage ignites, and the velocity increases considerably again. Afterwards, we see oscillations between around 3.4 and 2.7 km/s, showing that our vehicle is at orbital velocity around Mars.\n",
    "\n",
    "#### Rocket mass over time\n",
    "The thrist plot in the middle left shows the mass of our rocket over time in its first 10 minutes. We can clearly identify the two moments where the rocket burns propellant, indicated by the two sections where the mass linearly decreases, from 0min to 2min, and from 9min to 10min. During the burns, since the rocket has a thrust magnitude that is 1.75 times higher in the first 15 seconds, it also looses propellant 1.75 times faster. This can be seen by the higher mass rate at the beginning of the ignition of both stages.\n",
    "Finally, we can see at around 9min that the two stages separate, because our rocket mass instantaneously changes from 185kg to 85kg.\n",
    "\n",
    "#### Dynamic pressure over time\n",
    "The fourth plot, in the middle right, shows the dynamic pressure over time in front of our rocket. While the model used to compute it is rather simplistic, it still gives a good indication as when max-q (moment of maximum dynamic pressure) is reached, and of its magnitude. This maximum dynamic pressure may be lower than expected, since we are flying on Mars and not the Earth.\n",
    "\n",
    "#### Accelerations over time\n",
    "Finally, the plot at the bottom shows various accelerations over time. Clearly, thrust gives the acceleration of the highest magnitude. Once again, we can see that the thrust was each time of a mgnitude 1.75 times higher in the first 15 seconds. Also, we can see that the thrust acceleration increases over time furing each of the burn. This can be expected: the acceleration that results in the thrust force becomes higher over time as our rocket mass becomes lower.\n",
    "The Martian gravitational acceleration comes second in magnitude. While it appears constant, because its magnitude is much lower than the one of the thrst, this gravitational acceleration decreases as altitude increases.\n",
    "Finally, the aerodynamic acceleration is only significant in the first 2min of the ascent. One may realise that this acceleration follows a similar shape as the dynamic pressure over time. This is because the aerodynamic acceleration relies purely on the aerodynamic coefficients (which are constant in this case), the angle of attack (that varies only between -2deg and 2deg), and the dynamic pressure."
   ]
  },
  {
   "cell_type": "code",
   "execution_count": null,
   "id": "8e4ad7f0",
   "metadata": {},
   "outputs": [],
   "source": []
  }
 ],
 "metadata": {
  "kernelspec": {
   "display_name": "tudat-space",
   "language": "python",
   "name": "tudat-space"
  },
  "language_info": {
   "codemirror_mode": {
    "name": "ipython",
    "version": 3
   },
   "file_extension": ".py",
   "mimetype": "text/x-python",
   "name": "python",
   "nbconvert_exporter": "python",
   "pygments_lexer": "ipython3",
   "version": "3.8.12"
  }
 },
 "nbformat": 4,
 "nbformat_minor": 5
}
