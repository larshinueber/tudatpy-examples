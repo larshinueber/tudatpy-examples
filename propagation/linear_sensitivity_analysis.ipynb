{
 "cells": [
  {
   "cell_type": "markdown",
   "id": "881369b9",
   "metadata": {},
   "source": [
    "# Tudatpy example application: Keplerian satellite orbit\n",
    "Copyright (c) 2010-2021, Delft University of Technology. All rights reserved. This file is part of the Tudat. Redistribution and use in source and binary forms, with or without modification, are permitted exclusively under the terms of the Modified BSD license. You should have received a copy of the license with this file. If not, please or visit: http://tudat.tudelft.nl/LICENSE.\n",
    "\n",
    "## Context\n",
    "This example is an extension of the Perturbed Satellite Orbit Application. It adopts the simulation setup from the Perturbed Satellite Orbit, considering a slightly reduced set of perturbing accelerations for the propagation of the vehicle.\n",
    "\n",
    "The script demonstrates how the basic numerical simulation setup (aiming to propagate the state of the system) can swiftly be extended to enable a study of the system's sensitivity.\n",
    "\n",
    "Via the `estimation_setup.parameter module`, the system parameters w.r.t. which the sensitivity is to be studied are defined and a SingleArcVariationalSimulator object from the numerical_simulation module is used in order to setup and integrate the system's variational equations. After obtaining the state transition matrices from the integrated variational equations, the system's response to small perturbations can be tested via simple matrix multiplication.\n",
    "\n",
    "The availability of variational equations in tudat enables many more, advanced functionalities, such as covariance analysis and precise orbit determination."
   ]
  },
  {
   "cell_type": "markdown",
   "id": "004e05ee",
   "metadata": {},
   "source": [
    "## Import statements\n",
    "The required import statements are made here, at the very beginning.\n",
    "\n",
    "Some standard modules are first loaded. These are `numpy` and `matplotlib.pyplot`.\n",
    "\n",
    "Then, the different modules of `tudatpy` that will be used are imported."
   ]
  },
  {
   "cell_type": "code",
   "execution_count": 1,
   "id": "11c3b0e7",
   "metadata": {},
   "outputs": [],
   "source": [
    "# Load standard modules\n",
    "import numpy as np\n",
    "from matplotlib import pyplot as plt\n",
    "\n",
    "# Load tudatpy modules\n",
    "from tudatpy.kernel.interface import spice\n",
    "from tudatpy.kernel import numerical_simulation\n",
    "from tudatpy.kernel.numerical_simulation import environment_setup\n",
    "from tudatpy.kernel.numerical_simulation import propagation_setup\n",
    "from tudatpy.kernel.numerical_simulation import estimation_setup\n",
    "from tudatpy.kernel.astro import element_conversion\n",
    "from tudatpy.kernel import constants\n",
    "from tudatpy.util import result2array"
   ]
  },
  {
   "cell_type": "markdown",
   "id": "411f6a69",
   "metadata": {},
   "source": [
    "## Configuration\n",
    "NAIF's `SPICE` kernels are first loaded, so that the position of various bodies such as the Earth, the Sun, the Moon, Venus, or Mars, can be make known to `tudatpy`.\n",
    "\n",
    "Then, the start and end simulation epochs are setups. In this case, the start epoch is set to `0`, corresponding to the 1st of January 2000. The times should be specified in seconds since J2000.\n",
    "Please refer to the API documentation of the `time_conversion module` [here](https://tudatpy.readthedocs.io/en/latest/time_conversion.html) for more information on this."
   ]
  },
  {
   "cell_type": "code",
   "execution_count": 2,
   "id": "233d5642",
   "metadata": {},
   "outputs": [],
   "source": [
    "# Load spice kernels\n",
    "spice.load_standard_kernels()\n",
    "\n",
    "# Set simulation start and end epochs\n",
    "simulation_start_epoch = 0.0\n",
    "simulation_end_epoch = constants.JULIAN_DAY"
   ]
  },
  {
   "cell_type": "markdown",
   "id": "af015069",
   "metadata": {},
   "source": [
    "## Environment setup\n",
    "Let’s create the environment for our simulation. This setup covers the creation of (celestial) bodies, vehicle(s), and environment interfaces.\n",
    "\n",
    "### Create the bodies\n",
    "Bodies can be created by making a list of strings with the bodies that is to be included in the simulation.\n",
    "\n",
    "The default body settings (such as atmosphere, body shape, rotation model) are taken from `SPICE`.\n",
    "\n",
    "These settings can be adjusted. Please refere to the [Available Environment Models](https://tudat-space.readthedocs.io/en/latest/_src_user_guide/state_propagation/environment_setup/create_models/available.html#available-environment-models) in the user guide for more details.\n",
    "\n",
    "Finally, the system of bodies is created using the settings. This system of bodies is stored into the variable `bodies`."
   ]
  },
  {
   "cell_type": "code",
   "execution_count": 3,
   "id": "dc8a7f23",
   "metadata": {},
   "outputs": [],
   "source": [
    "# Create default body settings for \"Sun\", \"Earth\", \"Moon\", \"Mars\", \"Venus\"\n",
    "bodies_to_create = [\"Sun\", \"Earth\", \"Moon\", \"Mars\", \"Venus\"]\n",
    "\n",
    "# Create default body settings for bodies_to_create, with \"Earth\"/\"J2000\" as the global frame origin and orientation\n",
    "global_frame_origin = \"Earth\"\n",
    "global_frame_orientation = \"J2000\"\n",
    "body_settings = environment_setup.get_default_body_settings(\n",
    "    bodies_to_create, global_frame_origin, global_frame_orientation)\n",
    "\n",
    "# Create the system of bodies\n",
    "bodies = environment_setup.create_system_of_bodies(body_settings)"
   ]
  },
  {
   "cell_type": "markdown",
   "id": "df74a0b3",
   "metadata": {},
   "source": [
    "### Create the vehicle and its environment interface\n",
    "Let's now create the satellite for which an orbit will be simulated.\n",
    "\n",
    "This satellite is setup to have mass of 400kg, a reference area (used both for aerodynamic and radiation pressure) of 4m$^2$, a radiation pressure coefficient of 1.2, and a drag coefficient also of 1.2.\n",
    "\n",
    "When setting up the radiation pressure interface, the Earth is set as a body that can occult the radiation emitted by the Sun."
   ]
  },
  {
   "cell_type": "code",
   "execution_count": 4,
   "id": "5f534f3a",
   "metadata": {},
   "outputs": [],
   "source": [
    "# Create vehicle objects.\n",
    "bodies.create_empty_body(\"Delfi-C3\")\n",
    "bodies.get(\"Delfi-C3\").mass = 400.0\n",
    "\n",
    "# Create aerodynamic coefficient interface settings\n",
    "reference_area = 4.0\n",
    "drag_coefficient = 1.2\n",
    "aero_coefficient_settings = environment_setup.aerodynamic_coefficients.constant(\n",
    "    reference_area, [drag_coefficient, 0.0, 0.0]\n",
    ")\n",
    "# Add the aerodynamic interface to the environment\n",
    "environment_setup.add_aerodynamic_coefficient_interface(\n",
    "            bodies, \"Delfi-C3\", aero_coefficient_settings)\n",
    "\n",
    "# Create radiation pressure settings\n",
    "reference_area_radiation = 4.0\n",
    "radiation_pressure_coefficient = 1.2\n",
    "occulting_bodies = [\"Earth\"]\n",
    "radiation_pressure_settings = environment_setup.radiation_pressure.cannonball(\n",
    "    \"Sun\", reference_area_radiation, radiation_pressure_coefficient, occulting_bodies\n",
    ")\n",
    "# Add the radiation pressure interface to the environment\n",
    "environment_setup.add_radiation_pressure_interface(\n",
    "            bodies, \"Delfi-C3\", radiation_pressure_settings)"
   ]
  },
  {
   "cell_type": "markdown",
   "id": "150ee92d",
   "metadata": {},
   "source": [
    "## Propagation setup\n",
    "Now that the environment is created, the propagation setup is defined.\n",
    "\n",
    "First, the bodies to be propagated and the central bodies will be defined.\n",
    "Central bodies are the bodies with respect to which the state of the respective propagated bodies is defined."
   ]
  },
  {
   "cell_type": "code",
   "execution_count": 5,
   "id": "43fe0e1b",
   "metadata": {},
   "outputs": [],
   "source": [
    "# Define bodies that are propagated\n",
    "bodies_to_propagate = [\"Delfi-C3\"]\n",
    "\n",
    "# Define central bodies of propagation\n",
    "central_bodies = [\"Earth\"]"
   ]
  },
  {
   "cell_type": "markdown",
   "id": "f79b428c",
   "metadata": {},
   "source": [
    "### Create the acceleration model\n",
    "First off, the acceleration settings that act on `Delfi-C3` are to be defined.\n",
    "In this case, these consist in the followings:\n",
    "* Gravitational acceleration using a Point Mass approximation from:\n",
    "    - The Sun\n",
    "    - The Moon\n",
    "    - Mars\n",
    "    - Venus\n",
    "* Gravitational acceleration using a Spherical Harmonic approximation up to degree and order 5 from Earth.\n",
    "* Aerodynamic acceleration from Earth.\n",
    "* Acceleration caused by the radiation pressure of the Sun on the vehicle approximated as a cannonball.\n",
    "\n",
    "The acceleration settings defined are then applied to `Delfi-C3` in a dictionary.\n",
    "\n",
    "This dictionary is finally input to the propagation setup to create the acceleration models."
   ]
  },
  {
   "cell_type": "code",
   "execution_count": 6,
   "id": "c20e8588",
   "metadata": {},
   "outputs": [],
   "source": [
    "# Define unique (Sun, Earth) accelerations acting on Delfi-C3\n",
    "accelerations_settings_delfi_c3 = dict(\n",
    "    Sun=[\n",
    "        propagation_setup.acceleration.cannonball_radiation_pressure(),\n",
    "        propagation_setup.acceleration.point_mass_gravity()\n",
    "    ],\n",
    "    Earth=[\n",
    "        propagation_setup.acceleration.spherical_harmonic_gravity(5, 5),\n",
    "        propagation_setup.acceleration.aerodynamic()\n",
    "    ])\n",
    "\n",
    "# Define other point mass accelerations acting on Delfi-C3\n",
    "for other in set(bodies_to_create).difference({\"Sun\", \"Earth\"}):\n",
    "    accelerations_settings_delfi_c3[other] = [\n",
    "        propagation_setup.acceleration.point_mass_gravity()]\n",
    "\n",
    "# Create global accelerations dictionary\n",
    "acceleration_settings = {\"Delfi-C3\": accelerations_settings_delfi_c3}\n",
    "\n",
    "# Create acceleration models\n",
    "acceleration_models = propagation_setup.create_acceleration_models(\n",
    "    bodies,\n",
    "    acceleration_settings,\n",
    "    bodies_to_propagate,\n",
    "    central_bodies)"
   ]
  },
  {
   "cell_type": "markdown",
   "id": "6e717487",
   "metadata": {},
   "source": [
    "### Define the initial state\n",
    "The initial state of the vehicle that will be propagated is now defined. \n",
    "\n",
    "This initial state always has to be provided as a cartesian state, in the form of a list with the first three elements reprensenting the initial position, and the three remaining elements representing the initial velocity.\n",
    "\n",
    "In this case, let's make use of the `keplerian_to_cartesian_elementwise()` function that is included in the `element_conversion` module, so that the initial state can be input as Keplerian elements, and then converted in Cartesian elements."
   ]
  },
  {
   "cell_type": "code",
   "execution_count": 7,
   "id": "4a4527e4",
   "metadata": {},
   "outputs": [],
   "source": [
    "# Set the initial state of the vehicle\n",
    "earth_gravitational_parameter = bodies.get(\"Earth\").gravitational_parameter\n",
    "initial_state = element_conversion.keplerian_to_cartesian_elementwise(\n",
    "    gravitational_parameter=earth_gravitational_parameter,\n",
    "    semi_major_axis=7500.0E3,\n",
    "    eccentricity=0.1,\n",
    "    inclination=np.deg2rad(85.3),\n",
    "    argument_of_periapsis=np.deg2rad(235.7),\n",
    "    longitude_of_ascending_node=np.deg2rad(23.4),\n",
    "    true_anomaly=np.deg2rad(139.87)\n",
    ")"
   ]
  },
  {
   "cell_type": "markdown",
   "id": "0cd77c22",
   "metadata": {},
   "source": [
    "### Create the propagator settings\n",
    "The propagator is finally setup.\n",
    "\n",
    "First, a termination condition is defined so that the propagation will stop when the end epochs that was defined is reached.\n",
    "\n",
    "Then, the translational propagator settings are defined. These are used to simulate the orbit of `Delfi-C3` around Earth."
   ]
  },
  {
   "cell_type": "code",
   "execution_count": 8,
   "id": "8a451ab1",
   "metadata": {},
   "outputs": [],
   "source": [
    "# Create termination settings\n",
    "termination_condition = propagation_setup.propagator.time_termination(simulation_end_epoch)\n",
    "\n",
    "# Create propagation settings\n",
    "propagator_settings = propagation_setup.propagator.translational(\n",
    "    central_bodies,\n",
    "    acceleration_models,\n",
    "    bodies_to_propagate,\n",
    "    initial_state,\n",
    "    termination_condition\n",
    ")"
   ]
  },
  {
   "cell_type": "markdown",
   "id": "e2c93354",
   "metadata": {},
   "source": [
    "### Setup the variational equations\n",
    "In addition to the state of the satellite, variation equations will also be propagated.\n",
    "A detailled explanation on variational equations is given in [tudatpy user guide](https://tudat-space.readthedocs.io/en/latest/_src_user_guide/state_propagation/running_variational_simulation.html).\n",
    "\n",
    "In this example, both the initial state transition matrix and the sensitivity matrix are to be propagated.\n",
    "The list of the available estimated parameters for the sensitivity matrix are also given in [tudatpy user guide](https://tudat-space.readthedocs.io/en/latest/_src_user_guide/state_propagation/sensitivity_analysis/available_parameters.html)."
   ]
  },
  {
   "cell_type": "code",
   "execution_count": 9,
   "id": "5f49f443",
   "metadata": {},
   "outputs": [],
   "source": [
    "# Setup parameters settings to propagate the state transition matrix\n",
    "parameter_settings = estimation_setup.parameter.initial_states(propagator_settings, bodies)\n",
    "\n",
    "# Add estimated parameters to the sensitivity matrix that will be propagated\n",
    "parameter_settings.append(estimation_setup.parameter.gravitational_parameter(\"Earth\"))\n",
    "parameter_settings.append(estimation_setup.parameter.constant_drag_coefficient(\"Delfi-C3\"))\n",
    "\n",
    "# Create the parameters that will be estimated\n",
    "parameters_to_estimate = estimation_setup.create_parameters_to_estimate(parameter_settings, bodies)"
   ]
  },
  {
   "cell_type": "markdown",
   "id": "5bce8635",
   "metadata": {},
   "source": [
    "### Create the integrator settings\n",
    "The last step before starting the simulation is to setup the integrator that will be used.\n",
    "\n",
    "In this case, a RK4 integrator is used with a step fixed at 10 seconds."
   ]
  },
  {
   "cell_type": "code",
   "execution_count": 10,
   "id": "70bb0f85",
   "metadata": {},
   "outputs": [],
   "source": [
    "# Create numerical integrator settings\n",
    "fixed_step_size = 10.0\n",
    "integrator_settings = propagation_setup.integrator.runge_kutta_4(\n",
    "    simulation_start_epoch, fixed_step_size\n",
    ")"
   ]
  },
  {
   "cell_type": "markdown",
   "id": "9869855c",
   "metadata": {},
   "source": [
    "## Propagate the dynamics\n",
    "In this example, since we wish to propagate the variational equations in addition to the satellite state, we use the `SingleArcVariationalSimulator()` function (instead of the `SingleArcSimulator()` function that we would normally use).\n",
    "\n",
    "This function takes additional arguments: the parameters that have to be estimated, and a boolean to specify that the parameters will be intergrated immidiately when the function is called."
   ]
  },
  {
   "cell_type": "code",
   "execution_count": 11,
   "id": "4ccda476",
   "metadata": {},
   "outputs": [],
   "source": [
    "# Create the variational equation solver and propagate the dynamics\n",
    "variational_equations_solver = numerical_simulation.SingleArcVariationalSimulator(\n",
    "    bodies, integrator_settings, propagator_settings, parameters_to_estimate, integrate_on_creation=True\n",
    ")\n",
    "\n",
    "# Extract the resulting state history, state transition matrix history, and sensitivity matrix history\n",
    "states = variational_equations_solver.state_history\n",
    "state_transition_matrices = variational_equations_solver.state_transition_matrix_history\n",
    "sensitivity_matrices = variational_equations_solver.sensitivity_matrix_history"
   ]
  },
  {
   "cell_type": "markdown",
   "id": "db22a959",
   "metadata": {},
   "source": [
    "## Perform the sensitivity analysis\n",
    "Now that the state transition matrix history and sensitivity matrix history are known, we can perform the actual sensitivity analysis by varying the estimated parameters."
   ]
  },
  {
   "cell_type": "code",
   "execution_count": 12,
   "id": "42a6f45b",
   "metadata": {},
   "outputs": [],
   "source": [
    "# Define the linear variation in the initial state\n",
    "initial_state_variation = [1, 0, 0, 1.0E-3, 0, 0]\n",
    "# Define the linear variation in the Earth gravitational parameter\n",
    "earth_standard_param_variation = [-2.0E+5, 0.0]\n",
    "# Define the linear variation in the drag coefficient\n",
    "drag_coeff_variation = [0.0, 0.05]\n",
    "\n",
    "# Define dictionary to contain the state that has been varied to each variation\n",
    "delta_initial_state_dict = dict()\n",
    "earth_standard_param_dict = dict()\n",
    "delta_drag_coeff_dict = dict()\n",
    "\n",
    "# Compute the deviation in state due to each variation\n",
    "for epoch in state_transition_matrices:\n",
    "    delta_initial_state_dict[epoch] = np.dot(state_transition_matrices[epoch], initial_state_variation)\n",
    "    earth_standard_param_dict[epoch] = np.dot(sensitivity_matrices[epoch], earth_standard_param_variation)\n",
    "    delta_drag_coeff_dict[epoch] = np.dot(sensitivity_matrices[epoch], drag_coeff_variation)"
   ]
  },
  {
   "cell_type": "markdown",
   "id": "00998f8f",
   "metadata": {},
   "source": [
    "## Post-process the results\n",
    "First, extract the time, and deviation in position and velocity associated with the system response to each variation."
   ]
  },
  {
   "cell_type": "code",
   "execution_count": 13,
   "id": "52137983",
   "metadata": {},
   "outputs": [],
   "source": [
    "# Convert the dictionaries to numpy ndarrays\n",
    "delta_initial_state_array = result2array(delta_initial_state_dict)\n",
    "delta_earth_standard_param_array = result2array(earth_standard_param_dict)\n",
    "delta_drag_coefficient_array = result2array(delta_drag_coeff_dict)\n",
    "\n",
    "# Extract the time, and convert it to hours\n",
    "time = delta_initial_state_array[:,0]\n",
    "time_hours = time / 3600\n",
    "\n",
    "# Compute the deviation in position and velocity associated with the variation in initial state\n",
    "delta_r1 = np.linalg.norm(delta_initial_state_array[:, 1:4], axis=1)\n",
    "delta_v1 = np.linalg.norm(delta_initial_state_array[:, 4:8], axis=1)\n",
    "\n",
    "# Compute the deviation in position and velocity associated with the variation in Earth gravitational parameter\n",
    "delta_r2 = np.linalg.norm(delta_earth_standard_param_array[:, 1:4], axis=1)\n",
    "delta_v2 = np.linalg.norm(delta_earth_standard_param_array[:, 4:8], axis=1)\n",
    "\n",
    "# Compute the deviation in position and velocity associated with the variation in drag coefficient\n",
    "delta_r3 = np.linalg.norm(delta_drag_coefficient_array[:, 1:4], axis=1)\n",
    "delta_v3 = np.linalg.norm(delta_drag_coefficient_array[:, 4:8], axis=1)"
   ]
  },
  {
   "cell_type": "markdown",
   "id": "37c41a70",
   "metadata": {},
   "source": [
    "### Plot the deviation in position\n",
    "Make a plot of the deivation in position over time, in response to all parameter variations."
   ]
  },
  {
   "cell_type": "code",
   "execution_count": 14,
   "id": "e915f2c7",
   "metadata": {},
   "outputs": [
    {
     "data": {
      "text/plain": [
       "<matplotlib.legend.Legend at 0x7f191db09790>"
      ]
     },
     "execution_count": 14,
     "metadata": {},
     "output_type": "execute_result"
    },
    {
     "data": {
      "image/png": "[encoded data removed]",
      "text/plain": [
       "<Figure size 1224x360 with 1 Axes>"
      ]
     },
     "metadata": {
      "needs_background": "light"
     },
     "output_type": "display_data"
    }
   ],
   "source": [
    "# Plot deviations of position\n",
    "plt.figure(figsize=(17, 5))\n",
    "plt.title('Trajectory deviation (position only) in response to indicated parameter variation')\n",
    "plt.grid()\n",
    "plt.plot(time_hours, delta_r1, color='tomato', label='variation initial state')\n",
    "plt.plot(time_hours, delta_r2, color='orange', label='variation grav. parameter (Earth)')\n",
    "plt.plot(time_hours, delta_r3, color='cyan', label='variation drag coefficient')\n",
    "plt.yscale('log')\n",
    "plt.xlabel('Time [hr]')\n",
    "plt.ylabel('$\\Delta r$ [m]')\n",
    "plt.xlim([min(time_hours), max(time_hours)])\n",
    "plt.legend()"
   ]
  },
  {
   "cell_type": "markdown",
   "id": "6dd5b7f6",
   "metadata": {},
   "source": [
    "### Plot the deviation in velocity\n",
    "Make a plot of the deivation in velocity over time, in response to all parameter variations."
   ]
  },
  {
   "cell_type": "code",
   "execution_count": 15,
   "id": "8c5a18bb",
   "metadata": {},
   "outputs": [
    {
     "data": {
      "text/plain": [
       "<matplotlib.legend.Legend at 0x7f19157c2700>"
      ]
     },
     "execution_count": 15,
     "metadata": {},
     "output_type": "execute_result"
    },
    {
     "data": {
      "image/png": "[encoded data removed]",
      "text/plain": [
       "<Figure size 1224x360 with 1 Axes>"
      ]
     },
     "metadata": {
      "needs_background": "light"
     },
     "output_type": "display_data"
    }
   ],
   "source": [
    "# Plot deviations of speed\n",
    "plt.figure(figsize=(17, 5))\n",
    "plt.title('Trajectory deviation (velocity only) in response to indicated parameter variation.')\n",
    "plt.grid()\n",
    "plt.plot(time_hours, delta_v1, color='tomato', label='variation initial state')\n",
    "plt.plot(time_hours, delta_v2, color='orange', label='variation grav. parameter (Earth)')\n",
    "plt.plot(time_hours, delta_v3, color='cyan', label='variation drag coefficient')\n",
    "plt.yscale('log')\n",
    "plt.xlabel('Time [hr]')\n",
    "plt.ylabel('$\\Delta v$ [m/s]')\n",
    "plt.xlim([min(time_hours), max(time_hours)])\n",
    "plt.legend()"
   ]
  },
  {
   "cell_type": "code",
   "execution_count": null,
   "id": "4225a29b",
   "metadata": {},
   "outputs": [],
   "source": []
  }
 ],
 "metadata": {
  "kernelspec": {
   "display_name": "tudat-space",
   "language": "python",
   "name": "tudat-space"
  },
  "language_info": {
   "codemirror_mode": {
    "name": "ipython",
    "version": 3
   },
   "file_extension": ".py",
   "mimetype": "text/x-python",
   "name": "python",
   "nbconvert_exporter": "python",
   "pygments_lexer": "ipython3",
   "version": "3.8.12"
  }
 },
 "nbformat": 4,
 "nbformat_minor": 5
}
